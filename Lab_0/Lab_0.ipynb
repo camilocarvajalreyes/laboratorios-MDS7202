{
 "cells": [
  {
   "cell_type": "markdown",
   "id": "0491b705",
   "metadata": {
    "cell_id": "4d7d5ac6-d4e1-4609-9a3f-d6649322fa97",
    "deepnote_cell_height": 105.390625,
    "deepnote_cell_type": "markdown"
   },
   "source": [
    "<h1><center>Laboratorio 0: Practicando en Python </center></h1>\n",
    "\n",
    "<center><strong>MDS7202: Laboratorio de Programación Científica para Ciencia de Datos - Primavera 2021</strong></center>\n",
    "\n",
    "---"
   ]
  },
  {
   "cell_type": "markdown",
   "id": "505f61e1",
   "metadata": {
    "cell_id": "7ebd312b195c4d02a21a0af750fa5474",
    "deepnote_cell_height": 591.1875,
    "deepnote_cell_type": "markdown",
    "tags": []
   },
   "source": [
    "<center> <img src=https://miro.medium.com/max/1388/1*v6CPVlDCr5kdIpj7O6D7VA.gif width=400/> </center>\n",
    "\n",
    "### Cuerpo Docente:\n",
    "\n",
    "- Profesor: Matías Rojas y Mauricio Araneda\n",
    "- Auxiliar: Ignacio Meza D.\n",
    "- Ayudante: Rodrigo Guerra\n",
    "\n",
    "### Objetivos del lab: \n",
    "\n",
    "- El objetivo de este lab es que ustedes puedan practicar con el lenguaje de python, aplicando los conocimientos vistos hasta ahora en el curso. La realización de este laboratorio es completamente opcional."
   ]
  },
  {
   "cell_type": "markdown",
   "id": "e521f0b9",
   "metadata": {
    "cell_id": "00006-0087f4d5-bcba-4dc5-ad6a-083b239f86d5",
    "deepnote_cell_height": 108.390625,
    "deepnote_cell_type": "markdown"
   },
   "source": [
    "## Problemas con Listas y Strings 💻\n",
    "\n",
    "Por cada uno de estos problemas, elabore una **función** que los resuelva:"
   ]
  },
  {
   "cell_type": "markdown",
   "id": "e4ae26bd",
   "metadata": {
    "cell_id": "00007-d00af88a-bb30-4b80-961f-6798fd8f25e1",
    "deepnote_cell_height": 384.3125,
    "deepnote_cell_type": "markdown"
   },
   "source": [
    "### Pregunta 1 \n",
    "\n",
    "Dada una lista de $n$ elementos, no necesariamente ordenada, defina funciones que busquen:\n",
    "- El elemento menor.\n",
    "- El elemento mayor.\n",
    "- El promedio de los elementos en la lista.\n",
    "\n",
    "Ejemplo:\n",
    "```python\n",
    "listaN = [12,4,34,1,2,52,1,54,98,5,235,76,57,87,123,32,32]\n",
    "menor = 1\n",
    "mayor = 235\n",
    "```\n",
    "\n",
    "Además, implemente un par de test que verifiquen la correctitud de las funciones.\n",
    "\n",
    "**Nota**: Idealmente se hacen tests sobre los casos bordes. ¿Qué casos bordes tendríamos aquí?\n"
   ]
  },
  {
   "cell_type": "code",
   "execution_count": null,
   "id": "70d446ef",
   "metadata": {
    "cell_id": "5b56a1d50817404394b4a61a6592dae0",
    "deepnote_cell_height": 66,
    "deepnote_cell_type": "code",
    "tags": []
   },
   "outputs": [],
   "source": [
    "############ Su Código Aquí####################"
   ]
  },
  {
   "cell_type": "markdown",
   "id": "e869f666",
   "metadata": {
    "cell_id": "00011-9485688f-4549-4db1-b6e3-b5c8fd44ec75",
    "deepnote_cell_height": 179.1875,
    "deepnote_cell_type": "markdown"
   },
   "source": [
    "### Pregunta 2\n",
    "\n",
    " Dada una lista de n números, no ordenados, genere una función que ordene la lista de mayor a menor.\n",
    "\n",
    " ```python\n",
    "def ordenar(lista):\n",
    "    pass\n",
    " ```"
   ]
  },
  {
   "cell_type": "code",
   "execution_count": null,
   "id": "72c1619a",
   "metadata": {
    "cell_id": "f7dd50193057462eb733ee0ce9d3ba27",
    "deepnote_cell_height": 66,
    "deepnote_cell_type": "code",
    "tags": []
   },
   "outputs": [],
   "source": [
    "############ Su Código Aquí####################"
   ]
  },
  {
   "cell_type": "markdown",
   "id": "f8cd1087",
   "metadata": {
    "cell_id": "00016-09c4e927-f62b-46c9-b2cd-f63211833e75",
    "deepnote_cell_height": 100.390625,
    "deepnote_cell_type": "markdown"
   },
   "source": [
    "### Pregunta 3\n",
    "Genere una función que obtenga la moda de una lista usando diccionarios."
   ]
  },
  {
   "cell_type": "code",
   "execution_count": 227,
   "id": "e2d022e7",
   "metadata": {
    "cell_id": "e860ad8fe0624f06ad77c66c71098b06",
    "deepnote_cell_height": 66,
    "deepnote_cell_type": "code",
    "tags": []
   },
   "outputs": [],
   "source": [
    "############ Su Código Aquí####################\n",
    "def get_mode(num_list):\n",
    "    if len(num_list) == 0:\n",
    "        return None\n",
    "    num_count_dict = {}\n",
    "    for num in num_list:\n",
    "        if num not in num_count_dict.keys():\n",
    "            num_count_dict[num] = 1\n",
    "        else:\n",
    "            num_count_dict[num] += 1\n",
    "\n",
    "    mode = None\n",
    "    for num_count in num_count_dict.items():\n",
    "        if mode is None:\n",
    "            mode = num_count\n",
    "        else:\n",
    "            if num_count[1] > mode[1]:\n",
    "                mode = num_count\n",
    "            else:\n",
    "                continue\n",
    "    return mode[0]"
   ]
  },
  {
   "cell_type": "code",
   "execution_count": 228,
   "id": "5a806d09",
   "metadata": {},
   "outputs": [
    {
     "name": "stdout",
     "output_type": "stream",
     "text": [
      "Moda de [1, 2, 3, 3, 4] -> 3\n",
      "Moda de [41, 54, 12, 2, 4, 63, 23, 23, 56, 23] -> 23\n",
      "Moda de [1] -> 1\n",
      "Moda de [1, 1, 1, 1] -> 1\n",
      "Moda de [] -> None\n"
     ]
    }
   ],
   "source": [
    "num_list1 = [1,2,3,3,4]\n",
    "num_list2 = [41,54,12,2,4,63,23,23,56,23]\n",
    "num_list3 = [1]\n",
    "num_list4 = [1,1,1,1]\n",
    "num_list5 = []\n",
    "\n",
    "print(f'Moda de {num_list1} -> {get_mode(num_list1)}')\n",
    "print(f'Moda de {num_list2} -> {get_mode(num_list2)}')\n",
    "print(f'Moda de {num_list3} -> {get_mode(num_list3)}')\n",
    "print(f'Moda de {num_list4} -> {get_mode(num_list4)}')\n",
    "print(f'Moda de {num_list5} -> {get_mode(num_list5)}')\n"
   ]
  },
  {
   "cell_type": "markdown",
   "id": "d99a5579",
   "metadata": {
    "cell_id": "00028-98d28c67-5f56-4fb1-8148-2f35aefd6f48",
    "deepnote_cell_height": 122.796875,
    "deepnote_cell_type": "markdown"
   },
   "source": [
    "### Pregunta 4\n",
    "Vea si un número es palíndromo o no. Los números palíndromos son aquellos que al leerlos al revés y al derecho son iguales, por ejemplo el 123321 o el 98789."
   ]
  },
  {
   "cell_type": "code",
   "execution_count": 20,
   "id": "4ee3534d",
   "metadata": {
    "cell_id": "de690768e87a4e49a9e072db5f50745c",
    "deepnote_cell_height": 66,
    "deepnote_cell_type": "code",
    "tags": []
   },
   "outputs": [],
   "source": [
    "############ Su Código Aquí####################\n",
    "def is_palindrome(number):\n",
    "    number = str(number)\n",
    "    num_len = len(number)\n",
    "    for idx, num in enumerate(number):\n",
    "        if num == number[num_len - 1 - idx]:\n",
    "            pass\n",
    "        else:\n",
    "            return False\n",
    "    return True"
   ]
  },
  {
   "cell_type": "code",
   "execution_count": 221,
   "id": "9972bc98",
   "metadata": {},
   "outputs": [
    {
     "name": "stdout",
     "output_type": "stream",
     "text": [
      "1566886651 es palindromo -> True\n",
      "123321 es palindromo -> True\n",
      "98789 es palindromo -> True\n",
      "12 es palindromo -> False\n",
      "456544 es palindromo -> False\n"
     ]
    }
   ],
   "source": [
    "print(f'1566886651 es palindromo -> {is_palindrome(1566886651)}')\n",
    "print(f'123321 es palindromo -> {is_palindrome(123321)}')\n",
    "print(f'98789 es palindromo -> {is_palindrome(98789)}')\n",
    "print(f'12 es palindromo -> {is_palindrome(12)}')\n",
    "print(f'456544 es palindromo -> {is_palindrome(456544)}')"
   ]
  },
  {
   "cell_type": "markdown",
   "id": "c5008e89",
   "metadata": {
    "cell_id": "00030-ac36b7b1-db34-4043-bf9c-feaaa8f85e0b",
    "deepnote_cell_height": 196.796875,
    "deepnote_cell_type": "markdown"
   },
   "source": [
    "### Pregunta 5\n",
    "Dado un texto, conviértalo en estilo Camel Case, vea el siguiente ejemplo:\n",
    "\n",
    "    Texto inicial: “Este es un texto de ejemplo para mostrar el Camel Case”.\n",
    "\n",
    "    Texto final: “EsteEsUnTextoDeEjemploParaMostrarElCamelCase”."
   ]
  },
  {
   "cell_type": "code",
   "execution_count": 203,
   "id": "aad74c44",
   "metadata": {
    "cell_id": "9d672ec452da4abcba3c86d499d3feff",
    "deepnote_cell_height": 66,
    "deepnote_cell_type": "code",
    "tags": []
   },
   "outputs": [],
   "source": [
    "############ Su Código Aquí####################\n",
    "def to_Camel_Case(txt):\n",
    "    splitted_txt = txt.split()\n",
    "    for idx, word in enumerate(splitted_txt):\n",
    "        word = word.lower()\n",
    "        splitted_txt[idx] = word[0].upper() + word[1:] \n",
    "    return ''.join(splitted_txt)        \n",
    "    "
   ]
  },
  {
   "cell_type": "markdown",
   "id": "ed73bace",
   "metadata": {},
   "source": [
    "#### Pruebas"
   ]
  },
  {
   "cell_type": "code",
   "execution_count": 216,
   "id": "ae3a4ef5",
   "metadata": {},
   "outputs": [
    {
     "name": "stdout",
     "output_type": "stream",
     "text": [
      "Sin Camel Case -> Este es un texto de ejemplo para mostrar el Camel Case\n",
      "Con Camel Case -> EsteEsUnTextoDeEjemploParaMostrarElCamelCase\n",
      "\n",
      "Sin Camel Case -> Otro EJEMPLO de un caso en PARTICULar\n",
      "Con Camel Case -> OtroEjemploDeUnCasoEnParticular\n",
      "\n",
      "Sin Camel Case -> ME gustan laS papas FritaS DEL MC\n",
      "Con Camel Case -> MeGustanLasPapasFritasDelMc\n",
      "\n",
      "Sin Camel Case -> LA resPuesta De la VIDA ES Cuarenta Y dos\n",
      "Con Camel Case -> LaRespuestaDeLaVidaEsCuarentaYDos\n"
     ]
    }
   ],
   "source": [
    "txt1 = 'Este es un texto de ejemplo para mostrar el Camel Case'\n",
    "txt2 = 'Otro EJEMPLO de un caso en PARTICULar'\n",
    "txt3 = 'ME gustan laS papas FritaS DEL MC'\n",
    "txt4 = 'LA resPuesta De la VIDA ES Cuarenta Y dos'\n",
    "\n",
    "print(f'Sin Camel Case -> {txt1}')\n",
    "print(f'Con Camel Case -> {to_Camel_Case(txt1)}\\n')\n",
    "print(f'Sin Camel Case -> {txt2}')\n",
    "print(f'Con Camel Case -> {to_Camel_Case(txt2)}\\n')\n",
    "print(f'Sin Camel Case -> {txt3}')\n",
    "print(f'Con Camel Case -> {to_Camel_Case(txt3)}\\n')\n",
    "print(f'Sin Camel Case -> {txt4}')\n",
    "print(f'Con Camel Case -> {to_Camel_Case(txt4)}')"
   ]
  },
  {
   "cell_type": "markdown",
   "id": "09402d75",
   "metadata": {
    "cell_id": "00041-b204b57b-6110-4cf1-9216-de17ab3070c5",
    "deepnote_cell_height": 233.1875,
    "deepnote_cell_type": "markdown"
   },
   "source": [
    "### Pregunta 6\n",
    "Dado un texto y una letra indique cuantas veces se repite la letra dentro del texto, vea el\n",
    "siguiente ejemplo:\n",
    "\n",
    "Texto inicial: “Este es un texto de ejemplo para contar la cantidad de veces que aparece cierta letra”.\n",
    "\n",
    "    Letra a buscar: e\n",
    "    Respuesta: “La letra e aparece 15 veces.\n",
    "    Observación: Las mayúsculas y minúsculas deben ser contadas."
   ]
  },
  {
   "cell_type": "markdown",
   "id": "b051b0e0",
   "metadata": {
    "cell_id": "00043-c0c39f34-ca5b-48db-971d-aca44dd15e4b",
    "deepnote_cell_height": 144.796875,
    "deepnote_cell_type": "markdown"
   },
   "source": [
    "## Problemas Varios 🤩\n",
    "\n",
    "A continuación se presentan diferentes problemas, elabore una **función** que los resuelva. \n",
    "\n",
    "**Nota:** A diferencia de la primera parte, en esta sección puede aplicar todos sus conocimientos para el desarrollo de las funciones."
   ]
  },
  {
   "cell_type": "markdown",
   "id": "7646eb9b",
   "metadata": {
    "ExecuteTime": {
     "end_time": "2021-03-26T14:14:35.180438Z",
     "start_time": "2021-03-26T14:14:35.175467Z"
    },
    "cell_id": "00044-21224815-9eb6-4ed5-830c-0a1aed7866f0",
    "deepnote_cell_height": 463.8125,
    "deepnote_cell_type": "markdown"
   },
   "source": [
    "### Pregunta 1:\n",
    "\n",
    "Un monto inicial de dinero (por ejemplo un millón de pesos) se puede depositar en un banco con un interés anual de 5%. Esto significa  que  cumplido  un  año  se  dispondrá  de  \\\\$1.050.000. Si se deposita por dos años, entonces  al  finalizar  el  2º  año se dispondrá de \\\\$1.102.500,  es  decir,  \\\\$1.050.000  reajustado  en  5%.  \n",
    "\n",
    "Al  respecto, si  se  invoca  a  la  función  `calc_capital_final(1000000, 5, 2)`  entrega  el resultado `1050000.0`. \n",
    "\n",
    "Escriba la función `calc_capital_final`\n",
    "\n",
    "$$C_f = C_i(1+i)^n$$\n",
    "\n",
    "- $C_f$ = Capital Final\n",
    "- $C_i$ = Capital Inicial\n",
    "- $i$ = Tasa de interés\n",
    "- $n$ = Periodo del ahorro\n",
    "\n",
    "Además, incluya tests que certifiquen el correcto funcionamiento de la función."
   ]
  },
  {
   "cell_type": "code",
   "execution_count": 90,
   "id": "b95cb785",
   "metadata": {
    "ExecuteTime": {
     "end_time": "2021-03-26T20:20:21.273258Z",
     "start_time": "2021-03-26T20:20:21.259257Z"
    },
    "cell_id": "00047-f724e446-1bde-4959-8f18-127ea8f869a3",
    "deepnote_cell_height": 84,
    "deepnote_cell_type": "code"
   },
   "outputs": [],
   "source": [
    "def calc_capital_final(capital_inicial, tasa_interes, años):\n",
    "    ############ Su Código Aquí####################"
   ]
  },
  {
   "cell_type": "markdown",
   "id": "65308214",
   "metadata": {
    "cell_id": "00051-12e27a0b-6dfe-41aa-95b9-7b4bd22e12d1",
    "deepnote_cell_height": 280,
    "deepnote_cell_type": "markdown"
   },
   "source": [
    "### Pregunta 2: \n",
    "\n",
    "Escriba una función que para $x \\ne 0$, calcule  $\\frac{1}{x_0} + \\frac{1}{x_1} + \\frac{1}{x_2} + \\dots + \\frac{1}{x_n}$.\n",
    "\n",
    "```python\n",
    "def sumatoria(x,n):\n",
    "    pass\n",
    "```\n",
    "\n",
    "Use la función anterior en un programa que determine si la suma  $\\frac{1}{x_0} + \\frac{1}{x_1} + \\frac{1}{x_2} + \\dots + \\frac{1}{x_n}$ converge o no. \n",
    "\n",
    "- Se considera que la suma converge si la diferencia entre dos sumas sucesivas resulta menor que $10^{-3}$. \n",
    "- Se considera que no converge si para $n=20$ aún no se alcanza el criterio de convergencia. "
   ]
  },
  {
   "cell_type": "code",
   "execution_count": 192,
   "id": "5d6b787a",
   "metadata": {
    "cell_id": "7ec5c56ff40e4cc4bd69b4ff11a0137a",
    "deepnote_cell_height": 66,
    "deepnote_cell_type": "code",
    "tags": []
   },
   "outputs": [],
   "source": [
    "############ Su Código Aquí####################\n",
    "def sumatoria(x,n):\n",
    "    sum = 0\n",
    "    for i in range(0,n):\n",
    "        sum += 1/x\n",
    "    return sum\n",
    "\n",
    "def sumatoria_converge(x, n):"
   ]
  },
  {
   "cell_type": "code",
   "execution_count": 194,
   "id": "04fc72ed",
   "metadata": {},
   "outputs": [
    {
     "data": {
      "text/plain": [
       "2.0"
      ]
     },
     "execution_count": 194,
     "metadata": {},
     "output_type": "execute_result"
    }
   ],
   "source": [
    "sumatoria(1,2)"
   ]
  },
  {
   "cell_type": "markdown",
   "id": "e0dc6a82",
   "metadata": {
    "cell_id": "00054-b78328ba-c2fc-4019-b051-0d3759dedd6b",
    "deepnote_cell_height": 195.59375,
    "deepnote_cell_type": "markdown"
   },
   "source": [
    "### Pregunta 3:\n",
    "\n",
    "Un anagrama es una palabra que resulta de la transposición de letras de otra palabra o frase.\n",
    "\n",
    "Por ejemplo, las palabras “caso” y “caos” sonan agramas de “saco”  y las palabras “acaso” y “ocaso” no son anagramas de “caso”. Las anagramas poseen las mismas letras, con la misma cantidad de apariciones, pero en un orden diferente\n",
    "\n",
    "Escriba la función `def anagrama(x,y)` que reciba dos palabras y entregue `True` si son anagramas y `False` si no.\n"
   ]
  },
  {
   "cell_type": "code",
   "execution_count": 182,
   "id": "8f261495",
   "metadata": {
    "cell_id": "6726c604d7f340fa81d8167f40ad07cb",
    "deepnote_cell_height": 66,
    "deepnote_cell_type": "code",
    "tags": []
   },
   "outputs": [],
   "source": [
    "############ Su Código Aquí####################\n",
    "def str_count(txt):\n",
    "    txt = txt.lower()\n",
    "    count_dict = {element:0 for element in list(set(txt))}\n",
    "    for element in txt:\n",
    "        count_dict[element] += 1\n",
    "    return count_dict\n",
    "\n",
    "def anagrama(x,y):\n",
    "    if len(x) != len(y):\n",
    "        return False\n",
    "    else:\n",
    "        return str_count(x) == str_count(y)"
   ]
  },
  {
   "cell_type": "markdown",
   "id": "49c16f2c",
   "metadata": {},
   "source": [
    "#### Pruebas"
   ]
  },
  {
   "cell_type": "code",
   "execution_count": 201,
   "id": "8abe2d56",
   "metadata": {},
   "outputs": [
    {
     "name": "stdout",
     "output_type": "stream",
     "text": [
      "España es anagrama de apañes? -> True\n",
      "caos es anagrama de saco? -> True\n",
      "caso es anagrama de saco? -> True\n",
      "acaso es anagrama de caso? -> False\n",
      "ocaso es anagrama de caso? -> False\n"
     ]
    }
   ],
   "source": [
    "print(f'caos es anagrama de saco? -> {anagrama(\"caos\",\"saco\")}')\n",
    "print(f'caso es anagrama de saco? -> {anagrama(\"caso\",\"saco\")}')\n",
    "print(f'acaso es anagrama de caso? -> {anagrama(\"acaso\",\"caso\")}')\n",
    "print(f'ocaso es anagrama de caso? -> {anagrama(\"ocaso\",\"caso\")}')\n",
    "print(f'España es anagrama de apañes? -> {anagrama(\"España\",\"apañes\")}')"
   ]
  },
  {
   "cell_type": "markdown",
   "id": "4e9982ac",
   "metadata": {
    "ExecuteTime": {
     "end_time": "2021-03-26T14:17:46.644225Z",
     "start_time": "2021-03-26T14:17:46.636254Z"
    },
    "cell_id": "00057-ee7d4cf6-11a3-47c7-b0ff-36ec3452d453",
    "deepnote_cell_height": 480,
    "deepnote_cell_type": "markdown"
   },
   "source": [
    "### Pregunta 4:\n",
    "\n",
    "Programe el juego gato.\n",
    "Para esto:\n",
    "\n",
    "- Cree una matriz inicial (lista de listas) que contenga el estado actual del gato (al inicio).\n",
    "\n",
    "- Cree la función `es_tachable` la cual reciba un par de coordenadas `(i, j)` y que retorne si la posición ingresada se puede tachar (`True`) o ya se encuentra ocupada (`False`).\n",
    "\n",
    "- Cree una función `tachar` que modifiqua el estado del gato para reflejar la marca de uno de los jugadores. Esta debe recibir una coordenada `(i, j)` y el valor de la posicion `v` (solo `'X'` o `'O'`) y debe variar el estado del gato de tal manera que refleje una jugada.  La función debe retornar `True` si fue capaz de o `False` en caso contrario.\n",
    "\n",
    "- Cree la función `existe_ganador` que verifique si luego de una jugada existe algún ganador. Si existe, retorna `True`. `False` en caso contrario.\n",
    "\n",
    "\n",
    "\n",
    "\n",
    "- Implemente un ciclo while que en cada momento no se detenga hasta que exista un jugador ganador. En este ciclo:\n",
    "    - Informa sobre el estado actual del gato y sobre el jugador que le corresponde marcar una casilla.\n",
    "    - Se debe solicitar al jugador que ingrese la coordenada\n",
    "    - Se debe preguntar si la jugada del jugador actual es válida.\n",
    "    - Se debe actualizar el estado del gato\n",
    "    - Se debe cambiar al siguiente jugador.\n"
   ]
  },
  {
   "cell_type": "code",
   "execution_count": 36,
   "id": "4d1a235b",
   "metadata": {
    "ExecuteTime": {
     "end_time": "2021-03-26T14:31:46.042560Z",
     "start_time": "2021-03-26T14:31:46.030554Z"
    },
    "cell_id": "00059-0da54cd3-d85e-4bd9-822b-db9220238e5a",
    "deepnote_cell_height": 84,
    "deepnote_cell_type": "code"
   },
   "outputs": [],
   "source": [
    "def print_gato(gato):\n",
    "    ############ Su Código Aquí####################"
   ]
  },
  {
   "cell_type": "markdown",
   "id": "dd1c207f",
   "metadata": {
    "created_in_deepnote_cell": true,
    "deepnote_cell_type": "markdown",
    "tags": []
   },
   "source": [
    "<a style='text-decoration:none;line-height:16px;display:flex;color:#5B5B62;padding:10px;justify-content:end;' href='https://deepnote.com?utm_source=created-in-deepnote-cell&projectId=87110296-876e-426f-b91d-aaf681223468' target=\"_blank\">\n",
    "<img alt='Created in deepnote.com' style='display:inline;max-height:16px;margin:0px;margin-right:7.5px;' src='data:image/svg+xml;base64,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' > </img>\n",
    "Created in <span style='font-weight:600;margin-left:4px;'>Deepnote</span></a>"
   ]
  }
 ],
 "metadata": {
  "deepnote": {},
  "deepnote_execution_queue": [],
  "deepnote_notebook_id": "6c5a87d7-eaf9-4631-bdfe-1c6590aec534",
  "kernelspec": {
   "display_name": "mds7202",
   "language": "python",
   "name": "mds7202"
  },
  "language_info": {
   "codemirror_mode": {
    "name": "ipython",
    "version": 3
   },
   "file_extension": ".py",
   "mimetype": "text/x-python",
   "name": "python",
   "nbconvert_exporter": "python",
   "pygments_lexer": "ipython3",
   "version": "3.10.5"
  },
  "toc": {
   "base_numbering": 1,
   "nav_menu": {},
   "number_sections": true,
   "sideBar": true,
   "skip_h1_title": true,
   "title_cell": "Tabla de Contenidos",
   "title_sidebar": "Contenidos",
   "toc_cell": false,
   "toc_position": {},
   "toc_section_display": true,
   "toc_window_display": false
  },
  "varInspector": {
   "cols": {
    "lenName": 16,
    "lenType": 16,
    "lenVar": 40
   },
   "kernels_config": {
    "python": {
     "delete_cmd_postfix": "",
     "delete_cmd_prefix": "del ",
     "library": "var_list.py",
     "varRefreshCmd": "print(var_dic_list())"
    },
    "r": {
     "delete_cmd_postfix": ") ",
     "delete_cmd_prefix": "rm(",
     "library": "var_list.r",
     "varRefreshCmd": "cat(var_dic_list()) "
    }
   },
   "types_to_exclude": [
    "module",
    "function",
    "builtin_function_or_method",
    "instance",
    "_Feature"
   ],
   "window_display": false
  },
  "vscode": {
   "interpreter": {
    "hash": "25a19fbe0a9132dfb9279d48d161753c6352f8f9478c2e74383d340069b907c3"
   }
  }
 },
 "nbformat": 4,
 "nbformat_minor": 5
}
