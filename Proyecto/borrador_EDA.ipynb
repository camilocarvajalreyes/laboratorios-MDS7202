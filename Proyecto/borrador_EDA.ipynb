{
 "cells": [
  {
   "cell_type": "markdown",
   "metadata": {},
   "source": [
    "# Borrador Análisis exploratorio e datos\n",
    "\n",
    "**Enunciado**\n",
    "\n",
    "*La idea de esta sección es que exploren el dataset y obtengan una idea de como son los datos de su problema para que en la siguientes secciones, puedan modelarlos.*\n",
    "\n",
    "- [x] Analizar cantidad de datos nulos, tipos de datos, duplicados\n",
    "- [ ] Distribuciones de las variables a través de histogramas.\n",
    "- [ ] Generar visualizaciones de las interacciones (como por ejemplo, una scatter matrix) en las distintas variables.\n",
    "- [ ] Ver las correlaciones entre las distintas variables y los valores faltantes de cada una de estas. \n",
    "- [ ] Proyectar los datos con PCA, T-SNE o UMAP para ver si existen relaciones entre las distintas variables de forma bi o tri dimensional.\n",
    "- [ ] Reportar los patrones y relaciones interesantes.\n",
    "- [ ] MÁS (No restringirse a lo mencionado anteriormente).\n",
    "\n",
    "**Ejemplo enunciado**\n",
    "\n",
    "Al efectuar el análisis exploratorio de datos pudimos notar lo siguiente:\n",
    "\n",
    "El atributo A tenía X datos nulos y Y duplicados... que podrían potencialmente dificultar el análisis.\n",
    "\n",
    "La variable A se distribuye de forma normal. En cambio la B en forma exponencial. La variable C es categórica.\n",
    "\n",
    "Los atributos A y B interactúan de P forma, mientras que los C y D de Q forma...\n",
    "\n",
    "Los atributos A y C se correlacionan con las variables de salida Y de forma creciente... B no tiene correlación con la salida.\n",
    "\n",
    "Además, encontramos que al proyectar en 2D ..."
   ]
  },
  {
   "cell_type": "code",
   "execution_count": 1,
   "metadata": {},
   "outputs": [],
   "source": [
    "import pandas as pd\n",
    "import numpy as np\n",
    "# ..."
   ]
  },
  {
   "cell_type": "code",
   "execution_count": 2,
   "metadata": {},
   "outputs": [],
   "source": [
    "df_train = pd.read_pickle('train.pickle')"
   ]
  },
  {
   "cell_type": "markdown",
   "metadata": {},
   "source": [
    "## Análisis Básico"
   ]
  },
  {
   "cell_type": "code",
   "execution_count": 3,
   "metadata": {},
   "outputs": [
    {
     "name": "stdout",
     "output_type": "stream",
     "text": [
      "El DataFrame tiene 7881 filas y 16 columnas\n",
      "El DataFrame esta compuesto por las siguientes columnas: ['name', 'release_date', 'english', 'developer', 'publisher', 'platforms', 'required_age', 'categories', 'genres', 'tags', 'achievements', 'average_playtime', 'price', 'short_description', 'estimated_sells', 'rating']\n",
      "Descripción numérica del DataFrame:\n"
     ]
    },
    {
     "data": {
      "text/html": [
       "<div>\n",
       "<style scoped>\n",
       "    .dataframe tbody tr th:only-of-type {\n",
       "        vertical-align: middle;\n",
       "    }\n",
       "\n",
       "    .dataframe tbody tr th {\n",
       "        vertical-align: top;\n",
       "    }\n",
       "\n",
       "    .dataframe thead th {\n",
       "        text-align: right;\n",
       "    }\n",
       "</style>\n",
       "<table border=\"1\" class=\"dataframe\">\n",
       "  <thead>\n",
       "    <tr style=\"text-align: right;\">\n",
       "      <th></th>\n",
       "      <th>english</th>\n",
       "      <th>required_age</th>\n",
       "      <th>achievements</th>\n",
       "      <th>average_playtime</th>\n",
       "      <th>price</th>\n",
       "      <th>estimated_sells</th>\n",
       "    </tr>\n",
       "  </thead>\n",
       "  <tbody>\n",
       "    <tr>\n",
       "      <th>count</th>\n",
       "      <td>7881.000000</td>\n",
       "      <td>7881.00000</td>\n",
       "      <td>7881.000000</td>\n",
       "      <td>7881.000000</td>\n",
       "      <td>7881.000000</td>\n",
       "      <td>7.881000e+03</td>\n",
       "    </tr>\n",
       "    <tr>\n",
       "      <th>mean</th>\n",
       "      <td>0.985789</td>\n",
       "      <td>0.78924</td>\n",
       "      <td>43.170156</td>\n",
       "      <td>439.296790</td>\n",
       "      <td>8.431342</td>\n",
       "      <td>2.105767e+05</td>\n",
       "    </tr>\n",
       "    <tr>\n",
       "      <th>std</th>\n",
       "      <td>0.118369</td>\n",
       "      <td>3.55538</td>\n",
       "      <td>265.399206</td>\n",
       "      <td>3303.162083</td>\n",
       "      <td>8.755668</td>\n",
       "      <td>1.513926e+06</td>\n",
       "    </tr>\n",
       "    <tr>\n",
       "      <th>min</th>\n",
       "      <td>0.000000</td>\n",
       "      <td>0.00000</td>\n",
       "      <td>0.000000</td>\n",
       "      <td>0.000000</td>\n",
       "      <td>0.000000</td>\n",
       "      <td>3.600000e+03</td>\n",
       "    </tr>\n",
       "    <tr>\n",
       "      <th>25%</th>\n",
       "      <td>1.000000</td>\n",
       "      <td>0.00000</td>\n",
       "      <td>0.000000</td>\n",
       "      <td>0.000000</td>\n",
       "      <td>1.990000</td>\n",
       "      <td>9.724000e+03</td>\n",
       "    </tr>\n",
       "    <tr>\n",
       "      <th>50%</th>\n",
       "      <td>1.000000</td>\n",
       "      <td>0.00000</td>\n",
       "      <td>15.000000</td>\n",
       "      <td>27.000000</td>\n",
       "      <td>6.990000</td>\n",
       "      <td>2.150800e+04</td>\n",
       "    </tr>\n",
       "    <tr>\n",
       "      <th>75%</th>\n",
       "      <td>1.000000</td>\n",
       "      <td>0.00000</td>\n",
       "      <td>35.000000</td>\n",
       "      <td>251.000000</td>\n",
       "      <td>11.390000</td>\n",
       "      <td>7.357300e+04</td>\n",
       "    </tr>\n",
       "    <tr>\n",
       "      <th>max</th>\n",
       "      <td>1.000000</td>\n",
       "      <td>18.00000</td>\n",
       "      <td>9821.000000</td>\n",
       "      <td>190625.000000</td>\n",
       "      <td>78.990000</td>\n",
       "      <td>7.944129e+07</td>\n",
       "    </tr>\n",
       "  </tbody>\n",
       "</table>\n",
       "</div>"
      ],
      "text/plain": [
       "           english  required_age  achievements  average_playtime        price  \\\n",
       "count  7881.000000    7881.00000   7881.000000       7881.000000  7881.000000   \n",
       "mean      0.985789       0.78924     43.170156        439.296790     8.431342   \n",
       "std       0.118369       3.55538    265.399206       3303.162083     8.755668   \n",
       "min       0.000000       0.00000      0.000000          0.000000     0.000000   \n",
       "25%       1.000000       0.00000      0.000000          0.000000     1.990000   \n",
       "50%       1.000000       0.00000     15.000000         27.000000     6.990000   \n",
       "75%       1.000000       0.00000     35.000000        251.000000    11.390000   \n",
       "max       1.000000      18.00000   9821.000000     190625.000000    78.990000   \n",
       "\n",
       "       estimated_sells  \n",
       "count     7.881000e+03  \n",
       "mean      2.105767e+05  \n",
       "std       1.513926e+06  \n",
       "min       3.600000e+03  \n",
       "25%       9.724000e+03  \n",
       "50%       2.150800e+04  \n",
       "75%       7.357300e+04  \n",
       "max       7.944129e+07  "
      ]
     },
     "metadata": {},
     "output_type": "display_data"
    },
    {
     "name": "stdout",
     "output_type": "stream",
     "text": [
      "Cantidad de valores nulos por columna:\n"
     ]
    },
    {
     "data": {
      "text/plain": [
       "name                 0\n",
       "release_date         0\n",
       "english              0\n",
       "developer            0\n",
       "publisher            0\n",
       "platforms            0\n",
       "required_age         0\n",
       "categories           0\n",
       "genres               0\n",
       "tags                 0\n",
       "achievements         0\n",
       "average_playtime     0\n",
       "price                0\n",
       "short_description    0\n",
       "estimated_sells      0\n",
       "rating               0\n",
       "dtype: int64"
      ]
     },
     "metadata": {},
     "output_type": "display_data"
    },
    {
     "name": "stdout",
     "output_type": "stream",
     "text": [
      "Cantidad de valores únicos por columna:\n"
     ]
    },
    {
     "data": {
      "text/plain": [
       "name                 7881\n",
       "release_date         2251\n",
       "english                 2\n",
       "developer            5365\n",
       "publisher            3992\n",
       "platforms               5\n",
       "required_age            6\n",
       "categories           1933\n",
       "genres                844\n",
       "tags                 3981\n",
       "achievements          280\n",
       "average_playtime     1257\n",
       "price                 162\n",
       "short_description    7848\n",
       "estimated_sells      4879\n",
       "rating                  5\n",
       "dtype: int64"
      ]
     },
     "metadata": {},
     "output_type": "display_data"
    }
   ],
   "source": [
    "def exploratory_data_analysis(dataframe):\n",
    "    print(f'El DataFrame tiene {dataframe.shape[0]} filas y {dataframe.shape[1]} columnas')\n",
    "    print(f'El DataFrame esta compuesto por las siguientes columnas: {dataframe.columns.to_list()}')\n",
    "    # print(f'\\n3.- Ejemplos de filas del DataFrame:')\n",
    "    print('Descripción numérica del DataFrame:')\n",
    "    display(dataframe.describe())\n",
    "    print('Cantidad de valores nulos por columna:')\n",
    "    display(dataframe.isna().sum())\n",
    "    print('Cantidad de valores únicos por columna:')\n",
    "    display(dataframe.nunique())\n",
    "\n",
    "exploratory_data_analysis(df_train)"
   ]
  },
  {
   "cell_type": "markdown",
   "metadata": {},
   "source": [
    "### Columnas con varias categorías posibles"
   ]
  },
  {
   "cell_type": "code",
   "execution_count": 6,
   "metadata": {},
   "outputs": [
    {
     "name": "stdout",
     "output_type": "stream",
     "text": [
      "---\n",
      "plataforms\n",
      "['linux' 'mac' 'windows']\n",
      "---\n",
      "categories\n",
      "['Captions available' 'Co-op' 'Commentary available'\n",
      " 'Cross-Platform Multiplayer' 'Full controller support' 'In-App Purchases'\n",
      " 'Includes Source SDK' 'Includes level editor' 'Local Co-op'\n",
      " 'Local Multi-Player' 'MMO' 'Mods' 'Mods (require HL2)' 'Multi-player'\n",
      " 'Online Co-op' 'Online Multi-Player' 'Partial Controller Support'\n",
      " 'Shared/Split Screen' 'Single-player' 'Stats' 'Steam Achievements'\n",
      " 'Steam Cloud' 'Steam Leaderboards' 'Steam Trading Cards'\n",
      " 'Steam Turn Notifications' 'Steam Workshop' 'SteamVR Collectibles'\n",
      " 'VR Support' 'Valve Anti-Cheat enabled']\n",
      "---\n",
      "genres\n",
      "['Action' 'Adventure' 'Animation & Modeling' 'Audio Production' 'Casual'\n",
      " 'Design & Illustration' 'Early Access' 'Education' 'Free to Play'\n",
      " 'Game Development' 'Gore' 'Indie' 'Massively Multiplayer' 'Nudity'\n",
      " 'Photo Editing' 'RPG' 'Racing' 'Sexual Content' 'Simulation'\n",
      " 'Software Training' 'Sports' 'Strategy' 'Utilities' 'Video Production'\n",
      " 'Violent' 'Web Publishing']\n",
      "---\n",
      "tags (total de tags disponibles)\n",
      "306\n"
     ]
    }
   ],
   "source": [
    "def categorias(df,columna):\n",
    "    separate = lambda string: np.array(string.split(';'),dtype=object)\n",
    "    options = np.vectorize(separate)(df[columna].unique())\n",
    "    return np.unique(np.concatenate(options))\n",
    "\n",
    "print(\"---\\nplataforms\")\n",
    "print(categorias(df_train,'platforms'))\n",
    "\n",
    "print('---\\ncategories')\n",
    "print(categorias(df_train,'categories'))\n",
    "\n",
    "print('---\\ngenres')\n",
    "print(categorias(df_train,'genres'))\n",
    "\n",
    "print('---\\ntags (total de tags disponibles)')\n",
    "print(len(categorias(df_train,'tags')))"
   ]
  },
  {
   "cell_type": "code",
   "execution_count": null,
   "metadata": {},
   "outputs": [],
   "source": [
    "from sklearn.base import BaseEstimator, TransformerMixin\n",
    "\n",
    "class Categories(BaseEstimator, TransformerMixin):\n",
    "    def fit(self, X, y=None):\n",
    "        self.algo = None\n",
    "        return self\n",
    "\n",
    "    def transform(self, X):\n",
    "        return None"
   ]
  },
  {
   "cell_type": "markdown",
   "metadata": {},
   "source": [
    "## Descripciones de las variables a través de histogramas"
   ]
  },
  {
   "cell_type": "code",
   "execution_count": null,
   "metadata": {},
   "outputs": [],
   "source": []
  }
 ],
 "metadata": {
  "kernelspec": {
   "display_name": "Python 3.10.4 ('prog_cientifica')",
   "language": "python",
   "name": "python3"
  },
  "language_info": {
   "codemirror_mode": {
    "name": "ipython",
    "version": 3
   },
   "file_extension": ".py",
   "mimetype": "text/x-python",
   "name": "python",
   "nbconvert_exporter": "python",
   "pygments_lexer": "ipython3",
   "version": "3.10.4"
  },
  "orig_nbformat": 4,
  "vscode": {
   "interpreter": {
    "hash": "5f12cc99d524414e3daaca7ff7e8e0997cdecd19277513297c62237218c0d43b"
   }
  }
 },
 "nbformat": 4,
 "nbformat_minor": 2
}
