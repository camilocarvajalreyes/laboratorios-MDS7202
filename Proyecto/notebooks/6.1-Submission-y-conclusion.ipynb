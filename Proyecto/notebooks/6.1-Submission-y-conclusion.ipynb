{
  "cells": [
    {
      "cell_type": "markdown",
      "id": "yNkIyWMw3pvz",
      "metadata": {
        "cell_id": "00000-f53914fc-294a-4bd9-ab99-c7f9f7e072d9",
        "deepnote_cell_type": "markdown",
        "id": "yNkIyWMw3pvz"
      },
      "source": [
        "# Proyecto: El Desafío de Don Rene\n",
        "\n",
        "**MDS7202: Laboratorio de Programación Científica para Ciencia de Datos**\n",
        "\n",
        "### Cuerpo Docente:\n",
        "\n",
        "- Profesores: Matías Rojas - Mauricio Araneda\n",
        "- Auxiliar: Ignacio Meza D.\n",
        "- Ayudante: Rodrigo Guerra\n",
        "\n",
        "*Por favor, lean detalladamente las instrucciones de la tarea antes de empezar a escribir.*\n"
      ]
    },
    {
      "cell_type": "markdown",
      "id": "AHy5rhgf3pv0",
      "metadata": {
        "cell_id": "00001-7e639802-19f7-4bbe-9a97-e312f613a693",
        "deepnote_cell_type": "markdown",
        "id": "AHy5rhgf3pv0"
      },
      "source": [
        "----\n",
        "\n",
        "## Reglas\n",
        "\n",
        "- Fecha de entrega: 13/12/2022 (Sin atrasos)\n",
        "- **Grupos de 2 personas.**\n",
        "- Cualquier duda fuera del horario de clases al foro. Mensajes al equipo docente serán respondidos por este medio.\n",
        "- Estrictamente prohibida la copia. \n",
        "- Pueden usar cualquier material del curso que estimen conveniente.\n"
      ]
    },
    {
      "cell_type": "markdown",
      "id": "f8v2to7-3pv1",
      "metadata": {
        "cell_id": "00005-7921fb53-59e9-49a1-a5a5-dec92da88299",
        "deepnote_cell_type": "markdown",
        "id": "f8v2to7-3pv1"
      },
      "source": [
        "\n",
        "\n",
        "# Proyecto\n",
        "\n",
        "### Equipo:\n",
        "\n",
        "- Camilo Carvajal Reyes\n",
        "- Andrés González Fuentes\n",
        "\n",
        "- \\<Nombre de usuarios en Codalab\\>\n",
        "\n",
        "- \\<Nombre del Equipo en Codalab\\>\n",
        "\n",
        "### Link de repositorio de GitHub: `https://github.com/camilocarvajalreyes/laboratorios-MDS7202`\n",
        "\n"
      ]
    },
    {
      "cell_type": "markdown",
      "id": "5L8iIkYD3pv3",
      "metadata": {
        "cell_id": "00024-97baa921-e984-460f-8c3f-2653d51eaba6",
        "deepnote_cell_type": "markdown",
        "id": "5L8iIkYD3pv3"
      },
      "source": [
        "---\n",
        "\n",
        "## 5. Optimización del Modelo\n",
        "\n",
        "Ahora, agregamos selección y/o reducción de atributos y probaremos una combinación de diferentes parámetros para mejorar nuestro modelo:\n",
        "\n",
        "\n",
        "*Nota*: Procuren hacer Gridsearch sobre espacios de búsqueda razonables. Es decir, no estén 3 días buscando la mejor configuración..."
      ]
    },
    {
      "attachments": {},
      "cell_type": "markdown",
      "id": "b15fb3e8",
      "metadata": {},
      "source": [
        "# Modelos listos para submission"
      ]
    },
    {
      "cell_type": "code",
      "execution_count": null,
      "id": "852e03a2",
      "metadata": {},
      "outputs": [],
      "source": [
        "from sklearn.model_selection import train_test_split, cross_val_score\n",
        "import pandas as pd"
      ]
    },
    {
      "cell_type": "code",
      "execution_count": null,
      "id": "98271ebc",
      "metadata": {},
      "outputs": [],
      "source": [
        "from transformers import AutoModelForSequenceClassification\n",
        "from transformers import AutoTokenizer\n",
        "import numpy as np\n",
        "\n",
        "MODEL = \"distilbert-videogame-descriptions-rating\"\n",
        "\n",
        "tokenizer = AutoTokenizer.from_pretrained(MODEL)\n",
        "model = AutoModelForSequenceClassification.from_pretrained(MODEL)\n",
        "\n",
        "def sentence_clf_output(text):\n",
        "    \"\"\"retorna el SequenceClassifierOutput\"\"\"\n",
        "    encoded_input = tokenizer(text, return_tensors='pt')\n",
        "    output = model(**encoded_input, return_dict=True, output_hidden_states=True)\n",
        "    return output\n",
        "\n",
        "def logits_embedding(clf_output):\n",
        "    # retorna el vector de scores de clasificacion (antes de la capa softmax)\n",
        "    return clf_output['logits'][0].detach().numpy().reshape(1,5)"
      ]
    },
    {
      "cell_type": "code",
      "execution_count": null,
      "id": "d86fd987",
      "metadata": {},
      "outputs": [],
      "source": [
        "def integrar_bert_logits(df_in):\n",
        "    df = df_in.copy(deep=True)\n",
        "\n",
        "    embed = lambda row: logits_embedding(sentence_clf_output(row))\n",
        "    bert_logits = np.concatenate(df['short_description'].apply(embed).to_numpy())  # .reshape(100,3)\n",
        "\n",
        "    df[['bert1','bert2','bert3','bert4','bert5']] = pd.DataFrame(bert_logits, index= df.index)\n",
        "\n",
        "    return df"
      ]
    },
    {
      "cell_type": "code",
      "execution_count": null,
      "id": "eeac59ee",
      "metadata": {},
      "outputs": [],
      "source": [
        "df_train = pd.read_pickle('train.pickle')\n",
        "df_train = integrar_bert_logits(df_train)"
      ]
    },
    {
      "cell_type": "code",
      "execution_count": null,
      "id": "4ea13d10",
      "metadata": {},
      "outputs": [],
      "source": [
        "from sklearn.base import BaseEstimator, TransformerMixin\n",
        "from preprocessing import Nothing, CategoriesTokenizer\n",
        "from sklearn.feature_extraction.text import CountVectorizer\n",
        "from sklearn.compose import ColumnTransformer\n",
        "from sklearn.preprocessing import MinMaxScaler, PowerTransformer, OneHotEncoder\n",
        "from sklearn.feature_selection import SelectPercentile, f_classif\n",
        "from sklearn.pipeline import Pipeline\n",
        "import re\n",
        "\n",
        "class Nothing(BaseEstimator, TransformerMixin):\n",
        "    def fit(self, X, y=None):\n",
        "        return self\n",
        "    def transform(self,X):\n",
        "        return X\n",
        "\n",
        "\n",
        "class CategoriesTokenizer:\n",
        "    def __init__(self):\n",
        "        pass\n",
        "\n",
        "    def __call__(self, doc):\n",
        "        return doc.split(';')\n",
        "\n",
        "boc_some_values = CountVectorizer(\n",
        "    tokenizer = CategoriesTokenizer(),\n",
        "    max_df = 1.0,\n",
        "    min_df = 0.05\n",
        "    )\n",
        "\n",
        "\n",
        "boc_many_values = CountVectorizer(\n",
        "    tokenizer = CategoriesTokenizer(),\n",
        "    max_df = 1.0,\n",
        "    min_df = 1\n",
        "    )\n",
        "\n",
        "\n",
        "def custom_features(dataframe_in):\n",
        "    df = dataframe_in.copy(deep=True)\n",
        "\n",
        "    df['month'] = pd.to_datetime(df['release_date']).dt.month\n",
        "    df['release_date'] = pd.to_datetime(df['release_date']).apply(lambda x: x.to_julian_date())\n",
        "\n",
        "    df['revenue'] = pd.Series([0 for _ in range(len(dataframe_in))])\n",
        "\n",
        "    df.loc[df.publisher.str.match('.*microsoft.*', flags=re.IGNORECASE).values, 'revenue'] = 10.260\n",
        "    df.loc[df.publisher.str.match('.*netease.*', flags=re.IGNORECASE).values, 'revenue'] = 6.668\n",
        "    df.loc[df.publisher.str.match('.*activision.*', flags=re.IGNORECASE).values, 'revenue'] = 6.388\n",
        "    df.loc[df.publisher.str.match('.*electronic.*', flags=re.IGNORECASE).values, 'revenue'] = 5.537\n",
        "    df.loc[df.publisher.str.match('.*bandai.*', flags=re.IGNORECASE).values, 'revenue'] = 3.018\n",
        "    df.loc[df.publisher.str.match('.*square.*', flags=re.IGNORECASE).values, 'revenue'] = 2.386\n",
        "    df.loc[df.publisher.str.match('.*nexon.*', flags=re.IGNORECASE).values, 'revenue'] = 2.286\n",
        "    df.loc[df.publisher.str.match('.*ubisoft.*', flags=re.IGNORECASE).values, 'revenue'] = 1.446\n",
        "    df.loc[df.publisher.str.match('.*konami.*', flags=re.IGNORECASE).values, 'revenue'] = 1.303\n",
        "    df.loc[df.publisher.str.match('.*SEGA.*').values, 'revenue'] = 1.153\n",
        "    df.loc[df.publisher.str.match('.*capcom.*', flags=re.IGNORECASE).values, 'revenue'] = 0.7673\n",
        "    df.loc[df.publisher.str.match('.*warner.*', flags=re.IGNORECASE).values, 'revenue'] = 0.7324\n",
        "\n",
        "    return df\n",
        "\n",
        "\n",
        "preprocessing_bert = ColumnTransformer(\n",
        "    transformers=[\n",
        "        ('BoC-plat',boc_some_values,'platforms'),\n",
        "        ('BoC-cat',boc_some_values,'categories'),\n",
        "        ('BoC-genres',boc_some_values,'genres'),\n",
        "        ('BoC-tags',boc_some_values,'tags'),\n",
        "\n",
        "        ('BoC-dev',boc_many_values,'developer'),\n",
        "        ('BoC-pub',boc_many_values,'publisher'),\n",
        "\n",
        "        ('OneHotEncoder',OneHotEncoder(handle_unknown='ignore'),['month']),\n",
        "        ('MinMaxScaler',MinMaxScaler(),['required_age','price','release_date']),\n",
        "        ('BoxCox',PowerTransformer(method='yeo-johnson'),['achievements','average_playtime','revenue']),\n",
        "        ('unchanged',Nothing(),['english','bert1','bert2','bert3','bert4','bert5'])\n",
        "])"
      ]
    },
    {
      "cell_type": "code",
      "execution_count": null,
      "id": "ba93eaff",
      "metadata": {},
      "outputs": [],
      "source": [
        "df_train = custom_features(df_train)"
      ]
    },
    {
      "cell_type": "code",
      "execution_count": null,
      "id": "07e173b2",
      "metadata": {},
      "outputs": [],
      "source": [
        "def make_pipeline(clf,prepro):\n",
        "    pipeline = Pipeline(\n",
        "        [(\"procesamiento\", prepro),\n",
        "        (\"selector\", SelectPercentile(f_classif, percentile=95)),\n",
        "        (\"classifier\", clf)]\n",
        "    )\n",
        "    return pipeline"
      ]
    },
    {
      "cell_type": "code",
      "execution_count": null,
      "id": "f9a1ed59",
      "metadata": {},
      "outputs": [],
      "source": [
        "from sklearn.svm import LinearSVC\n",
        "from sklearn.neighbors import KNeighborsClassifier\n",
        "from sklearn.ensemble import RandomForestClassifier, VotingClassifier\n",
        "from sklearn.neural_network import MLPClassifier"
      ]
    },
    {
      "cell_type": "code",
      "execution_count": null,
      "id": "cc7f091f",
      "metadata": {},
      "outputs": [],
      "source": [
        "clf = VotingClassifier(estimators=[\n",
        "        ('SVC', LinearSVC(random_state=0)),\n",
        "        ('RF', RandomForestClassifier(n_estimators=250, random_state=0)),\n",
        "        ('MLP', MLPClassifier(hidden_layer_sizes=(200,), learning_rate_init=0.01, solver='sgd',random_state = 0))\n",
        "    ])"
      ]
    },
    {
      "attachments": {},
      "cell_type": "markdown",
      "id": "1130ef46",
      "metadata": {},
      "source": [
        "Entrenando con todos los datos"
      ]
    },
    {
      "cell_type": "code",
      "execution_count": null,
      "id": "778f32c6",
      "metadata": {},
      "outputs": [],
      "source": [
        "import numpy as np\n",
        "np.seterr(divide='ignore', invalid='ignore');"
      ]
    },
    {
      "cell_type": "code",
      "execution_count": null,
      "id": "cfd95956",
      "metadata": {},
      "outputs": [],
      "source": [
        "%%capture\n",
        "pipe_clf = make_pipeline(clf,preprocessing_bert)\n",
        "score = cross_val_score(pipe_clf,df_train, df_train['rating'],scoring='f1_weighted')"
      ]
    },
    {
      "cell_type": "code",
      "execution_count": null,
      "id": "d0539015",
      "metadata": {},
      "outputs": [
        {
          "data": {
            "text/plain": [
              "array([0.37381541, 0.36584307, 0.37928127, 0.37928575, 0.35647289])"
            ]
          },
          "metadata": {},
          "output_type": "display_data"
        }
      ],
      "source": [
        "score"
      ]
    },
    {
      "cell_type": "code",
      "execution_count": null,
      "id": "eb7626ff",
      "metadata": {},
      "outputs": [
        {
          "data": {
            "text/plain": [
              "0.3709396771749649"
            ]
          },
          "metadata": {},
          "output_type": "display_data"
        }
      ],
      "source": [
        "np.mean(score)"
      ]
    },
    {
      "cell_type": "code",
      "execution_count": null,
      "id": "e83c2577",
      "metadata": {},
      "outputs": [
        {
          "name": "stderr",
          "output_type": "stream",
          "text": [
            "/home/camilo/miniconda3/envs/prog_cientifica/lib/python3.10/site-packages/sklearn/svm/_base.py:1225: ConvergenceWarning: Liblinear failed to converge, increase the number of iterations.\n",
            "  warnings.warn(\n",
            "/home/camilo/miniconda3/envs/prog_cientifica/lib/python3.10/site-packages/sklearn/neural_network/_multilayer_perceptron.py:702: ConvergenceWarning: Stochastic Optimizer: Maximum iterations (200) reached and the optimization hasn't converged yet.\n",
            "  warnings.warn(\n"
          ]
        },
        {
          "data": {
            "text/html": [
              "<style>#sk-container-id-1 {color: black;background-color: white;}#sk-container-id-1 pre{padding: 0;}#sk-container-id-1 div.sk-toggleable {background-color: white;}#sk-container-id-1 label.sk-toggleable__label {cursor: pointer;display: block;width: 100%;margin-bottom: 0;padding: 0.3em;box-sizing: border-box;text-align: center;}#sk-container-id-1 label.sk-toggleable__label-arrow:before {content: \"▸\";float: left;margin-right: 0.25em;color: #696969;}#sk-container-id-1 label.sk-toggleable__label-arrow:hover:before {color: black;}#sk-container-id-1 div.sk-estimator:hover label.sk-toggleable__label-arrow:before {color: black;}#sk-container-id-1 div.sk-toggleable__content {max-height: 0;max-width: 0;overflow: hidden;text-align: left;background-color: #f0f8ff;}#sk-container-id-1 div.sk-toggleable__content pre {margin: 0.2em;color: black;border-radius: 0.25em;background-color: #f0f8ff;}#sk-container-id-1 input.sk-toggleable__control:checked~div.sk-toggleable__content {max-height: 200px;max-width: 100%;overflow: auto;}#sk-container-id-1 input.sk-toggleable__control:checked~label.sk-toggleable__label-arrow:before {content: \"▾\";}#sk-container-id-1 div.sk-estimator input.sk-toggleable__control:checked~label.sk-toggleable__label {background-color: #d4ebff;}#sk-container-id-1 div.sk-label input.sk-toggleable__control:checked~label.sk-toggleable__label {background-color: #d4ebff;}#sk-container-id-1 input.sk-hidden--visually {border: 0;clip: rect(1px 1px 1px 1px);clip: rect(1px, 1px, 1px, 1px);height: 1px;margin: -1px;overflow: hidden;padding: 0;position: absolute;width: 1px;}#sk-container-id-1 div.sk-estimator {font-family: monospace;background-color: #f0f8ff;border: 1px dotted black;border-radius: 0.25em;box-sizing: border-box;margin-bottom: 0.5em;}#sk-container-id-1 div.sk-estimator:hover {background-color: #d4ebff;}#sk-container-id-1 div.sk-parallel-item::after {content: \"\";width: 100%;border-bottom: 1px solid gray;flex-grow: 1;}#sk-container-id-1 div.sk-label:hover label.sk-toggleable__label {background-color: #d4ebff;}#sk-container-id-1 div.sk-serial::before {content: \"\";position: absolute;border-left: 1px solid gray;box-sizing: border-box;top: 0;bottom: 0;left: 50%;z-index: 0;}#sk-container-id-1 div.sk-serial {display: flex;flex-direction: column;align-items: center;background-color: white;padding-right: 0.2em;padding-left: 0.2em;position: relative;}#sk-container-id-1 div.sk-item {position: relative;z-index: 1;}#sk-container-id-1 div.sk-parallel {display: flex;align-items: stretch;justify-content: center;background-color: white;position: relative;}#sk-container-id-1 div.sk-item::before, #sk-container-id-1 div.sk-parallel-item::before {content: \"\";position: absolute;border-left: 1px solid gray;box-sizing: border-box;top: 0;bottom: 0;left: 50%;z-index: -1;}#sk-container-id-1 div.sk-parallel-item {display: flex;flex-direction: column;z-index: 1;position: relative;background-color: white;}#sk-container-id-1 div.sk-parallel-item:first-child::after {align-self: flex-end;width: 50%;}#sk-container-id-1 div.sk-parallel-item:last-child::after {align-self: flex-start;width: 50%;}#sk-container-id-1 div.sk-parallel-item:only-child::after {width: 0;}#sk-container-id-1 div.sk-dashed-wrapped {border: 1px dashed gray;margin: 0 0.4em 0.5em 0.4em;box-sizing: border-box;padding-bottom: 0.4em;background-color: white;}#sk-container-id-1 div.sk-label label {font-family: monospace;font-weight: bold;display: inline-block;line-height: 1.2em;}#sk-container-id-1 div.sk-label-container {text-align: center;}#sk-container-id-1 div.sk-container {/* jupyter's `normalize.less` sets `[hidden] { display: none; }` but bootstrap.min.css set `[hidden] { display: none !important; }` so we also need the `!important` here to be able to override the default hidden behavior on the sphinx rendered scikit-learn.org. See: https://github.com/scikit-learn/scikit-learn/issues/21755 */display: inline-block !important;position: relative;}#sk-container-id-1 div.sk-text-repr-fallback {display: none;}</style><div id=\"sk-container-id-1\" class=\"sk-top-container\"><div class=\"sk-text-repr-fallback\"><pre>Pipeline(steps=[(&#x27;procesamiento&#x27;,\n",
              "                 ColumnTransformer(transformers=[(&#x27;BoC-plat&#x27;,\n",
              "                                                  CountVectorizer(min_df=0.05,\n",
              "                                                                  tokenizer=&lt;__main__.CategoriesTokenizer object at 0x7f40ac399c90&gt;),\n",
              "                                                  &#x27;platforms&#x27;),\n",
              "                                                 (&#x27;BoC-cat&#x27;,\n",
              "                                                  CountVectorizer(min_df=0.05,\n",
              "                                                                  tokenizer=&lt;__main__.CategoriesTokenizer object at 0x7f40ac399c90&gt;),\n",
              "                                                  &#x27;categories&#x27;),\n",
              "                                                 (&#x27;BoC-genres&#x27;,\n",
              "                                                  CountVectorizer(min_df=0.05,\n",
              "                                                                  tokenizer...\n",
              "                                                 (&#x27;unchanged&#x27;, Nothing(),\n",
              "                                                  [&#x27;english&#x27;, &#x27;bert1&#x27;, &#x27;bert2&#x27;,\n",
              "                                                   &#x27;bert3&#x27;, &#x27;bert4&#x27;,\n",
              "                                                   &#x27;bert5&#x27;])])),\n",
              "                (&#x27;selector&#x27;, SelectPercentile(percentile=95)),\n",
              "                (&#x27;classifier&#x27;,\n",
              "                 VotingClassifier(estimators=[(&#x27;SVC&#x27;,\n",
              "                                               LinearSVC(random_state=0)),\n",
              "                                              (&#x27;RF&#x27;,\n",
              "                                               RandomForestClassifier(n_estimators=250,\n",
              "                                                                      random_state=0)),\n",
              "                                              (&#x27;MLP&#x27;,\n",
              "                                               MLPClassifier(hidden_layer_sizes=(200,),\n",
              "                                                             learning_rate_init=0.01,\n",
              "                                                             random_state=0,\n",
              "                                                             solver=&#x27;sgd&#x27;))]))])</pre><b>In a Jupyter environment, please rerun this cell to show the HTML representation or trust the notebook. <br />On GitHub, the HTML representation is unable to render, please try loading this page with nbviewer.org.</b></div><div class=\"sk-container\" hidden><div class=\"sk-item sk-dashed-wrapped\"><div class=\"sk-label-container\"><div class=\"sk-label sk-toggleable\"><input class=\"sk-toggleable__control sk-hidden--visually\" id=\"sk-estimator-id-1\" type=\"checkbox\" ><label for=\"sk-estimator-id-1\" class=\"sk-toggleable__label sk-toggleable__label-arrow\">Pipeline</label><div class=\"sk-toggleable__content\"><pre>Pipeline(steps=[(&#x27;procesamiento&#x27;,\n",
              "                 ColumnTransformer(transformers=[(&#x27;BoC-plat&#x27;,\n",
              "                                                  CountVectorizer(min_df=0.05,\n",
              "                                                                  tokenizer=&lt;__main__.CategoriesTokenizer object at 0x7f40ac399c90&gt;),\n",
              "                                                  &#x27;platforms&#x27;),\n",
              "                                                 (&#x27;BoC-cat&#x27;,\n",
              "                                                  CountVectorizer(min_df=0.05,\n",
              "                                                                  tokenizer=&lt;__main__.CategoriesTokenizer object at 0x7f40ac399c90&gt;),\n",
              "                                                  &#x27;categories&#x27;),\n",
              "                                                 (&#x27;BoC-genres&#x27;,\n",
              "                                                  CountVectorizer(min_df=0.05,\n",
              "                                                                  tokenizer...\n",
              "                                                 (&#x27;unchanged&#x27;, Nothing(),\n",
              "                                                  [&#x27;english&#x27;, &#x27;bert1&#x27;, &#x27;bert2&#x27;,\n",
              "                                                   &#x27;bert3&#x27;, &#x27;bert4&#x27;,\n",
              "                                                   &#x27;bert5&#x27;])])),\n",
              "                (&#x27;selector&#x27;, SelectPercentile(percentile=95)),\n",
              "                (&#x27;classifier&#x27;,\n",
              "                 VotingClassifier(estimators=[(&#x27;SVC&#x27;,\n",
              "                                               LinearSVC(random_state=0)),\n",
              "                                              (&#x27;RF&#x27;,\n",
              "                                               RandomForestClassifier(n_estimators=250,\n",
              "                                                                      random_state=0)),\n",
              "                                              (&#x27;MLP&#x27;,\n",
              "                                               MLPClassifier(hidden_layer_sizes=(200,),\n",
              "                                                             learning_rate_init=0.01,\n",
              "                                                             random_state=0,\n",
              "                                                             solver=&#x27;sgd&#x27;))]))])</pre></div></div></div><div class=\"sk-serial\"><div class=\"sk-item sk-dashed-wrapped\"><div class=\"sk-label-container\"><div class=\"sk-label sk-toggleable\"><input class=\"sk-toggleable__control sk-hidden--visually\" id=\"sk-estimator-id-2\" type=\"checkbox\" ><label for=\"sk-estimator-id-2\" class=\"sk-toggleable__label sk-toggleable__label-arrow\">procesamiento: ColumnTransformer</label><div class=\"sk-toggleable__content\"><pre>ColumnTransformer(transformers=[(&#x27;BoC-plat&#x27;,\n",
              "                                 CountVectorizer(min_df=0.05,\n",
              "                                                 tokenizer=&lt;__main__.CategoriesTokenizer object at 0x7f40ac399c90&gt;),\n",
              "                                 &#x27;platforms&#x27;),\n",
              "                                (&#x27;BoC-cat&#x27;,\n",
              "                                 CountVectorizer(min_df=0.05,\n",
              "                                                 tokenizer=&lt;__main__.CategoriesTokenizer object at 0x7f40ac399c90&gt;),\n",
              "                                 &#x27;categories&#x27;),\n",
              "                                (&#x27;BoC-genres&#x27;,\n",
              "                                 CountVectorizer(min_df=0.05,\n",
              "                                                 tokenizer=&lt;__main__.CategoriesTokenizer obj...\n",
              "                                 CountVectorizer(tokenizer=&lt;__main__.CategoriesTokenizer object at 0x7f40ac399b40&gt;),\n",
              "                                 &#x27;publisher&#x27;),\n",
              "                                (&#x27;OneHotEncoder&#x27;,\n",
              "                                 OneHotEncoder(handle_unknown=&#x27;ignore&#x27;),\n",
              "                                 [&#x27;month&#x27;]),\n",
              "                                (&#x27;MinMaxScaler&#x27;, MinMaxScaler(),\n",
              "                                 [&#x27;required_age&#x27;, &#x27;price&#x27;, &#x27;release_date&#x27;]),\n",
              "                                (&#x27;BoxCox&#x27;, PowerTransformer(),\n",
              "                                 [&#x27;achievements&#x27;, &#x27;average_playtime&#x27;,\n",
              "                                  &#x27;revenue&#x27;]),\n",
              "                                (&#x27;unchanged&#x27;, Nothing(),\n",
              "                                 [&#x27;english&#x27;, &#x27;bert1&#x27;, &#x27;bert2&#x27;, &#x27;bert3&#x27;, &#x27;bert4&#x27;,\n",
              "                                  &#x27;bert5&#x27;])])</pre></div></div></div><div class=\"sk-parallel\"><div class=\"sk-parallel-item\"><div class=\"sk-item\"><div class=\"sk-label-container\"><div class=\"sk-label sk-toggleable\"><input class=\"sk-toggleable__control sk-hidden--visually\" id=\"sk-estimator-id-3\" type=\"checkbox\" ><label for=\"sk-estimator-id-3\" class=\"sk-toggleable__label sk-toggleable__label-arrow\">BoC-plat</label><div class=\"sk-toggleable__content\"><pre>platforms</pre></div></div></div><div class=\"sk-serial\"><div class=\"sk-item\"><div class=\"sk-estimator sk-toggleable\"><input class=\"sk-toggleable__control sk-hidden--visually\" id=\"sk-estimator-id-4\" type=\"checkbox\" ><label for=\"sk-estimator-id-4\" class=\"sk-toggleable__label sk-toggleable__label-arrow\">CountVectorizer</label><div class=\"sk-toggleable__content\"><pre>CountVectorizer(min_df=0.05,\n",
              "                tokenizer=&lt;__main__.CategoriesTokenizer object at 0x7f40ac399c90&gt;)</pre></div></div></div></div></div></div><div class=\"sk-parallel-item\"><div class=\"sk-item\"><div class=\"sk-label-container\"><div class=\"sk-label sk-toggleable\"><input class=\"sk-toggleable__control sk-hidden--visually\" id=\"sk-estimator-id-5\" type=\"checkbox\" ><label for=\"sk-estimator-id-5\" class=\"sk-toggleable__label sk-toggleable__label-arrow\">BoC-cat</label><div class=\"sk-toggleable__content\"><pre>categories</pre></div></div></div><div class=\"sk-serial\"><div class=\"sk-item\"><div class=\"sk-estimator sk-toggleable\"><input class=\"sk-toggleable__control sk-hidden--visually\" id=\"sk-estimator-id-6\" type=\"checkbox\" ><label for=\"sk-estimator-id-6\" class=\"sk-toggleable__label sk-toggleable__label-arrow\">CountVectorizer</label><div class=\"sk-toggleable__content\"><pre>CountVectorizer(min_df=0.05,\n",
              "                tokenizer=&lt;__main__.CategoriesTokenizer object at 0x7f40ac399c90&gt;)</pre></div></div></div></div></div></div><div class=\"sk-parallel-item\"><div class=\"sk-item\"><div class=\"sk-label-container\"><div class=\"sk-label sk-toggleable\"><input class=\"sk-toggleable__control sk-hidden--visually\" id=\"sk-estimator-id-7\" type=\"checkbox\" ><label for=\"sk-estimator-id-7\" class=\"sk-toggleable__label sk-toggleable__label-arrow\">BoC-genres</label><div class=\"sk-toggleable__content\"><pre>genres</pre></div></div></div><div class=\"sk-serial\"><div class=\"sk-item\"><div class=\"sk-estimator sk-toggleable\"><input class=\"sk-toggleable__control sk-hidden--visually\" id=\"sk-estimator-id-8\" type=\"checkbox\" ><label for=\"sk-estimator-id-8\" class=\"sk-toggleable__label sk-toggleable__label-arrow\">CountVectorizer</label><div class=\"sk-toggleable__content\"><pre>CountVectorizer(min_df=0.05,\n",
              "                tokenizer=&lt;__main__.CategoriesTokenizer object at 0x7f40ac399c90&gt;)</pre></div></div></div></div></div></div><div class=\"sk-parallel-item\"><div class=\"sk-item\"><div class=\"sk-label-container\"><div class=\"sk-label sk-toggleable\"><input class=\"sk-toggleable__control sk-hidden--visually\" id=\"sk-estimator-id-9\" type=\"checkbox\" ><label for=\"sk-estimator-id-9\" class=\"sk-toggleable__label sk-toggleable__label-arrow\">BoC-tags</label><div class=\"sk-toggleable__content\"><pre>tags</pre></div></div></div><div class=\"sk-serial\"><div class=\"sk-item\"><div class=\"sk-estimator sk-toggleable\"><input class=\"sk-toggleable__control sk-hidden--visually\" id=\"sk-estimator-id-10\" type=\"checkbox\" ><label for=\"sk-estimator-id-10\" class=\"sk-toggleable__label sk-toggleable__label-arrow\">CountVectorizer</label><div class=\"sk-toggleable__content\"><pre>CountVectorizer(min_df=0.05,\n",
              "                tokenizer=&lt;__main__.CategoriesTokenizer object at 0x7f40ac399c90&gt;)</pre></div></div></div></div></div></div><div class=\"sk-parallel-item\"><div class=\"sk-item\"><div class=\"sk-label-container\"><div class=\"sk-label sk-toggleable\"><input class=\"sk-toggleable__control sk-hidden--visually\" id=\"sk-estimator-id-11\" type=\"checkbox\" ><label for=\"sk-estimator-id-11\" class=\"sk-toggleable__label sk-toggleable__label-arrow\">BoC-dev</label><div class=\"sk-toggleable__content\"><pre>developer</pre></div></div></div><div class=\"sk-serial\"><div class=\"sk-item\"><div class=\"sk-estimator sk-toggleable\"><input class=\"sk-toggleable__control sk-hidden--visually\" id=\"sk-estimator-id-12\" type=\"checkbox\" ><label for=\"sk-estimator-id-12\" class=\"sk-toggleable__label sk-toggleable__label-arrow\">CountVectorizer</label><div class=\"sk-toggleable__content\"><pre>CountVectorizer(tokenizer=&lt;__main__.CategoriesTokenizer object at 0x7f40ac399b40&gt;)</pre></div></div></div></div></div></div><div class=\"sk-parallel-item\"><div class=\"sk-item\"><div class=\"sk-label-container\"><div class=\"sk-label sk-toggleable\"><input class=\"sk-toggleable__control sk-hidden--visually\" id=\"sk-estimator-id-13\" type=\"checkbox\" ><label for=\"sk-estimator-id-13\" class=\"sk-toggleable__label sk-toggleable__label-arrow\">BoC-pub</label><div class=\"sk-toggleable__content\"><pre>publisher</pre></div></div></div><div class=\"sk-serial\"><div class=\"sk-item\"><div class=\"sk-estimator sk-toggleable\"><input class=\"sk-toggleable__control sk-hidden--visually\" id=\"sk-estimator-id-14\" type=\"checkbox\" ><label for=\"sk-estimator-id-14\" class=\"sk-toggleable__label sk-toggleable__label-arrow\">CountVectorizer</label><div class=\"sk-toggleable__content\"><pre>CountVectorizer(tokenizer=&lt;__main__.CategoriesTokenizer object at 0x7f40ac399b40&gt;)</pre></div></div></div></div></div></div><div class=\"sk-parallel-item\"><div class=\"sk-item\"><div class=\"sk-label-container\"><div class=\"sk-label sk-toggleable\"><input class=\"sk-toggleable__control sk-hidden--visually\" id=\"sk-estimator-id-15\" type=\"checkbox\" ><label for=\"sk-estimator-id-15\" class=\"sk-toggleable__label sk-toggleable__label-arrow\">OneHotEncoder</label><div class=\"sk-toggleable__content\"><pre>[&#x27;month&#x27;]</pre></div></div></div><div class=\"sk-serial\"><div class=\"sk-item\"><div class=\"sk-estimator sk-toggleable\"><input class=\"sk-toggleable__control sk-hidden--visually\" id=\"sk-estimator-id-16\" type=\"checkbox\" ><label for=\"sk-estimator-id-16\" class=\"sk-toggleable__label sk-toggleable__label-arrow\">OneHotEncoder</label><div class=\"sk-toggleable__content\"><pre>OneHotEncoder(handle_unknown=&#x27;ignore&#x27;)</pre></div></div></div></div></div></div><div class=\"sk-parallel-item\"><div class=\"sk-item\"><div class=\"sk-label-container\"><div class=\"sk-label sk-toggleable\"><input class=\"sk-toggleable__control sk-hidden--visually\" id=\"sk-estimator-id-17\" type=\"checkbox\" ><label for=\"sk-estimator-id-17\" class=\"sk-toggleable__label sk-toggleable__label-arrow\">MinMaxScaler</label><div class=\"sk-toggleable__content\"><pre>[&#x27;required_age&#x27;, &#x27;price&#x27;, &#x27;release_date&#x27;]</pre></div></div></div><div class=\"sk-serial\"><div class=\"sk-item\"><div class=\"sk-estimator sk-toggleable\"><input class=\"sk-toggleable__control sk-hidden--visually\" id=\"sk-estimator-id-18\" type=\"checkbox\" ><label for=\"sk-estimator-id-18\" class=\"sk-toggleable__label sk-toggleable__label-arrow\">MinMaxScaler</label><div class=\"sk-toggleable__content\"><pre>MinMaxScaler()</pre></div></div></div></div></div></div><div class=\"sk-parallel-item\"><div class=\"sk-item\"><div class=\"sk-label-container\"><div class=\"sk-label sk-toggleable\"><input class=\"sk-toggleable__control sk-hidden--visually\" id=\"sk-estimator-id-19\" type=\"checkbox\" ><label for=\"sk-estimator-id-19\" class=\"sk-toggleable__label sk-toggleable__label-arrow\">BoxCox</label><div class=\"sk-toggleable__content\"><pre>[&#x27;achievements&#x27;, &#x27;average_playtime&#x27;, &#x27;revenue&#x27;]</pre></div></div></div><div class=\"sk-serial\"><div class=\"sk-item\"><div class=\"sk-estimator sk-toggleable\"><input class=\"sk-toggleable__control sk-hidden--visually\" id=\"sk-estimator-id-20\" type=\"checkbox\" ><label for=\"sk-estimator-id-20\" class=\"sk-toggleable__label sk-toggleable__label-arrow\">PowerTransformer</label><div class=\"sk-toggleable__content\"><pre>PowerTransformer()</pre></div></div></div></div></div></div><div class=\"sk-parallel-item\"><div class=\"sk-item\"><div class=\"sk-label-container\"><div class=\"sk-label sk-toggleable\"><input class=\"sk-toggleable__control sk-hidden--visually\" id=\"sk-estimator-id-21\" type=\"checkbox\" ><label for=\"sk-estimator-id-21\" class=\"sk-toggleable__label sk-toggleable__label-arrow\">unchanged</label><div class=\"sk-toggleable__content\"><pre>[&#x27;english&#x27;, &#x27;bert1&#x27;, &#x27;bert2&#x27;, &#x27;bert3&#x27;, &#x27;bert4&#x27;, &#x27;bert5&#x27;]</pre></div></div></div><div class=\"sk-serial\"><div class=\"sk-item\"><div class=\"sk-estimator sk-toggleable\"><input class=\"sk-toggleable__control sk-hidden--visually\" id=\"sk-estimator-id-22\" type=\"checkbox\" ><label for=\"sk-estimator-id-22\" class=\"sk-toggleable__label sk-toggleable__label-arrow\">Nothing</label><div class=\"sk-toggleable__content\"><pre>Nothing()</pre></div></div></div></div></div></div></div></div><div class=\"sk-item\"><div class=\"sk-estimator sk-toggleable\"><input class=\"sk-toggleable__control sk-hidden--visually\" id=\"sk-estimator-id-23\" type=\"checkbox\" ><label for=\"sk-estimator-id-23\" class=\"sk-toggleable__label sk-toggleable__label-arrow\">SelectPercentile</label><div class=\"sk-toggleable__content\"><pre>SelectPercentile(percentile=95)</pre></div></div></div><div class=\"sk-item sk-dashed-wrapped\"><div class=\"sk-label-container\"><div class=\"sk-label sk-toggleable\"><input class=\"sk-toggleable__control sk-hidden--visually\" id=\"sk-estimator-id-24\" type=\"checkbox\" ><label for=\"sk-estimator-id-24\" class=\"sk-toggleable__label sk-toggleable__label-arrow\">classifier: VotingClassifier</label><div class=\"sk-toggleable__content\"><pre>VotingClassifier(estimators=[(&#x27;SVC&#x27;, LinearSVC(random_state=0)),\n",
              "                             (&#x27;RF&#x27;,\n",
              "                              RandomForestClassifier(n_estimators=250,\n",
              "                                                     random_state=0)),\n",
              "                             (&#x27;MLP&#x27;,\n",
              "                              MLPClassifier(hidden_layer_sizes=(200,),\n",
              "                                            learning_rate_init=0.01,\n",
              "                                            random_state=0, solver=&#x27;sgd&#x27;))])</pre></div></div></div><div class=\"sk-parallel\"><div class=\"sk-parallel-item\"><div class=\"sk-item\"><div class=\"sk-label-container\"><div class=\"sk-label sk-toggleable\"><label>SVC</label></div></div><div class=\"sk-serial\"><div class=\"sk-item\"><div class=\"sk-estimator sk-toggleable\"><input class=\"sk-toggleable__control sk-hidden--visually\" id=\"sk-estimator-id-25\" type=\"checkbox\" ><label for=\"sk-estimator-id-25\" class=\"sk-toggleable__label sk-toggleable__label-arrow\">LinearSVC</label><div class=\"sk-toggleable__content\"><pre>LinearSVC(random_state=0)</pre></div></div></div></div></div></div><div class=\"sk-parallel-item\"><div class=\"sk-item\"><div class=\"sk-label-container\"><div class=\"sk-label sk-toggleable\"><label>RF</label></div></div><div class=\"sk-serial\"><div class=\"sk-item\"><div class=\"sk-estimator sk-toggleable\"><input class=\"sk-toggleable__control sk-hidden--visually\" id=\"sk-estimator-id-26\" type=\"checkbox\" ><label for=\"sk-estimator-id-26\" class=\"sk-toggleable__label sk-toggleable__label-arrow\">RandomForestClassifier</label><div class=\"sk-toggleable__content\"><pre>RandomForestClassifier(n_estimators=250, random_state=0)</pre></div></div></div></div></div></div><div class=\"sk-parallel-item\"><div class=\"sk-item\"><div class=\"sk-label-container\"><div class=\"sk-label sk-toggleable\"><label>MLP</label></div></div><div class=\"sk-serial\"><div class=\"sk-item\"><div class=\"sk-estimator sk-toggleable\"><input class=\"sk-toggleable__control sk-hidden--visually\" id=\"sk-estimator-id-27\" type=\"checkbox\" ><label for=\"sk-estimator-id-27\" class=\"sk-toggleable__label sk-toggleable__label-arrow\">MLPClassifier</label><div class=\"sk-toggleable__content\"><pre>MLPClassifier(hidden_layer_sizes=(200,), learning_rate_init=0.01,\n",
              "              random_state=0, solver=&#x27;sgd&#x27;)</pre></div></div></div></div></div></div></div></div></div></div></div></div>"
            ],
            "text/plain": [
              "Pipeline(steps=[('procesamiento',\n",
              "                 ColumnTransformer(transformers=[('BoC-plat',\n",
              "                                                  CountVectorizer(min_df=0.05,\n",
              "                                                                  tokenizer=<__main__.CategoriesTokenizer object at 0x7f40ac399c90>),\n",
              "                                                  'platforms'),\n",
              "                                                 ('BoC-cat',\n",
              "                                                  CountVectorizer(min_df=0.05,\n",
              "                                                                  tokenizer=<__main__.CategoriesTokenizer object at 0x7f40ac399c90>),\n",
              "                                                  'categories'),\n",
              "                                                 ('BoC-genres',\n",
              "                                                  CountVectorizer(min_df=0.05,\n",
              "                                                                  tokenizer...\n",
              "                                                 ('unchanged', Nothing(),\n",
              "                                                  ['english', 'bert1', 'bert2',\n",
              "                                                   'bert3', 'bert4',\n",
              "                                                   'bert5'])])),\n",
              "                ('selector', SelectPercentile(percentile=95)),\n",
              "                ('classifier',\n",
              "                 VotingClassifier(estimators=[('SVC',\n",
              "                                               LinearSVC(random_state=0)),\n",
              "                                              ('RF',\n",
              "                                               RandomForestClassifier(n_estimators=250,\n",
              "                                                                      random_state=0)),\n",
              "                                              ('MLP',\n",
              "                                               MLPClassifier(hidden_layer_sizes=(200,),\n",
              "                                                             learning_rate_init=0.01,\n",
              "                                                             random_state=0,\n",
              "                                                             solver='sgd'))]))])"
            ]
          },
          "metadata": {},
          "output_type": "display_data"
        }
      ],
      "source": [
        "pipe_clf = make_pipeline(clf,preprocessing_bert)\n",
        "pipe_clf.fit(df_train, df_train['rating'])"
      ]
    },
    {
      "attachments": {},
      "cell_type": "markdown",
      "id": "5734360b",
      "metadata": {},
      "source": [
        "## Regresión"
      ]
    },
    {
      "cell_type": "code",
      "execution_count": null,
      "id": "939c804a",
      "metadata": {},
      "outputs": [],
      "source": [
        "preprocessing = ColumnTransformer(\n",
        "    transformers=[\n",
        "        ('BoC-plat',boc_some_values,'platforms'),\n",
        "        ('BoC-cat',boc_some_values,'categories'),\n",
        "        ('BoC-genres',boc_some_values,'genres'),\n",
        "        ('BoC-tags',boc_some_values,'tags'),\n",
        "\n",
        "        ('BoC-dev',boc_many_values,'developer'),\n",
        "        ('BoC-pub',boc_many_values,'publisher'),\n",
        "\n",
        "        ('OneHotEncoder',OneHotEncoder(handle_unknown='ignore'),['month']),\n",
        "        ('MinMaxScaler',MinMaxScaler(),['required_age','price','release_date']),\n",
        "        ('BoxCox',PowerTransformer(method='yeo-johnson'),['achievements','average_playtime','revenue']),\n",
        "        ('unchanged',Nothing(),['english'])\n",
        "])"
      ]
    },
    {
      "cell_type": "code",
      "execution_count": null,
      "id": "cedce2fa",
      "metadata": {},
      "outputs": [],
      "source": [
        "from sklearn.neighbors import KNeighborsRegressor\n",
        "from sklearn.ensemble import GradientBoostingRegressor, RandomForestRegressor\n",
        "from sklearn.neural_network import MLPRegressor\n",
        "from sklearn.ensemble import VotingRegressor"
      ]
    },
    {
      "cell_type": "code",
      "execution_count": null,
      "id": "6aac6b49",
      "metadata": {},
      "outputs": [],
      "source": [
        "reg = VotingRegressor(estimators=[\n",
        "        ('GB', GradientBoostingRegressor(n_estimators=25,random_state=0,learning_rate=0.1)),\n",
        "        ('RF', RandomForestRegressor(n_estimators=250, random_state=0)),\n",
        "        ('KN', KNeighborsRegressor(metric='euclidean', weights='distance')),\n",
        "        ('MLP', MLPRegressor(hidden_layer_sizes=(200, 100),learning_rate='invscaling',random_state=0,max_iter=500))\n",
        "    ])"
      ]
    },
    {
      "cell_type": "code",
      "execution_count": null,
      "id": "4c5508c2",
      "metadata": {},
      "outputs": [],
      "source": [
        "%%capture\n",
        "pipe_reg = make_pipeline(reg,preprocessing)\n",
        "score = cross_val_score(pipe_reg,df_train, df_train['estimated_sells'],scoring='r2')"
      ]
    },
    {
      "cell_type": "code",
      "execution_count": null,
      "id": "3d5dbece",
      "metadata": {},
      "outputs": [
        {
          "data": {
            "text/plain": [
              "array([0.14044979, 0.23949368, 0.29040998, 0.42428286, 0.24468544])"
            ]
          },
          "metadata": {},
          "output_type": "display_data"
        }
      ],
      "source": [
        "score"
      ]
    },
    {
      "cell_type": "code",
      "execution_count": null,
      "id": "c79ab09d",
      "metadata": {},
      "outputs": [
        {
          "data": {
            "text/plain": [
              "0.26786435031204114"
            ]
          },
          "metadata": {},
          "output_type": "display_data"
        }
      ],
      "source": [
        "np.mean(score)"
      ]
    },
    {
      "cell_type": "code",
      "execution_count": null,
      "id": "fc6f419f",
      "metadata": {},
      "outputs": [
        {
          "name": "stderr",
          "output_type": "stream",
          "text": [
            "/home/camilo/miniconda3/envs/prog_cientifica/lib/python3.10/site-packages/sklearn/neural_network/_multilayer_perceptron.py:702: ConvergenceWarning: Stochastic Optimizer: Maximum iterations (500) reached and the optimization hasn't converged yet.\n",
            "  warnings.warn(\n"
          ]
        },
        {
          "data": {
            "text/html": [
              "<style>#sk-container-id-2 {color: black;background-color: white;}#sk-container-id-2 pre{padding: 0;}#sk-container-id-2 div.sk-toggleable {background-color: white;}#sk-container-id-2 label.sk-toggleable__label {cursor: pointer;display: block;width: 100%;margin-bottom: 0;padding: 0.3em;box-sizing: border-box;text-align: center;}#sk-container-id-2 label.sk-toggleable__label-arrow:before {content: \"▸\";float: left;margin-right: 0.25em;color: #696969;}#sk-container-id-2 label.sk-toggleable__label-arrow:hover:before {color: black;}#sk-container-id-2 div.sk-estimator:hover label.sk-toggleable__label-arrow:before {color: black;}#sk-container-id-2 div.sk-toggleable__content {max-height: 0;max-width: 0;overflow: hidden;text-align: left;background-color: #f0f8ff;}#sk-container-id-2 div.sk-toggleable__content pre {margin: 0.2em;color: black;border-radius: 0.25em;background-color: #f0f8ff;}#sk-container-id-2 input.sk-toggleable__control:checked~div.sk-toggleable__content {max-height: 200px;max-width: 100%;overflow: auto;}#sk-container-id-2 input.sk-toggleable__control:checked~label.sk-toggleable__label-arrow:before {content: \"▾\";}#sk-container-id-2 div.sk-estimator input.sk-toggleable__control:checked~label.sk-toggleable__label {background-color: #d4ebff;}#sk-container-id-2 div.sk-label input.sk-toggleable__control:checked~label.sk-toggleable__label {background-color: #d4ebff;}#sk-container-id-2 input.sk-hidden--visually {border: 0;clip: rect(1px 1px 1px 1px);clip: rect(1px, 1px, 1px, 1px);height: 1px;margin: -1px;overflow: hidden;padding: 0;position: absolute;width: 1px;}#sk-container-id-2 div.sk-estimator {font-family: monospace;background-color: #f0f8ff;border: 1px dotted black;border-radius: 0.25em;box-sizing: border-box;margin-bottom: 0.5em;}#sk-container-id-2 div.sk-estimator:hover {background-color: #d4ebff;}#sk-container-id-2 div.sk-parallel-item::after {content: \"\";width: 100%;border-bottom: 1px solid gray;flex-grow: 1;}#sk-container-id-2 div.sk-label:hover label.sk-toggleable__label {background-color: #d4ebff;}#sk-container-id-2 div.sk-serial::before {content: \"\";position: absolute;border-left: 1px solid gray;box-sizing: border-box;top: 0;bottom: 0;left: 50%;z-index: 0;}#sk-container-id-2 div.sk-serial {display: flex;flex-direction: column;align-items: center;background-color: white;padding-right: 0.2em;padding-left: 0.2em;position: relative;}#sk-container-id-2 div.sk-item {position: relative;z-index: 1;}#sk-container-id-2 div.sk-parallel {display: flex;align-items: stretch;justify-content: center;background-color: white;position: relative;}#sk-container-id-2 div.sk-item::before, #sk-container-id-2 div.sk-parallel-item::before {content: \"\";position: absolute;border-left: 1px solid gray;box-sizing: border-box;top: 0;bottom: 0;left: 50%;z-index: -1;}#sk-container-id-2 div.sk-parallel-item {display: flex;flex-direction: column;z-index: 1;position: relative;background-color: white;}#sk-container-id-2 div.sk-parallel-item:first-child::after {align-self: flex-end;width: 50%;}#sk-container-id-2 div.sk-parallel-item:last-child::after {align-self: flex-start;width: 50%;}#sk-container-id-2 div.sk-parallel-item:only-child::after {width: 0;}#sk-container-id-2 div.sk-dashed-wrapped {border: 1px dashed gray;margin: 0 0.4em 0.5em 0.4em;box-sizing: border-box;padding-bottom: 0.4em;background-color: white;}#sk-container-id-2 div.sk-label label {font-family: monospace;font-weight: bold;display: inline-block;line-height: 1.2em;}#sk-container-id-2 div.sk-label-container {text-align: center;}#sk-container-id-2 div.sk-container {/* jupyter's `normalize.less` sets `[hidden] { display: none; }` but bootstrap.min.css set `[hidden] { display: none !important; }` so we also need the `!important` here to be able to override the default hidden behavior on the sphinx rendered scikit-learn.org. See: https://github.com/scikit-learn/scikit-learn/issues/21755 */display: inline-block !important;position: relative;}#sk-container-id-2 div.sk-text-repr-fallback {display: none;}</style><div id=\"sk-container-id-2\" class=\"sk-top-container\"><div class=\"sk-text-repr-fallback\"><pre>Pipeline(steps=[(&#x27;procesamiento&#x27;,\n",
              "                 ColumnTransformer(transformers=[(&#x27;BoC-plat&#x27;,\n",
              "                                                  CountVectorizer(min_df=0.05,\n",
              "                                                                  tokenizer=&lt;__main__.CategoriesTokenizer object at 0x7f40ac399c90&gt;),\n",
              "                                                  &#x27;platforms&#x27;),\n",
              "                                                 (&#x27;BoC-cat&#x27;,\n",
              "                                                  CountVectorizer(min_df=0.05,\n",
              "                                                                  tokenizer=&lt;__main__.CategoriesTokenizer object at 0x7f40ac399c90&gt;),\n",
              "                                                  &#x27;categories&#x27;),\n",
              "                                                 (&#x27;BoC-genres&#x27;,\n",
              "                                                  CountVectorizer(min_df=0.05,\n",
              "                                                                  tokenizer...\n",
              "                (&#x27;selector&#x27;, SelectPercentile(percentile=95)),\n",
              "                (&#x27;classifier&#x27;,\n",
              "                 VotingRegressor(estimators=[(&#x27;GB&#x27;,\n",
              "                                              GradientBoostingRegressor(n_estimators=25,\n",
              "                                                                        random_state=0)),\n",
              "                                             (&#x27;RF&#x27;,\n",
              "                                              RandomForestRegressor(n_estimators=250,\n",
              "                                                                    random_state=0)),\n",
              "                                             (&#x27;KN&#x27;,\n",
              "                                              KNeighborsRegressor(metric=&#x27;euclidean&#x27;,\n",
              "                                                                  weights=&#x27;distance&#x27;)),\n",
              "                                             (&#x27;MLP&#x27;,\n",
              "                                              MLPRegressor(hidden_layer_sizes=(200,\n",
              "                                                                               100),\n",
              "                                                           learning_rate=&#x27;invscaling&#x27;,\n",
              "                                                           max_iter=500,\n",
              "                                                           random_state=0))]))])</pre><b>In a Jupyter environment, please rerun this cell to show the HTML representation or trust the notebook. <br />On GitHub, the HTML representation is unable to render, please try loading this page with nbviewer.org.</b></div><div class=\"sk-container\" hidden><div class=\"sk-item sk-dashed-wrapped\"><div class=\"sk-label-container\"><div class=\"sk-label sk-toggleable\"><input class=\"sk-toggleable__control sk-hidden--visually\" id=\"sk-estimator-id-28\" type=\"checkbox\" ><label for=\"sk-estimator-id-28\" class=\"sk-toggleable__label sk-toggleable__label-arrow\">Pipeline</label><div class=\"sk-toggleable__content\"><pre>Pipeline(steps=[(&#x27;procesamiento&#x27;,\n",
              "                 ColumnTransformer(transformers=[(&#x27;BoC-plat&#x27;,\n",
              "                                                  CountVectorizer(min_df=0.05,\n",
              "                                                                  tokenizer=&lt;__main__.CategoriesTokenizer object at 0x7f40ac399c90&gt;),\n",
              "                                                  &#x27;platforms&#x27;),\n",
              "                                                 (&#x27;BoC-cat&#x27;,\n",
              "                                                  CountVectorizer(min_df=0.05,\n",
              "                                                                  tokenizer=&lt;__main__.CategoriesTokenizer object at 0x7f40ac399c90&gt;),\n",
              "                                                  &#x27;categories&#x27;),\n",
              "                                                 (&#x27;BoC-genres&#x27;,\n",
              "                                                  CountVectorizer(min_df=0.05,\n",
              "                                                                  tokenizer...\n",
              "                (&#x27;selector&#x27;, SelectPercentile(percentile=95)),\n",
              "                (&#x27;classifier&#x27;,\n",
              "                 VotingRegressor(estimators=[(&#x27;GB&#x27;,\n",
              "                                              GradientBoostingRegressor(n_estimators=25,\n",
              "                                                                        random_state=0)),\n",
              "                                             (&#x27;RF&#x27;,\n",
              "                                              RandomForestRegressor(n_estimators=250,\n",
              "                                                                    random_state=0)),\n",
              "                                             (&#x27;KN&#x27;,\n",
              "                                              KNeighborsRegressor(metric=&#x27;euclidean&#x27;,\n",
              "                                                                  weights=&#x27;distance&#x27;)),\n",
              "                                             (&#x27;MLP&#x27;,\n",
              "                                              MLPRegressor(hidden_layer_sizes=(200,\n",
              "                                                                               100),\n",
              "                                                           learning_rate=&#x27;invscaling&#x27;,\n",
              "                                                           max_iter=500,\n",
              "                                                           random_state=0))]))])</pre></div></div></div><div class=\"sk-serial\"><div class=\"sk-item sk-dashed-wrapped\"><div class=\"sk-label-container\"><div class=\"sk-label sk-toggleable\"><input class=\"sk-toggleable__control sk-hidden--visually\" id=\"sk-estimator-id-29\" type=\"checkbox\" ><label for=\"sk-estimator-id-29\" class=\"sk-toggleable__label sk-toggleable__label-arrow\">procesamiento: ColumnTransformer</label><div class=\"sk-toggleable__content\"><pre>ColumnTransformer(transformers=[(&#x27;BoC-plat&#x27;,\n",
              "                                 CountVectorizer(min_df=0.05,\n",
              "                                                 tokenizer=&lt;__main__.CategoriesTokenizer object at 0x7f40ac399c90&gt;),\n",
              "                                 &#x27;platforms&#x27;),\n",
              "                                (&#x27;BoC-cat&#x27;,\n",
              "                                 CountVectorizer(min_df=0.05,\n",
              "                                                 tokenizer=&lt;__main__.CategoriesTokenizer object at 0x7f40ac399c90&gt;),\n",
              "                                 &#x27;categories&#x27;),\n",
              "                                (&#x27;BoC-genres&#x27;,\n",
              "                                 CountVectorizer(min_df=0.05,\n",
              "                                                 tokenizer=&lt;__main__.CategoriesTokenizer obj...\n",
              "                                (&#x27;BoC-pub&#x27;,\n",
              "                                 CountVectorizer(tokenizer=&lt;__main__.CategoriesTokenizer object at 0x7f40ac399b40&gt;),\n",
              "                                 &#x27;publisher&#x27;),\n",
              "                                (&#x27;OneHotEncoder&#x27;,\n",
              "                                 OneHotEncoder(handle_unknown=&#x27;ignore&#x27;),\n",
              "                                 [&#x27;month&#x27;]),\n",
              "                                (&#x27;MinMaxScaler&#x27;, MinMaxScaler(),\n",
              "                                 [&#x27;required_age&#x27;, &#x27;price&#x27;, &#x27;release_date&#x27;]),\n",
              "                                (&#x27;BoxCox&#x27;, PowerTransformer(),\n",
              "                                 [&#x27;achievements&#x27;, &#x27;average_playtime&#x27;,\n",
              "                                  &#x27;revenue&#x27;]),\n",
              "                                (&#x27;unchanged&#x27;, Nothing(), [&#x27;english&#x27;])])</pre></div></div></div><div class=\"sk-parallel\"><div class=\"sk-parallel-item\"><div class=\"sk-item\"><div class=\"sk-label-container\"><div class=\"sk-label sk-toggleable\"><input class=\"sk-toggleable__control sk-hidden--visually\" id=\"sk-estimator-id-30\" type=\"checkbox\" ><label for=\"sk-estimator-id-30\" class=\"sk-toggleable__label sk-toggleable__label-arrow\">BoC-plat</label><div class=\"sk-toggleable__content\"><pre>platforms</pre></div></div></div><div class=\"sk-serial\"><div class=\"sk-item\"><div class=\"sk-estimator sk-toggleable\"><input class=\"sk-toggleable__control sk-hidden--visually\" id=\"sk-estimator-id-31\" type=\"checkbox\" ><label for=\"sk-estimator-id-31\" class=\"sk-toggleable__label sk-toggleable__label-arrow\">CountVectorizer</label><div class=\"sk-toggleable__content\"><pre>CountVectorizer(min_df=0.05,\n",
              "                tokenizer=&lt;__main__.CategoriesTokenizer object at 0x7f40ac399c90&gt;)</pre></div></div></div></div></div></div><div class=\"sk-parallel-item\"><div class=\"sk-item\"><div class=\"sk-label-container\"><div class=\"sk-label sk-toggleable\"><input class=\"sk-toggleable__control sk-hidden--visually\" id=\"sk-estimator-id-32\" type=\"checkbox\" ><label for=\"sk-estimator-id-32\" class=\"sk-toggleable__label sk-toggleable__label-arrow\">BoC-cat</label><div class=\"sk-toggleable__content\"><pre>categories</pre></div></div></div><div class=\"sk-serial\"><div class=\"sk-item\"><div class=\"sk-estimator sk-toggleable\"><input class=\"sk-toggleable__control sk-hidden--visually\" id=\"sk-estimator-id-33\" type=\"checkbox\" ><label for=\"sk-estimator-id-33\" class=\"sk-toggleable__label sk-toggleable__label-arrow\">CountVectorizer</label><div class=\"sk-toggleable__content\"><pre>CountVectorizer(min_df=0.05,\n",
              "                tokenizer=&lt;__main__.CategoriesTokenizer object at 0x7f40ac399c90&gt;)</pre></div></div></div></div></div></div><div class=\"sk-parallel-item\"><div class=\"sk-item\"><div class=\"sk-label-container\"><div class=\"sk-label sk-toggleable\"><input class=\"sk-toggleable__control sk-hidden--visually\" id=\"sk-estimator-id-34\" type=\"checkbox\" ><label for=\"sk-estimator-id-34\" class=\"sk-toggleable__label sk-toggleable__label-arrow\">BoC-genres</label><div class=\"sk-toggleable__content\"><pre>genres</pre></div></div></div><div class=\"sk-serial\"><div class=\"sk-item\"><div class=\"sk-estimator sk-toggleable\"><input class=\"sk-toggleable__control sk-hidden--visually\" id=\"sk-estimator-id-35\" type=\"checkbox\" ><label for=\"sk-estimator-id-35\" class=\"sk-toggleable__label sk-toggleable__label-arrow\">CountVectorizer</label><div class=\"sk-toggleable__content\"><pre>CountVectorizer(min_df=0.05,\n",
              "                tokenizer=&lt;__main__.CategoriesTokenizer object at 0x7f40ac399c90&gt;)</pre></div></div></div></div></div></div><div class=\"sk-parallel-item\"><div class=\"sk-item\"><div class=\"sk-label-container\"><div class=\"sk-label sk-toggleable\"><input class=\"sk-toggleable__control sk-hidden--visually\" id=\"sk-estimator-id-36\" type=\"checkbox\" ><label for=\"sk-estimator-id-36\" class=\"sk-toggleable__label sk-toggleable__label-arrow\">BoC-tags</label><div class=\"sk-toggleable__content\"><pre>tags</pre></div></div></div><div class=\"sk-serial\"><div class=\"sk-item\"><div class=\"sk-estimator sk-toggleable\"><input class=\"sk-toggleable__control sk-hidden--visually\" id=\"sk-estimator-id-37\" type=\"checkbox\" ><label for=\"sk-estimator-id-37\" class=\"sk-toggleable__label sk-toggleable__label-arrow\">CountVectorizer</label><div class=\"sk-toggleable__content\"><pre>CountVectorizer(min_df=0.05,\n",
              "                tokenizer=&lt;__main__.CategoriesTokenizer object at 0x7f40ac399c90&gt;)</pre></div></div></div></div></div></div><div class=\"sk-parallel-item\"><div class=\"sk-item\"><div class=\"sk-label-container\"><div class=\"sk-label sk-toggleable\"><input class=\"sk-toggleable__control sk-hidden--visually\" id=\"sk-estimator-id-38\" type=\"checkbox\" ><label for=\"sk-estimator-id-38\" class=\"sk-toggleable__label sk-toggleable__label-arrow\">BoC-dev</label><div class=\"sk-toggleable__content\"><pre>developer</pre></div></div></div><div class=\"sk-serial\"><div class=\"sk-item\"><div class=\"sk-estimator sk-toggleable\"><input class=\"sk-toggleable__control sk-hidden--visually\" id=\"sk-estimator-id-39\" type=\"checkbox\" ><label for=\"sk-estimator-id-39\" class=\"sk-toggleable__label sk-toggleable__label-arrow\">CountVectorizer</label><div class=\"sk-toggleable__content\"><pre>CountVectorizer(tokenizer=&lt;__main__.CategoriesTokenizer object at 0x7f40ac399b40&gt;)</pre></div></div></div></div></div></div><div class=\"sk-parallel-item\"><div class=\"sk-item\"><div class=\"sk-label-container\"><div class=\"sk-label sk-toggleable\"><input class=\"sk-toggleable__control sk-hidden--visually\" id=\"sk-estimator-id-40\" type=\"checkbox\" ><label for=\"sk-estimator-id-40\" class=\"sk-toggleable__label sk-toggleable__label-arrow\">BoC-pub</label><div class=\"sk-toggleable__content\"><pre>publisher</pre></div></div></div><div class=\"sk-serial\"><div class=\"sk-item\"><div class=\"sk-estimator sk-toggleable\"><input class=\"sk-toggleable__control sk-hidden--visually\" id=\"sk-estimator-id-41\" type=\"checkbox\" ><label for=\"sk-estimator-id-41\" class=\"sk-toggleable__label sk-toggleable__label-arrow\">CountVectorizer</label><div class=\"sk-toggleable__content\"><pre>CountVectorizer(tokenizer=&lt;__main__.CategoriesTokenizer object at 0x7f40ac399b40&gt;)</pre></div></div></div></div></div></div><div class=\"sk-parallel-item\"><div class=\"sk-item\"><div class=\"sk-label-container\"><div class=\"sk-label sk-toggleable\"><input class=\"sk-toggleable__control sk-hidden--visually\" id=\"sk-estimator-id-42\" type=\"checkbox\" ><label for=\"sk-estimator-id-42\" class=\"sk-toggleable__label sk-toggleable__label-arrow\">OneHotEncoder</label><div class=\"sk-toggleable__content\"><pre>[&#x27;month&#x27;]</pre></div></div></div><div class=\"sk-serial\"><div class=\"sk-item\"><div class=\"sk-estimator sk-toggleable\"><input class=\"sk-toggleable__control sk-hidden--visually\" id=\"sk-estimator-id-43\" type=\"checkbox\" ><label for=\"sk-estimator-id-43\" class=\"sk-toggleable__label sk-toggleable__label-arrow\">OneHotEncoder</label><div class=\"sk-toggleable__content\"><pre>OneHotEncoder(handle_unknown=&#x27;ignore&#x27;)</pre></div></div></div></div></div></div><div class=\"sk-parallel-item\"><div class=\"sk-item\"><div class=\"sk-label-container\"><div class=\"sk-label sk-toggleable\"><input class=\"sk-toggleable__control sk-hidden--visually\" id=\"sk-estimator-id-44\" type=\"checkbox\" ><label for=\"sk-estimator-id-44\" class=\"sk-toggleable__label sk-toggleable__label-arrow\">MinMaxScaler</label><div class=\"sk-toggleable__content\"><pre>[&#x27;required_age&#x27;, &#x27;price&#x27;, &#x27;release_date&#x27;]</pre></div></div></div><div class=\"sk-serial\"><div class=\"sk-item\"><div class=\"sk-estimator sk-toggleable\"><input class=\"sk-toggleable__control sk-hidden--visually\" id=\"sk-estimator-id-45\" type=\"checkbox\" ><label for=\"sk-estimator-id-45\" class=\"sk-toggleable__label sk-toggleable__label-arrow\">MinMaxScaler</label><div class=\"sk-toggleable__content\"><pre>MinMaxScaler()</pre></div></div></div></div></div></div><div class=\"sk-parallel-item\"><div class=\"sk-item\"><div class=\"sk-label-container\"><div class=\"sk-label sk-toggleable\"><input class=\"sk-toggleable__control sk-hidden--visually\" id=\"sk-estimator-id-46\" type=\"checkbox\" ><label for=\"sk-estimator-id-46\" class=\"sk-toggleable__label sk-toggleable__label-arrow\">BoxCox</label><div class=\"sk-toggleable__content\"><pre>[&#x27;achievements&#x27;, &#x27;average_playtime&#x27;, &#x27;revenue&#x27;]</pre></div></div></div><div class=\"sk-serial\"><div class=\"sk-item\"><div class=\"sk-estimator sk-toggleable\"><input class=\"sk-toggleable__control sk-hidden--visually\" id=\"sk-estimator-id-47\" type=\"checkbox\" ><label for=\"sk-estimator-id-47\" class=\"sk-toggleable__label sk-toggleable__label-arrow\">PowerTransformer</label><div class=\"sk-toggleable__content\"><pre>PowerTransformer()</pre></div></div></div></div></div></div><div class=\"sk-parallel-item\"><div class=\"sk-item\"><div class=\"sk-label-container\"><div class=\"sk-label sk-toggleable\"><input class=\"sk-toggleable__control sk-hidden--visually\" id=\"sk-estimator-id-48\" type=\"checkbox\" ><label for=\"sk-estimator-id-48\" class=\"sk-toggleable__label sk-toggleable__label-arrow\">unchanged</label><div class=\"sk-toggleable__content\"><pre>[&#x27;english&#x27;]</pre></div></div></div><div class=\"sk-serial\"><div class=\"sk-item\"><div class=\"sk-estimator sk-toggleable\"><input class=\"sk-toggleable__control sk-hidden--visually\" id=\"sk-estimator-id-49\" type=\"checkbox\" ><label for=\"sk-estimator-id-49\" class=\"sk-toggleable__label sk-toggleable__label-arrow\">Nothing</label><div class=\"sk-toggleable__content\"><pre>Nothing()</pre></div></div></div></div></div></div></div></div><div class=\"sk-item\"><div class=\"sk-estimator sk-toggleable\"><input class=\"sk-toggleable__control sk-hidden--visually\" id=\"sk-estimator-id-50\" type=\"checkbox\" ><label for=\"sk-estimator-id-50\" class=\"sk-toggleable__label sk-toggleable__label-arrow\">SelectPercentile</label><div class=\"sk-toggleable__content\"><pre>SelectPercentile(percentile=95)</pre></div></div></div><div class=\"sk-item sk-dashed-wrapped\"><div class=\"sk-label-container\"><div class=\"sk-label sk-toggleable\"><input class=\"sk-toggleable__control sk-hidden--visually\" id=\"sk-estimator-id-51\" type=\"checkbox\" ><label for=\"sk-estimator-id-51\" class=\"sk-toggleable__label sk-toggleable__label-arrow\">classifier: VotingRegressor</label><div class=\"sk-toggleable__content\"><pre>VotingRegressor(estimators=[(&#x27;GB&#x27;,\n",
              "                             GradientBoostingRegressor(n_estimators=25,\n",
              "                                                       random_state=0)),\n",
              "                            (&#x27;RF&#x27;,\n",
              "                             RandomForestRegressor(n_estimators=250,\n",
              "                                                   random_state=0)),\n",
              "                            (&#x27;KN&#x27;,\n",
              "                             KNeighborsRegressor(metric=&#x27;euclidean&#x27;,\n",
              "                                                 weights=&#x27;distance&#x27;)),\n",
              "                            (&#x27;MLP&#x27;,\n",
              "                             MLPRegressor(hidden_layer_sizes=(200, 100),\n",
              "                                          learning_rate=&#x27;invscaling&#x27;,\n",
              "                                          max_iter=500, random_state=0))])</pre></div></div></div><div class=\"sk-parallel\"><div class=\"sk-parallel-item\"><div class=\"sk-item\"><div class=\"sk-label-container\"><div class=\"sk-label sk-toggleable\"><label>GB</label></div></div><div class=\"sk-serial\"><div class=\"sk-item\"><div class=\"sk-estimator sk-toggleable\"><input class=\"sk-toggleable__control sk-hidden--visually\" id=\"sk-estimator-id-52\" type=\"checkbox\" ><label for=\"sk-estimator-id-52\" class=\"sk-toggleable__label sk-toggleable__label-arrow\">GradientBoostingRegressor</label><div class=\"sk-toggleable__content\"><pre>GradientBoostingRegressor(n_estimators=25, random_state=0)</pre></div></div></div></div></div></div><div class=\"sk-parallel-item\"><div class=\"sk-item\"><div class=\"sk-label-container\"><div class=\"sk-label sk-toggleable\"><label>RF</label></div></div><div class=\"sk-serial\"><div class=\"sk-item\"><div class=\"sk-estimator sk-toggleable\"><input class=\"sk-toggleable__control sk-hidden--visually\" id=\"sk-estimator-id-53\" type=\"checkbox\" ><label for=\"sk-estimator-id-53\" class=\"sk-toggleable__label sk-toggleable__label-arrow\">RandomForestRegressor</label><div class=\"sk-toggleable__content\"><pre>RandomForestRegressor(n_estimators=250, random_state=0)</pre></div></div></div></div></div></div><div class=\"sk-parallel-item\"><div class=\"sk-item\"><div class=\"sk-label-container\"><div class=\"sk-label sk-toggleable\"><label>KN</label></div></div><div class=\"sk-serial\"><div class=\"sk-item\"><div class=\"sk-estimator sk-toggleable\"><input class=\"sk-toggleable__control sk-hidden--visually\" id=\"sk-estimator-id-54\" type=\"checkbox\" ><label for=\"sk-estimator-id-54\" class=\"sk-toggleable__label sk-toggleable__label-arrow\">KNeighborsRegressor</label><div class=\"sk-toggleable__content\"><pre>KNeighborsRegressor(metric=&#x27;euclidean&#x27;, weights=&#x27;distance&#x27;)</pre></div></div></div></div></div></div><div class=\"sk-parallel-item\"><div class=\"sk-item\"><div class=\"sk-label-container\"><div class=\"sk-label sk-toggleable\"><label>MLP</label></div></div><div class=\"sk-serial\"><div class=\"sk-item\"><div class=\"sk-estimator sk-toggleable\"><input class=\"sk-toggleable__control sk-hidden--visually\" id=\"sk-estimator-id-55\" type=\"checkbox\" ><label for=\"sk-estimator-id-55\" class=\"sk-toggleable__label sk-toggleable__label-arrow\">MLPRegressor</label><div class=\"sk-toggleable__content\"><pre>MLPRegressor(hidden_layer_sizes=(200, 100), learning_rate=&#x27;invscaling&#x27;,\n",
              "             max_iter=500, random_state=0)</pre></div></div></div></div></div></div></div></div></div></div></div></div>"
            ],
            "text/plain": [
              "Pipeline(steps=[('procesamiento',\n",
              "                 ColumnTransformer(transformers=[('BoC-plat',\n",
              "                                                  CountVectorizer(min_df=0.05,\n",
              "                                                                  tokenizer=<__main__.CategoriesTokenizer object at 0x7f40ac399c90>),\n",
              "                                                  'platforms'),\n",
              "                                                 ('BoC-cat',\n",
              "                                                  CountVectorizer(min_df=0.05,\n",
              "                                                                  tokenizer=<__main__.CategoriesTokenizer object at 0x7f40ac399c90>),\n",
              "                                                  'categories'),\n",
              "                                                 ('BoC-genres',\n",
              "                                                  CountVectorizer(min_df=0.05,\n",
              "                                                                  tokenizer...\n",
              "                ('selector', SelectPercentile(percentile=95)),\n",
              "                ('classifier',\n",
              "                 VotingRegressor(estimators=[('GB',\n",
              "                                              GradientBoostingRegressor(n_estimators=25,\n",
              "                                                                        random_state=0)),\n",
              "                                             ('RF',\n",
              "                                              RandomForestRegressor(n_estimators=250,\n",
              "                                                                    random_state=0)),\n",
              "                                             ('KN',\n",
              "                                              KNeighborsRegressor(metric='euclidean',\n",
              "                                                                  weights='distance')),\n",
              "                                             ('MLP',\n",
              "                                              MLPRegressor(hidden_layer_sizes=(200,\n",
              "                                                                               100),\n",
              "                                                           learning_rate='invscaling',\n",
              "                                                           max_iter=500,\n",
              "                                                           random_state=0))]))])"
            ]
          },
          "metadata": {},
          "output_type": "display_data"
        }
      ],
      "source": [
        "pipe_reg = make_pipeline(reg,preprocessing)\n",
        "pipe_reg.fit(df_train, df_train['estimated_sells'])"
      ]
    },
    {
      "attachments": {},
      "cell_type": "markdown",
      "id": "f3c831e6",
      "metadata": {},
      "source": [
        "### Generando archivo de submission"
      ]
    },
    {
      "cell_type": "code",
      "execution_count": null,
      "id": "90b8bd29",
      "metadata": {},
      "outputs": [],
      "source": [
        "from zipfile import ZipFile\n",
        "import os\n",
        "\n",
        "def generateFiles(predict_data, clf_pipe, rgr_pipe):\n",
        "    \"\"\"Genera los archivos a subir en CodaLab\n",
        "\n",
        "    Input\n",
        "    predict_data: Dataframe con los datos de entrada a predecir\n",
        "    clf_pipe: pipeline del clf\n",
        "    rgr_pipe: pipeline del rgr\n",
        "\n",
        "    Ouput\n",
        "    archivo de txt\n",
        "    \"\"\"\n",
        "    y_pred_clf = clf_pipe.predict(predict_data)\n",
        "    y_pred_rgr = rgr_pipe.predict(predict_data)\n",
        "    \n",
        "    with open('./predictions_clf.txt', 'w') as f:\n",
        "        for item in y_pred_clf:\n",
        "            f.write(\"%s\\n\" % item)\n",
        "\n",
        "    with open('./predictions_rgr.txt', 'w') as f:\n",
        "        for item in y_pred_rgr:\n",
        "            f.write(\"%s\\n\" % item)\n",
        "\n",
        "    with ZipFile('predictions.zip', 'w') as zipObj2:\n",
        "       zipObj2.write('predictions_rgr.txt')\n",
        "       zipObj2.write('predictions_clf.txt')\n",
        "\n",
        "    os.remove(\"predictions_rgr.txt\")\n",
        "    os.remove(\"predictions_clf.txt\")"
      ]
    },
    {
      "cell_type": "code",
      "execution_count": null,
      "id": "f3cc746b",
      "metadata": {},
      "outputs": [],
      "source": [
        "df_test = pd.read_pickle('test.pickle')\n",
        "df_test = integrar_bert_logits(df_test)\n",
        "df_test = custom_features(df_test)"
      ]
    },
    {
      "cell_type": "code",
      "execution_count": null,
      "id": "7447e918",
      "metadata": {},
      "outputs": [],
      "source": [
        "generateFiles(df_test,pipe_clf,pipe_reg)"
      ]
    },
    {
      "cell_type": "code",
      "execution_count": null,
      "id": "K4D2HdXG3pv3",
      "metadata": {
        "cell_id": "00025-d30e5333-0300-426c-b88e-b580e2223ec1",
        "deepnote_cell_type": "code",
        "id": "K4D2HdXG3pv3",
        "tags": []
      },
      "outputs": [],
      "source": [
        "# grilla_parametros = [{'seleccion': SelectPercentile , 'percentile': [25, 50, 75], 'clf': clf_1}, \n",
        "#                      {'clf': clf_2, 'steps'; n},\n",
        "#                      {...}, \n",
        "#                     ]\n",
        "# gs_2 = HalvingGridSearchCV(pipeline_clf, grilla_parametros, metric='la_metrica_que_optimiza_el_problema')"
      ]
    },
    {
      "cell_type": "markdown",
      "id": "Avx47waQ3pv3",
      "metadata": {
        "cell_id": "00026-033fd9c9-519f-4f04-9a92-18c61e7ad868",
        "deepnote_cell_type": "markdown",
        "id": "Avx47waQ3pv3"
      },
      "source": [
        "Pudimos ver que mejor modelo mejora/no mejora los resultados obtenidos en el baseline."
      ]
    },
    {
      "cell_type": "code",
      "execution_count": null,
      "id": "0a71-8i63pv3",
      "metadata": {
        "cell_id": "00027-cc2df460-abd0-4a1e-a3a3-60b37dee8cd0",
        "deepnote_cell_type": "code",
        "id": "0a71-8i63pv3"
      },
      "outputs": [],
      "source": [
        "# gs_2.best_..."
      ]
    },
    {
      "cell_type": "markdown",
      "id": "8LxwsT2f3pv3",
      "metadata": {
        "cell_id": "00028-0df286d4-2014-4748-afd7-a47f04952db1",
        "deepnote_cell_type": "markdown",
        "id": "8LxwsT2f3pv3"
      },
      "source": [
        "---\n",
        "\n",
        "## 6. Conclusiones"
      ]
    },
    {
      "attachments": {},
      "cell_type": "markdown",
      "id": "008fb9fc",
      "metadata": {},
      "source": [
        "Por un lado se remarca las dificultades encontradas con la métrica R2 en la tarea de regresión. No se podía confiar en los modelos pues mostraban una variación demasiado fuerte al evaluar en conjuntos distintos. Pese a esto, se pudo esquivar tal dificultad al usar un método que promedia varios modelos, el cual mostraba una varianza razonable al ejecutar una validación cruzada \n",
        "\n",
        "Para la clasificación, se destaca el uso de un clasificador de voto también, pero remarcando el alto poder expresivo de la red neuronal, que mostró mejores métricas de manera consistente. Además, creemos que el uso de BERT fue clave para lograr buenos resultados, donde solo un grupo consiguió superar su métrica f1. Pese a esto, nuestro grupo consiguió el mejor resultado de la competencia usando AutoML.\n",
        "\n",
        "Las conclusiones son particularmente buenas para esta tarea, donde dos de nuestros modelos estuvieron peleando por ser el de mejor resultado. El formato de competencia fue interesante puesto que el evaluar en un conjunto donde no se tienen las etiquetas reales revela verdaderamente la performance del modelo sin sobreajuste posible, además de proveer un marco de competitividad entretenida entre equipos."
      ]
    }
  ],
  "metadata": {
    "colab": {
      "provenance": []
    },
    "deepnote": {},
    "deepnote_execution_queue": [],
    "deepnote_notebook_id": "cd4ffb8b-90a0-4648-9d80-2b8c0eef5325",
    "kernelspec": {
      "display_name": "mds7202",
      "language": "python",
      "name": "mds7202"
    },
    "language_info": {
      "codemirror_mode": {
        "name": "ipython",
        "version": 3
      },
      "file_extension": ".py",
      "mimetype": "text/x-python",
      "name": "python",
      "nbconvert_exporter": "python",
      "pygments_lexer": "ipython3",
      "version": "3.10.8 (main, Nov 24 2022, 14:13:03) [GCC 11.2.0]"
    }
  },
  "nbformat": 4,
  "nbformat_minor": 5
}
