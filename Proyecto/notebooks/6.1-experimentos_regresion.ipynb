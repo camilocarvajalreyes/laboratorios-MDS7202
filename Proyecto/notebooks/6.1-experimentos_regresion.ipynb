{
 "cells": [
  {
   "attachments": {},
   "cell_type": "markdown",
   "id": "5L8iIkYD3pv3",
   "metadata": {
    "cell_id": "00024-97baa921-e984-460f-8c3f-2653d51eaba6",
    "deepnote_cell_type": "markdown",
    "id": "5L8iIkYD3pv3"
   },
   "source": [
    "---\n",
    "\n",
    "## 8.2 Experimentación"
   ]
  },
  {
   "attachments": {},
   "cell_type": "markdown",
   "metadata": {},
   "source": [
    "### Experimentos para regresión"
   ]
  },
  {
   "cell_type": "code",
   "execution_count": 1,
   "metadata": {},
   "outputs": [],
   "source": [
    "from sklearn.model_selection import train_test_split, cross_val_score\n",
    "import pandas as pd\n",
    "\n",
    "import sys\n",
    "import os\n",
    "import re\n",
    "project_path = os.path.abspath('..')\n",
    "sys.path.insert(1, project_path)\n",
    "\n",
    "from src.features.preprocessing import custom_features"
   ]
  },
  {
   "attachments": {},
   "cell_type": "markdown",
   "metadata": {},
   "source": [
    "### Borrador de GridSearch (regresión)\n",
    "\n",
    "**Candidatos**:\n",
    "- RandomForest\n",
    "- GradientBoosting\n",
    "- KNeighbors\n",
    "- MLPClassifier"
   ]
  },
  {
   "cell_type": "code",
   "execution_count": 3,
   "metadata": {},
   "outputs": [],
   "source": [
    "from sklearn.neighbors import KNeighborsRegressor\n",
    "from sklearn.ensemble import GradientBoostingRegressor, RandomForestRegressor\n",
    "from sklearn.neural_network import MLPRegressor\n",
    "from sklearn.ensemble import VotingRegressor"
   ]
  },
  {
   "cell_type": "code",
   "execution_count": 4,
   "metadata": {},
   "outputs": [],
   "source": [
    "from preprocessing import Nothing, CategoriesTokenizer\n",
    "from sklearn.feature_extraction.text import CountVectorizer\n",
    "from sklearn.compose import ColumnTransformer\n",
    "from sklearn.preprocessing import MinMaxScaler, PowerTransformer, OneHotEncoder\n",
    "from sklearn.feature_selection import SelectPercentile, f_classif\n",
    "from sklearn.pipeline import Pipeline\n",
    "\n",
    "\n",
    "boc_some_values = CountVectorizer(\n",
    "    tokenizer = CategoriesTokenizer(),\n",
    "    max_df = 1.0,\n",
    "    min_df = 0.05\n",
    "    )\n",
    "\n",
    "\n",
    "boc_many_values = CountVectorizer(\n",
    "    tokenizer = CategoriesTokenizer(),\n",
    "    max_df = 1.0,\n",
    "    min_df = 2\n",
    "    )\n",
    "\n",
    "\n",
    "preprocessing_reg = ColumnTransformer(\n",
    "    transformers=[\n",
    "        ('BoC-plat',boc_some_values,'platforms'),\n",
    "        ('BoC-cat',boc_some_values,'categories'),\n",
    "        ('BoC-genres',boc_some_values,'genres'),\n",
    "        ('BoC-tags',boc_some_values,'tags'),\n",
    "\n",
    "        ('BoC-dev',boc_many_values,'developer'),\n",
    "        ('BoC-pub',boc_many_values,'publisher'),\n",
    "\n",
    "        ('OneHotEncoder',OneHotEncoder(handle_unknown='ignore'),['month']),\n",
    "        ('MinMaxScaler',MinMaxScaler(),['required_age','price','release_date']),\n",
    "        ('BoxCox',PowerTransformer(method='yeo-johnson'),['achievements','average_playtime','revenue']),\n",
    "        ('unchanged',Nothing(),['english'])\n",
    "])\n",
    "\n",
    "def make_pipeline(metodo):\n",
    "    pipeline = Pipeline(steps = [\n",
    "        ('procesamiento',preprocessing_reg),\n",
    "        (\"selector\", SelectPercentile(f_classif, percentile=95)),\n",
    "        (\"regressor\",metodo),\n",
    "    ])\n",
    "    return pipeline"
   ]
  },
  {
   "cell_type": "code",
   "execution_count": 5,
   "metadata": {},
   "outputs": [],
   "source": [
    "df_train = pd.read_pickle('train.pickle')\n",
    "df_train = custom_features(df_train)\n",
    "X_train, X_eval, y_train, y_eval = train_test_split(df_train, df_train['estimated_sells'], test_size=0.3, random_state=0)"
   ]
  },
  {
   "cell_type": "code",
   "execution_count": 6,
   "metadata": {},
   "outputs": [
    {
     "data": {
      "text/html": [
       "<div>\n",
       "<style scoped>\n",
       "    .dataframe tbody tr th:only-of-type {\n",
       "        vertical-align: middle;\n",
       "    }\n",
       "\n",
       "    .dataframe tbody tr th {\n",
       "        vertical-align: top;\n",
       "    }\n",
       "\n",
       "    .dataframe thead th {\n",
       "        text-align: right;\n",
       "    }\n",
       "</style>\n",
       "<table border=\"1\" class=\"dataframe\">\n",
       "  <thead>\n",
       "    <tr style=\"text-align: right;\">\n",
       "      <th></th>\n",
       "      <th>name</th>\n",
       "      <th>release_date</th>\n",
       "      <th>english</th>\n",
       "      <th>developer</th>\n",
       "      <th>publisher</th>\n",
       "      <th>platforms</th>\n",
       "      <th>required_age</th>\n",
       "      <th>categories</th>\n",
       "      <th>genres</th>\n",
       "      <th>tags</th>\n",
       "      <th>achievements</th>\n",
       "      <th>average_playtime</th>\n",
       "      <th>price</th>\n",
       "      <th>short_description</th>\n",
       "      <th>estimated_sells</th>\n",
       "      <th>rating</th>\n",
       "      <th>month</th>\n",
       "      <th>revenue</th>\n",
       "    </tr>\n",
       "  </thead>\n",
       "  <tbody>\n",
       "    <tr>\n",
       "      <th>0</th>\n",
       "      <td>An Aspie Life</td>\n",
       "      <td>2458206.5</td>\n",
       "      <td>1</td>\n",
       "      <td>Bradley Hennessey;Joe Watson</td>\n",
       "      <td>EnderLost Studios</td>\n",
       "      <td>windows</td>\n",
       "      <td>0</td>\n",
       "      <td>Single-player;Steam Achievements</td>\n",
       "      <td>Adventure;Casual;Free to Play;Indie;Simulation</td>\n",
       "      <td>Free to Play;Adventure;Indie</td>\n",
       "      <td>23</td>\n",
       "      <td>0</td>\n",
       "      <td>0.00</td>\n",
       "      <td>One day your roommate Leaves for no reason. Yo...</td>\n",
       "      <td>3914</td>\n",
       "      <td>Mixed</td>\n",
       "      <td>3</td>\n",
       "      <td>0.0</td>\n",
       "    </tr>\n",
       "    <tr>\n",
       "      <th>1</th>\n",
       "      <td>GhostControl Inc.</td>\n",
       "      <td>2456814.5</td>\n",
       "      <td>1</td>\n",
       "      <td>bumblebee</td>\n",
       "      <td>Application Systems Heidelberg</td>\n",
       "      <td>windows;mac;linux</td>\n",
       "      <td>0</td>\n",
       "      <td>Single-player;Steam Achievements;Steam Trading...</td>\n",
       "      <td>Casual;Indie;Simulation;Strategy</td>\n",
       "      <td>Turn-Based;Indie;Simulation</td>\n",
       "      <td>53</td>\n",
       "      <td>65</td>\n",
       "      <td>10.99</td>\n",
       "      <td>Manage a team of ghosthunters and free London ...</td>\n",
       "      <td>10728</td>\n",
       "      <td>Mixed</td>\n",
       "      <td>6</td>\n",
       "      <td>0.0</td>\n",
       "    </tr>\n",
       "    <tr>\n",
       "      <th>2</th>\n",
       "      <td>Deponia</td>\n",
       "      <td>2456145.5</td>\n",
       "      <td>1</td>\n",
       "      <td>Daedalic Entertainment</td>\n",
       "      <td>Daedalic Entertainment</td>\n",
       "      <td>windows;mac;linux</td>\n",
       "      <td>0</td>\n",
       "      <td>Single-player;Steam Achievements;Steam Trading...</td>\n",
       "      <td>Adventure;Indie</td>\n",
       "      <td>Adventure;Point &amp; Click;Comedy</td>\n",
       "      <td>19</td>\n",
       "      <td>217</td>\n",
       "      <td>6.99</td>\n",
       "      <td>In Deponia, the world has degenerated into a v...</td>\n",
       "      <td>635792</td>\n",
       "      <td>Positive</td>\n",
       "      <td>8</td>\n",
       "      <td>0.0</td>\n",
       "    </tr>\n",
       "    <tr>\n",
       "      <th>3</th>\n",
       "      <td>Atlas Reactor</td>\n",
       "      <td>2457665.5</td>\n",
       "      <td>1</td>\n",
       "      <td>Trion Worlds</td>\n",
       "      <td>Trion Worlds</td>\n",
       "      <td>windows</td>\n",
       "      <td>0</td>\n",
       "      <td>Multi-player;Online Multi-Player;Steam Achieve...</td>\n",
       "      <td>Free to Play;Strategy</td>\n",
       "      <td>Free to Play;Multiplayer;Strategy</td>\n",
       "      <td>121</td>\n",
       "      <td>1240</td>\n",
       "      <td>0.00</td>\n",
       "      <td>SEASON 6 NOW LIVE! The battle for Atlas contin...</td>\n",
       "      <td>253864</td>\n",
       "      <td>Positive</td>\n",
       "      <td>10</td>\n",
       "      <td>0.0</td>\n",
       "    </tr>\n",
       "    <tr>\n",
       "      <th>4</th>\n",
       "      <td>CHUCHEL</td>\n",
       "      <td>2458184.5</td>\n",
       "      <td>1</td>\n",
       "      <td>Amanita Design</td>\n",
       "      <td>Amanita Design</td>\n",
       "      <td>windows;mac</td>\n",
       "      <td>0</td>\n",
       "      <td>Single-player;Steam Achievements;Steam Trading...</td>\n",
       "      <td>Adventure;Casual;Indie</td>\n",
       "      <td>Adventure;Indie;Casual</td>\n",
       "      <td>7</td>\n",
       "      <td>245</td>\n",
       "      <td>7.99</td>\n",
       "      <td>CHUCHEL is a comedy adventure game from the cr...</td>\n",
       "      <td>49818</td>\n",
       "      <td>Mostly Positive</td>\n",
       "      <td>3</td>\n",
       "      <td>0.0</td>\n",
       "    </tr>\n",
       "  </tbody>\n",
       "</table>\n",
       "</div>"
      ],
      "text/plain": [
       "                name  release_date  english                     developer  \\\n",
       "0      An Aspie Life     2458206.5        1  Bradley Hennessey;Joe Watson   \n",
       "1  GhostControl Inc.     2456814.5        1                     bumblebee   \n",
       "2            Deponia     2456145.5        1        Daedalic Entertainment   \n",
       "3      Atlas Reactor     2457665.5        1                  Trion Worlds   \n",
       "4            CHUCHEL     2458184.5        1                Amanita Design   \n",
       "\n",
       "                        publisher          platforms  required_age  \\\n",
       "0               EnderLost Studios            windows             0   \n",
       "1  Application Systems Heidelberg  windows;mac;linux             0   \n",
       "2          Daedalic Entertainment  windows;mac;linux             0   \n",
       "3                    Trion Worlds            windows             0   \n",
       "4                  Amanita Design        windows;mac             0   \n",
       "\n",
       "                                          categories  \\\n",
       "0                   Single-player;Steam Achievements   \n",
       "1  Single-player;Steam Achievements;Steam Trading...   \n",
       "2  Single-player;Steam Achievements;Steam Trading...   \n",
       "3  Multi-player;Online Multi-Player;Steam Achieve...   \n",
       "4  Single-player;Steam Achievements;Steam Trading...   \n",
       "\n",
       "                                           genres  \\\n",
       "0  Adventure;Casual;Free to Play;Indie;Simulation   \n",
       "1                Casual;Indie;Simulation;Strategy   \n",
       "2                                 Adventure;Indie   \n",
       "3                           Free to Play;Strategy   \n",
       "4                          Adventure;Casual;Indie   \n",
       "\n",
       "                                tags  achievements  average_playtime  price  \\\n",
       "0       Free to Play;Adventure;Indie            23                 0   0.00   \n",
       "1        Turn-Based;Indie;Simulation            53                65  10.99   \n",
       "2     Adventure;Point & Click;Comedy            19               217   6.99   \n",
       "3  Free to Play;Multiplayer;Strategy           121              1240   0.00   \n",
       "4             Adventure;Indie;Casual             7               245   7.99   \n",
       "\n",
       "                                   short_description  estimated_sells  \\\n",
       "0  One day your roommate Leaves for no reason. Yo...             3914   \n",
       "1  Manage a team of ghosthunters and free London ...            10728   \n",
       "2  In Deponia, the world has degenerated into a v...           635792   \n",
       "3  SEASON 6 NOW LIVE! The battle for Atlas contin...           253864   \n",
       "4  CHUCHEL is a comedy adventure game from the cr...            49818   \n",
       "\n",
       "            rating  month  revenue  \n",
       "0            Mixed      3      0.0  \n",
       "1            Mixed      6      0.0  \n",
       "2         Positive      8      0.0  \n",
       "3         Positive     10      0.0  \n",
       "4  Mostly Positive      3      0.0  "
      ]
     },
     "execution_count": 6,
     "metadata": {},
     "output_type": "execute_result"
    }
   ],
   "source": [
    "df_train.head()"
   ]
  },
  {
   "cell_type": "code",
   "execution_count": 8,
   "metadata": {},
   "outputs": [],
   "source": [
    "regresores_exp = [\n",
    "    GradientBoostingRegressor(n_estimators=25,random_state=0,learning_rate=0.1),  # 0.3\n",
    "    RandomForestRegressor(n_estimators=250, random_state=0),\n",
    "    KNeighborsRegressor(metric='euclidean', weights='distance'),\n",
    "    MLPRegressor(hidden_layer_sizes=(200, 100),learning_rate='invscaling',random_state=0),\n",
    "    VotingRegressor(estimators=[\n",
    "        ('GB', GradientBoostingRegressor(n_estimators=25,random_state=0,learning_rate=0.1)),\n",
    "        ('RF', RandomForestRegressor(n_estimators=250, random_state=0)),\n",
    "        ('KN', KNeighborsRegressor(metric='euclidean', weights='distance')),\n",
    "        ('MLP', MLPRegressor(hidden_layer_sizes=(200, 100),learning_rate='invscaling',random_state=0))\n",
    "    ])\n",
    "]"
   ]
  },
  {
   "cell_type": "code",
   "execution_count": 9,
   "metadata": {},
   "outputs": [
    {
     "name": "stdout",
     "output_type": "stream",
     "text": [
      "CV SCORE GradientBoostingRegressor: [ 0.08500979 -0.17471188  0.38804488  0.46433051  0.12070556]\n"
     ]
    },
    {
     "name": "stdout",
     "output_type": "stream",
     "text": [
      "CV SCORE RandomForestRegressor: [0.05073126 0.08331632 0.36686127 0.38865577 0.10049071]\n"
     ]
    },
    {
     "name": "stdout",
     "output_type": "stream",
     "text": [
      "CV SCORE KNeighborsRegressor: [0.00846303 0.18286252 0.05703902 0.15264569 0.02371788]\n"
     ]
    },
    {
     "name": "stdout",
     "output_type": "stream",
     "text": [
      "CV SCORE MLPRegressor: [0.12072098 0.20337998 0.1042858  0.18506948 0.14364934]\n"
     ]
    },
    {
     "name": "stdout",
     "output_type": "stream",
     "text": [
      "CV SCORE VotingRegressor: [0.12531289 0.20366276 0.28189932 0.3381583  0.28153551]\n"
     ]
    }
   ],
   "source": [
    "for reg in regresores_exp:\n",
    "    pipe = make_pipeline(reg)\n",
    "    score = cross_val_score(pipe,df_train, df_train['estimated_sells'],scoring='r2')\n",
    "    print(\"CV SCORE {}: {}\".format(type(reg).__name__,score))"
   ]
  },
  {
   "attachments": {},
   "cell_type": "markdown",
   "metadata": {},
   "source": [
    "Resumen aplicación de CV a modelos candidatos de regresión:\n",
    "- CV SCORE GradientBoostingRegressor: [ 0.08500979 -0.17471188  0.38804488  0.46433051  0.12070556]\n",
    "- CV SCORE RandomForestRegressor: [0.05073126 0.08331632 0.36686127 0.38865577 0.10049071]\n",
    "- CV SCORE KNeighborsRegressor: [0.00846303 0.18286252 0.05703902 0.15264569 0.02371788]\n",
    "- CV SCORE MLPRegressor: [0.12072098 0.20337998 0.1042858  0.18506948 0.14364934]\n",
    "- CV SCORE VotingRegressor: [0.12531289 0.20366276 0.28189932 0.3381583  0.28153551]"
   ]
  },
  {
   "attachments": {},
   "cell_type": "markdown",
   "metadata": {},
   "source": [
    "| Modelo | Fold 1 | Fold 2 | Fold 3 | Fold 4 | Fold 5 | **Promedio** |\n",
    "|:---:|:---:|:---:|:---:|:---:|:---:|:---:|\n",
    "| **GradientBoosting** | 0.08500979  | -0.17471188 | 0.38804488 | 0.46433051 | 0.12070556 | **0.1766** |\n",
    "| **RandomForest** | 0.05073126 | 0.08331632 | 0.36686127 | 0.38865577 | 0.10049071 | **0.2945** |\n",
    "| **KNeighborsRegressor** | 0.00846303 | 0.18286252 | 0.05703902 | 0.15264569 | 0.02371788 | **0.0849** |\n",
    "| **MLP** | 0.12072098 | 0.20337998 | 0.1042858 | 0.18506948 | 0.14364934 | **0.1513** |\n",
    "| **VotingRegressor** | 0.12531289 | 0.20366276 | 0.28189932 | 0.3381583 | 0.28153551 | **0.2460** |"
   ]
  },
  {
   "cell_type": "markdown",
   "metadata": {},
   "source": [
    "Como se había ya detectado en la búsqueda de grilla, los modelos (para la métrica R2) muestran una exagerada varianza de resultados. Como ejemplo emblemático, el método Random Forest mostró un alto valor promedio de R2. Sin embargo esto provenía de algunos folds donde los resultados eran bueno, mientras que en otros el valor era casi 0. Al evaluar este método en codalab los resultados obtenidos fueron de 0, lo cual demuestra la nula confianza que podemos tener en un modelo que varía mucho de fold a fold.\n",
    "\n",
    "Felizmente, un estimador que mostró ser consistentes de fold a fold fue el voto de varios modelos. Su promedio fue menor que para Random Forest, pero se mantenía estable en valores razonables de R2 sin importar la partición. Nos quedamos entonces con este modelo como regresor final, lo cual resultó bien y que en codalab se obtuvo un valor 0.32 de R2, mejorando el baseline de la competencia."
   ]
  }
 ],
 "metadata": {
  "kernelspec": {
   "display_name": "Python 3",
   "language": "python",
   "name": "python3"
  },
  "language_info": {
   "codemirror_mode": {
    "name": "ipython",
    "version": 3
   },
   "file_extension": ".py",
   "mimetype": "text/x-python",
   "name": "python",
   "nbconvert_exporter": "python",
   "pygments_lexer": "ipython3",
   "version": "3.8.10 (default, Mar 15 2022, 12:22:08) \n[GCC 9.4.0]"
  },
  "orig_nbformat": 4,
  "vscode": {
   "interpreter": {
    "hash": "916dbcbb3f70747c44a77c7bcd40155683ae19c65e1c03b4aa3499c5328201f1"
   }
  }
 },
 "nbformat": 4,
 "nbformat_minor": 2
}
