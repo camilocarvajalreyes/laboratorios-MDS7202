{
  "cells": [
    {
      "attachments": {},
      "cell_type": "markdown",
      "id": "63G38UBn3pv2",
      "metadata": {
        "cell_id": "00010-41569a5a-d2db-40c6-a236-99a8d5ef58b7",
        "deepnote_cell_type": "markdown",
        "id": "63G38UBn3pv2"
      },
      "source": [
        "---\n",
        "\n",
        "## 3. Preparación de Datos\n",
        "\n",
        "Para el procesamiento de los datos se seguirá en el orden que se mostrará a continuación, añadiendo features y aplicando transformadores a atributos determinados"
      ]
    },
    {
      "attachments": {},
      "cell_type": "markdown",
      "id": "1360ec78",
      "metadata": {},
      "source": [
        "### Columnas"
      ]
    },
    {
      "cell_type": "code",
      "execution_count": null,
      "id": "245bd835",
      "metadata": {},
      "outputs": [],
      "source": [
        "import re\n",
        "import pandas as pd\n",
        "from sklearn.preprocessing import MinMaxScaler"
      ]
    },
    {
      "attachments": {},
      "cell_type": "markdown",
      "id": "a333041b",
      "metadata": {},
      "source": [
        "**Columnas con categorías**"
      ]
    },
    {
      "cell_type": "code",
      "execution_count": null,
      "id": "af98dd63",
      "metadata": {},
      "outputs": [],
      "source": [
        "from sklearn.feature_extraction.text import CountVectorizer\n",
        "\n",
        "class CategoriesTokenizer:\n",
        "    def __init__(self):\n",
        "        pass\n",
        "\n",
        "    def __call__(self, doc):\n",
        "        return doc.split(';')"
      ]
    },
    {
      "attachments": {},
      "cell_type": "markdown",
      "id": "9940ad71",
      "metadata": {},
      "source": [
        "Esta versión de vectorizador es para columnas con pocas categorías posibles (<1k):\n",
        "- platforms (3 valores posibles)\n",
        "- categories (29 valores posibles)\n",
        "- genres (26 valores posibles)\n",
        "- tags (306 valores posibles)"
      ]
    },
    {
      "cell_type": "code",
      "execution_count": null,
      "id": "22367fed",
      "metadata": {},
      "outputs": [],
      "source": [
        "boc_some_values = CountVectorizer(\n",
        "    tokenizer = CategoriesTokenizer(),\n",
        "    max_df = 1.0,\n",
        "    min_df = 0.05  # hiperparametro a optimizar\n",
        "    )"
      ]
    },
    {
      "attachments": {},
      "cell_type": "markdown",
      "id": "7823b1c4",
      "metadata": {},
      "source": [
        "Esta otra versión es para developers y publishers (5617 y 3961 valores posibles respectivamente)"
      ]
    },
    {
      "cell_type": "code",
      "execution_count": null,
      "id": "93497178",
      "metadata": {},
      "outputs": [],
      "source": [
        "boc_many_values = CountVectorizer(\n",
        "    tokenizer = CategoriesTokenizer(),\n",
        "    max_df = 1.0,\n",
        "    min_df = 1  # hiperparametro a optimizar\n",
        "    # valores para GridSearch : [5, 10, 15] ???\n",
        "    )"
      ]
    },
    {
      "attachments": {},
      "cell_type": "markdown",
      "id": "d8269332",
      "metadata": {},
      "source": [
        "Variable de fecha de publicación y revenue"
      ]
    },
    {
      "cell_type": "code",
      "execution_count": null,
      "id": "19f8a2b4",
      "metadata": {},
      "outputs": [],
      "source": [
        "import re\n",
        "\n",
        "def custom_features(dataframe_in):\n",
        "    df = dataframe_in.copy(deep=True)\n",
        "\n",
        "    df['month'] = pd.to_datetime(df['release_date']).dt.month\n",
        "    df['release_date'] = pd.to_datetime(df['release_date']).apply(lambda x: x.to_julian_date())\n",
        "    df['revenue'] = 0\n",
        "\n",
        "    top_pub_revenues = {'microsoft':10.260, 'netease':6.668, 'activision':6.388, 'electronic':5.537, 'bandai':3.018, 'square':2.386, 'nexon':2.286,\n",
        "                        'ubisoft':1.446, 'konami':1.303, 'SEGA':1.153, 'capcom':0.7673, 'warner':0.7324}\n",
        "\n",
        "    for rev_tuples in top_pub_revenues.items():\n",
        "        pub, rev = rev_tuples\n",
        "        if pub == 'SEGA':\n",
        "            df.loc[df.publisher.str.match(f'.*{pub}.*').values, 'revenue'] = rev\n",
        "        else:\n",
        "            df.loc[df.publisher.str.match(f'.*{pub}.*', flags=re.IGNORECASE).values, 'revenue'] = rev    \n",
        "    return df"
      ]
    },
    {
      "attachments": {},
      "cell_type": "markdown",
      "id": "0898e96d",
      "metadata": {},
      "source": [
        "**Juntando todo**"
      ]
    },
    {
      "cell_type": "code",
      "execution_count": null,
      "id": "34b2cf20",
      "metadata": {},
      "outputs": [],
      "source": [
        "from sklearn.compose import ColumnTransformer\n",
        "from sklearn.preprocessing import MinMaxScaler, PowerTransformer, OneHotEncoder\n",
        "\n",
        "\n",
        "preprocessing = ColumnTransformer(\n",
        "    transformers=[\n",
        "        ('BoC-plat',boc_some_values,'platforms'),\n",
        "        ('BoC-cat',boc_some_values,'categories'),\n",
        "        ('BoC-genres',boc_some_values,'genres'),\n",
        "        ('BoC-tags',boc_some_values,'tags'),\n",
        "\n",
        "        ('BoC-dev',boc_many_values,'developer'),\n",
        "        ('BoC-pub',boc_many_values,'publisher'),\n",
        "\n",
        "        ('OneHotEncoder',OneHotEncoder(handle_unknown='ignore'),['month']),\n",
        "        # ('StandardScaler',StandardScaler(), ['...']),\n",
        "        ('MinMaxScaler',MinMaxScaler(),['required_age','price','release_date']),\n",
        "        ('BoxCox',PowerTransformer(method='yeo-johnson'),['achievements','average_playtime']),\n",
        "        # ('unchanged',None,['english'])  # chequear como no hacer nada\n",
        "])"
      ]
    },
    {
      "attachments": {},
      "cell_type": "markdown",
      "id": "d193df62",
      "metadata": {},
      "source": [
        "### Resumen de transformaciones"
      ]
    },
    {
      "cell_type": "markdown",
      "id": "58acf7ab",
      "metadata": {},
      "source": [
        "|                   | **Procesamiento** |\n",
        "|:-----------------:|:-----------------:|\n",
        "|      **name**     |        ---        |\n",
        "|    release_date   |    MinMaxScaler   |\n",
        "|      english      |        ---        |\n",
        "|     developer     |        BoW        |\n",
        "|     publisher     |        BoW        |\n",
        "|     platforms     |        BoW        |\n",
        "|    required_age   |    MinMaxScaler   |\n",
        "|     categories    |        BoW        |\n",
        "|       genres      |        BoW        |\n",
        "|        tags       |        BoW        |\n",
        "|    achievements   |  PowerTransformer |\n",
        "|  average_playtime |  PowerTransformer |\n",
        "|       price       |    MinMaxScaler   |\n",
        "| short_description |     Embeddings    |\n",
        "|       month       |   OneHotEncoder   |\n",
        "|      revenue      |  PowerTransformer |"
      ]
    }
  ],
  "metadata": {
    "colab": {
      "provenance": []
    },
    "deepnote": {},
    "deepnote_execution_queue": [],
    "deepnote_notebook_id": "cd4ffb8b-90a0-4648-9d80-2b8c0eef5325",
    "kernelspec": {
      "display_name": "mds7202",
      "language": "python",
      "name": "mds7202"
    },
    "language_info": {
      "codemirror_mode": {
        "name": "ipython",
        "version": 3
      },
      "file_extension": ".py",
      "mimetype": "text/x-python",
      "name": "python",
      "nbconvert_exporter": "python",
      "pygments_lexer": "ipython3",
      "version": "3.10.8 (main, Nov 24 2022, 14:13:03) [GCC 11.2.0]"
    }
  },
  "nbformat": 4,
  "nbformat_minor": 5
}
