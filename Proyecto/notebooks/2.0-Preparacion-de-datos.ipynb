{
  "cells": [
    {
      "cell_type": "markdown",
      "id": "yNkIyWMw3pvz",
      "metadata": {
        "cell_id": "00000-f53914fc-294a-4bd9-ab99-c7f9f7e072d9",
        "deepnote_cell_type": "markdown",
        "id": "yNkIyWMw3pvz"
      },
      "source": [
        "# Proyecto: El Desafío de Don Rene\n",
        "\n",
        "**MDS7202: Laboratorio de Programación Científica para Ciencia de Datos**\n",
        "\n",
        "### Cuerpo Docente:\n",
        "\n",
        "- Profesores: Matías Rojas - Mauricio Araneda\n",
        "- Auxiliar: Ignacio Meza D.\n",
        "- Ayudante: Rodrigo Guerra\n",
        "\n",
        "*Por favor, lean detalladamente las instrucciones de la tarea antes de empezar a escribir.*\n"
      ]
    },
    {
      "cell_type": "markdown",
      "id": "AHy5rhgf3pv0",
      "metadata": {
        "cell_id": "00001-7e639802-19f7-4bbe-9a97-e312f613a693",
        "deepnote_cell_type": "markdown",
        "id": "AHy5rhgf3pv0"
      },
      "source": [
        "----\n",
        "\n",
        "## Reglas\n",
        "\n",
        "- Fecha de entrega: 13/12/2022 (Sin atrasos)\n",
        "- **Grupos de 2 personas.**\n",
        "- Cualquier duda fuera del horario de clases al foro. Mensajes al equipo docente serán respondidos por este medio.\n",
        "- Estrictamente prohibida la copia. \n",
        "- Pueden usar cualquier material del curso que estimen conveniente.\n"
      ]
    },
    {
      "cell_type": "markdown",
      "id": "f8v2to7-3pv1",
      "metadata": {
        "cell_id": "00005-7921fb53-59e9-49a1-a5a5-dec92da88299",
        "deepnote_cell_type": "markdown",
        "id": "f8v2to7-3pv1"
      },
      "source": [
        "\n",
        "\n",
        "# Proyecto\n",
        "\n",
        "### Equipo:\n",
        "\n",
        "- Camilo Carvajal Reyes\n",
        "- Andrés González Fuentes\n",
        "\n",
        "- \\<Nombre de usuarios en Codalab\\>\n",
        "\n",
        "- \\<Nombre del Equipo en Codalab\\>\n",
        "\n",
        "### Link de repositorio de GitHub: `https://github.com/camilocarvajalreyes/laboratorios-MDS7202`\n",
        "\n"
      ]
    },
    {
      "cell_type": "markdown",
      "id": "63G38UBn3pv2",
      "metadata": {
        "cell_id": "00010-41569a5a-d2db-40c6-a236-99a8d5ef58b7",
        "deepnote_cell_type": "markdown",
        "id": "63G38UBn3pv2"
      },
      "source": [
        "---\n",
        "\n",
        "## 3. Preparación de Datos\n",
        "\n",
        "Para preparar nuestros datos, primero eliminamos duplicados y outliers...:"
      ]
    },
    {
      "cell_type": "code",
      "execution_count": null,
      "id": "245bd835",
      "metadata": {},
      "outputs": [],
      "source": [
        "import re\n",
        "import pandas as pd\n",
        "from sklearn.preprocessing import MinMaxScaler"
      ]
    },
    {
      "cell_type": "code",
      "execution_count": null,
      "id": "19f8a2b4",
      "metadata": {},
      "outputs": [],
      "source": [
        "def custom_features(dataframe_in):\n",
        "    df = dataframe_in.copy(deep=True)\n",
        "\n",
        "    df['month'] = pd.to_datetime(df['release_date']).dt.month\n",
        "    df['release_date'] = pd.to_datetime(df['release_date']).apply(lambda x: x.to_julian_date())\n",
        "    df['revenue'] = 0\n",
        "\n",
        "    top_pub_revenues = {'microsoft':10.260, 'netease':6.668, 'activision':6.388, 'electronic':5.537, 'bandai':3.018, 'square':2.386, 'nexon':2.286,\n",
        "                        'ubisoft':1.446, 'konami':1.303, 'SEGA':1.153, 'capcom':0.7673, 'warner':0.7324}\n",
        "\n",
        "    for rev_tuples in top_pub_revenues.items():\n",
        "        pub, rev = rev_tuples\n",
        "        if pub == 'SEGA':\n",
        "            df.loc[df.publisher.str.match(f'.*{pub}.*').values, 'revenue'] = rev\n",
        "        else:\n",
        "            df.loc[df.publisher.str.match(f'.*{pub}.*', flags=re.IGNORECASE).values, 'revenue'] = rev    \n",
        "    return df"
      ]
    },
    {
      "cell_type": "code",
      "execution_count": null,
      "id": "s1ZqKyi63pv2",
      "metadata": {
        "cell_id": "00011-8322165d-3203-4545-a34a-d208a2feae37",
        "deepnote_cell_type": "code",
        "id": "s1ZqKyi63pv2"
      },
      "outputs": [],
      "source": [
        "## Código"
      ]
    },
    {
      "cell_type": "markdown",
      "id": "TaNxQRaV3pv2",
      "metadata": {
        "cell_id": "00012-ff9a5238-44ae-447c-8ece-5bfc25ff23e4",
        "deepnote_cell_type": "markdown",
        "id": "TaNxQRaV3pv2"
      },
      "source": [
        "Después, imputamos ciertos datos"
      ]
    },
    {
      "cell_type": "code",
      "execution_count": null,
      "id": "EVeBOrR93pv2",
      "metadata": {
        "cell_id": "00013-f4c754f3-01d3-459d-8bb2-7139d5f1e37b",
        "deepnote_cell_type": "code",
        "id": "EVeBOrR93pv2"
      },
      "outputs": [],
      "source": [
        "## Código"
      ]
    },
    {
      "cell_type": "markdown",
      "id": "UDCRo70K3pv3",
      "metadata": {
        "cell_id": "00014-ec736129-9a8d-4e61-9999-01a11a0a34dc",
        "deepnote_cell_type": "markdown",
        "id": "UDCRo70K3pv3"
      },
      "source": [
        "Luego, preparamos un `ColumnTransformer` que prepara los datos:"
      ]
    },
    {
      "cell_type": "code",
      "execution_count": null,
      "id": "1iUZr4in3pv3",
      "metadata": {
        "cell_id": "00015-b5333c35-cc78-440b-b0a3-e048cea0d85b",
        "deepnote_cell_type": "code",
        "id": "1iUZr4in3pv3"
      },
      "outputs": [],
      "source": [
        "## Código"
      ]
    },
    {
      "cell_type": "markdown",
      "id": "hD8bd9v83pv3",
      "metadata": {
        "cell_id": "00016-f03e9ce1-8fea-4826-831b-ae7e4d2448a0",
        "deepnote_cell_type": "markdown",
        "id": "hD8bd9v83pv3"
      },
      "source": [
        "..."
      ]
    },
    {
      "cell_type": "markdown",
      "id": "cAdXCpNn3pv3",
      "metadata": {
        "cell_id": "00017-3b51644a-c255-4a6a-84d8-91f2e0044198",
        "deepnote_cell_type": "markdown",
        "id": "cAdXCpNn3pv3"
      },
      "source": [
        "---\n",
        "\n",
        "## 4. Baseline"
      ]
    },
    {
      "cell_type": "markdown",
      "id": "2xk9ZyAk3pv3",
      "metadata": {
        "cell_id": "00018-1eac8423-b445-4d49-aaed-64eeb70be3ca",
        "deepnote_cell_type": "markdown",
        "id": "2xk9ZyAk3pv3"
      },
      "source": [
        "Adjuntamos las transformaciones anteriores en un solo `Pipeline` y agregamos al final un clasificador sencillo `ClasificadorX` \n"
      ]
    },
    {
      "cell_type": "code",
      "execution_count": null,
      "id": "Drso66MS3pv3",
      "metadata": {
        "cell_id": "00019-7a0c4dc2-7539-4f64-8753-fdf5c60f8cb8",
        "deepnote_cell_type": "code",
        "id": "Drso66MS3pv3"
      },
      "outputs": [],
      "source": [
        "## Código\n",
        "\n",
        "# pipeline_clf = [('etapa1', etapa1), ..., ('clf', Clasificador)]\n",
        "# pipeline_rg = [('etapa1', etapa1), ..., ('clf', Regresor)]\n",
        "\n",
        "# Evalauación\n",
        "# classfication_report(...)\n",
        "# ...."
      ]
    },
    {
      "cell_type": "markdown",
      "id": "5L8iIkYD3pv3",
      "metadata": {
        "cell_id": "00024-97baa921-e984-460f-8c3f-2653d51eaba6",
        "deepnote_cell_type": "markdown",
        "id": "5L8iIkYD3pv3"
      },
      "source": [
        "---\n",
        "\n",
        "## 5. Optimización del Modelo\n",
        "\n",
        "Ahora, agregamos selección y/o reducción de atributos y probaremos una combinación de diferentes parámetros para mejorar nuestro modelo:\n",
        "\n",
        "\n",
        "*Nota*: Procuren hacer Gridsearch sobre espacios de búsqueda razonables. Es decir, no estén 3 días buscando la mejor configuración..."
      ]
    },
    {
      "cell_type": "code",
      "execution_count": null,
      "id": "K4D2HdXG3pv3",
      "metadata": {
        "cell_id": "00025-d30e5333-0300-426c-b88e-b580e2223ec1",
        "deepnote_cell_type": "code",
        "id": "K4D2HdXG3pv3",
        "tags": []
      },
      "outputs": [],
      "source": [
        "# grilla_parametros = [{'seleccion': SelectPercentile , 'percentile': [25, 50, 75], 'clf': clf_1}, \n",
        "#                      {'clf': clf_2, 'steps'; n},\n",
        "#                      {...}, \n",
        "#                     ]\n",
        "# gs_2 = HalvingGridSearchCV(pipeline_clf, grilla_parametros, metric='la_metrica_que_optimiza_el_problema')"
      ]
    },
    {
      "cell_type": "markdown",
      "id": "Avx47waQ3pv3",
      "metadata": {
        "cell_id": "00026-033fd9c9-519f-4f04-9a92-18c61e7ad868",
        "deepnote_cell_type": "markdown",
        "id": "Avx47waQ3pv3"
      },
      "source": [
        "Pudimos ver que mejor modelo mejora/no mejora los resultados obtenidos en el baseline."
      ]
    },
    {
      "cell_type": "code",
      "execution_count": null,
      "id": "0a71-8i63pv3",
      "metadata": {
        "cell_id": "00027-cc2df460-abd0-4a1e-a3a3-60b37dee8cd0",
        "deepnote_cell_type": "code",
        "id": "0a71-8i63pv3"
      },
      "outputs": [],
      "source": [
        "# gs_2.best_..."
      ]
    },
    {
      "cell_type": "markdown",
      "id": "8LxwsT2f3pv3",
      "metadata": {
        "cell_id": "00028-0df286d4-2014-4748-afd7-a47f04952db1",
        "deepnote_cell_type": "markdown",
        "id": "8LxwsT2f3pv3"
      },
      "source": [
        "---\n",
        "\n",
        "## 6. Conclusiones"
      ]
    },
    {
      "cell_type": "markdown",
      "id": "HnXM1nT83pv3",
      "metadata": {
        "cell_id": "00029-3e9c2b3c-3f41-4117-a85c-075e76c9697a",
        "deepnote_cell_type": "markdown",
        "id": "HnXM1nT83pv3"
      },
      "source": [
        "Algunas respuestas que podrían plantearse pueden ser:\n",
        "\n",
        "- ¿Pudieron resolver exitosamente el problema?\n",
        "- ¿Son aceptables los resultados obtenidos?\n",
        "\n",
        "\n",
        "- ¿Como fue el rendimiento del baseline?\n",
        "- ¿Pudieron optimizar el baseline?\n",
        "- ¿Que tanto mejoro el baseline con respecto a sus optimizaciones?\n",
        "\n",
        "\n",
        "- ¿Estuvieron conformes con sus resultados?\n",
        "- ¿Creen que hayan mejores formas de modelar el problema?\n",
        "- ¿Creen que fue buena idea usar una competencia de por medio?\n",
        "- ¿En general, qué aprendieron en el pryecto?¿Qué no aprendieron y les gustaría haber aprendido?\n",
        "- Etc...\n",
        "\n",
        "**OJO** si usted decide responder parte de estas preguntas, debe redactarlas en un formato de informe y no responderlas directamente."
      ]
    },
    {
      "cell_type": "markdown",
      "id": "fT4HetBy3pv3",
      "metadata": {
        "cell_id": "00032-eccf6cec-1f5a-487c-94c0-f231fe261f8b",
        "deepnote_cell_type": "markdown",
        "id": "fT4HetBy3pv3",
        "tags": []
      },
      "source": [
        "---\n",
        "\n",
        "<br>\n",
        "\n",
        "### Anexo: Generación de Archivo Submit de la Competencia"
      ]
    },
    {
      "cell_type": "markdown",
      "id": "RzGwbHzr3pv3",
      "metadata": {
        "cell_id": "00032-86dd47d4-3847-4273-9ffd-596c9f8a130e",
        "deepnote_cell_type": "markdown",
        "id": "RzGwbHzr3pv3",
        "tags": []
      },
      "source": [
        "Para subir los resultados obtenidos a la pagina de CodaLab utilice la función `generateFiles` entregada mas abajo. Esto es debido a que usted deberá generar archivos que respeten extrictamente el formato de CodaLab, de lo contario los resultados no se veran reflejados en la pagina de la competencia.\n",
        "\n",
        "Para los resultados obtenidos en su modelo de clasificación y regresión, estos serán guardados en un archivo zip que contenga los archivos `predicctions_clf.txt` para la clasificación y `predicctions_rgr.clf` para la regresión. Los resultados, como se comento antes, deberan ser obtenidos en base al dataset `test.pickle` y en cada una de las lineas deberan presentar las predicciones realizadas.\n",
        "\n",
        "Ejemplos de archivos:\n",
        "\n",
        "- [ ] `predicctions_clf.txt`\n",
        "\n",
        "        Mostly Positive\n",
        "        Mostly Positive\n",
        "        Negative\n",
        "        Positive\n",
        "        Negative\n",
        "        Positive\n",
        "        ...\n",
        "\n",
        "- [ ] `predicctions_rgr.txt`\n",
        "\n",
        "        16103.58\n",
        "        16103.58\n",
        "        16041.89\n",
        "        9328.62\n",
        "        107976.03\n",
        "        194374.08\n",
        "        ...\n",
        "\n"
      ]
    },
    {
      "cell_type": "code",
      "execution_count": null,
      "id": "QknCpO5V3pv3",
      "metadata": {
        "cell_id": "00029-0111b615-ba72-461a-aa17-1fe6ceb0ebd0",
        "deepnote_cell_type": "code",
        "id": "QknCpO5V3pv3",
        "tags": []
      },
      "outputs": [],
      "source": [
        "from zipfile import ZipFile\n",
        "import os\n",
        "\n",
        "def generateFiles(predict_data, clf_pipe, rgr_pipe):\n",
        "    \"\"\"Genera los archivos a subir en CodaLab\n",
        "\n",
        "    Input\n",
        "    predict_data: Dataframe con los datos de entrada a predecir\n",
        "    clf_pipe: pipeline del clf\n",
        "    rgr_pipe: pipeline del rgr\n",
        "\n",
        "    Ouput\n",
        "    archivo de txt\n",
        "    \"\"\"\n",
        "    y_pred_clf = clf_pipe.predict(predict_data)\n",
        "    y_pred_rgr = rgr_pipe.predict(predict_data)\n",
        "    \n",
        "    with open('./predictions_clf.txt', 'w') as f:\n",
        "        for item in y_pred_clf:\n",
        "            f.write(\"%s\\n\" % item)\n",
        "\n",
        "    with open('./predictions_rgr.txt', 'w') as f:\n",
        "        for item in y_pred_rgr:\n",
        "            f.write(\"%s\\n\" % item)\n",
        "\n",
        "    with ZipFile('predictions.zip', 'w') as zipObj2:\n",
        "       zipObj2.write('predictions_rgr.txt')\n",
        "       zipObj2.write('predictions_clf.txt')\n",
        "\n",
        "    os.remove(\"predictions_rgr.txt\")\n",
        "    os.remove(\"predictions_clf.txt\")"
      ]
    }
  ],
  "metadata": {
    "colab": {
      "provenance": []
    },
    "deepnote": {},
    "deepnote_execution_queue": [],
    "deepnote_notebook_id": "cd4ffb8b-90a0-4648-9d80-2b8c0eef5325",
    "kernelspec": {
      "display_name": "mds7202",
      "language": "python",
      "name": "mds7202"
    },
    "language_info": {
      "codemirror_mode": {
        "name": "ipython",
        "version": 3
      },
      "file_extension": ".py",
      "mimetype": "text/x-python",
      "name": "python",
      "nbconvert_exporter": "python",
      "pygments_lexer": "ipython3",
      "version": "3.10.8 (main, Nov 24 2022, 14:13:03) [GCC 11.2.0]"
    }
  },
  "nbformat": 4,
  "nbformat_minor": 5
}
