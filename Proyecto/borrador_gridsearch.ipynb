{
 "cells": [
  {
   "attachments": {},
   "cell_type": "markdown",
   "metadata": {},
   "source": [
    "# Borrador de GridSearch (Clasificación)"
   ]
  },
  {
   "attachments": {},
   "cell_type": "markdown",
   "metadata": {},
   "source": [
    "## Pre-gridsearch: eligiendo que modelos usar\n",
    "\n",
    "**Candidatos**\n",
    "- Linear SVC (baseline)\n",
    "- SVC (no lineal)\n",
    "- MultinomialNB\n",
    "- KNeighbours\n",
    "- RandomForestClassifier\n",
    "- DecisionTreeClassifier\n",
    "- MLP (red-neuronal de sklearn)"
   ]
  },
  {
   "cell_type": "code",
   "execution_count": 1,
   "metadata": {},
   "outputs": [],
   "source": [
    "from preprocessing import train_and_evaluate, custom_features\n",
    "from sklearn.model_selection import train_test_split\n",
    "import pandas as pd"
   ]
  },
  {
   "cell_type": "code",
   "execution_count": 2,
   "metadata": {},
   "outputs": [],
   "source": [
    "df_train = pd.read_pickle('train.pickle')\n",
    "df_train = custom_features(df_train)\n",
    "X_train, X_eval, y_train, y_eval = train_test_split(df_train, df_train['rating'], test_size=0.3, random_state=0, stratify=df_train['rating'])"
   ]
  },
  {
   "cell_type": "code",
   "execution_count": 3,
   "metadata": {},
   "outputs": [
    {
     "name": "stdout",
     "output_type": "stream",
     "text": [
      "Resultados clasificación LinearSVC\n",
      "                 precision    recall  f1-score   support\n",
      "\n",
      "          Mixed       0.30      0.31      0.30       497\n",
      "Mostly Positive       0.26      0.23      0.24       512\n",
      "       Negative       0.42      0.33      0.37       387\n",
      "       Positive       0.33      0.44      0.38       610\n",
      "  Very Positive       0.41      0.30      0.35       359\n",
      "\n",
      "       accuracy                           0.33      2365\n",
      "      macro avg       0.34      0.32      0.33      2365\n",
      "   weighted avg       0.33      0.33      0.33      2365\n",
      "\n"
     ]
    }
   ],
   "source": [
    "from sklearn.svm import LinearSVC\n",
    "\n",
    "baseline = LinearSVC(random_state=0,max_iter=10000)\n",
    "train_and_evaluate(baseline,X_train,y_train,X_eval,y_eval)"
   ]
  },
  {
   "cell_type": "code",
   "execution_count": 4,
   "metadata": {},
   "outputs": [],
   "source": [
    "from sklearn.svm import SVC\n",
    "# from sklearn.naive_bayes import MultinomialNB\n",
    "from sklearn.neighbors import KNeighborsClassifier\n",
    "from sklearn.ensemble import RandomForestClassifier\n",
    "from sklearn.tree import DecisionTreeClassifier\n",
    "from sklearn.neural_network import MLPClassifier\n",
    "\n",
    "clasificadores = [\n",
    "    SVC(random_state=0),\n",
    "    KNeighborsClassifier(),\n",
    "    RandomForestClassifier(random_state=0),\n",
    "    DecisionTreeClassifier(random_state=0),\n",
    "    MLPClassifier(early_stopping =True,max_iter = 100, random_state=0)\n",
    "]\n",
    "\n",
    "import time\n",
    "import math\n",
    "\n",
    "def timeSince(since):\n",
    "    now = time.time_ns()\n",
    "    s = now - since\n",
    "    return s*10**(-9)"
   ]
  },
  {
   "cell_type": "code",
   "execution_count": 5,
   "metadata": {},
   "outputs": [
    {
     "name": "stdout",
     "output_type": "stream",
     "text": [
      "Resultados clasificación SVC\n",
      "                 precision    recall  f1-score   support\n",
      "\n",
      "          Mixed       0.33      0.28      0.30       497\n",
      "Mostly Positive       0.27      0.15      0.20       512\n",
      "       Negative       0.38      0.33      0.35       387\n",
      "       Positive       0.32      0.65      0.43       610\n",
      "  Very Positive       0.58      0.14      0.23       359\n",
      "\n",
      "       accuracy                           0.34      2365\n",
      "      macro avg       0.38      0.31      0.30      2365\n",
      "   weighted avg       0.36      0.34      0.31      2365\n",
      "\n",
      "Time elapsed for SVC method: 5.831981818 seconds\n",
      "\n",
      "Resultados clasificación KNeighborsClassifier\n",
      "                 precision    recall  f1-score   support\n",
      "\n",
      "          Mixed       0.27      0.35      0.31       497\n",
      "Mostly Positive       0.25      0.32      0.28       512\n",
      "       Negative       0.36      0.22      0.28       387\n",
      "       Positive       0.32      0.36      0.34       610\n",
      "  Very Positive       0.36      0.14      0.20       359\n",
      "\n",
      "       accuracy                           0.29      2365\n",
      "      macro avg       0.31      0.28      0.28      2365\n",
      "   weighted avg       0.31      0.29      0.29      2365\n",
      "\n",
      "Time elapsed for KNeighborsClassifier method: 0.704947881 seconds\n",
      "\n",
      "Resultados clasificación RandomForestClassifier\n",
      "                 precision    recall  f1-score   support\n",
      "\n",
      "          Mixed       0.31      0.29      0.30       497\n",
      "Mostly Positive       0.25      0.22      0.24       512\n",
      "       Negative       0.45      0.34      0.39       387\n",
      "       Positive       0.33      0.52      0.40       610\n",
      "  Very Positive       0.46      0.23      0.31       359\n",
      "\n",
      "       accuracy                           0.33      2365\n",
      "      macro avg       0.36      0.32      0.33      2365\n",
      "   weighted avg       0.35      0.33      0.33      2365\n",
      "\n",
      "Time elapsed for RandomForestClassifier method: 6.576451607 seconds\n",
      "\n",
      "Resultados clasificación DecisionTreeClassifier\n",
      "                 precision    recall  f1-score   support\n",
      "\n",
      "          Mixed       0.25      0.26      0.25       497\n",
      "Mostly Positive       0.24      0.23      0.23       512\n",
      "       Negative       0.33      0.32      0.32       387\n",
      "       Positive       0.29      0.30      0.29       610\n",
      "  Very Positive       0.29      0.28      0.29       359\n",
      "\n",
      "       accuracy                           0.28      2365\n",
      "      macro avg       0.28      0.28      0.28      2365\n",
      "   weighted avg       0.28      0.28      0.28      2365\n",
      "\n",
      "Time elapsed for DecisionTreeClassifier method: 0.545165452 seconds\n",
      "\n",
      "Resultados clasificación MLPClassifier\n",
      "                 precision    recall  f1-score   support\n",
      "\n",
      "          Mixed       0.27      0.32      0.29       497\n",
      "Mostly Positive       0.27      0.27      0.27       512\n",
      "       Negative       0.44      0.27      0.33       387\n",
      "       Positive       0.33      0.38      0.35       610\n",
      "  Very Positive       0.41      0.36      0.38       359\n",
      "\n",
      "       accuracy                           0.32      2365\n",
      "      macro avg       0.34      0.32      0.33      2365\n",
      "   weighted avg       0.33      0.32      0.32      2365\n",
      "\n",
      "Time elapsed for MLPClassifier method: 7.5314552610000005 seconds\n",
      "\n"
     ]
    }
   ],
   "source": [
    "for clf in clasificadores:\n",
    "    start = time.time_ns()\n",
    "    train_and_evaluate(clf,X_train,y_train,X_eval,y_eval)\n",
    "    print(\"Time elapsed for {} method: {} seconds\\n\".format(type(clf).__name__,timeSince(start)))"
   ]
  }
 ],
 "metadata": {
  "kernelspec": {
   "display_name": "prog_cientifica",
   "language": "python",
   "name": "python3"
  },
  "language_info": {
   "codemirror_mode": {
    "name": "ipython",
    "version": 3
   },
   "file_extension": ".py",
   "mimetype": "text/x-python",
   "name": "python",
   "nbconvert_exporter": "python",
   "pygments_lexer": "ipython3",
   "version": "3.10.4"
  },
  "orig_nbformat": 4,
  "vscode": {
   "interpreter": {
    "hash": "5f12cc99d524414e3daaca7ff7e8e0997cdecd19277513297c62237218c0d43b"
   }
  }
 },
 "nbformat": 4,
 "nbformat_minor": 2
}
