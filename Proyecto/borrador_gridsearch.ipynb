{
 "cells": [
  {
   "attachments": {},
   "cell_type": "markdown",
   "metadata": {},
   "source": [
    "# Borrador de GridSearch (Clasificación)"
   ]
  },
  {
   "attachments": {},
   "cell_type": "markdown",
   "metadata": {},
   "source": [
    "## Pre-gridsearch: eligiendo que modelos usar\n",
    "\n",
    "**Candidatos**\n",
    "- Linear SVC (baseline)\n",
    "- SVC (no lineal)\n",
    "- KNeighbours\n",
    "- RandomForestClassifier\n",
    "- DecisionTreeClassifier\n",
    "- MLP (red-neuronal de sklearn)"
   ]
  },
  {
   "cell_type": "code",
   "execution_count": 1,
   "metadata": {},
   "outputs": [],
   "source": [
    "from preprocessing import train_and_evaluate_clf, custom_features\n",
    "from sklearn.model_selection import train_test_split\n",
    "import pandas as pd\n",
    "\n",
    "import time\n",
    "import math\n",
    "\n",
    "def timeSince(since):\n",
    "    now = time.time_ns()\n",
    "    s = now - since\n",
    "    return s*10**(-9)"
   ]
  },
  {
   "cell_type": "code",
   "execution_count": 2,
   "metadata": {},
   "outputs": [],
   "source": [
    "import re\n",
    "\n",
    "def custom_features(dataframe_in):\n",
    "    df = dataframe_in.copy(deep=True)\n",
    "\n",
    "    df['month'] = pd.to_datetime(df['release_date']).dt.month\n",
    "    df['release_date'] = pd.to_datetime(df['release_date']).apply(lambda x: x.to_julian_date())\n",
    "\n",
    "    df['revenue'] = pd.Series([0 for _ in range(len(dataframe_in))])\n",
    "\n",
    "    df.loc[df.publisher.str.match('.*microsoft.*', flags=re.IGNORECASE).values, 'revenue'] = 10.260\n",
    "    df.loc[df.publisher.str.match('.*netease.*', flags=re.IGNORECASE).values, 'revenue'] = 6.668\n",
    "    df.loc[df.publisher.str.match('.*activision.*', flags=re.IGNORECASE).values, 'revenue'] = 6.388\n",
    "    df.loc[df.publisher.str.match('.*electronic.*', flags=re.IGNORECASE).values, 'revenue'] = 5.537\n",
    "    df.loc[df.publisher.str.match('.*bandai.*', flags=re.IGNORECASE).values, 'revenue'] = 3.018\n",
    "    df.loc[df.publisher.str.match('.*square.*', flags=re.IGNORECASE).values, 'revenue'] = 2.386\n",
    "    df.loc[df.publisher.str.match('.*nexon.*', flags=re.IGNORECASE).values, 'revenue'] = 2.286\n",
    "    df.loc[df.publisher.str.match('.*ubisoft.*', flags=re.IGNORECASE).values, 'revenue'] = 1.446\n",
    "    df.loc[df.publisher.str.match('.*konami.*', flags=re.IGNORECASE).values, 'revenue'] = 1.303\n",
    "    df.loc[df.publisher.str.match('.*SEGA.*').values, 'revenue'] = 1.153\n",
    "    df.loc[df.publisher.str.match('.*capcom.*', flags=re.IGNORECASE).values, 'revenue'] = 0.7673\n",
    "    df.loc[df.publisher.str.match('.*warner.*', flags=re.IGNORECASE).values, 'revenue'] = 0.7324\n",
    "\n",
    "    return df"
   ]
  },
  {
   "cell_type": "code",
   "execution_count": 3,
   "metadata": {},
   "outputs": [],
   "source": [
    "df_train = pd.read_pickle('train.pickle')\n",
    "df_train = custom_features(df_train)\n",
    "X_train, X_eval, y_train, y_eval = train_test_split(df_train, df_train['rating'], test_size=0.3, random_state=0, stratify=df_train['rating'])"
   ]
  },
  {
   "cell_type": "code",
   "execution_count": 4,
   "metadata": {},
   "outputs": [
    {
     "name": "stdout",
     "output_type": "stream",
     "text": [
      "Resultados clasificación LinearSVC\n",
      "                 precision    recall  f1-score   support\n",
      "\n",
      "          Mixed       0.29      0.30      0.30       497\n",
      "Mostly Positive       0.26      0.23      0.24       512\n",
      "       Negative       0.42      0.33      0.37       387\n",
      "       Positive       0.33      0.44      0.38       610\n",
      "  Very Positive       0.41      0.30      0.35       359\n",
      "\n",
      "       accuracy                           0.33      2365\n",
      "      macro avg       0.34      0.32      0.33      2365\n",
      "   weighted avg       0.33      0.33      0.33      2365\n",
      "\n"
     ]
    }
   ],
   "source": [
    "from sklearn.svm import LinearSVC\n",
    "\n",
    "baseline = LinearSVC(random_state=0,max_iter=10000)\n",
    "train_and_evaluate_clf(baseline,X_train,y_train,X_eval,y_eval)"
   ]
  },
  {
   "cell_type": "code",
   "execution_count": 5,
   "metadata": {},
   "outputs": [],
   "source": [
    "from sklearn.svm import SVC\n",
    "# from sklearn.naive_bayes import MultinomialNB\n",
    "from sklearn.neighbors import KNeighborsClassifier\n",
    "from sklearn.tree import DecisionTreeClassifier\n",
    "from sklearn.ensemble import RandomForestClassifier, BaggingClassifier, GradientBoostingClassifier, VotingClassifier\n",
    "from sklearn.neural_network import MLPClassifier\n",
    "\n",
    "clasificadores = [\n",
    "    SVC(random_state=0),\n",
    "    KNeighborsClassifier(),\n",
    "    DecisionTreeClassifier(random_state=0),\n",
    "    RandomForestClassifier(random_state=0),\n",
    "    BaggingClassifier(random_state=0),\n",
    "    GradientBoostingClassifier(random_state=0),\n",
    "    MLPClassifier(early_stopping =True,max_iter = 100, random_state=0)\n",
    "]"
   ]
  },
  {
   "cell_type": "code",
   "execution_count": 6,
   "metadata": {},
   "outputs": [
    {
     "name": "stdout",
     "output_type": "stream",
     "text": [
      "Resultados clasificación SVC\n",
      "                 precision    recall  f1-score   support\n",
      "\n",
      "          Mixed       0.33      0.28      0.30       497\n",
      "Mostly Positive       0.25      0.15      0.19       512\n",
      "       Negative       0.37      0.33      0.35       387\n",
      "       Positive       0.33      0.65      0.43       610\n",
      "  Very Positive       0.54      0.14      0.22       359\n",
      "\n",
      "       accuracy                           0.33      2365\n",
      "      macro avg       0.36      0.31      0.30      2365\n",
      "   weighted avg       0.35      0.33      0.31      2365\n",
      "\n",
      "Time elapsed for SVC method: 5.597117639 seconds\n",
      "\n",
      "Resultados clasificación KNeighborsClassifier\n",
      "                 precision    recall  f1-score   support\n",
      "\n",
      "          Mixed       0.27      0.35      0.30       497\n",
      "Mostly Positive       0.24      0.30      0.27       512\n",
      "       Negative       0.36      0.23      0.28       387\n",
      "       Positive       0.33      0.37      0.34       610\n",
      "  Very Positive       0.35      0.14      0.20       359\n",
      "\n",
      "       accuracy                           0.29      2365\n",
      "      macro avg       0.31      0.28      0.28      2365\n",
      "   weighted avg       0.30      0.29      0.29      2365\n",
      "\n",
      "Time elapsed for KNeighborsClassifier method: 0.733352799 seconds\n",
      "\n",
      "Resultados clasificación DecisionTreeClassifier\n",
      "                 precision    recall  f1-score   support\n",
      "\n",
      "          Mixed       0.25      0.25      0.25       497\n",
      "Mostly Positive       0.23      0.21      0.22       512\n",
      "       Negative       0.32      0.34      0.33       387\n",
      "       Positive       0.31      0.32      0.31       610\n",
      "  Very Positive       0.28      0.28      0.28       359\n",
      "\n",
      "       accuracy                           0.28      2365\n",
      "      macro avg       0.28      0.28      0.28      2365\n",
      "   weighted avg       0.28      0.28      0.28      2365\n",
      "\n",
      "Time elapsed for DecisionTreeClassifier method: 0.5531678160000001 seconds\n",
      "\n",
      "Resultados clasificación RandomForestClassifier\n",
      "                 precision    recall  f1-score   support\n",
      "\n",
      "          Mixed       0.30      0.30      0.30       497\n",
      "Mostly Positive       0.24      0.23      0.24       512\n",
      "       Negative       0.46      0.35      0.40       387\n",
      "       Positive       0.34      0.51      0.41       610\n",
      "  Very Positive       0.47      0.22      0.30       359\n",
      "\n",
      "       accuracy                           0.34      2365\n",
      "      macro avg       0.36      0.32      0.33      2365\n",
      "   weighted avg       0.35      0.34      0.33      2365\n",
      "\n",
      "Time elapsed for RandomForestClassifier method: 6.492857216 seconds\n",
      "\n",
      "Resultados clasificación BaggingClassifier\n",
      "                 precision    recall  f1-score   support\n",
      "\n",
      "          Mixed       0.28      0.34      0.31       497\n",
      "Mostly Positive       0.24      0.25      0.25       512\n",
      "       Negative       0.37      0.29      0.32       387\n",
      "       Positive       0.32      0.37      0.34       610\n",
      "  Very Positive       0.32      0.22      0.26       359\n",
      "\n",
      "       accuracy                           0.30      2365\n",
      "      macro avg       0.31      0.29      0.30      2365\n",
      "   weighted avg       0.30      0.30      0.30      2365\n",
      "\n",
      "Time elapsed for BaggingClassifier method: 2.868193434 seconds\n",
      "\n",
      "Resultados clasificación GradientBoostingClassifier\n",
      "                 precision    recall  f1-score   support\n",
      "\n",
      "          Mixed       0.28      0.21      0.24       497\n",
      "Mostly Positive       0.23      0.09      0.13       512\n",
      "       Negative       0.41      0.40      0.40       387\n",
      "       Positive       0.31      0.61      0.41       610\n",
      "  Very Positive       0.40      0.23      0.29       359\n",
      "\n",
      "       accuracy                           0.32      2365\n",
      "      macro avg       0.33      0.31      0.30      2365\n",
      "   weighted avg       0.32      0.32      0.29      2365\n",
      "\n",
      "Time elapsed for GradientBoostingClassifier method: 5.112957444 seconds\n",
      "\n",
      "Resultados clasificación MLPClassifier\n",
      "                 precision    recall  f1-score   support\n",
      "\n",
      "          Mixed       0.31      0.28      0.29       497\n",
      "Mostly Positive       0.28      0.29      0.28       512\n",
      "       Negative       0.46      0.33      0.38       387\n",
      "       Positive       0.33      0.42      0.37       610\n",
      "  Very Positive       0.41      0.36      0.38       359\n",
      "\n",
      "       accuracy                           0.34      2365\n",
      "      macro avg       0.36      0.34      0.34      2365\n",
      "   weighted avg       0.35      0.34      0.34      2365\n",
      "\n",
      "Time elapsed for MLPClassifier method: 6.277782812000001 seconds\n",
      "\n"
     ]
    }
   ],
   "source": [
    "for clf in clasificadores:\n",
    "    start = time.time_ns()\n",
    "    train_and_evaluate_clf(clf,X_train,y_train,X_eval,y_eval)\n",
    "    print(\"Time elapsed for {} method: {} seconds\\n\".format(type(clf).__name__,timeSince(start)))"
   ]
  },
  {
   "cell_type": "code",
   "execution_count": 11,
   "metadata": {},
   "outputs": [
    {
     "name": "stdout",
     "output_type": "stream",
     "text": [
      "Resultados clasificación VotingClassifier\n",
      "                 precision    recall  f1-score   support\n",
      "\n",
      "          Mixed       0.31      0.27      0.29       497\n",
      "Mostly Positive       0.27      0.27      0.27       512\n",
      "       Negative       0.44      0.33      0.38       387\n",
      "       Positive       0.35      0.54      0.42       610\n",
      "  Very Positive       0.46      0.26      0.33       359\n",
      "\n",
      "       accuracy                           0.35      2365\n",
      "      macro avg       0.37      0.33      0.34      2365\n",
      "   weighted avg       0.36      0.35      0.34      2365\n",
      "\n",
      "Time elapsed for voting (soft) method: 37.920576699 seconds\n",
      "\n"
     ]
    }
   ],
   "source": [
    "clf1 = SVC(random_state=0,probability=True)\n",
    "clf2 = KNeighborsClassifier()\n",
    "clf3 = RandomForestClassifier(random_state=0)\n",
    "clf4 = MLPClassifier(early_stopping =True,max_iter = 100, random_state=0)\n",
    "\n",
    "eclf_soft = VotingClassifier(\n",
    "    estimators=[('svc', clf1), ('kn', clf2), ('rf', clf3), ('mlp', clf4)],\n",
    "    voting = 'soft'\n",
    ")\n",
    "\n",
    "start = time.time_ns()\n",
    "train_and_evaluate_clf(eclf_soft,X_train,y_train,X_eval,y_eval)\n",
    "print(\"Time elapsed for voting (soft) method: {} seconds\\n\".format(timeSince(start)))"
   ]
  },
  {
   "cell_type": "code",
   "execution_count": 13,
   "metadata": {},
   "outputs": [
    {
     "name": "stdout",
     "output_type": "stream",
     "text": [
      "Resultados clasificación VotingClassifier\n",
      "                 precision    recall  f1-score   support\n",
      "\n",
      "          Mixed       0.32      0.37      0.34       497\n",
      "Mostly Positive       0.27      0.25      0.26       512\n",
      "       Negative       0.46      0.29      0.36       387\n",
      "       Positive       0.35      0.54      0.42       610\n",
      "  Very Positive       0.57      0.18      0.27       359\n",
      "\n",
      "       accuracy                           0.35      2365\n",
      "      macro avg       0.39      0.33      0.33      2365\n",
      "   weighted avg       0.38      0.35      0.34      2365\n",
      "\n",
      "Time elapsed for voting (hard) method: 35.801460836000004 seconds\n",
      "\n"
     ]
    }
   ],
   "source": [
    "clf1 = SVC(random_state=0,probability=True)\n",
    "clf2 = KNeighborsClassifier()\n",
    "clf3 = RandomForestClassifier(random_state=0)\n",
    "clf4 = MLPClassifier(early_stopping =True,max_iter = 100, random_state=0)\n",
    "\n",
    "eclf_hard = VotingClassifier(\n",
    "    estimators=[('svc', clf1), ('kn', clf2), ('rf', clf3), ('mlp', clf4)],\n",
    "    voting = 'hard'\n",
    ")\n",
    "\n",
    "start = time.time_ns()\n",
    "train_and_evaluate_clf(eclf_hard,X_train,y_train,X_eval,y_eval)\n",
    "print(\"Time elapsed for voting (hard) method: {} seconds\\n\".format(timeSince(start)))"
   ]
  },
  {
   "attachments": {},
   "cell_type": "markdown",
   "metadata": {},
   "source": [
    "# Borrador de GridSearch (regresión)\n",
    "\n",
    "**Candidatos**:\n",
    "- Lasso\n",
    "- ElasticNet\n",
    "- Ridge\n",
    "- SVR Lineal\n",
    "- SVR polinomial\n",
    "- SVR RBF\n",
    "- Bagging\n",
    "- DecisionTree\n",
    "- RandomForest\n",
    "- GradientBoosting\n",
    "- ExtraTreesRegressor\n",
    "- AdaBoostRegressor\n",
    "- etc"
   ]
  },
  {
   "cell_type": "code",
   "execution_count": 14,
   "metadata": {},
   "outputs": [],
   "source": [
    "from sklearn.svm import SVR\n",
    "from sklearn.linear_model import ElasticNet, Ridge, RidgeCV, LassoCV\n",
    "from sklearn.neighbors import KNeighborsRegressor\n",
    "from sklearn.tree import DecisionTreeRegressor\n",
    "from sklearn.ensemble import BaggingRegressor, GradientBoostingRegressor, RandomForestRegressor, ExtraTreesRegressor\n",
    "from sklearn.ensemble import AdaBoostRegressor, HistGradientBoostingRegressor, VotingRegressor, StackingRegressor"
   ]
  },
  {
   "cell_type": "code",
   "execution_count": 15,
   "metadata": {},
   "outputs": [],
   "source": [
    "regresores = [\n",
    "    ElasticNet(random_state=0),\n",
    "    Ridge(random_state=0),\n",
    "    SVR(kernel='linear'),\n",
    "    SVR(kernel='poly'),\n",
    "    SVR(kernel='rbf'),\n",
    "    KNeighborsRegressor(),\n",
    "    DecisionTreeRegressor(random_state=0),\n",
    "    BaggingRegressor(random_state=0),\n",
    "    GradientBoostingRegressor(random_state=0),\n",
    "    RandomForestRegressor(random_state=0),\n",
    "    # ExtraTreesRegressor(random_state=0),\n",
    "    # AdaBoostRegressor(random_state=0),\n",
    "    # HistGradientBoostingRegressor(random_state=0),\n",
    "    # VotingRegressor(estimators=[])\n",
    "    # StackingRegressor(estimators=[])\n",
    "]"
   ]
  },
  {
   "cell_type": "code",
   "execution_count": 16,
   "metadata": {},
   "outputs": [],
   "source": [
    "df_train = pd.read_pickle('train.pickle')\n",
    "df_train = custom_features(df_train)\n",
    "X_train, X_eval, y_train, y_eval = train_test_split(df_train, df_train['estimated_sells'], test_size=0.3, random_state=0)"
   ]
  },
  {
   "cell_type": "code",
   "execution_count": 17,
   "metadata": {},
   "outputs": [
    {
     "name": "stdout",
     "output_type": "stream",
     "text": [
      "Resultados regresión ElasticNet\n"
     ]
    },
    {
     "name": "stderr",
     "output_type": "stream",
     "text": [
      "/home/camilo/miniconda3/envs/prog_cientifica/lib/python3.10/site-packages/sklearn/feature_selection/_univariate_selection.py:111: RuntimeWarning: divide by zero encountered in divide\n",
      "  f = msb / msw\n"
     ]
    },
    {
     "name": "stdout",
     "output_type": "stream",
     "text": [
      "Error cuadrático medio = 1671385053276.5864\n",
      "Score R2 = 0.06770034234323863\n",
      "Time elapsed for ElasticNet method: 2.256597338 seconds\n",
      "\n",
      "Resultados regresión Ridge\n"
     ]
    },
    {
     "name": "stderr",
     "output_type": "stream",
     "text": [
      "/home/camilo/miniconda3/envs/prog_cientifica/lib/python3.10/site-packages/sklearn/feature_selection/_univariate_selection.py:111: RuntimeWarning: divide by zero encountered in divide\n",
      "  f = msb / msw\n"
     ]
    },
    {
     "name": "stdout",
     "output_type": "stream",
     "text": [
      "Error cuadrático medio = 1671827028592.083\n",
      "Score R2 = 0.0674538082280014\n",
      "Time elapsed for Ridge method: 1.8286654830000002 seconds\n",
      "\n",
      "Resultados regresión SVR\n"
     ]
    },
    {
     "name": "stderr",
     "output_type": "stream",
     "text": [
      "/home/camilo/miniconda3/envs/prog_cientifica/lib/python3.10/site-packages/sklearn/feature_selection/_univariate_selection.py:111: RuntimeWarning: divide by zero encountered in divide\n",
      "  f = msb / msw\n"
     ]
    },
    {
     "name": "stdout",
     "output_type": "stream",
     "text": [
      "Error cuadrático medio = 1826175581091.4065\n",
      "Score R2 = -0.018641913624264594\n",
      "Time elapsed for SVR method: 5.895251775 seconds\n",
      "\n",
      "Resultados regresión SVR\n"
     ]
    },
    {
     "name": "stderr",
     "output_type": "stream",
     "text": [
      "/home/camilo/miniconda3/envs/prog_cientifica/lib/python3.10/site-packages/sklearn/feature_selection/_univariate_selection.py:111: RuntimeWarning: divide by zero encountered in divide\n",
      "  f = msb / msw\n"
     ]
    },
    {
     "name": "stdout",
     "output_type": "stream",
     "text": [
      "Error cuadrático medio = 1828390721632.3743\n",
      "Score R2 = -0.019877520442667995\n",
      "Time elapsed for SVR method: 5.841998715000001 seconds\n",
      "\n",
      "Resultados regresión SVR\n"
     ]
    },
    {
     "name": "stderr",
     "output_type": "stream",
     "text": [
      "/home/camilo/miniconda3/envs/prog_cientifica/lib/python3.10/site-packages/sklearn/feature_selection/_univariate_selection.py:111: RuntimeWarning: divide by zero encountered in divide\n",
      "  f = msb / msw\n"
     ]
    },
    {
     "name": "stdout",
     "output_type": "stream",
     "text": [
      "Error cuadrático medio = 1828416301994.4126\n",
      "Score R2 = -0.019891789185064734\n",
      "Time elapsed for SVR method: 5.921423229 seconds\n",
      "\n",
      "Resultados regresión KNeighborsRegressor\n"
     ]
    },
    {
     "name": "stderr",
     "output_type": "stream",
     "text": [
      "/home/camilo/miniconda3/envs/prog_cientifica/lib/python3.10/site-packages/sklearn/feature_selection/_univariate_selection.py:111: RuntimeWarning: divide by zero encountered in divide\n",
      "  f = msb / msw\n"
     ]
    },
    {
     "name": "stdout",
     "output_type": "stream",
     "text": [
      "Error cuadrático medio = 1601210069958.7705\n",
      "Score R2 = 0.10684399317044402\n",
      "Time elapsed for KNeighborsRegressor method: 2.1025358830000003 seconds\n",
      "\n",
      "Resultados regresión DecisionTreeRegressor\n"
     ]
    },
    {
     "name": "stderr",
     "output_type": "stream",
     "text": [
      "/home/camilo/miniconda3/envs/prog_cientifica/lib/python3.10/site-packages/sklearn/feature_selection/_univariate_selection.py:111: RuntimeWarning: divide by zero encountered in divide\n",
      "  f = msb / msw\n"
     ]
    },
    {
     "name": "stdout",
     "output_type": "stream",
     "text": [
      "Error cuadrático medio = 4184152507003.635\n",
      "Score R2 = -1.3339229594137318\n",
      "Time elapsed for DecisionTreeRegressor method: 2.645488878 seconds\n",
      "\n",
      "Resultados regresión BaggingRegressor\n"
     ]
    },
    {
     "name": "stderr",
     "output_type": "stream",
     "text": [
      "/home/camilo/miniconda3/envs/prog_cientifica/lib/python3.10/site-packages/sklearn/feature_selection/_univariate_selection.py:111: RuntimeWarning: divide by zero encountered in divide\n",
      "  f = msb / msw\n"
     ]
    },
    {
     "name": "stdout",
     "output_type": "stream",
     "text": [
      "Error cuadrático medio = 730686091203.4044\n",
      "Score R2 = 0.5924228283913218\n",
      "Time elapsed for BaggingRegressor method: 7.905426198000001 seconds\n",
      "\n",
      "Resultados regresión GradientBoostingRegressor\n"
     ]
    },
    {
     "name": "stderr",
     "output_type": "stream",
     "text": [
      "/home/camilo/miniconda3/envs/prog_cientifica/lib/python3.10/site-packages/sklearn/feature_selection/_univariate_selection.py:111: RuntimeWarning: divide by zero encountered in divide\n",
      "  f = msb / msw\n"
     ]
    },
    {
     "name": "stdout",
     "output_type": "stream",
     "text": [
      "Error cuadrático medio = 808942717167.9564\n",
      "Score R2 = 0.5487712320981176\n",
      "Time elapsed for GradientBoostingRegressor method: 2.50803198 seconds\n",
      "\n",
      "Resultados regresión RandomForestRegressor\n"
     ]
    },
    {
     "name": "stderr",
     "output_type": "stream",
     "text": [
      "/home/camilo/miniconda3/envs/prog_cientifica/lib/python3.10/site-packages/sklearn/feature_selection/_univariate_selection.py:111: RuntimeWarning: divide by zero encountered in divide\n",
      "  f = msb / msw\n"
     ]
    },
    {
     "name": "stdout",
     "output_type": "stream",
     "text": [
      "Error cuadrático medio = 829064518289.4973\n",
      "Score R2 = 0.5375472784913328\n",
      "Time elapsed for RandomForestRegressor method: 62.640253447000006 seconds\n",
      "\n"
     ]
    }
   ],
   "source": [
    "from preprocessing import train_and_evaluate_reg\n",
    "\n",
    "for clf in regresores:\n",
    "    start = time.time_ns()\n",
    "    train_and_evaluate_reg(clf,X_train,y_train,X_eval,y_eval)\n",
    "    print(\"Time elapsed for {} method: {} seconds\\n\".format(type(clf).__name__,timeSince(start)))"
   ]
  },
  {
   "cell_type": "code",
   "execution_count": 18,
   "metadata": {},
   "outputs": [
    {
     "name": "stdout",
     "output_type": "stream",
     "text": [
      "Resultados regresión VotingRegressor\n"
     ]
    },
    {
     "name": "stderr",
     "output_type": "stream",
     "text": [
      "/home/camilo/miniconda3/envs/prog_cientifica/lib/python3.10/site-packages/sklearn/feature_selection/_univariate_selection.py:111: RuntimeWarning: divide by zero encountered in divide\n",
      "  f = msb / msw\n"
     ]
    },
    {
     "name": "stdout",
     "output_type": "stream",
     "text": [
      "Error cuadrático medio = 735845920098.8611\n",
      "Score R2 = 0.5895446725149298\n",
      "Time elapsed for voting-regressor method: 68.956703336 seconds\n",
      "\n"
     ]
    }
   ],
   "source": [
    "reg1 = GradientBoostingRegressor(random_state=0)\n",
    "reg2 = RandomForestRegressor(random_state=0)\n",
    "reg3 = BaggingRegressor(random_state=0)\n",
    "ereg = VotingRegressor(estimators=[('gb', reg1), ('rf', reg2), ('bg', reg3)])\n",
    "\n",
    "start = time.time_ns()\n",
    "train_and_evaluate_reg(ereg,X_train,y_train,X_eval,y_eval)\n",
    "print(\"Time elapsed for voting-regressor method: {} seconds\\n\".format(timeSince(start)))"
   ]
  }
 ],
 "metadata": {
  "kernelspec": {
   "display_name": "prog_cientifica",
   "language": "python",
   "name": "python3"
  },
  "language_info": {
   "codemirror_mode": {
    "name": "ipython",
    "version": 3
   },
   "file_extension": ".py",
   "mimetype": "text/x-python",
   "name": "python",
   "nbconvert_exporter": "python",
   "pygments_lexer": "ipython3",
   "version": "3.10.4"
  },
  "orig_nbformat": 4,
  "vscode": {
   "interpreter": {
    "hash": "5f12cc99d524414e3daaca7ff7e8e0997cdecd19277513297c62237218c0d43b"
   }
  }
 },
 "nbformat": 4,
 "nbformat_minor": 2
}
