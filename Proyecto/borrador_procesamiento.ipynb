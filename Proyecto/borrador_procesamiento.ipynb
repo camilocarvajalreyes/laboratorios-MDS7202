{
 "cells": [
  {
   "attachments": {},
   "cell_type": "markdown",
   "metadata": {},
   "source": [
    "# Borrador de pre-procesamiento"
   ]
  },
  {
   "attachments": {},
   "cell_type": "markdown",
   "metadata": {},
   "source": [
    "## Pre-procesamiento de columna de texto"
   ]
  },
  {
   "cell_type": "code",
   "execution_count": 1,
   "metadata": {},
   "outputs": [],
   "source": [
    "from transformers import AutoModelForSequenceClassification\n",
    "from transformers import AutoTokenizer\n",
    "import numpy as np"
   ]
  },
  {
   "cell_type": "code",
   "execution_count": 2,
   "metadata": {},
   "outputs": [],
   "source": [
    "MODEL = \"distilbert-videogame-descriptions-rating\"\n",
    "\n",
    "tokenizer = AutoTokenizer.from_pretrained(MODEL)\n",
    "model = AutoModelForSequenceClassification.from_pretrained(MODEL)"
   ]
  },
  {
   "cell_type": "code",
   "execution_count": 3,
   "metadata": {},
   "outputs": [],
   "source": [
    "def sentence_clf_output(text):\n",
    "    \"\"\"retorna el SequenceClassifierOutput dado un tweet\"\"\"\n",
    "    # text = preprocess(text)\n",
    "    encoded_input = tokenizer(text, return_tensors='pt')\n",
    "    output = model(**encoded_input, return_dict=True, output_hidden_states=True)\n",
    "    return output"
   ]
  },
  {
   "cell_type": "code",
   "execution_count": 4,
   "metadata": {},
   "outputs": [
    {
     "data": {
      "text/plain": [
       "odict_keys(['logits', 'hidden_states'])"
      ]
     },
     "execution_count": 4,
     "metadata": {},
     "output_type": "execute_result"
    }
   ],
   "source": [
    "example = \"This game is honestly rubbish, it doesn't even deserve a description.\"\n",
    "output_obj = sentence_clf_output(example)\n",
    "\n",
    "\n",
    "output_obj.keys()"
   ]
  },
  {
   "cell_type": "code",
   "execution_count": 5,
   "metadata": {},
   "outputs": [
    {
     "data": {
      "text/plain": [
       "torch.Size([1, 17, 768])"
      ]
     },
     "execution_count": 5,
     "metadata": {},
     "output_type": "execute_result"
    }
   ],
   "source": [
    "output_obj['hidden_states'][-1].shape"
   ]
  },
  {
   "cell_type": "code",
   "execution_count": 6,
   "metadata": {},
   "outputs": [
    {
     "name": "stdout",
     "output_type": "stream",
     "text": [
      "<class 'numpy.ndarray'>\n"
     ]
    },
    {
     "data": {
      "text/plain": [
       "(1, 768)"
      ]
     },
     "execution_count": 6,
     "metadata": {},
     "output_type": "execute_result"
    }
   ],
   "source": [
    "def first_tok_embedding(cfl_output):\n",
    "    # retorna un numpy array correspondiente al token contextualizado\n",
    "    return cfl_output['hidden_states'][-1][0][0].detach().numpy().reshape(1,768)\n",
    "\n",
    "emb1 = first_tok_embedding(output_obj)\n",
    "print(type(emb1))\n",
    "emb1.shape"
   ]
  },
  {
   "cell_type": "code",
   "execution_count": 7,
   "metadata": {},
   "outputs": [
    {
     "name": "stdout",
     "output_type": "stream",
     "text": [
      "<class 'numpy.ndarray'>\n"
     ]
    },
    {
     "data": {
      "text/plain": [
       "(1, 768)"
      ]
     },
     "execution_count": 7,
     "metadata": {},
     "output_type": "execute_result"
    }
   ],
   "source": [
    "def sum_embedding(cfl_output):\n",
    "    # retorna un numpy array correspondiente a la suma de los vectores contextualizados\n",
    "    return cfl_output['hidden_states'][-1][0].detach().numpy().mean(axis=0).reshape(1,768)\n",
    "\n",
    "emb2 = sum_embedding(output_obj)\n",
    "print(type(emb2))\n",
    "emb2.shape"
   ]
  },
  {
   "cell_type": "code",
   "execution_count": 9,
   "metadata": {},
   "outputs": [
    {
     "name": "stdout",
     "output_type": "stream",
     "text": [
      "<class 'numpy.ndarray'>\n"
     ]
    },
    {
     "data": {
      "text/plain": [
       "(1, 5)"
      ]
     },
     "execution_count": 9,
     "metadata": {},
     "output_type": "execute_result"
    }
   ],
   "source": [
    "def logits_embedding(clf_output):\n",
    "    # retorna el vector de scores de clasificacion (antes de la capa softmax)\n",
    "    return clf_output['logits'][0].detach().numpy().reshape(1,5)\n",
    "\n",
    "emb3 = logits_embedding(output_obj)\n",
    "print(type(emb3))\n",
    "emb3.shape"
   ]
  },
  {
   "attachments": {},
   "cell_type": "markdown",
   "metadata": {},
   "source": [
    "---"
   ]
  },
  {
   "cell_type": "code",
   "execution_count": 35,
   "metadata": {},
   "outputs": [],
   "source": [
    "from sklearn.base import BaseEstimator, TransformerMixin\n",
    "\n",
    "class MinMax(BaseEstimator, TransformerMixin):\n",
    "    def fit(self, X, y=None):\n",
    "        self.xmin = X.min()\n",
    "        self.xmax = X.max()\n",
    "        return self\n",
    "\n",
    "    def transform(self, X):\n",
    "        new_X = X.apply(lambda row: (row - self.xmin)/(self.xmax - self.xmin))\n",
    "        # new_X = (X - self.xmin)/(self.xmax - self.xmin)\n",
    "        print(type(new_X))\n",
    "        return new_X\n",
    "\n",
    "minmax_transformer = MinMax()"
   ]
  },
  {
   "cell_type": "code",
   "execution_count": 36,
   "metadata": {},
   "outputs": [],
   "source": [
    "import pandas as pd\n",
    "\n",
    "df = pd.read_pickle('train.pickle')"
   ]
  },
  {
   "cell_type": "code",
   "execution_count": 37,
   "metadata": {},
   "outputs": [
    {
     "name": "stdout",
     "output_type": "stream",
     "text": [
      "<class 'pandas.core.series.Series'>\n"
     ]
    }
   ],
   "source": [
    "# new_df = minmax_transformer.fit_transform(df[['average_playtime','achievements']])\n",
    "new_df = minmax_transformer.fit_transform(df['average_playtime'])"
   ]
  },
  {
   "cell_type": "code",
   "execution_count": 38,
   "metadata": {},
   "outputs": [
    {
     "data": {
      "text/plain": [
       "0       0.000000\n",
       "1       0.000341\n",
       "2       0.001138\n",
       "3       0.006505\n",
       "4       0.001285\n",
       "          ...   \n",
       "7876    0.000341\n",
       "7877    0.000913\n",
       "7878    0.000000\n",
       "7879    0.000000\n",
       "7880    0.000393\n",
       "Name: average_playtime, Length: 7881, dtype: float64"
      ]
     },
     "execution_count": 38,
     "metadata": {},
     "output_type": "execute_result"
    }
   ],
   "source": [
    "new_df"
   ]
  },
  {
   "cell_type": "code",
   "execution_count": 41,
   "metadata": {},
   "outputs": [
    {
     "data": {
      "text/plain": [
       "0    One day your roommate Leaves for no reason. Yo...\n",
       "1    Manage a team of ghosthunters and free London ...\n",
       "2    In Deponia, the world has degenerated into a v...\n",
       "3    SEASON 6 NOW LIVE! The battle for Atlas contin...\n",
       "4    CHUCHEL is a comedy adventure game from the cr...\n",
       "5    LocoSoccer is a fun, crazy physics-based socce...\n",
       "6    A sci-fi colony sim driven by an intelligent A...\n",
       "7    A Wild Catgirl Appears is a short romance visu...\n",
       "8    Infernium, a survival horror approach to Pac-M...\n",
       "9    MINDNIGHT is a free-to-play online multiplayer...\n",
       "Name: short_description, dtype: object"
      ]
     },
     "execution_count": 41,
     "metadata": {},
     "output_type": "execute_result"
    }
   ],
   "source": [
    "columna = df['short_description'][:10]\n",
    "columna"
   ]
  },
  {
   "cell_type": "code",
   "execution_count": 42,
   "metadata": {},
   "outputs": [
    {
     "data": {
      "text/plain": [
       "0    [[-0.30798036, 0.10446549, 0.084020175, 0.3444...\n",
       "1    [[0.08786825, 0.4088722, 0.15083486, 0.0637540...\n",
       "2    [[-0.2446493, 0.0029724466, 0.049106434, 0.311...\n",
       "3    [[-0.24621132, 0.017480843, 0.033693705, 0.330...\n",
       "4    [[-0.42932254, 0.0114853345, 0.2061961, 0.3339...\n",
       "5    [[0.067411326, 0.36655292, 0.031259853, 0.0803...\n",
       "6    [[-0.677581, -0.051414825, 0.4004209, 0.501398...\n",
       "7    [[-0.46146762, -0.11238558, 0.12086479, 0.3856...\n",
       "8    [[-0.56208116, -0.052706547, 0.23826675, 0.530...\n",
       "9    [[-0.08055741, 0.32602018, 0.14793858, 0.21990...\n",
       "Name: short_description, dtype: object"
      ]
     },
     "execution_count": 42,
     "metadata": {},
     "output_type": "execute_result"
    }
   ],
   "source": [
    "columna.apply(lambda row: logits_embedding(sentence_clf_output(row)))"
   ]
  },
  {
   "cell_type": "code",
   "execution_count": 43,
   "metadata": {},
   "outputs": [],
   "source": [
    "class CategoriesTokenizer:\n",
    "    def __init__(self):\n",
    "        pass\n",
    "        # self.ps = PorterStemmer()\n",
    "    def __call__(self, doc):\n",
    "        return doc.split(';')\n",
    "\n",
    "from sklearn.compose import ColumnTransformer\n",
    "from sklearn.preprocessing import MinMaxScaler\n",
    "from sklearn.feature_extraction.text import CountVectorizer\n",
    "\n",
    "bog = CountVectorizer(\n",
    "    tokenizer = CategoriesTokenizer(),\n",
    "    min_df = 0.1  # hiperparametro a optimizar\n",
    "    )\n",
    "\n",
    "\"\"\"preprocessing = ColumnTransformer(\n",
    "    transformers=[\n",
    "        ('bag-of-categories',bog,['platforms','categories','genres','tags']),\n",
    "        ('minmax',MinMaxScaler(),['...'])\n",
    "    ]\n",
    ")\"\"\";"
   ]
  },
  {
   "cell_type": "code",
   "execution_count": 46,
   "metadata": {},
   "outputs": [],
   "source": [
    "small_df = df[:10]\n",
    "# small_df"
   ]
  },
  {
   "cell_type": "code",
   "execution_count": 48,
   "metadata": {},
   "outputs": [
    {
     "data": {
      "text/plain": [
       "<2x2 sparse matrix of type '<class 'numpy.int64'>'\n",
       "\twith 2 stored elements in Compressed Sparse Row format>"
      ]
     },
     "execution_count": 48,
     "metadata": {},
     "output_type": "execute_result"
    }
   ],
   "source": [
    "hola = bog.fit_transform(small_df[['tags','genres']])\n",
    "hola"
   ]
  },
  {
   "cell_type": "code",
   "execution_count": 49,
   "metadata": {},
   "outputs": [
    {
     "data": {
      "text/plain": [
       "<10x17 sparse matrix of type '<class 'numpy.int64'>'\n",
       "\twith 30 stored elements in Compressed Sparse Row format>"
      ]
     },
     "execution_count": 49,
     "metadata": {},
     "output_type": "execute_result"
    }
   ],
   "source": [
    "chao = bog.fit_transform(small_df['tags'])\n",
    "chao"
   ]
  },
  {
   "cell_type": "code",
   "execution_count": 50,
   "metadata": {},
   "outputs": [
    {
     "name": "stdout",
     "output_type": "stream",
     "text": [
      "  (0, 4)\t1\n",
      "  (0, 0)\t1\n",
      "  (0, 6)\t1\n",
      "  (1, 6)\t1\n",
      "  (1, 15)\t1\n",
      "  (1, 11)\t1\n",
      "  (2, 0)\t1\n",
      "  (2, 9)\t1\n",
      "  (2, 3)\t1\n",
      "  (3, 4)\t1\n",
      "  (3, 8)\t1\n",
      "  (3, 13)\t1\n",
      "  (4, 0)\t1\n",
      "  (4, 6)\t1\n",
      "  (4, 2)\t1\n",
      "  (5, 6)\t1\n",
      "  (5, 13)\t1\n",
      "  (5, 12)\t1\n",
      "  (6, 13)\t1\n",
      "  (6, 1)\t1\n",
      "  (6, 14)\t1\n",
      "  (7, 0)\t1\n",
      "  (7, 7)\t1\n",
      "  (7, 16)\t1\n",
      "  (8, 0)\t1\n",
      "  (8, 6)\t1\n",
      "  (8, 5)\t1\n",
      "  (9, 4)\t1\n",
      "  (9, 13)\t1\n",
      "  (9, 10)\t1\n"
     ]
    }
   ],
   "source": [
    "print(chao)"
   ]
  },
  {
   "attachments": {},
   "cell_type": "markdown",
   "metadata": {},
   "source": [
    "### Integración con scikit-learn"
   ]
  },
  {
   "cell_type": "code",
   "execution_count": null,
   "metadata": {},
   "outputs": [],
   "source": [
    "from sklearn.base import BaseEstimator, TransformerMixin\n",
    "\n",
    "class LogitsEmbedding(BaseEstimator, TransformerMixin):\n",
    "    \"\"\"def fit(self, X, y=None, modelo=model, tokenizador=tokenizer):\n",
    "        self.model = modelo\n",
    "        self.tokenizer = tokenizador\n",
    "        return self\"\"\"\n",
    "    def fit(self, X, y=None):\n",
    "        return self\n",
    "\n",
    "    def transform(self, X):\n",
    "        # UPDATE\n",
    "        embed = lambda row: logits_embedding(sentence_clf_output(row))\n",
    "        X_new = X.apply(embed)\n",
    "        return X_new\n",
    "    \n",
    "\"\"\"np.random.seed(42)\n",
    "\n",
    "scaling_minmax = Pipeline([('scaler',MinMax())])\n",
    "\n",
    "minmax_transformer = ColumnTransformer(\n",
    "    transformers=[\n",
    "        ('MinMaxScaler',MinMax(), ['Length','Recency','Frequency','Monetary','Periodicity'])\n",
    "])\n",
    "\n",
    "lrmfp_tsne_pipeline = Pipeline([\n",
    "    # aplicar transformaciones para custom features\n",
    "    ('LRMFP',FunctionTransformer(custom_features)),\n",
    "    ('MinMaxScaler',minmax_transformer),\n",
    "    ('TSNE',TSNE())\n",
    "])\"\"\""
   ]
  },
  {
   "cell_type": "code",
   "execution_count": null,
   "metadata": {},
   "outputs": [],
   "source": []
  },
  {
   "attachments": {},
   "cell_type": "markdown",
   "metadata": {},
   "source": [
    "---\n",
    "\n",
    "### Columnas\n",
    "\n",
    "- [x] **name** -> Ignorar\n",
    "- [-] **release_date** -> TO DO: separar mes y año\n",
    "- [?] **english** -> poner tal cual?\n",
    "- [x] **developer** -> BoW\n",
    "- [x] **publisher** -> BoW\n",
    "- [x] **platforms** -> BoW\n",
    "- [x] **required_age** -> Minmax scaler\n",
    "- [x] **categories** -> BoW\n",
    "- [x] **genres** -> BoW\n",
    "- [x] **tags** -> BoW\n",
    "- [x] **achievements** -> power scaler\n",
    "- [x] **average_playtime** -> power scaler\n",
    "- [x] **price** -> minmax scaler\n",
    "- [-] **short_description** -> embeddings entrenados, verificar mejor manera de integrarlos"
   ]
  }
 ],
 "metadata": {
  "kernelspec": {
   "display_name": "prog_cientifica",
   "language": "python",
   "name": "python3"
  },
  "language_info": {
   "codemirror_mode": {
    "name": "ipython",
    "version": 3
   },
   "file_extension": ".py",
   "mimetype": "text/x-python",
   "name": "python",
   "nbconvert_exporter": "python",
   "pygments_lexer": "ipython3",
   "version": "3.10.4"
  },
  "orig_nbformat": 4,
  "vscode": {
   "interpreter": {
    "hash": "5f12cc99d524414e3daaca7ff7e8e0997cdecd19277513297c62237218c0d43b"
   }
  }
 },
 "nbformat": 4,
 "nbformat_minor": 2
}
