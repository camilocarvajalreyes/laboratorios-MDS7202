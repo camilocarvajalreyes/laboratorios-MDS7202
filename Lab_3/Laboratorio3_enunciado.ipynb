{
 "cells": [
  {
   "cell_type": "markdown",
   "metadata": {
    "cell_id": "00000-ae4bce0d-d467-4e5f-a49a-58fb5129bd6c",
    "deepnote_cell_height": 156.390625,
    "deepnote_cell_type": "markdown",
    "id": "XUZ1dFPHzAHl"
   },
   "source": [
    "<h1><center>Laboratorio 3: El Pandas no muerde (act. I) 🐼</center></h1>\n",
    "\n",
    "<center><strong>MDS7202: Laboratorio de Programación Científica para Ciencia de Datos</strong></center>"
   ]
  },
  {
   "cell_type": "markdown",
   "metadata": {
    "cell_id": "00001-c0f83a9b-e822-4864-8c65-718da74b60b9",
    "deepnote_cell_height": 284.1875,
    "deepnote_cell_type": "markdown",
    "id": "UD8X1uhGzAHq"
   },
   "source": [
    "### Cuerpo Docente:\n",
    "\n",
    "- Profesor: Matías Rojas y Mauricio Araneda\n",
    "- Auxiliar: Ignacio Meza D.\n",
    "- Ayudante: Rodrigo Guerra"
   ]
  },
  {
   "cell_type": "markdown",
   "metadata": {
    "cell_id": "00002-155246d6-4c8d-43be-872f-880dede73522",
    "deepnote_cell_height": 139.796875,
    "deepnote_cell_type": "markdown",
    "id": "tXflExjqzAHr"
   },
   "source": [
    "### Equipo: SUPER IMPORTANTE - notebooks sin nombre no serán revisados\n",
    "\n",
    "- Nombre de alumno 1: Camilo Carvajal\n",
    "- Nombre de alumno 2: Andrés González\n"
   ]
  },
  {
   "cell_type": "markdown",
   "metadata": {
    "cell_id": "00003-97391d1f-df36-4c70-90b7-bfd91cd6e49e",
    "deepnote_cell_height": 62,
    "deepnote_cell_type": "markdown",
    "id": "AD-V0bbZzAHr"
   },
   "source": [
    "### **Link de repositorio de GitHub:** `https://github.com/camilocarvajalreyes/laboratorios-MDS7202`"
   ]
  },
  {
   "cell_type": "markdown",
   "metadata": {
    "cell_id": "00004-0e0866f8-5d50-4988-906a-d868ede07df1",
    "deepnote_cell_height": 241.390625,
    "deepnote_cell_type": "markdown",
    "tags": []
   },
   "source": [
    "### Reglas:\n",
    "\n",
    "- **Grupos de máximo 2 personas**\n",
    "- **Ausentes** deberán realizar la actividad solos. \n",
    "- Cualquier duda fuera del horario de clases al foro. Mensajes al equipo docente serán respondidos por este medio.\n",
    "- Prohibidas las copias. \n",
    "- Pueden usar cualquer matrial del curso que estimen conveniente."
   ]
  },
  {
   "cell_type": "markdown",
   "metadata": {
    "cell_id": "00005-ea6a4d75-61c0-4a2b-ac8d-1ac736216350",
    "deepnote_cell_height": 114.390625,
    "deepnote_cell_type": "markdown",
    "tags": []
   },
   "source": [
    "### Temas a tratar\n",
    "\n",
    "- Introducción al manejo de datos tabulares por medio de la libreria `pandas`."
   ]
  },
  {
   "cell_type": "markdown",
   "metadata": {
    "cell_id": "00006-fbe17074-fb3c-4ddb-bb19-2bfd042bf921",
    "deepnote_cell_height": 243.390625,
    "deepnote_cell_type": "markdown",
    "id": "6uBLPj1PzAHs"
   },
   "source": [
    "### Objetivos principales del laboratorio\n",
    "\n",
    "- Entender, aplicar y aprovechar las ventajas que nos ofrece la libreria `pandas` para manejar datos tabulares.\n",
    "- Aprender a utilizar la documentación de pandas (y en general, de cualquier librería de python) como también a buscar soluciones en la web.\n",
    "\n",
    "> **Nota**: El laboratorio deberá ser desarrollado sin el uso indiscriminado de iteradores nativos de python (aka \"for\", \"while\"). La idea es que aprendan a exprimir al máximo las funciones optimizadas que nos entrega `pandas`, las cuales vale mencionar, son bastante más eficientes que los iteradores nativos sobre DataFrames."
   ]
  },
  {
   "cell_type": "markdown",
   "metadata": {
    "cell_id": "00007-93c4d22f-7d4f-4cc0-bca9-a2c35a9b8b3e",
    "deepnote_cell_height": 62,
    "deepnote_cell_type": "markdown",
    "id": "MhISwri4zAHy"
   },
   "source": [
    "### Librerias utiles para el Lab 😸"
   ]
  },
  {
   "cell_type": "code",
   "execution_count": 166,
   "metadata": {
    "ExecuteTime": {
     "end_time": "2021-03-29T00:08:16.884674Z",
     "start_time": "2021-03-29T00:08:16.349846Z"
    },
    "cell_id": "00008-58834915-07fa-4589-93b7-f1fb0c08b816",
    "colab": {
     "base_uri": "https://localhost:8080/"
    },
    "deepnote_cell_height": 327,
    "deepnote_cell_type": "code",
    "deepnote_to_be_reexecuted": false,
    "executionInfo": {
     "elapsed": 4847,
     "status": "ok",
     "timestamp": 1619205948702,
     "user": {
      "displayName": "IGNACIO ALEJANDRO MEZA",
      "photoUrl": "",
      "userId": "17011121633069169364"
     },
     "user_tz": 240
    },
    "execution_millis": 4154,
    "execution_start": 1632493418117,
    "id": "uyc33dKdzAHy",
    "outputId": "0b8ebbb5-c76c-45a4-9d3e-1b6dba06a278",
    "source_hash": "8da0b14b"
   },
   "outputs": [],
   "source": [
    "# Libreria Core del lab.\n",
    "import numpy as np\n",
    "import pandas as pd\n",
    "from IPython.display import display\n",
    "\n",
    "#Libreria para plotear\n",
    "# !pip install --upgrade plotly\n",
    "import plotly.express as px\n",
    "\n",
    "# Librerias utiles\n",
    "from sklearn.preprocessing import StandardScaler"
   ]
  },
  {
   "cell_type": "markdown",
   "metadata": {
    "cell_id": "00009-429ae3f2-fb38-4b64-b588-014a84e630dd",
    "deepnote_cell_height": 82,
    "deepnote_cell_type": "markdown",
    "id": "xpOTbQcxbSiy"
   },
   "source": [
    "# 1. Rendimiento en Estudiantes 📚"
   ]
  },
  {
   "cell_type": "markdown",
   "metadata": {
    "cell_id": "00010-37be44cf-4558-4ba9-83df-767bf4f1905d",
    "deepnote_cell_height": 46,
    "deepnote_cell_type": "markdown",
    "id": "3Q93vbNS25bM"
   },
   "source": []
  },
  {
   "cell_type": "markdown",
   "metadata": {
    "cell_id": "00011-2ad31a90-832d-4d5e-9c29-4e5d686375fa",
    "deepnote_cell_height": 119.59375,
    "deepnote_cell_type": "markdown",
    "id": "jnmZfFpxTTYX"
   },
   "source": [
    "Para este laboratorio deberán trabajar con el dataset `students_grades.json` el cual contiene información sobre el rendimiento de alumnos en distintos ramos. \n",
    "El objetivo principal será el de realizar un trabajo de limpieza de prepración y exploración de datos utilizando exclusivamente `DataFrames` y sus métodos asociados. \n",
    "\n",
    "\n"
   ]
  },
  {
   "cell_type": "code",
   "execution_count": null,
   "metadata": {
    "cell_id": "00012-6ef52018-06ac-4eb8-8b0a-4142b81e04aa",
    "colab": {
     "base_uri": "https://localhost:8080/"
    },
    "deepnote_cell_height": 215,
    "deepnote_cell_type": "code",
    "deepnote_to_be_reexecuted": false,
    "executionInfo": {
     "elapsed": 625,
     "status": "ok",
     "timestamp": 1619205948705,
     "user": {
      "displayName": "IGNACIO ALEJANDRO MEZA",
      "photoUrl": "",
      "userId": "17011121633069169364"
     },
     "user_tz": 240
    },
    "execution_millis": 8,
    "execution_start": 1632493422315,
    "id": "Jqq-s010Iwl1",
    "outputId": "d90c065b-1e2f-43f6-81eb-c92ed177f5f5",
    "source_hash": "c60dc4a7"
   },
   "outputs": [
    {
     "name": "stdout",
     "output_type": "stream",
     "text": [
      "Ignorando conexión drive-colab\n"
     ]
    }
   ],
   "source": [
    "# Si usted está utilizando Colabolatory le puede ser útil este código para cargar los archivos.\n",
    "try:\n",
    "    from google.colab import drive\n",
    "    drive.mount(\"/content/drive\")\n",
    "    path = 'Dirección donde tiene los archivos en el Drive'\n",
    "except: \n",
    "    print('Ignorando conexión drive-colab')"
   ]
  },
  {
   "cell_type": "markdown",
   "metadata": {
    "cell_id": "00013-61182eec-37fa-401b-8e56-9aec91671835",
    "deepnote_cell_height": 493.1875,
    "deepnote_cell_type": "markdown",
    "id": "Y7sGYwOpN1VJ"
   },
   "source": [
    "## 1.1 Carga e Inspección de Datos [1.5 Puntos]\n",
    "\n",
    "\n",
    "<p align=\"center\">\n",
    "  <img src=\"https://drive.google.com/uc?export=view&id=1hZZaPQlZe4VupFOXt76_wjuUA5NpUhrw\" width=\"300\" height=\"300\">\n",
    "</p>\n"
   ]
  },
  {
   "cell_type": "markdown",
   "metadata": {
    "cell_id": "00014-19b7ef4c-d646-4d3c-bc96-0fcf03730924",
    "deepnote_cell_height": 822.796875,
    "deepnote_cell_type": "markdown",
    "tags": []
   },
   "source": [
    "*Don Caguayo*, rector de la Universidad de la Cachaña, les comenta que actualmente la Universidad no tiene una subdirección de análisis de datos, pero que tiene un gran interés en formar una. Es por esto, que se contacta con ud. y su equipo para iniciar de forma exploratoria diversas tareas de análisis y consolidación de datos respectivos al rendimiento de sus alumnos.\n",
    "\n",
    "Previo a su primera reunión con el rector, el rector le envía una copia de la base de datos, la cuál a usted y su equipo le encantaría examinar. Para esto, la primera tarea que debe realizar es abrir y cargar el dataset. \n",
    "\n",
    "\n",
    "> **Notar que es sumamente importante el formato que posee cada columna** para su manipulación y que posiblemente ustedes deberán especificar algunos tipos de datos a mano. Ver la documentación del método `read_json` para mayor información.\n",
    "\n",
    "A continuación se muestra un ejemplo de los dos primeros registros del dataset:\n",
    "\n",
    "```json\n",
    "[\n",
    "  {\n",
    "    \"names\": \"Rita Courtney\",\n",
    "    \"gender\": \"female\",\n",
    "    \"race/ethnicity\": \"group B\",\n",
    "    \"parental level of education\": \"some high school\",\n",
    "    \"lunch\": \"standard\",\n",
    "    \"test preparation course\": \"none\",\n",
    "    \"math score\": 37,\n",
    "    \"reading score\": 46,\n",
    "    \"writing score\": 46\n",
    "  },\n",
    "  {\n",
    "    \"names\": \"Madeline Fuller\",\n",
    "    \"gender\": \"female\",\n",
    "    \"race/ethnicity\": \"group C\",\n",
    "    \"parental level of education\": \"some high school\",\n",
    "    \"lunch\": \"standard\",\n",
    "    \"test preparation course\": \"none\",\n",
    "    \"math score\": 124,\n",
    "    \"reading score\": 142,\n",
    "    \"writing score\": 142\n",
    "  }\n",
    "]\n",
    "```\n",
    "\n",
    "\n",
    "\n"
   ]
  },
  {
   "cell_type": "code",
   "execution_count": 167,
   "metadata": {
    "cell_id": "00014-cf0912c5-504c-459e-a7cb-0bfae6cff886",
    "deepnote_cell_height": 61,
    "deepnote_cell_type": "code",
    "tags": []
   },
   "outputs": [],
   "source": [
    "df_grades = pd.read_json('students_grades.json').replace('',np.nan)"
   ]
  },
  {
   "cell_type": "markdown",
   "metadata": {
    "cell_id": "00014-21b2a755-ee5d-4b46-88cc-1d6ec13f2d8e",
    "deepnote_cell_height": 308,
    "deepnote_cell_type": "markdown",
    "id": "sgVJGeVMMshn"
   },
   "source": [
    "\n",
    "<p align=\"center\">\n",
    "  <img src=\"https://i.giphy.com/media/4FQMuOKR6zQRO/giphy.webp\">\n",
    "</p>\n",
    "\n",
    "\n",
    "Posteriormente, el rector les comenta que la sección de TI posee una base de datos con más de **875** filas, en donde cada fila representa un alumno matriculado. Sin embargo, cree fuertemente que existen errores en esta: solo tiene registro de **875** matriculas. Por este motivo, especula que se han realizado malas prácticas al registrar dichos datos.\n",
    "\n",
    "En consecuencia, el rector les solicita a ustedes como tarea inicial que exploren la base de datos y encuentre posibles falencias dentro de sus registros. Para esto, usted debe estar al tanto que las notas están en una escala que van del **0 al 100** (porcentaje de logro) y **no es posible que un alumno haya dado más de una vez el mismo examen**. Cualquier alumno que posea un valor diferente a esta escala, debería ser eliminado de la base de datos.\n"
   ]
  },
  {
   "cell_type": "markdown",
   "metadata": {
    "cell_id": "00015-e3e66248-1ff0-488e-8455-35ab2d49d172",
    "deepnote_cell_height": 661.796875,
    "deepnote_cell_type": "markdown",
    "tags": []
   },
   "source": [
    "> **Instrucciones**\n",
    "\n",
    "**Cree una función** que tome un `DataFrame` y que le permita revisar si las diferentes variables que lo componen son coherentes y si es posible observar anomalías en estas. \n",
    "\n",
    "**To-Do**\n",
    "1. [X] Imprimir un mensaje con las dimensiones del Dataframe.\n",
    "2. [X] Imprimir un mensaje con los nombres de las columnas que conforman el DataFrame.\n",
    "3. [X] Mostrar los primeros 5, los últimos 5 elementos del DataFrame y realice un muestreo de 5 elementos de forma aleatoria.\n",
    "4. [X] Mostrar una descripción rápida de las variables numéricas del DataFrame (utilice un método visto en clases).\n",
    "5. [X] Imprimir un mensaje con la cantidad de valores nulos (investigue el método `isna()` y `sum()` de los DataFrames).\n",
    "6. [X] Imprimir un mensaje que detalle la cantidad de valores unicos (investigue `nunique()`) .\n",
    "7. [X] Imprimir un mensaje con el total de filas que contengan nombres duplicados (investigue `duplicated()` y su parámetro `subset`).\n",
    "8. [X] Mostrar las filas que contengan nombres sean duplicados (investigue `duplicated()` y su parámetro `subset`).\n",
    "9. [X] A traves de `.plot.box()` plotear el boxplot de las notas. De ser necesario, invetigue como funcionan los gráficos de caja (esta sección es provista).\n",
    "10. [X] Finalmente responda la siguiente pregunta:\n",
    "\n",
    "> ¿Que anomalias es posible observar de los datos que componen el DataFrame? ¿Existen valores nulos o duplicados? ¿Qué puede interpretar de la distribución de las notas en el boxplot? (), comente esto en la celda ubicada debajo de **justificación**.\n",
    "\n",
    "> **Nota:** Para imprmir utilice `print(...)`. Para mostrar `DataFrames`, utilice `display(...)` ya que este permite mostrar estos elementos como tablas.\n",
    "\n",
    "> **Nota 2:** Utilice la documentación de [pandas](https://pandas.pydata.org/docs/index.html) como también StackOverflow para resolver cualquier problema o inconveniente.\n",
    "\n",
    "> **Nota 3:** Si no ha trabajado con boxplot antes, el siguiente link puede serle de mucha ayuda: [boxplot](https://medium.com/dayem-siddiqui/understanding-and-interpreting-box-plots-d07aab9d1b6c) "
   ]
  },
  {
   "cell_type": "markdown",
   "metadata": {
    "cell_id": "00016-f844817e-2dbb-4ef6-8b07-bfb37043bb52",
    "deepnote_cell_height": 52.390625,
    "deepnote_cell_type": "markdown",
    "tags": []
   },
   "source": [
    "**Respuesta:**"
   ]
  },
  {
   "cell_type": "code",
   "execution_count": 180,
   "metadata": {},
   "outputs": [
    {
     "name": "stdout",
     "output_type": "stream",
     "text": [
      "['names', 'gender', 'race/ethnicity', 'parental level of education', 'lunch', 'test preparation course', 'math score', 'reading score', 'writing score']\n"
     ]
    }
   ],
   "source": [
    "print(df_grades.columns.to_list())"
   ]
  },
  {
   "cell_type": "code",
   "execution_count": 181,
   "metadata": {
    "cell_id": "00017-5f922af5-3edd-4012-8688-1573576c2703",
    "deepnote_cell_height": 97,
    "deepnote_cell_type": "code",
    "tags": []
   },
   "outputs": [],
   "source": [
    "def exploratory_data_analysis(dataframe):\n",
    "    print(f'1.- El DataFrame tiene {dataframe.shape[0]} filas y {dataframe.shape[1]} columnas')\n",
    "    print(f'\\n2.- El DataFrame esta compuesto por las siguientes columnas: {dataframe.columns.to_list()}')\n",
    "    print(f'\\n3.- Ejemplos de filas del DataFrame:')\n",
    "    print('\\nPrimeras 5 filas:')\n",
    "    display(dataframe.head())\n",
    "    print('\\nÚltimas 5 filas:')\n",
    "    display(dataframe.tail())\n",
    "    print('\\nMuestreo aleatorio de 5 filas:')\n",
    "    display(dataframe.sample(5))\n",
    "    print('\\n4.- Descripción numérica del DataFrame:')\n",
    "    display(dataframe.describe())\n",
    "    print('\\n5.- Cantidad de valores nulos por columna:')\n",
    "    display(dataframe.isna().sum())\n",
    "    print('\\n6.- Cantidad de valores únicos por columna:')\n",
    "    display(dataframe.nunique())\n",
    "    print(f'\\n7.- Presenta un total de {dataframe.names.duplicated().sum()} filas con nombres duplicados.')\n",
    "    print('\\n8.- Las filas con nombres duplicados son:')\n",
    "    display(dataframe.loc[dataframe.names.duplicated()])\n",
    "    print('\\n9.- Boxplot de notas:')\n",
    "    dataframe.plot.box(figsize=(15,8))\n"
   ]
  },
  {
   "cell_type": "code",
   "execution_count": 182,
   "metadata": {},
   "outputs": [
    {
     "name": "stdout",
     "output_type": "stream",
     "text": [
      "1.- El DataFrame tiene 1400 filas y 9 columnas\n",
      "\n",
      "2.- El DataFrame esta compuesto por las siguientes columnas: ['names', 'gender', 'race/ethnicity', 'parental level of education', 'lunch', 'test preparation course', 'math score', 'reading score', 'writing score']\n",
      "\n",
      "3.- Ejemplos de filas del DataFrame:\n",
      "\n",
      "Primeras 5 filas:\n"
     ]
    },
    {
     "data": {
      "text/html": [
       "<div>\n",
       "<style scoped>\n",
       "    .dataframe tbody tr th:only-of-type {\n",
       "        vertical-align: middle;\n",
       "    }\n",
       "\n",
       "    .dataframe tbody tr th {\n",
       "        vertical-align: top;\n",
       "    }\n",
       "\n",
       "    .dataframe thead th {\n",
       "        text-align: right;\n",
       "    }\n",
       "</style>\n",
       "<table border=\"1\" class=\"dataframe\">\n",
       "  <thead>\n",
       "    <tr style=\"text-align: right;\">\n",
       "      <th></th>\n",
       "      <th>names</th>\n",
       "      <th>gender</th>\n",
       "      <th>race/ethnicity</th>\n",
       "      <th>parental level of education</th>\n",
       "      <th>lunch</th>\n",
       "      <th>test preparation course</th>\n",
       "      <th>math score</th>\n",
       "      <th>reading score</th>\n",
       "      <th>writing score</th>\n",
       "    </tr>\n",
       "  </thead>\n",
       "  <tbody>\n",
       "    <tr>\n",
       "      <th>0</th>\n",
       "      <td>Rita Courtney</td>\n",
       "      <td>female</td>\n",
       "      <td>group B</td>\n",
       "      <td>some high school</td>\n",
       "      <td>standard</td>\n",
       "      <td>none</td>\n",
       "      <td>37.0</td>\n",
       "      <td>46.0</td>\n",
       "      <td>46.0</td>\n",
       "    </tr>\n",
       "    <tr>\n",
       "      <th>1</th>\n",
       "      <td>Madeline Fuller</td>\n",
       "      <td>female</td>\n",
       "      <td>group C</td>\n",
       "      <td>some high school</td>\n",
       "      <td>standard</td>\n",
       "      <td>none</td>\n",
       "      <td>124.0</td>\n",
       "      <td>142.0</td>\n",
       "      <td>142.0</td>\n",
       "    </tr>\n",
       "    <tr>\n",
       "      <th>2</th>\n",
       "      <td>Daniel Rester</td>\n",
       "      <td>male</td>\n",
       "      <td>group E</td>\n",
       "      <td>associate's degree</td>\n",
       "      <td>standard</td>\n",
       "      <td>none</td>\n",
       "      <td>156.0</td>\n",
       "      <td>196.0</td>\n",
       "      <td>193.0</td>\n",
       "    </tr>\n",
       "    <tr>\n",
       "      <th>3</th>\n",
       "      <td>Charles Linstrom</td>\n",
       "      <td>male</td>\n",
       "      <td>group A</td>\n",
       "      <td>bachelor's degree</td>\n",
       "      <td>standard</td>\n",
       "      <td>completed</td>\n",
       "      <td>80.0</td>\n",
       "      <td>78.0</td>\n",
       "      <td>81.0</td>\n",
       "    </tr>\n",
       "    <tr>\n",
       "      <th>4</th>\n",
       "      <td>Geraldine Hale</td>\n",
       "      <td>female</td>\n",
       "      <td>group A</td>\n",
       "      <td>associate's degree</td>\n",
       "      <td>standard</td>\n",
       "      <td>none</td>\n",
       "      <td>131.0</td>\n",
       "      <td>166.0</td>\n",
       "      <td>166.0</td>\n",
       "    </tr>\n",
       "  </tbody>\n",
       "</table>\n",
       "</div>"
      ],
      "text/plain": [
       "              names  gender race/ethnicity parental level of education  \\\n",
       "0     Rita Courtney  female        group B            some high school   \n",
       "1   Madeline Fuller  female        group C            some high school   \n",
       "2     Daniel Rester    male        group E          associate's degree   \n",
       "3  Charles Linstrom    male        group A           bachelor's degree   \n",
       "4    Geraldine Hale  female        group A          associate's degree   \n",
       "\n",
       "      lunch test preparation course  math score  reading score  writing score  \n",
       "0  standard                    none        37.0           46.0           46.0  \n",
       "1  standard                    none       124.0          142.0          142.0  \n",
       "2  standard                    none       156.0          196.0          193.0  \n",
       "3  standard               completed        80.0           78.0           81.0  \n",
       "4  standard                    none       131.0          166.0          166.0  "
      ]
     },
     "metadata": {},
     "output_type": "display_data"
    },
    {
     "name": "stdout",
     "output_type": "stream",
     "text": [
      "\n",
      "Últimas 5 filas:\n"
     ]
    },
    {
     "data": {
      "text/html": [
       "<div>\n",
       "<style scoped>\n",
       "    .dataframe tbody tr th:only-of-type {\n",
       "        vertical-align: middle;\n",
       "    }\n",
       "\n",
       "    .dataframe tbody tr th {\n",
       "        vertical-align: top;\n",
       "    }\n",
       "\n",
       "    .dataframe thead th {\n",
       "        text-align: right;\n",
       "    }\n",
       "</style>\n",
       "<table border=\"1\" class=\"dataframe\">\n",
       "  <thead>\n",
       "    <tr style=\"text-align: right;\">\n",
       "      <th></th>\n",
       "      <th>names</th>\n",
       "      <th>gender</th>\n",
       "      <th>race/ethnicity</th>\n",
       "      <th>parental level of education</th>\n",
       "      <th>lunch</th>\n",
       "      <th>test preparation course</th>\n",
       "      <th>math score</th>\n",
       "      <th>reading score</th>\n",
       "      <th>writing score</th>\n",
       "    </tr>\n",
       "  </thead>\n",
       "  <tbody>\n",
       "    <tr>\n",
       "      <th>1395</th>\n",
       "      <td>Alexander Dillon</td>\n",
       "      <td>male</td>\n",
       "      <td>group D</td>\n",
       "      <td>associate's degree</td>\n",
       "      <td>standard</td>\n",
       "      <td>none</td>\n",
       "      <td>193.0</td>\n",
       "      <td>142.0</td>\n",
       "      <td>193.0</td>\n",
       "    </tr>\n",
       "    <tr>\n",
       "      <th>1396</th>\n",
       "      <td>Marina Zeigler</td>\n",
       "      <td>female</td>\n",
       "      <td>group C</td>\n",
       "      <td>bachelor's degree</td>\n",
       "      <td>free/reduced</td>\n",
       "      <td>completed</td>\n",
       "      <td>66.0</td>\n",
       "      <td>74.0</td>\n",
       "      <td>81.0</td>\n",
       "    </tr>\n",
       "    <tr>\n",
       "      <th>1397</th>\n",
       "      <td>Laurie Carter</td>\n",
       "      <td>female</td>\n",
       "      <td>group B</td>\n",
       "      <td>some high school</td>\n",
       "      <td>standard</td>\n",
       "      <td>completed</td>\n",
       "      <td>54.0</td>\n",
       "      <td>61.0</td>\n",
       "      <td>62.0</td>\n",
       "    </tr>\n",
       "    <tr>\n",
       "      <th>1398</th>\n",
       "      <td>Joseph Mccoy</td>\n",
       "      <td>male</td>\n",
       "      <td>group D</td>\n",
       "      <td>some college</td>\n",
       "      <td>free/reduced</td>\n",
       "      <td>none</td>\n",
       "      <td>193.0</td>\n",
       "      <td>196.0</td>\n",
       "      <td>193.0</td>\n",
       "    </tr>\n",
       "    <tr>\n",
       "      <th>1399</th>\n",
       "      <td>Amanda Perez</td>\n",
       "      <td>female</td>\n",
       "      <td>group A</td>\n",
       "      <td>high school</td>\n",
       "      <td>standard</td>\n",
       "      <td>completed</td>\n",
       "      <td>68.0</td>\n",
       "      <td>80.0</td>\n",
       "      <td>76.0</td>\n",
       "    </tr>\n",
       "  </tbody>\n",
       "</table>\n",
       "</div>"
      ],
      "text/plain": [
       "                 names  gender race/ethnicity parental level of education  \\\n",
       "1395  Alexander Dillon    male        group D          associate's degree   \n",
       "1396    Marina Zeigler  female        group C           bachelor's degree   \n",
       "1397     Laurie Carter  female        group B            some high school   \n",
       "1398      Joseph Mccoy    male        group D                some college   \n",
       "1399      Amanda Perez  female        group A                 high school   \n",
       "\n",
       "             lunch test preparation course  math score  reading score  \\\n",
       "1395      standard                    none       193.0          142.0   \n",
       "1396  free/reduced               completed        66.0           74.0   \n",
       "1397      standard               completed        54.0           61.0   \n",
       "1398  free/reduced                    none       193.0          196.0   \n",
       "1399      standard               completed        68.0           80.0   \n",
       "\n",
       "      writing score  \n",
       "1395          193.0  \n",
       "1396           81.0  \n",
       "1397           62.0  \n",
       "1398          193.0  \n",
       "1399           76.0  "
      ]
     },
     "metadata": {},
     "output_type": "display_data"
    },
    {
     "name": "stdout",
     "output_type": "stream",
     "text": [
      "\n",
      "Muestreo aleatorio de 5 filas:\n"
     ]
    },
    {
     "data": {
      "text/html": [
       "<div>\n",
       "<style scoped>\n",
       "    .dataframe tbody tr th:only-of-type {\n",
       "        vertical-align: middle;\n",
       "    }\n",
       "\n",
       "    .dataframe tbody tr th {\n",
       "        vertical-align: top;\n",
       "    }\n",
       "\n",
       "    .dataframe thead th {\n",
       "        text-align: right;\n",
       "    }\n",
       "</style>\n",
       "<table border=\"1\" class=\"dataframe\">\n",
       "  <thead>\n",
       "    <tr style=\"text-align: right;\">\n",
       "      <th></th>\n",
       "      <th>names</th>\n",
       "      <th>gender</th>\n",
       "      <th>race/ethnicity</th>\n",
       "      <th>parental level of education</th>\n",
       "      <th>lunch</th>\n",
       "      <th>test preparation course</th>\n",
       "      <th>math score</th>\n",
       "      <th>reading score</th>\n",
       "      <th>writing score</th>\n",
       "    </tr>\n",
       "  </thead>\n",
       "  <tbody>\n",
       "    <tr>\n",
       "      <th>1095</th>\n",
       "      <td>Emmanuel Weeks</td>\n",
       "      <td>male</td>\n",
       "      <td>group D</td>\n",
       "      <td>some college</td>\n",
       "      <td>standard</td>\n",
       "      <td>completed</td>\n",
       "      <td>NaN</td>\n",
       "      <td>174.0</td>\n",
       "      <td>NaN</td>\n",
       "    </tr>\n",
       "    <tr>\n",
       "      <th>1230</th>\n",
       "      <td>Larry Braun</td>\n",
       "      <td>male</td>\n",
       "      <td>group C</td>\n",
       "      <td>some high school</td>\n",
       "      <td>free/reduced</td>\n",
       "      <td>completed</td>\n",
       "      <td>53.0</td>\n",
       "      <td>37.0</td>\n",
       "      <td>40.0</td>\n",
       "    </tr>\n",
       "    <tr>\n",
       "      <th>1074</th>\n",
       "      <td>Patrick Watson</td>\n",
       "      <td>male</td>\n",
       "      <td>group D</td>\n",
       "      <td>some college</td>\n",
       "      <td>free/reduced</td>\n",
       "      <td>none</td>\n",
       "      <td>59.0</td>\n",
       "      <td>62.0</td>\n",
       "      <td>61.0</td>\n",
       "    </tr>\n",
       "    <tr>\n",
       "      <th>347</th>\n",
       "      <td>Elizabeth Camacho</td>\n",
       "      <td>female</td>\n",
       "      <td>group D</td>\n",
       "      <td>bachelor's degree</td>\n",
       "      <td>standard</td>\n",
       "      <td>completed</td>\n",
       "      <td>124.0</td>\n",
       "      <td>193.0</td>\n",
       "      <td>128.0</td>\n",
       "    </tr>\n",
       "    <tr>\n",
       "      <th>1047</th>\n",
       "      <td>William Gambino</td>\n",
       "      <td>male</td>\n",
       "      <td>group D</td>\n",
       "      <td>associate's degree</td>\n",
       "      <td>standard</td>\n",
       "      <td>none</td>\n",
       "      <td>80.0</td>\n",
       "      <td>63.0</td>\n",
       "      <td>63.0</td>\n",
       "    </tr>\n",
       "  </tbody>\n",
       "</table>\n",
       "</div>"
      ],
      "text/plain": [
       "                  names  gender race/ethnicity parental level of education  \\\n",
       "1095     Emmanuel Weeks    male        group D                some college   \n",
       "1230        Larry Braun    male        group C            some high school   \n",
       "1074     Patrick Watson    male        group D                some college   \n",
       "347   Elizabeth Camacho  female        group D           bachelor's degree   \n",
       "1047    William Gambino    male        group D          associate's degree   \n",
       "\n",
       "             lunch test preparation course  math score  reading score  \\\n",
       "1095      standard               completed         NaN          174.0   \n",
       "1230  free/reduced               completed        53.0           37.0   \n",
       "1074  free/reduced                    none        59.0           62.0   \n",
       "347       standard               completed       124.0          193.0   \n",
       "1047      standard                    none        80.0           63.0   \n",
       "\n",
       "      writing score  \n",
       "1095            NaN  \n",
       "1230           40.0  \n",
       "1074           61.0  \n",
       "347           128.0  \n",
       "1047           63.0  "
      ]
     },
     "metadata": {},
     "output_type": "display_data"
    },
    {
     "name": "stdout",
     "output_type": "stream",
     "text": [
      "\n",
      "4.- Descripción numérica del DataFrame:\n"
     ]
    },
    {
     "data": {
      "text/html": [
       "<div>\n",
       "<style scoped>\n",
       "    .dataframe tbody tr th:only-of-type {\n",
       "        vertical-align: middle;\n",
       "    }\n",
       "\n",
       "    .dataframe tbody tr th {\n",
       "        vertical-align: top;\n",
       "    }\n",
       "\n",
       "    .dataframe thead th {\n",
       "        text-align: right;\n",
       "    }\n",
       "</style>\n",
       "<table border=\"1\" class=\"dataframe\">\n",
       "  <thead>\n",
       "    <tr style=\"text-align: right;\">\n",
       "      <th></th>\n",
       "      <th>math score</th>\n",
       "      <th>reading score</th>\n",
       "      <th>writing score</th>\n",
       "    </tr>\n",
       "  </thead>\n",
       "  <tbody>\n",
       "    <tr>\n",
       "      <th>count</th>\n",
       "      <td>1360.000000</td>\n",
       "      <td>1360.000000</td>\n",
       "      <td>1353.000000</td>\n",
       "    </tr>\n",
       "    <tr>\n",
       "      <th>mean</th>\n",
       "      <td>89.538971</td>\n",
       "      <td>93.086029</td>\n",
       "      <td>91.852919</td>\n",
       "    </tr>\n",
       "    <tr>\n",
       "      <th>std</th>\n",
       "      <td>47.152422</td>\n",
       "      <td>46.385775</td>\n",
       "      <td>47.043570</td>\n",
       "    </tr>\n",
       "    <tr>\n",
       "      <th>min</th>\n",
       "      <td>0.000000</td>\n",
       "      <td>17.000000</td>\n",
       "      <td>10.000000</td>\n",
       "    </tr>\n",
       "    <tr>\n",
       "      <th>25%</th>\n",
       "      <td>59.000000</td>\n",
       "      <td>63.000000</td>\n",
       "      <td>62.000000</td>\n",
       "    </tr>\n",
       "    <tr>\n",
       "      <th>50%</th>\n",
       "      <td>72.000000</td>\n",
       "      <td>76.000000</td>\n",
       "      <td>75.000000</td>\n",
       "    </tr>\n",
       "    <tr>\n",
       "      <th>75%</th>\n",
       "      <td>97.250000</td>\n",
       "      <td>100.000000</td>\n",
       "      <td>100.000000</td>\n",
       "    </tr>\n",
       "    <tr>\n",
       "      <th>max</th>\n",
       "      <td>196.000000</td>\n",
       "      <td>196.000000</td>\n",
       "      <td>196.000000</td>\n",
       "    </tr>\n",
       "  </tbody>\n",
       "</table>\n",
       "</div>"
      ],
      "text/plain": [
       "        math score  reading score  writing score\n",
       "count  1360.000000    1360.000000    1353.000000\n",
       "mean     89.538971      93.086029      91.852919\n",
       "std      47.152422      46.385775      47.043570\n",
       "min       0.000000      17.000000      10.000000\n",
       "25%      59.000000      63.000000      62.000000\n",
       "50%      72.000000      76.000000      75.000000\n",
       "75%      97.250000     100.000000     100.000000\n",
       "max     196.000000     196.000000     196.000000"
      ]
     },
     "metadata": {},
     "output_type": "display_data"
    },
    {
     "name": "stdout",
     "output_type": "stream",
     "text": [
      "\n",
      "5.- Cantidad de valores nulos por columna:\n"
     ]
    },
    {
     "data": {
      "text/plain": [
       "names                           0\n",
       "gender                          0\n",
       "race/ethnicity                  0\n",
       "parental level of education     0\n",
       "lunch                           0\n",
       "test preparation course         0\n",
       "math score                     40\n",
       "reading score                  40\n",
       "writing score                  47\n",
       "dtype: int64"
      ]
     },
     "metadata": {},
     "output_type": "display_data"
    },
    {
     "name": "stdout",
     "output_type": "stream",
     "text": [
      "\n",
      "6.- Cantidad de valores únicos por columna:\n"
     ]
    },
    {
     "data": {
      "text/plain": [
       "names                          1153\n",
       "gender                            2\n",
       "race/ethnicity                    5\n",
       "parental level of education       6\n",
       "lunch                             2\n",
       "test preparation course           2\n",
       "math score                       96\n",
       "reading score                    88\n",
       "writing score                    92\n",
       "dtype: int64"
      ]
     },
     "metadata": {},
     "output_type": "display_data"
    },
    {
     "name": "stdout",
     "output_type": "stream",
     "text": [
      "\n",
      "7.- Presenta un total de 247 filas con nombres duplicados.\n",
      "\n",
      "8.- Las filas con nombres duplicados son:\n"
     ]
    },
    {
     "data": {
      "text/html": [
       "<div>\n",
       "<style scoped>\n",
       "    .dataframe tbody tr th:only-of-type {\n",
       "        vertical-align: middle;\n",
       "    }\n",
       "\n",
       "    .dataframe tbody tr th {\n",
       "        vertical-align: top;\n",
       "    }\n",
       "\n",
       "    .dataframe thead th {\n",
       "        text-align: right;\n",
       "    }\n",
       "</style>\n",
       "<table border=\"1\" class=\"dataframe\">\n",
       "  <thead>\n",
       "    <tr style=\"text-align: right;\">\n",
       "      <th></th>\n",
       "      <th>names</th>\n",
       "      <th>gender</th>\n",
       "      <th>race/ethnicity</th>\n",
       "      <th>parental level of education</th>\n",
       "      <th>lunch</th>\n",
       "      <th>test preparation course</th>\n",
       "      <th>math score</th>\n",
       "      <th>reading score</th>\n",
       "      <th>writing score</th>\n",
       "    </tr>\n",
       "  </thead>\n",
       "  <tbody>\n",
       "    <tr>\n",
       "      <th>12</th>\n",
       "      <td>Rita Courtney</td>\n",
       "      <td>female</td>\n",
       "      <td>group B</td>\n",
       "      <td>some high school</td>\n",
       "      <td>standard</td>\n",
       "      <td>none</td>\n",
       "      <td>193.0</td>\n",
       "      <td>193.0</td>\n",
       "      <td>193.0</td>\n",
       "    </tr>\n",
       "    <tr>\n",
       "      <th>81</th>\n",
       "      <td>Elizabeth Quintero</td>\n",
       "      <td>female</td>\n",
       "      <td>group B</td>\n",
       "      <td>some college</td>\n",
       "      <td>standard</td>\n",
       "      <td>none</td>\n",
       "      <td>82.0</td>\n",
       "      <td>85.0</td>\n",
       "      <td>87.0</td>\n",
       "    </tr>\n",
       "    <tr>\n",
       "      <th>160</th>\n",
       "      <td>Michelle Gonzales</td>\n",
       "      <td>female</td>\n",
       "      <td>group B</td>\n",
       "      <td>some high school</td>\n",
       "      <td>standard</td>\n",
       "      <td>completed</td>\n",
       "      <td>60.0</td>\n",
       "      <td>70.0</td>\n",
       "      <td>74.0</td>\n",
       "    </tr>\n",
       "    <tr>\n",
       "      <th>170</th>\n",
       "      <td>Carla Mendoza</td>\n",
       "      <td>female</td>\n",
       "      <td>group D</td>\n",
       "      <td>associate's degree</td>\n",
       "      <td>free/reduced</td>\n",
       "      <td>none</td>\n",
       "      <td>43.0</td>\n",
       "      <td>60.0</td>\n",
       "      <td>58.0</td>\n",
       "    </tr>\n",
       "    <tr>\n",
       "      <th>176</th>\n",
       "      <td>Darlene Parker</td>\n",
       "      <td>female</td>\n",
       "      <td>group C</td>\n",
       "      <td>associate's degree</td>\n",
       "      <td>standard</td>\n",
       "      <td>none</td>\n",
       "      <td>54.0</td>\n",
       "      <td>61.0</td>\n",
       "      <td>58.0</td>\n",
       "    </tr>\n",
       "    <tr>\n",
       "      <th>...</th>\n",
       "      <td>...</td>\n",
       "      <td>...</td>\n",
       "      <td>...</td>\n",
       "      <td>...</td>\n",
       "      <td>...</td>\n",
       "      <td>...</td>\n",
       "      <td>...</td>\n",
       "      <td>...</td>\n",
       "      <td>...</td>\n",
       "    </tr>\n",
       "    <tr>\n",
       "      <th>1385</th>\n",
       "      <td>James Crawford</td>\n",
       "      <td>male</td>\n",
       "      <td>group D</td>\n",
       "      <td>master's degree</td>\n",
       "      <td>standard</td>\n",
       "      <td>none</td>\n",
       "      <td>193.0</td>\n",
       "      <td>147.0</td>\n",
       "      <td>131.0</td>\n",
       "    </tr>\n",
       "    <tr>\n",
       "      <th>1390</th>\n",
       "      <td>Gloria Bradford</td>\n",
       "      <td>female</td>\n",
       "      <td>group B</td>\n",
       "      <td>high school</td>\n",
       "      <td>standard</td>\n",
       "      <td>none</td>\n",
       "      <td>124.0</td>\n",
       "      <td>64.0</td>\n",
       "      <td>193.0</td>\n",
       "    </tr>\n",
       "    <tr>\n",
       "      <th>1393</th>\n",
       "      <td>Adam Romero</td>\n",
       "      <td>male</td>\n",
       "      <td>group C</td>\n",
       "      <td>high school</td>\n",
       "      <td>standard</td>\n",
       "      <td>completed</td>\n",
       "      <td>124.0</td>\n",
       "      <td>193.0</td>\n",
       "      <td>49.0</td>\n",
       "    </tr>\n",
       "    <tr>\n",
       "      <th>1395</th>\n",
       "      <td>Alexander Dillon</td>\n",
       "      <td>male</td>\n",
       "      <td>group D</td>\n",
       "      <td>associate's degree</td>\n",
       "      <td>standard</td>\n",
       "      <td>none</td>\n",
       "      <td>193.0</td>\n",
       "      <td>142.0</td>\n",
       "      <td>193.0</td>\n",
       "    </tr>\n",
       "    <tr>\n",
       "      <th>1398</th>\n",
       "      <td>Joseph Mccoy</td>\n",
       "      <td>male</td>\n",
       "      <td>group D</td>\n",
       "      <td>some college</td>\n",
       "      <td>free/reduced</td>\n",
       "      <td>none</td>\n",
       "      <td>193.0</td>\n",
       "      <td>196.0</td>\n",
       "      <td>193.0</td>\n",
       "    </tr>\n",
       "  </tbody>\n",
       "</table>\n",
       "<p>247 rows × 9 columns</p>\n",
       "</div>"
      ],
      "text/plain": [
       "                   names  gender race/ethnicity parental level of education  \\\n",
       "12         Rita Courtney  female        group B            some high school   \n",
       "81    Elizabeth Quintero  female        group B                some college   \n",
       "160    Michelle Gonzales  female        group B            some high school   \n",
       "170        Carla Mendoza  female        group D          associate's degree   \n",
       "176       Darlene Parker  female        group C          associate's degree   \n",
       "...                  ...     ...            ...                         ...   \n",
       "1385      James Crawford    male        group D             master's degree   \n",
       "1390     Gloria Bradford  female        group B                 high school   \n",
       "1393         Adam Romero    male        group C                 high school   \n",
       "1395    Alexander Dillon    male        group D          associate's degree   \n",
       "1398        Joseph Mccoy    male        group D                some college   \n",
       "\n",
       "             lunch test preparation course  math score  reading score  \\\n",
       "12        standard                    none       193.0          193.0   \n",
       "81        standard                    none        82.0           85.0   \n",
       "160       standard               completed        60.0           70.0   \n",
       "170   free/reduced                    none        43.0           60.0   \n",
       "176       standard                    none        54.0           61.0   \n",
       "...            ...                     ...         ...            ...   \n",
       "1385      standard                    none       193.0          147.0   \n",
       "1390      standard                    none       124.0           64.0   \n",
       "1393      standard               completed       124.0          193.0   \n",
       "1395      standard                    none       193.0          142.0   \n",
       "1398  free/reduced                    none       193.0          196.0   \n",
       "\n",
       "      writing score  \n",
       "12            193.0  \n",
       "81             87.0  \n",
       "160            74.0  \n",
       "170            58.0  \n",
       "176            58.0  \n",
       "...             ...  \n",
       "1385          131.0  \n",
       "1390          193.0  \n",
       "1393           49.0  \n",
       "1395          193.0  \n",
       "1398          193.0  \n",
       "\n",
       "[247 rows x 9 columns]"
      ]
     },
     "metadata": {},
     "output_type": "display_data"
    },
    {
     "name": "stdout",
     "output_type": "stream",
     "text": [
      "\n",
      "9.- Boxplot de notas:\n"
     ]
    },
    {
     "data": {
      "image/png": "[encoded data removed]",
      "text/plain": [
       "<Figure size 1080x576 with 1 Axes>"
      ]
     },
     "metadata": {
      "needs_background": "light"
     },
     "output_type": "display_data"
    }
   ],
   "source": [
    "exploratory_data_analysis(df_grades)"
   ]
  },
  {
   "cell_type": "markdown",
   "metadata": {
    "cell_id": "00021-f548a297-97a4-4d9b-9501-ae5571aa3068",
    "deepnote_cell_height": 52.390625,
    "deepnote_cell_type": "markdown",
    "id": "nxRj-Hi2QUHQ"
   },
   "source": [
    "**Justificación:**"
   ]
  },
  {
   "cell_type": "markdown",
   "metadata": {
    "cell_id": "00022-a0fee108-5903-4074-8b11-104b98a94a67",
    "deepnote_cell_height": 70.796875,
    "deepnote_cell_type": "markdown",
    "id": "CR2ZEOcbQW9X"
   },
   "source": [
    "```\n",
    "De las anomalías en los datos que componen el DataFrame, se pueden encontrar datos inválidos o nulos y también valores duplicados. Respecto a los datos nulos, se puede decir que corresponden a strings vacíos '', que podrían indicar que falta una nota. Estos fueron reemplazados como un np.nan al cargar los datos, para que de esta manera se puedan cuantificar durante la exploración. Respecto a los valores duplicados se tiene que existen 247 de éstos, lo que no puede ser, por lo que se consideran anomalías que debiesen descartarse.\n",
    "\n",
    "Al observar el boxplot generado a partir de las notas, se tiene a que el rango de datos se extiende más allá del valor máximo que es 100. De hecho, algunos de estos datos que se exceden, llegar a ser considerados como outliers dentro del boxplot (representados como puntos). Luego, la mayoría de las notas se concentran en valores bajo 100, lo que va en línea del supuesto de que así deberían ser efectivamente. Finalmente, la mayoría de las notas están cercanas al 75% de logro, por lo que dentro de este dataset, a la gente le fue relativamente bien.\n",
    "```"
   ]
  },
  {
   "cell_type": "markdown",
   "metadata": {
    "cell_id": "00017-b4a9f1a1-c50d-47f6-95af-4ce1416feed7",
    "deepnote_cell_height": 52.390625,
    "deepnote_cell_type": "markdown",
    "id": "45jxMTJHNPC3"
   },
   "source": [
    "**Respuesta Esperada:**"
   ]
  },
  {
   "cell_type": "code",
   "execution_count": null,
   "metadata": {
    "cell_id": "00020-9bc24dfa-b47a-4545-8336-6470008a1527",
    "colab": {
     "base_uri": "https://localhost:8080/",
     "height": 1000
    },
    "deepnote_cell_height": 3055.796875,
    "deepnote_cell_type": "code",
    "deepnote_to_be_reexecuted": false,
    "executionInfo": {
     "elapsed": 565,
     "status": "ok",
     "timestamp": 1619205954456,
     "user": {
      "displayName": "IGNACIO ALEJANDRO MEZA",
      "photoUrl": "",
      "userId": "17011121633069169364"
     },
     "user_tz": 240
    },
    "execution_millis": 1940,
    "execution_start": 1632493422320,
    "id": "Vu2Y7Q4wuBXg",
    "outputId": "589784c1-3dc8-4c6a-c63d-2d0aa4211878",
    "source_hash": "fc6a5c17"
   },
   "outputs": [
    {
     "name": "stdout",
     "output_type": "stream",
     "text": [
      "1.- El DataFrame tiene 1400 filas y 9 columnas\n",
      "\n",
      "2.- El DataFrame esta compuesto por las siguientes columnas: ['names', 'gender', 'race/ethnicity', 'parental level of education', 'lunch', 'test preparation course', 'math score', 'reading score', 'writing score']\n",
      "\n",
      "3.- Ejemplos de filas del DataFrame:\n",
      "\n",
      "Primeras 5 filas:\n"
     ]
    },
    {
     "data": {
      "application/vnd.deepnote.dataframe.v2+json": {
       "column_count": 9,
       "columns": [
        {
         "dtype": "object",
         "name": "names",
         "stats": {
          "categories": [
           {
            "count": 1,
            "name": "Rita Courtney"
           },
           {
            "count": 1,
            "name": "Madeline Fuller"
           },
           {
            "count": 3,
            "name": "3 others"
           }
          ],
          "nan_count": 0,
          "unique_count": 5
         }
        },
        {
         "dtype": "object",
         "name": "gender",
         "stats": {
          "categories": [
           {
            "count": 3,
            "name": "female"
           },
           {
            "count": 2,
            "name": "male"
           }
          ],
          "nan_count": 0,
          "unique_count": 2
         }
        },
        {
         "dtype": "object",
         "name": "race/ethnicity",
         "stats": {
          "categories": [
           {
            "count": 2,
            "name": "group A"
           },
           {
            "count": 1,
            "name": "group B"
           },
           {
            "count": 2,
            "name": "2 others"
           }
          ],
          "nan_count": 0,
          "unique_count": 4
         }
        },
        {
         "dtype": "object",
         "name": "parental level of education",
         "stats": {
          "categories": [
           {
            "count": 2,
            "name": "some high school"
           },
           {
            "count": 2,
            "name": "associate's degree"
           },
           {
            "count": 1,
            "name": "bachelor's degree"
           }
          ],
          "nan_count": 0,
          "unique_count": 3
         }
        },
        {
         "dtype": "object",
         "name": "lunch",
         "stats": {
          "categories": [
           {
            "count": 5,
            "name": "standard"
           }
          ],
          "nan_count": 0,
          "unique_count": 1
         }
        },
        {
         "dtype": "object",
         "name": "test preparation course",
         "stats": {
          "categories": [
           {
            "count": 4,
            "name": "none"
           },
           {
            "count": 1,
            "name": "completed"
           }
          ],
          "nan_count": 0,
          "unique_count": 2
         }
        },
        {
         "dtype": "float64",
         "name": "math score",
         "stats": {
          "histogram": [
           {
            "bin_end": 48.9,
            "bin_start": 37,
            "count": 1
           },
           {
            "bin_end": 60.8,
            "bin_start": 48.9,
            "count": 0
           },
           {
            "bin_end": 72.7,
            "bin_start": 60.8,
            "count": 0
           },
           {
            "bin_end": 84.6,
            "bin_start": 72.7,
            "count": 1
           },
           {
            "bin_end": 96.5,
            "bin_start": 84.6,
            "count": 0
           },
           {
            "bin_end": 108.4,
            "bin_start": 96.5,
            "count": 0
           },
           {
            "bin_end": 120.3,
            "bin_start": 108.4,
            "count": 0
           },
           {
            "bin_end": 132.2,
            "bin_start": 120.3,
            "count": 2
           },
           {
            "bin_end": 144.10000000000002,
            "bin_start": 132.2,
            "count": 0
           },
           {
            "bin_end": 156,
            "bin_start": 144.10000000000002,
            "count": 1
           }
          ],
          "max": "156.0",
          "min": "37.0",
          "nan_count": 0,
          "unique_count": 5
         }
        },
        {
         "dtype": "float64",
         "name": "reading score",
         "stats": {
          "histogram": [
           {
            "bin_end": 61,
            "bin_start": 46,
            "count": 1
           },
           {
            "bin_end": 76,
            "bin_start": 61,
            "count": 0
           },
           {
            "bin_end": 91,
            "bin_start": 76,
            "count": 1
           },
           {
            "bin_end": 106,
            "bin_start": 91,
            "count": 0
           },
           {
            "bin_end": 121,
            "bin_start": 106,
            "count": 0
           },
           {
            "bin_end": 136,
            "bin_start": 121,
            "count": 0
           },
           {
            "bin_end": 151,
            "bin_start": 136,
            "count": 1
           },
           {
            "bin_end": 166,
            "bin_start": 151,
            "count": 0
           },
           {
            "bin_end": 181,
            "bin_start": 166,
            "count": 1
           },
           {
            "bin_end": 196,
            "bin_start": 181,
            "count": 1
           }
          ],
          "max": "196.0",
          "min": "46.0",
          "nan_count": 0,
          "unique_count": 5
         }
        },
        {
         "dtype": "float64",
         "name": "writing score",
         "stats": {
          "histogram": [
           {
            "bin_end": 60.7,
            "bin_start": 46,
            "count": 1
           },
           {
            "bin_end": 75.4,
            "bin_start": 60.7,
            "count": 0
           },
           {
            "bin_end": 90.1,
            "bin_start": 75.4,
            "count": 1
           },
           {
            "bin_end": 104.8,
            "bin_start": 90.1,
            "count": 0
           },
           {
            "bin_end": 119.5,
            "bin_start": 104.8,
            "count": 0
           },
           {
            "bin_end": 134.2,
            "bin_start": 119.5,
            "count": 0
           },
           {
            "bin_end": 148.89999999999998,
            "bin_start": 134.2,
            "count": 1
           },
           {
            "bin_end": 163.6,
            "bin_start": 148.89999999999998,
            "count": 0
           },
           {
            "bin_end": 178.29999999999998,
            "bin_start": 163.6,
            "count": 1
           },
           {
            "bin_end": 193,
            "bin_start": 178.29999999999998,
            "count": 1
           }
          ],
          "max": "193.0",
          "min": "46.0",
          "nan_count": 0,
          "unique_count": 5
         }
        },
        {
         "dtype": "int64",
         "name": "_deepnote_index_column"
        }
       ],
       "row_count": 5,
       "rows_bottom": null,
       "rows_top": [
        {
         "_deepnote_index_column": 0,
         "gender": "female",
         "lunch": "standard",
         "math score": 37,
         "names": "Rita Courtney",
         "parental level of education": "some high school",
         "race/ethnicity": "group B",
         "reading score": 46,
         "test preparation course": "none",
         "writing score": 46
        },
        {
         "_deepnote_index_column": 1,
         "gender": "female",
         "lunch": "standard",
         "math score": 124,
         "names": "Madeline Fuller",
         "parental level of education": "some high school",
         "race/ethnicity": "group C",
         "reading score": 142,
         "test preparation course": "none",
         "writing score": 142
        },
        {
         "_deepnote_index_column": 2,
         "gender": "male",
         "lunch": "standard",
         "math score": 156,
         "names": "Daniel Rester",
         "parental level of education": "associate's degree",
         "race/ethnicity": "group E",
         "reading score": 196,
         "test preparation course": "none",
         "writing score": 193
        },
        {
         "_deepnote_index_column": 3,
         "gender": "male",
         "lunch": "standard",
         "math score": 80,
         "names": "Charles Linstrom",
         "parental level of education": "bachelor's degree",
         "race/ethnicity": "group A",
         "reading score": 78,
         "test preparation course": "completed",
         "writing score": 81
        },
        {
         "_deepnote_index_column": 4,
         "gender": "female",
         "lunch": "standard",
         "math score": 131,
         "names": "Geraldine Hale",
         "parental level of education": "associate's degree",
         "race/ethnicity": "group A",
         "reading score": 166,
         "test preparation course": "none",
         "writing score": 166
        }
       ]
      },
      "text/html": [
       "<div>\n",
       "<style scoped>\n",
       "    .dataframe tbody tr th:only-of-type {\n",
       "        vertical-align: middle;\n",
       "    }\n",
       "\n",
       "    .dataframe tbody tr th {\n",
       "        vertical-align: top;\n",
       "    }\n",
       "\n",
       "    .dataframe thead th {\n",
       "        text-align: right;\n",
       "    }\n",
       "</style>\n",
       "<table border=\"1\" class=\"dataframe\">\n",
       "  <thead>\n",
       "    <tr style=\"text-align: right;\">\n",
       "      <th></th>\n",
       "      <th>names</th>\n",
       "      <th>gender</th>\n",
       "      <th>race/ethnicity</th>\n",
       "      <th>parental level of education</th>\n",
       "      <th>lunch</th>\n",
       "      <th>test preparation course</th>\n",
       "      <th>math score</th>\n",
       "      <th>reading score</th>\n",
       "      <th>writing score</th>\n",
       "    </tr>\n",
       "  </thead>\n",
       "  <tbody>\n",
       "    <tr>\n",
       "      <th>0</th>\n",
       "      <td>Rita Courtney</td>\n",
       "      <td>female</td>\n",
       "      <td>group B</td>\n",
       "      <td>some high school</td>\n",
       "      <td>standard</td>\n",
       "      <td>none</td>\n",
       "      <td>37.0</td>\n",
       "      <td>46.0</td>\n",
       "      <td>46.0</td>\n",
       "    </tr>\n",
       "    <tr>\n",
       "      <th>1</th>\n",
       "      <td>Madeline Fuller</td>\n",
       "      <td>female</td>\n",
       "      <td>group C</td>\n",
       "      <td>some high school</td>\n",
       "      <td>standard</td>\n",
       "      <td>none</td>\n",
       "      <td>124.0</td>\n",
       "      <td>142.0</td>\n",
       "      <td>142.0</td>\n",
       "    </tr>\n",
       "    <tr>\n",
       "      <th>2</th>\n",
       "      <td>Daniel Rester</td>\n",
       "      <td>male</td>\n",
       "      <td>group E</td>\n",
       "      <td>associate's degree</td>\n",
       "      <td>standard</td>\n",
       "      <td>none</td>\n",
       "      <td>156.0</td>\n",
       "      <td>196.0</td>\n",
       "      <td>193.0</td>\n",
       "    </tr>\n",
       "    <tr>\n",
       "      <th>3</th>\n",
       "      <td>Charles Linstrom</td>\n",
       "      <td>male</td>\n",
       "      <td>group A</td>\n",
       "      <td>bachelor's degree</td>\n",
       "      <td>standard</td>\n",
       "      <td>completed</td>\n",
       "      <td>80.0</td>\n",
       "      <td>78.0</td>\n",
       "      <td>81.0</td>\n",
       "    </tr>\n",
       "    <tr>\n",
       "      <th>4</th>\n",
       "      <td>Geraldine Hale</td>\n",
       "      <td>female</td>\n",
       "      <td>group A</td>\n",
       "      <td>associate's degree</td>\n",
       "      <td>standard</td>\n",
       "      <td>none</td>\n",
       "      <td>131.0</td>\n",
       "      <td>166.0</td>\n",
       "      <td>166.0</td>\n",
       "    </tr>\n",
       "  </tbody>\n",
       "</table>\n",
       "</div>"
      ],
      "text/plain": [
       "              names  gender race/ethnicity parental level of education  \\\n",
       "0     Rita Courtney  female        group B            some high school   \n",
       "1   Madeline Fuller  female        group C            some high school   \n",
       "2     Daniel Rester    male        group E          associate's degree   \n",
       "3  Charles Linstrom    male        group A           bachelor's degree   \n",
       "4    Geraldine Hale  female        group A          associate's degree   \n",
       "\n",
       "      lunch test preparation course  math score  reading score  writing score  \n",
       "0  standard                    none        37.0           46.0           46.0  \n",
       "1  standard                    none       124.0          142.0          142.0  \n",
       "2  standard                    none       156.0          196.0          193.0  \n",
       "3  standard               completed        80.0           78.0           81.0  \n",
       "4  standard                    none       131.0          166.0          166.0  "
      ]
     },
     "metadata": {},
     "output_type": "display_data"
    },
    {
     "name": "stdout",
     "output_type": "stream",
     "text": [
      "\n",
      "Últimas 5 filas:\n"
     ]
    },
    {
     "data": {
      "application/vnd.deepnote.dataframe.v2+json": {
       "column_count": 9,
       "columns": [
        {
         "dtype": "object",
         "name": "names",
         "stats": {
          "categories": [
           {
            "count": 1,
            "name": "Alexander Dillon"
           },
           {
            "count": 1,
            "name": "Marina Zeigler"
           },
           {
            "count": 3,
            "name": "3 others"
           }
          ],
          "nan_count": 0,
          "unique_count": 5
         }
        },
        {
         "dtype": "object",
         "name": "gender",
         "stats": {
          "categories": [
           {
            "count": 3,
            "name": "female"
           },
           {
            "count": 2,
            "name": "male"
           }
          ],
          "nan_count": 0,
          "unique_count": 2
         }
        },
        {
         "dtype": "object",
         "name": "race/ethnicity",
         "stats": {
          "categories": [
           {
            "count": 2,
            "name": "group D"
           },
           {
            "count": 1,
            "name": "group C"
           },
           {
            "count": 2,
            "name": "2 others"
           }
          ],
          "nan_count": 0,
          "unique_count": 4
         }
        },
        {
         "dtype": "object",
         "name": "parental level of education",
         "stats": {
          "categories": [
           {
            "count": 1,
            "name": "associate's degree"
           },
           {
            "count": 1,
            "name": "bachelor's degree"
           },
           {
            "count": 3,
            "name": "3 others"
           }
          ],
          "nan_count": 0,
          "unique_count": 5
         }
        },
        {
         "dtype": "object",
         "name": "lunch",
         "stats": {
          "categories": [
           {
            "count": 3,
            "name": "standard"
           },
           {
            "count": 2,
            "name": "free/reduced"
           }
          ],
          "nan_count": 0,
          "unique_count": 2
         }
        },
        {
         "dtype": "object",
         "name": "test preparation course",
         "stats": {
          "categories": [
           {
            "count": 3,
            "name": "completed"
           },
           {
            "count": 2,
            "name": "none"
           }
          ],
          "nan_count": 0,
          "unique_count": 2
         }
        },
        {
         "dtype": "float64",
         "name": "math score",
         "stats": {
          "histogram": [
           {
            "bin_end": 67.9,
            "bin_start": 54,
            "count": 2
           },
           {
            "bin_end": 81.8,
            "bin_start": 67.9,
            "count": 1
           },
           {
            "bin_end": 95.7,
            "bin_start": 81.8,
            "count": 0
           },
           {
            "bin_end": 109.6,
            "bin_start": 95.7,
            "count": 0
           },
           {
            "bin_end": 123.5,
            "bin_start": 109.6,
            "count": 0
           },
           {
            "bin_end": 137.4,
            "bin_start": 123.5,
            "count": 0
           },
           {
            "bin_end": 151.3,
            "bin_start": 137.4,
            "count": 0
           },
           {
            "bin_end": 165.2,
            "bin_start": 151.3,
            "count": 0
           },
           {
            "bin_end": 179.10000000000002,
            "bin_start": 165.2,
            "count": 0
           },
           {
            "bin_end": 193,
            "bin_start": 179.10000000000002,
            "count": 2
           }
          ],
          "max": "193.0",
          "min": "54.0",
          "nan_count": 0,
          "unique_count": 4
         }
        },
        {
         "dtype": "float64",
         "name": "reading score",
         "stats": {
          "histogram": [
           {
            "bin_end": 74.5,
            "bin_start": 61,
            "count": 2
           },
           {
            "bin_end": 88,
            "bin_start": 74.5,
            "count": 1
           },
           {
            "bin_end": 101.5,
            "bin_start": 88,
            "count": 0
           },
           {
            "bin_end": 115,
            "bin_start": 101.5,
            "count": 0
           },
           {
            "bin_end": 128.5,
            "bin_start": 115,
            "count": 0
           },
           {
            "bin_end": 142,
            "bin_start": 128.5,
            "count": 0
           },
           {
            "bin_end": 155.5,
            "bin_start": 142,
            "count": 1
           },
           {
            "bin_end": 169,
            "bin_start": 155.5,
            "count": 0
           },
           {
            "bin_end": 182.5,
            "bin_start": 169,
            "count": 0
           },
           {
            "bin_end": 196,
            "bin_start": 182.5,
            "count": 1
           }
          ],
          "max": "196.0",
          "min": "61.0",
          "nan_count": 0,
          "unique_count": 5
         }
        },
        {
         "dtype": "float64",
         "name": "writing score",
         "stats": {
          "histogram": [
           {
            "bin_end": 75.1,
            "bin_start": 62,
            "count": 1
           },
           {
            "bin_end": 88.2,
            "bin_start": 75.1,
            "count": 2
           },
           {
            "bin_end": 101.3,
            "bin_start": 88.2,
            "count": 0
           },
           {
            "bin_end": 114.4,
            "bin_start": 101.3,
            "count": 0
           },
           {
            "bin_end": 127.5,
            "bin_start": 114.4,
            "count": 0
           },
           {
            "bin_end": 140.6,
            "bin_start": 127.5,
            "count": 0
           },
           {
            "bin_end": 153.7,
            "bin_start": 140.6,
            "count": 0
           },
           {
            "bin_end": 166.8,
            "bin_start": 153.7,
            "count": 0
           },
           {
            "bin_end": 179.89999999999998,
            "bin_start": 166.8,
            "count": 0
           },
           {
            "bin_end": 193,
            "bin_start": 179.89999999999998,
            "count": 2
           }
          ],
          "max": "193.0",
          "min": "62.0",
          "nan_count": 0,
          "unique_count": 4
         }
        },
        {
         "dtype": "int64",
         "name": "_deepnote_index_column"
        }
       ],
       "row_count": 5,
       "rows_bottom": null,
       "rows_top": [
        {
         "_deepnote_index_column": 1395,
         "gender": "male",
         "lunch": "standard",
         "math score": 193,
         "names": "Alexander Dillon",
         "parental level of education": "associate's degree",
         "race/ethnicity": "group D",
         "reading score": 142,
         "test preparation course": "none",
         "writing score": 193
        },
        {
         "_deepnote_index_column": 1396,
         "gender": "female",
         "lunch": "free/reduced",
         "math score": 66,
         "names": "Marina Zeigler",
         "parental level of education": "bachelor's degree",
         "race/ethnicity": "group C",
         "reading score": 74,
         "test preparation course": "completed",
         "writing score": 81
        },
        {
         "_deepnote_index_column": 1397,
         "gender": "female",
         "lunch": "standard",
         "math score": 54,
         "names": "Laurie Carter",
         "parental level of education": "some high school",
         "race/ethnicity": "group B",
         "reading score": 61,
         "test preparation course": "completed",
         "writing score": 62
        },
        {
         "_deepnote_index_column": 1398,
         "gender": "male",
         "lunch": "free/reduced",
         "math score": 193,
         "names": "Joseph Mccoy",
         "parental level of education": "some college",
         "race/ethnicity": "group D",
         "reading score": 196,
         "test preparation course": "none",
         "writing score": 193
        },
        {
         "_deepnote_index_column": 1399,
         "gender": "female",
         "lunch": "standard",
         "math score": 68,
         "names": "Amanda Perez",
         "parental level of education": "high school",
         "race/ethnicity": "group A",
         "reading score": 80,
         "test preparation course": "completed",
         "writing score": 76
        }
       ]
      },
      "text/html": [
       "<div>\n",
       "<style scoped>\n",
       "    .dataframe tbody tr th:only-of-type {\n",
       "        vertical-align: middle;\n",
       "    }\n",
       "\n",
       "    .dataframe tbody tr th {\n",
       "        vertical-align: top;\n",
       "    }\n",
       "\n",
       "    .dataframe thead th {\n",
       "        text-align: right;\n",
       "    }\n",
       "</style>\n",
       "<table border=\"1\" class=\"dataframe\">\n",
       "  <thead>\n",
       "    <tr style=\"text-align: right;\">\n",
       "      <th></th>\n",
       "      <th>names</th>\n",
       "      <th>gender</th>\n",
       "      <th>race/ethnicity</th>\n",
       "      <th>parental level of education</th>\n",
       "      <th>lunch</th>\n",
       "      <th>test preparation course</th>\n",
       "      <th>math score</th>\n",
       "      <th>reading score</th>\n",
       "      <th>writing score</th>\n",
       "    </tr>\n",
       "  </thead>\n",
       "  <tbody>\n",
       "    <tr>\n",
       "      <th>1395</th>\n",
       "      <td>Alexander Dillon</td>\n",
       "      <td>male</td>\n",
       "      <td>group D</td>\n",
       "      <td>associate's degree</td>\n",
       "      <td>standard</td>\n",
       "      <td>none</td>\n",
       "      <td>193.0</td>\n",
       "      <td>142.0</td>\n",
       "      <td>193.0</td>\n",
       "    </tr>\n",
       "    <tr>\n",
       "      <th>1396</th>\n",
       "      <td>Marina Zeigler</td>\n",
       "      <td>female</td>\n",
       "      <td>group C</td>\n",
       "      <td>bachelor's degree</td>\n",
       "      <td>free/reduced</td>\n",
       "      <td>completed</td>\n",
       "      <td>66.0</td>\n",
       "      <td>74.0</td>\n",
       "      <td>81.0</td>\n",
       "    </tr>\n",
       "    <tr>\n",
       "      <th>1397</th>\n",
       "      <td>Laurie Carter</td>\n",
       "      <td>female</td>\n",
       "      <td>group B</td>\n",
       "      <td>some high school</td>\n",
       "      <td>standard</td>\n",
       "      <td>completed</td>\n",
       "      <td>54.0</td>\n",
       "      <td>61.0</td>\n",
       "      <td>62.0</td>\n",
       "    </tr>\n",
       "    <tr>\n",
       "      <th>1398</th>\n",
       "      <td>Joseph Mccoy</td>\n",
       "      <td>male</td>\n",
       "      <td>group D</td>\n",
       "      <td>some college</td>\n",
       "      <td>free/reduced</td>\n",
       "      <td>none</td>\n",
       "      <td>193.0</td>\n",
       "      <td>196.0</td>\n",
       "      <td>193.0</td>\n",
       "    </tr>\n",
       "    <tr>\n",
       "      <th>1399</th>\n",
       "      <td>Amanda Perez</td>\n",
       "      <td>female</td>\n",
       "      <td>group A</td>\n",
       "      <td>high school</td>\n",
       "      <td>standard</td>\n",
       "      <td>completed</td>\n",
       "      <td>68.0</td>\n",
       "      <td>80.0</td>\n",
       "      <td>76.0</td>\n",
       "    </tr>\n",
       "  </tbody>\n",
       "</table>\n",
       "</div>"
      ],
      "text/plain": [
       "                 names  gender race/ethnicity parental level of education  \\\n",
       "1395  Alexander Dillon    male        group D          associate's degree   \n",
       "1396    Marina Zeigler  female        group C           bachelor's degree   \n",
       "1397     Laurie Carter  female        group B            some high school   \n",
       "1398      Joseph Mccoy    male        group D                some college   \n",
       "1399      Amanda Perez  female        group A                 high school   \n",
       "\n",
       "             lunch test preparation course  math score  reading score  \\\n",
       "1395      standard                    none       193.0          142.0   \n",
       "1396  free/reduced               completed        66.0           74.0   \n",
       "1397      standard               completed        54.0           61.0   \n",
       "1398  free/reduced                    none       193.0          196.0   \n",
       "1399      standard               completed        68.0           80.0   \n",
       "\n",
       "      writing score  \n",
       "1395          193.0  \n",
       "1396           81.0  \n",
       "1397           62.0  \n",
       "1398          193.0  \n",
       "1399           76.0  "
      ]
     },
     "metadata": {},
     "output_type": "display_data"
    },
    {
     "name": "stdout",
     "output_type": "stream",
     "text": [
      "\n",
      "Muestreo aleatorio de 5 filas:\n"
     ]
    },
    {
     "data": {
      "application/vnd.deepnote.dataframe.v2+json": {
       "column_count": 9,
       "columns": [
        {
         "dtype": "object",
         "name": "names",
         "stats": {
          "categories": [
           {
            "count": 1,
            "name": "Alberto Roberts"
           },
           {
            "count": 1,
            "name": "Ronald Wilson"
           },
           {
            "count": 3,
            "name": "3 others"
           }
          ],
          "nan_count": 0,
          "unique_count": 5
         }
        },
        {
         "dtype": "object",
         "name": "gender",
         "stats": {
          "categories": [
           {
            "count": 3,
            "name": "male"
           },
           {
            "count": 2,
            "name": "female"
           }
          ],
          "nan_count": 0,
          "unique_count": 2
         }
        },
        {
         "dtype": "object",
         "name": "race/ethnicity",
         "stats": {
          "categories": [
           {
            "count": 2,
            "name": "group D"
           },
           {
            "count": 2,
            "name": "group E"
           },
           {
            "count": 1,
            "name": "group C"
           }
          ],
          "nan_count": 0,
          "unique_count": 3
         }
        },
        {
         "dtype": "object",
         "name": "parental level of education",
         "stats": {
          "categories": [
           {
            "count": 1,
            "name": "associate's degree"
           },
           {
            "count": 1,
            "name": "some high school"
           },
           {
            "count": 3,
            "name": "3 others"
           }
          ],
          "nan_count": 0,
          "unique_count": 5
         }
        },
        {
         "dtype": "object",
         "name": "lunch",
         "stats": {
          "categories": [
           {
            "count": 5,
            "name": "standard"
           }
          ],
          "nan_count": 0,
          "unique_count": 1
         }
        },
        {
         "dtype": "object",
         "name": "test preparation course",
         "stats": {
          "categories": [
           {
            "count": 3,
            "name": "none"
           },
           {
            "count": 2,
            "name": "completed"
           }
          ],
          "nan_count": 0,
          "unique_count": 2
         }
        },
        {
         "dtype": "float64",
         "name": "math score",
         "stats": {
          "histogram": [
           {
            "bin_end": 66.1,
            "bin_start": 52,
            "count": 2
           },
           {
            "bin_end": 80.2,
            "bin_start": 66.1,
            "count": 1
           },
           {
            "bin_end": 94.3,
            "bin_start": 80.2,
            "count": 0
           },
           {
            "bin_end": 108.4,
            "bin_start": 94.3,
            "count": 0
           },
           {
            "bin_end": 122.5,
            "bin_start": 108.4,
            "count": 0
           },
           {
            "bin_end": 136.6,
            "bin_start": 122.5,
            "count": 0
           },
           {
            "bin_end": 150.7,
            "bin_start": 136.6,
            "count": 0
           },
           {
            "bin_end": 164.8,
            "bin_start": 150.7,
            "count": 0
           },
           {
            "bin_end": 178.89999999999998,
            "bin_start": 164.8,
            "count": 0
           },
           {
            "bin_end": 193,
            "bin_start": 178.89999999999998,
            "count": 2
           }
          ],
          "max": "193.0",
          "min": "52.0",
          "nan_count": 0,
          "unique_count": 5
         }
        },
        {
         "dtype": "float64",
         "name": "reading score",
         "stats": {
          "histogram": [
           {
            "bin_end": 63.7,
            "bin_start": 55,
            "count": 2
           },
           {
            "bin_end": 72.4,
            "bin_start": 63.7,
            "count": 0
           },
           {
            "bin_end": 81.1,
            "bin_start": 72.4,
            "count": 1
           },
           {
            "bin_end": 89.8,
            "bin_start": 81.1,
            "count": 0
           },
           {
            "bin_end": 98.5,
            "bin_start": 89.8,
            "count": 0
           },
           {
            "bin_end": 107.19999999999999,
            "bin_start": 98.5,
            "count": 0
           },
           {
            "bin_end": 115.89999999999999,
            "bin_start": 107.19999999999999,
            "count": 0
           },
           {
            "bin_end": 124.6,
            "bin_start": 115.89999999999999,
            "count": 1
           },
           {
            "bin_end": 133.3,
            "bin_start": 124.6,
            "count": 0
           },
           {
            "bin_end": 142,
            "bin_start": 133.3,
            "count": 1
           }
          ],
          "max": "142.0",
          "min": "55.0",
          "nan_count": 0,
          "unique_count": 5
         }
        },
        {
         "dtype": "float64",
         "name": "writing score",
         "stats": {
          "histogram": [
           {
            "bin_end": 63.7,
            "bin_start": 49,
            "count": 2
           },
           {
            "bin_end": 78.4,
            "bin_start": 63.7,
            "count": 1
           },
           {
            "bin_end": 93.1,
            "bin_start": 78.4,
            "count": 0
           },
           {
            "bin_end": 107.8,
            "bin_start": 93.1,
            "count": 0
           },
           {
            "bin_end": 122.5,
            "bin_start": 107.8,
            "count": 0
           },
           {
            "bin_end": 137.2,
            "bin_start": 122.5,
            "count": 1
           },
           {
            "bin_end": 151.89999999999998,
            "bin_start": 137.2,
            "count": 0
           },
           {
            "bin_end": 166.6,
            "bin_start": 151.89999999999998,
            "count": 0
           },
           {
            "bin_end": 181.29999999999998,
            "bin_start": 166.6,
            "count": 0
           },
           {
            "bin_end": 196,
            "bin_start": 181.29999999999998,
            "count": 1
           }
          ],
          "max": "196.0",
          "min": "49.0",
          "nan_count": 0,
          "unique_count": 5
         }
        },
        {
         "dtype": "int64",
         "name": "_deepnote_index_column"
        }
       ],
       "row_count": 5,
       "rows_bottom": null,
       "rows_top": [
        {
         "_deepnote_index_column": 1282,
         "gender": "male",
         "lunch": "standard",
         "math score": 52,
         "names": "Alberto Roberts",
         "parental level of education": "associate's degree",
         "race/ethnicity": "group D",
         "reading score": 55,
         "test preparation course": "none",
         "writing score": 49
        },
        {
         "_deepnote_index_column": 604,
         "gender": "male",
         "lunch": "standard",
         "math score": 64,
         "names": "Ronald Wilson",
         "parental level of education": "some high school",
         "race/ethnicity": "group C",
         "reading score": 58,
         "test preparation course": "none",
         "writing score": 51
        },
        {
         "_deepnote_index_column": 559,
         "gender": "female",
         "lunch": "standard",
         "math score": 188,
         "names": "Christine Reed",
         "parental level of education": "bachelor's degree",
         "race/ethnicity": "group E",
         "reading score": 142,
         "test preparation course": "completed",
         "writing score": 131
        },
        {
         "_deepnote_index_column": 380,
         "gender": "female",
         "lunch": "standard",
         "math score": 193,
         "names": "Edna Johnson",
         "parental level of education": "some college",
         "race/ethnicity": "group E",
         "reading score": 124,
         "test preparation course": "completed",
         "writing score": 196
        },
        {
         "_deepnote_index_column": 1392,
         "gender": "male",
         "lunch": "standard",
         "math score": 69,
         "names": "Richard Young",
         "parental level of education": "high school",
         "race/ethnicity": "group D",
         "reading score": 75,
         "test preparation course": "none",
         "writing score": 71
        }
       ]
      },
      "text/html": [
       "<div>\n",
       "<style scoped>\n",
       "    .dataframe tbody tr th:only-of-type {\n",
       "        vertical-align: middle;\n",
       "    }\n",
       "\n",
       "    .dataframe tbody tr th {\n",
       "        vertical-align: top;\n",
       "    }\n",
       "\n",
       "    .dataframe thead th {\n",
       "        text-align: right;\n",
       "    }\n",
       "</style>\n",
       "<table border=\"1\" class=\"dataframe\">\n",
       "  <thead>\n",
       "    <tr style=\"text-align: right;\">\n",
       "      <th></th>\n",
       "      <th>names</th>\n",
       "      <th>gender</th>\n",
       "      <th>race/ethnicity</th>\n",
       "      <th>parental level of education</th>\n",
       "      <th>lunch</th>\n",
       "      <th>test preparation course</th>\n",
       "      <th>math score</th>\n",
       "      <th>reading score</th>\n",
       "      <th>writing score</th>\n",
       "    </tr>\n",
       "  </thead>\n",
       "  <tbody>\n",
       "    <tr>\n",
       "      <th>1282</th>\n",
       "      <td>Alberto Roberts</td>\n",
       "      <td>male</td>\n",
       "      <td>group D</td>\n",
       "      <td>associate's degree</td>\n",
       "      <td>standard</td>\n",
       "      <td>none</td>\n",
       "      <td>52.0</td>\n",
       "      <td>55.0</td>\n",
       "      <td>49.0</td>\n",
       "    </tr>\n",
       "    <tr>\n",
       "      <th>604</th>\n",
       "      <td>Ronald Wilson</td>\n",
       "      <td>male</td>\n",
       "      <td>group C</td>\n",
       "      <td>some high school</td>\n",
       "      <td>standard</td>\n",
       "      <td>none</td>\n",
       "      <td>64.0</td>\n",
       "      <td>58.0</td>\n",
       "      <td>51.0</td>\n",
       "    </tr>\n",
       "    <tr>\n",
       "      <th>559</th>\n",
       "      <td>Christine Reed</td>\n",
       "      <td>female</td>\n",
       "      <td>group E</td>\n",
       "      <td>bachelor's degree</td>\n",
       "      <td>standard</td>\n",
       "      <td>completed</td>\n",
       "      <td>188.0</td>\n",
       "      <td>142.0</td>\n",
       "      <td>131.0</td>\n",
       "    </tr>\n",
       "    <tr>\n",
       "      <th>380</th>\n",
       "      <td>Edna Johnson</td>\n",
       "      <td>female</td>\n",
       "      <td>group E</td>\n",
       "      <td>some college</td>\n",
       "      <td>standard</td>\n",
       "      <td>completed</td>\n",
       "      <td>193.0</td>\n",
       "      <td>124.0</td>\n",
       "      <td>196.0</td>\n",
       "    </tr>\n",
       "    <tr>\n",
       "      <th>1392</th>\n",
       "      <td>Richard Young</td>\n",
       "      <td>male</td>\n",
       "      <td>group D</td>\n",
       "      <td>high school</td>\n",
       "      <td>standard</td>\n",
       "      <td>none</td>\n",
       "      <td>69.0</td>\n",
       "      <td>75.0</td>\n",
       "      <td>71.0</td>\n",
       "    </tr>\n",
       "  </tbody>\n",
       "</table>\n",
       "</div>"
      ],
      "text/plain": [
       "                names  gender race/ethnicity parental level of education  \\\n",
       "1282  Alberto Roberts    male        group D          associate's degree   \n",
       "604     Ronald Wilson    male        group C            some high school   \n",
       "559    Christine Reed  female        group E           bachelor's degree   \n",
       "380      Edna Johnson  female        group E                some college   \n",
       "1392    Richard Young    male        group D                 high school   \n",
       "\n",
       "         lunch test preparation course  math score  reading score  \\\n",
       "1282  standard                    none        52.0           55.0   \n",
       "604   standard                    none        64.0           58.0   \n",
       "559   standard               completed       188.0          142.0   \n",
       "380   standard               completed       193.0          124.0   \n",
       "1392  standard                    none        69.0           75.0   \n",
       "\n",
       "      writing score  \n",
       "1282           49.0  \n",
       "604            51.0  \n",
       "559           131.0  \n",
       "380           196.0  \n",
       "1392           71.0  "
      ]
     },
     "metadata": {},
     "output_type": "display_data"
    },
    {
     "name": "stdout",
     "output_type": "stream",
     "text": [
      "\n",
      "4.- Descripción numérica del Dataframe:\n"
     ]
    },
    {
     "data": {
      "application/vnd.deepnote.dataframe.v2+json": {
       "column_count": 3,
       "columns": [
        {
         "dtype": "float64",
         "name": "math score",
         "stats": {
          "histogram": [
           {
            "bin_end": 136,
            "bin_start": 0,
            "count": 6
           },
           {
            "bin_end": 272,
            "bin_start": 136,
            "count": 1
           },
           {
            "bin_end": 408,
            "bin_start": 272,
            "count": 0
           },
           {
            "bin_end": 544,
            "bin_start": 408,
            "count": 0
           },
           {
            "bin_end": 680,
            "bin_start": 544,
            "count": 0
           },
           {
            "bin_end": 816,
            "bin_start": 680,
            "count": 0
           },
           {
            "bin_end": 952,
            "bin_start": 816,
            "count": 0
           },
           {
            "bin_end": 1088,
            "bin_start": 952,
            "count": 0
           },
           {
            "bin_end": 1224,
            "bin_start": 1088,
            "count": 0
           },
           {
            "bin_end": 1360,
            "bin_start": 1224,
            "count": 1
           }
          ],
          "max": "1360.0",
          "min": "0.0",
          "nan_count": 0,
          "unique_count": 8
         }
        },
        {
         "dtype": "float64",
         "name": "reading score",
         "stats": {
          "histogram": [
           {
            "bin_end": 151.3,
            "bin_start": 17,
            "count": 6
           },
           {
            "bin_end": 285.6,
            "bin_start": 151.3,
            "count": 1
           },
           {
            "bin_end": 419.90000000000003,
            "bin_start": 285.6,
            "count": 0
           },
           {
            "bin_end": 554.2,
            "bin_start": 419.90000000000003,
            "count": 0
           },
           {
            "bin_end": 688.5,
            "bin_start": 554.2,
            "count": 0
           },
           {
            "bin_end": 822.8000000000001,
            "bin_start": 688.5,
            "count": 0
           },
           {
            "bin_end": 957.1000000000001,
            "bin_start": 822.8000000000001,
            "count": 0
           },
           {
            "bin_end": 1091.4,
            "bin_start": 957.1000000000001,
            "count": 0
           },
           {
            "bin_end": 1225.7,
            "bin_start": 1091.4,
            "count": 0
           },
           {
            "bin_end": 1360,
            "bin_start": 1225.7,
            "count": 1
           }
          ],
          "max": "1360.0",
          "min": "17.0",
          "nan_count": 0,
          "unique_count": 8
         }
        },
        {
         "dtype": "float64",
         "name": "writing score",
         "stats": {
          "histogram": [
           {
            "bin_end": 144.3,
            "bin_start": 10,
            "count": 6
           },
           {
            "bin_end": 278.6,
            "bin_start": 144.3,
            "count": 1
           },
           {
            "bin_end": 412.90000000000003,
            "bin_start": 278.6,
            "count": 0
           },
           {
            "bin_end": 547.2,
            "bin_start": 412.90000000000003,
            "count": 0
           },
           {
            "bin_end": 681.5,
            "bin_start": 547.2,
            "count": 0
           },
           {
            "bin_end": 815.8000000000001,
            "bin_start": 681.5,
            "count": 0
           },
           {
            "bin_end": 950.1000000000001,
            "bin_start": 815.8000000000001,
            "count": 0
           },
           {
            "bin_end": 1084.4,
            "bin_start": 950.1000000000001,
            "count": 0
           },
           {
            "bin_end": 1218.7,
            "bin_start": 1084.4,
            "count": 0
           },
           {
            "bin_end": 1353,
            "bin_start": 1218.7,
            "count": 1
           }
          ],
          "max": "1353.0",
          "min": "10.0",
          "nan_count": 0,
          "unique_count": 8
         }
        },
        {
         "dtype": "object",
         "name": "_deepnote_index_column"
        }
       ],
       "row_count": 8,
       "rows_bottom": null,
       "rows_top": [
        {
         "_deepnote_index_column": "count",
         "math score": 1360,
         "reading score": 1360,
         "writing score": 1353
        },
        {
         "_deepnote_index_column": "mean",
         "math score": 89.53897058823529,
         "reading score": 93.08602941176471,
         "writing score": 91.8529194382853
        },
        {
         "_deepnote_index_column": "std",
         "math score": 47.15242247460426,
         "reading score": 46.38577506570869,
         "writing score": 47.04356953025664
        },
        {
         "_deepnote_index_column": "min",
         "math score": 0,
         "reading score": 17,
         "writing score": 10
        },
        {
         "_deepnote_index_column": "25%",
         "math score": 59,
         "reading score": 63,
         "writing score": 62
        },
        {
         "_deepnote_index_column": "50%",
         "math score": 72,
         "reading score": 76,
         "writing score": 75
        },
        {
         "_deepnote_index_column": "75%",
         "math score": 97.25,
         "reading score": 100,
         "writing score": 100
        },
        {
         "_deepnote_index_column": "max",
         "math score": 196,
         "reading score": 196,
         "writing score": 196
        }
       ]
      },
      "text/html": [
       "<div>\n",
       "<style scoped>\n",
       "    .dataframe tbody tr th:only-of-type {\n",
       "        vertical-align: middle;\n",
       "    }\n",
       "\n",
       "    .dataframe tbody tr th {\n",
       "        vertical-align: top;\n",
       "    }\n",
       "\n",
       "    .dataframe thead th {\n",
       "        text-align: right;\n",
       "    }\n",
       "</style>\n",
       "<table border=\"1\" class=\"dataframe\">\n",
       "  <thead>\n",
       "    <tr style=\"text-align: right;\">\n",
       "      <th></th>\n",
       "      <th>math score</th>\n",
       "      <th>reading score</th>\n",
       "      <th>writing score</th>\n",
       "    </tr>\n",
       "  </thead>\n",
       "  <tbody>\n",
       "    <tr>\n",
       "      <th>count</th>\n",
       "      <td>1360.000000</td>\n",
       "      <td>1360.000000</td>\n",
       "      <td>1353.000000</td>\n",
       "    </tr>\n",
       "    <tr>\n",
       "      <th>mean</th>\n",
       "      <td>89.538971</td>\n",
       "      <td>93.086029</td>\n",
       "      <td>91.852919</td>\n",
       "    </tr>\n",
       "    <tr>\n",
       "      <th>std</th>\n",
       "      <td>47.152422</td>\n",
       "      <td>46.385775</td>\n",
       "      <td>47.043570</td>\n",
       "    </tr>\n",
       "    <tr>\n",
       "      <th>min</th>\n",
       "      <td>0.000000</td>\n",
       "      <td>17.000000</td>\n",
       "      <td>10.000000</td>\n",
       "    </tr>\n",
       "    <tr>\n",
       "      <th>25%</th>\n",
       "      <td>59.000000</td>\n",
       "      <td>63.000000</td>\n",
       "      <td>62.000000</td>\n",
       "    </tr>\n",
       "    <tr>\n",
       "      <th>50%</th>\n",
       "      <td>72.000000</td>\n",
       "      <td>76.000000</td>\n",
       "      <td>75.000000</td>\n",
       "    </tr>\n",
       "    <tr>\n",
       "      <th>75%</th>\n",
       "      <td>97.250000</td>\n",
       "      <td>100.000000</td>\n",
       "      <td>100.000000</td>\n",
       "    </tr>\n",
       "    <tr>\n",
       "      <th>max</th>\n",
       "      <td>196.000000</td>\n",
       "      <td>196.000000</td>\n",
       "      <td>196.000000</td>\n",
       "    </tr>\n",
       "  </tbody>\n",
       "</table>\n",
       "</div>"
      ],
      "text/plain": [
       "        math score  reading score  writing score\n",
       "count  1360.000000    1360.000000    1353.000000\n",
       "mean     89.538971      93.086029      91.852919\n",
       "std      47.152422      46.385775      47.043570\n",
       "min       0.000000      17.000000      10.000000\n",
       "25%      59.000000      63.000000      62.000000\n",
       "50%      72.000000      76.000000      75.000000\n",
       "75%      97.250000     100.000000     100.000000\n",
       "max     196.000000     196.000000     196.000000"
      ]
     },
     "metadata": {},
     "output_type": "display_data"
    },
    {
     "name": "stdout",
     "output_type": "stream",
     "text": [
      "\n",
      "5.- Cantidad de valores nulos por columna:\n"
     ]
    },
    {
     "data": {
      "text/plain": [
       "names                           0\n",
       "gender                          0\n",
       "race/ethnicity                  0\n",
       "parental level of education     0\n",
       "lunch                           0\n",
       "test preparation course         0\n",
       "math score                     40\n",
       "reading score                  40\n",
       "writing score                  47\n",
       "dtype: int64"
      ]
     },
     "metadata": {},
     "output_type": "display_data"
    },
    {
     "name": "stdout",
     "output_type": "stream",
     "text": [
      "\n",
      "6.- Cantidad de valores únicos por columna:\n"
     ]
    },
    {
     "data": {
      "text/plain": [
       "names                          1153\n",
       "gender                            2\n",
       "race/ethnicity                    5\n",
       "parental level of education       6\n",
       "lunch                             2\n",
       "test preparation course           2\n",
       "math score                       96\n",
       "reading score                    88\n",
       "writing score                    92\n",
       "dtype: int64"
      ]
     },
     "metadata": {},
     "output_type": "display_data"
    },
    {
     "name": "stdout",
     "output_type": "stream",
     "text": [
      "\n",
      "7.- Presenta un total de 247 filas con nombres duplicados.\n",
      "\n",
      "8.- Las filas con nombres duplicados son:\n"
     ]
    },
    {
     "data": {
      "application/vnd.deepnote.dataframe.v2+json": {
       "column_count": 9,
       "columns": [
        {
         "dtype": "object",
         "name": "names",
         "stats": {
          "categories": [
           {
            "count": 2,
            "name": "Robert Frazier"
           },
           {
            "count": 1,
            "name": "Rita Courtney"
           },
           {
            "count": 244,
            "name": "244 others"
           }
          ],
          "nan_count": 0,
          "unique_count": 246
         }
        },
        {
         "dtype": "object",
         "name": "gender",
         "stats": {
          "categories": [
           {
            "count": 129,
            "name": "female"
           },
           {
            "count": 118,
            "name": "male"
           }
          ],
          "nan_count": 0,
          "unique_count": 2
         }
        },
        {
         "dtype": "object",
         "name": "race/ethnicity",
         "stats": {
          "categories": [
           {
            "count": 85,
            "name": "group C"
           },
           {
            "count": 65,
            "name": "group D"
           },
           {
            "count": 97,
            "name": "3 others"
           }
          ],
          "nan_count": 0,
          "unique_count": 5
         }
        },
        {
         "dtype": "object",
         "name": "parental level of education",
         "stats": {
          "categories": [
           {
            "count": 66,
            "name": "some college"
           },
           {
            "count": 50,
            "name": "associate's degree"
           },
           {
            "count": 131,
            "name": "4 others"
           }
          ],
          "nan_count": 0,
          "unique_count": 6
         }
        },
        {
         "dtype": "object",
         "name": "lunch",
         "stats": {
          "categories": [
           {
            "count": 155,
            "name": "standard"
           },
           {
            "count": 92,
            "name": "free/reduced"
           }
          ],
          "nan_count": 0,
          "unique_count": 2
         }
        },
        {
         "dtype": "object",
         "name": "test preparation course",
         "stats": {
          "categories": [
           {
            "count": 167,
            "name": "none"
           },
           {
            "count": 80,
            "name": "completed"
           }
          ],
          "nan_count": 0,
          "unique_count": 2
         }
        },
        {
         "dtype": "float64",
         "name": "math score",
         "stats": {
          "histogram": [
           {
            "bin_end": 45.7,
            "bin_start": 29,
            "count": 20
           },
           {
            "bin_end": 62.4,
            "bin_start": 45.7,
            "count": 54
           },
           {
            "bin_end": 79.1,
            "bin_start": 62.4,
            "count": 39
           },
           {
            "bin_end": 95.8,
            "bin_start": 79.1,
            "count": 25
           },
           {
            "bin_end": 112.5,
            "bin_start": 95.8,
            "count": 2
           },
           {
            "bin_end": 129.2,
            "bin_start": 112.5,
            "count": 16
           },
           {
            "bin_end": 145.89999999999998,
            "bin_start": 129.2,
            "count": 20
           },
           {
            "bin_end": 162.6,
            "bin_start": 145.89999999999998,
            "count": 4
           },
           {
            "bin_end": 179.29999999999998,
            "bin_start": 162.6,
            "count": 3
           },
           {
            "bin_end": 196,
            "bin_start": 179.29999999999998,
            "count": 50
           }
          ],
          "max": "196.0",
          "min": "29.0",
          "nan_count": 14,
          "unique_count": 72
         }
        },
        {
         "dtype": "float64",
         "name": "reading score",
         "stats": {
          "histogram": [
           {
            "bin_end": 43,
            "bin_start": 26,
            "count": 9
           },
           {
            "bin_end": 60,
            "bin_start": 43,
            "count": 30
           },
           {
            "bin_end": 77,
            "bin_start": 60,
            "count": 51
           },
           {
            "bin_end": 94,
            "bin_start": 77,
            "count": 39
           },
           {
            "bin_end": 111,
            "bin_start": 94,
            "count": 4
           },
           {
            "bin_end": 128,
            "bin_start": 111,
            "count": 8
           },
           {
            "bin_end": 145,
            "bin_start": 128,
            "count": 22
           },
           {
            "bin_end": 162,
            "bin_start": 145,
            "count": 9
           },
           {
            "bin_end": 179,
            "bin_start": 162,
            "count": 5
           },
           {
            "bin_end": 196,
            "bin_start": 179,
            "count": 56
           }
          ],
          "max": "196.0",
          "min": "26.0",
          "nan_count": 14,
          "unique_count": 64
         }
        },
        {
         "dtype": "float64",
         "name": "writing score",
         "stats": {
          "histogram": [
           {
            "bin_end": 39.4,
            "bin_start": 22,
            "count": 8
           },
           {
            "bin_end": 56.8,
            "bin_start": 39.4,
            "count": 26
           },
           {
            "bin_end": 74.19999999999999,
            "bin_start": 56.8,
            "count": 56
           },
           {
            "bin_end": 91.6,
            "bin_start": 74.19999999999999,
            "count": 34
           },
           {
            "bin_end": 109,
            "bin_start": 91.6,
            "count": 7
           },
           {
            "bin_end": 126.39999999999999,
            "bin_start": 109,
            "count": 18
           },
           {
            "bin_end": 143.79999999999998,
            "bin_start": 126.39999999999999,
            "count": 20
           },
           {
            "bin_end": 161.2,
            "bin_start": 143.79999999999998,
            "count": 4
           },
           {
            "bin_end": 178.6,
            "bin_start": 161.2,
            "count": 2
           },
           {
            "bin_end": 196,
            "bin_start": 178.6,
            "count": 54
           }
          ],
          "max": "196.0",
          "min": "22.0",
          "nan_count": 18,
          "unique_count": 70
         }
        },
        {
         "dtype": "int64",
         "name": "_deepnote_index_column"
        }
       ],
       "row_count": 247,
       "rows_bottom": [
        {
         "_deepnote_index_column": 1223,
         "gender": "male",
         "lunch": "standard",
         "math score": 30,
         "names": "Charles Jackson",
         "parental level of education": "some high school",
         "race/ethnicity": "group E",
         "reading score": 26,
         "test preparation course": "none",
         "writing score": 22
        },
        {
         "_deepnote_index_column": 1231,
         "gender": "male",
         "lunch": "free/reduced",
         "math score": 49,
         "names": "William Barich",
         "parental level of education": "bachelor's degree",
         "race/ethnicity": "group A",
         "reading score": 193,
         "test preparation course": "completed",
         "writing score": 142
        },
        {
         "_deepnote_index_column": 1233,
         "gender": "male",
         "lunch": "free/reduced",
         "math score": 40,
         "names": "Joseph Jaco",
         "parental level of education": "some college",
         "race/ethnicity": "group B",
         "reading score": 182,
         "test preparation course": "none",
         "writing score": 151
        },
        {
         "_deepnote_index_column": 1235,
         "gender": "male",
         "lunch": "standard",
         "math score": 76,
         "names": "Joe Cooper",
         "parental level of education": "associate's degree",
         "race/ethnicity": "group E",
         "reading score": 71,
         "test preparation course": "none",
         "writing score": 67
        },
        {
         "_deepnote_index_column": 1236,
         "gender": "female",
         "lunch": "free/reduced",
         "math score": 142,
         "names": "Jacqueline Holton",
         "parental level of education": "high school",
         "race/ethnicity": "group C",
         "reading score": 188,
         "test preparation course": "completed",
         "writing score": 147
        },
        {
         "_deepnote_index_column": 1238,
         "gender": "female",
         "lunch": "free/reduced",
         "math score": 29,
         "names": "Paula Barriere",
         "parental level of education": "bachelor's degree",
         "race/ethnicity": "group D",
         "reading score": 142,
         "test preparation course": "none",
         "writing score": "nan"
        },
        {
         "_deepnote_index_column": 1239,
         "gender": "male",
         "lunch": "standard",
         "math score": 196,
         "names": "Scott Mercer",
         "parental level of education": "some college",
         "race/ethnicity": "group E",
         "reading score": 196,
         "test preparation course": "none",
         "writing score": 182
        },
        {
         "_deepnote_index_column": 1243,
         "gender": "male",
         "lunch": "standard",
         "math score": "nan",
         "names": "Brian Young",
         "parental level of education": "some high school",
         "race/ethnicity": "group C",
         "reading score": "nan",
         "test preparation course": "none",
         "writing score": "nan"
        },
        {
         "_deepnote_index_column": 1245,
         "gender": "female",
         "lunch": "free/reduced",
         "math score": 196,
         "names": "Sheron Luzar",
         "parental level of education": "some high school",
         "race/ethnicity": "group B",
         "reading score": "nan",
         "test preparation course": "completed",
         "writing score": 64
        },
        {
         "_deepnote_index_column": 1247,
         "gender": "female",
         "lunch": "free/reduced",
         "math score": 53,
         "names": "Carmelia Solis",
         "parental level of education": "associate's degree",
         "race/ethnicity": "group B",
         "reading score": 71,
         "test preparation course": "none",
         "writing score": 67
        },
        {
         "_deepnote_index_column": 1248,
         "gender": "male",
         "lunch": "free/reduced",
         "math score": "nan",
         "names": "Dale Sylvain",
         "parental level of education": "some college",
         "race/ethnicity": "group D",
         "reading score": 193,
         "test preparation course": "none",
         "writing score": 142
        },
        {
         "_deepnote_index_column": 1251,
         "gender": "female",
         "lunch": "standard",
         "math score": 55,
         "names": "Kathryn Neville",
         "parental level of education": "some college",
         "race/ethnicity": "group C",
         "reading score": 69,
         "test preparation course": "none",
         "writing score": 65
        },
        {
         "_deepnote_index_column": 1257,
         "gender": "male",
         "lunch": "free/reduced",
         "math score": 193,
         "names": "Joshua Davis",
         "parental level of education": "some college",
         "race/ethnicity": "group C",
         "reading score": 193,
         "test preparation course": "none",
         "writing score": 193
        },
        {
         "_deepnote_index_column": 1259,
         "gender": "female",
         "lunch": "free/reduced",
         "math score": 48,
         "names": "Maxine Gulbranson",
         "parental level of education": "some high school",
         "race/ethnicity": "group D",
         "reading score": 54,
         "test preparation course": "none",
         "writing score": 53
        },
        {
         "_deepnote_index_column": 1260,
         "gender": "female",
         "lunch": "standard",
         "math score": 56,
         "names": "Leona Markow",
         "parental level of education": "some college",
         "race/ethnicity": "group A",
         "reading score": 58,
         "test preparation course": "none",
         "writing score": 64
        },
        {
         "_deepnote_index_column": 1264,
         "gender": "male",
         "lunch": "standard",
         "math score": 58,
         "names": "Bobby Lloyd",
         "parental level of education": "some college",
         "race/ethnicity": "group C",
         "reading score": 49,
         "test preparation course": "none",
         "writing score": 42
        },
        {
         "_deepnote_index_column": 1265,
         "gender": "female",
         "lunch": "free/reduced",
         "math score": 32,
         "names": "Sofia Williams",
         "parental level of education": "some college",
         "race/ethnicity": "group C",
         "reading score": 39,
         "test preparation course": "none",
         "writing score": 33
        },
        {
         "_deepnote_index_column": 1269,
         "gender": "male",
         "lunch": "standard",
         "math score": 193,
         "names": "Norman Reed",
         "parental level of education": "some college",
         "race/ethnicity": "group E",
         "reading score": 193,
         "test preparation course": "none",
         "writing score": 193
        },
        {
         "_deepnote_index_column": 1271,
         "gender": "female",
         "lunch": "free/reduced",
         "math score": 142,
         "names": "Mary Levy",
         "parental level of education": "some college",
         "race/ethnicity": "group D",
         "reading score": "nan",
         "test preparation course": "none",
         "writing score": "nan"
        },
        {
         "_deepnote_index_column": 1279,
         "gender": "male",
         "lunch": "standard",
         "math score": 193,
         "names": "Matthew Freeman",
         "parental level of education": "high school",
         "race/ethnicity": "group B",
         "reading score": 49,
         "test preparation course": "completed",
         "writing score": 193
        },
        {
         "_deepnote_index_column": 1283,
         "gender": "female",
         "lunch": "free/reduced",
         "math score": 193,
         "names": "Nicole Obrien",
         "parental level of education": "bachelor's degree",
         "race/ethnicity": "group B",
         "reading score": 124,
         "test preparation course": "none",
         "writing score": 124
        },
        {
         "_deepnote_index_column": 1285,
         "gender": "male",
         "lunch": "free/reduced",
         "math score": 174,
         "names": "Harvey Pribbenow",
         "parental level of education": "bachelor's degree",
         "race/ethnicity": "group D",
         "reading score": 193,
         "test preparation course": "none",
         "writing score": 193
        },
        {
         "_deepnote_index_column": 1289,
         "gender": "female",
         "lunch": "free/reduced",
         "math score": 60,
         "names": "Anna Johnson",
         "parental level of education": "high school",
         "race/ethnicity": "group B",
         "reading score": 72,
         "test preparation course": "none",
         "writing score": 68
        },
        {
         "_deepnote_index_column": 1290,
         "gender": "male",
         "lunch": "free/reduced",
         "math score": 81,
         "names": "Jason Keck",
         "parental level of education": "some college",
         "race/ethnicity": "group A",
         "reading score": 78,
         "test preparation course": "completed",
         "writing score": 81
        },
        {
         "_deepnote_index_column": 1291,
         "gender": "female",
         "lunch": "standard",
         "math score": 74,
         "names": "Bonnie Rodriguez",
         "parental level of education": "high school",
         "race/ethnicity": "group E",
         "reading score": 79,
         "test preparation course": "completed",
         "writing score": 80
        },
        {
         "_deepnote_index_column": 1292,
         "gender": "male",
         "lunch": "free/reduced",
         "math score": 196,
         "names": "Oscar Markow",
         "parental level of education": "some high school",
         "race/ethnicity": "group C",
         "reading score": 142,
         "test preparation course": "completed",
         "writing score": 124
        },
        {
         "_deepnote_index_column": 1295,
         "gender": "male",
         "lunch": "standard",
         "math score": 47,
         "names": "Tom Sastre",
         "parental level of education": "high school",
         "race/ethnicity": "group B",
         "reading score": 46,
         "test preparation course": "none",
         "writing score": 42
        },
        {
         "_deepnote_index_column": 1296,
         "gender": "male",
         "lunch": "free/reduced",
         "math score": 79,
         "names": "Shane Polite",
         "parental level of education": "master's degree",
         "race/ethnicity": "group C",
         "reading score": 77,
         "test preparation course": "completed",
         "writing score": 75
        },
        {
         "_deepnote_index_column": 1297,
         "gender": "female",
         "lunch": "standard",
         "math score": 82,
         "names": "Ashley Mcray",
         "parental level of education": "associate's degree",
         "race/ethnicity": "group B",
         "reading score": 80,
         "test preparation course": "none",
         "writing score": 77
        },
        {
         "_deepnote_index_column": 1300,
         "gender": "female",
         "lunch": "free/reduced",
         "math score": 41,
         "names": "Kelle Lanterman",
         "parental level of education": "high school",
         "race/ethnicity": "group E",
         "reading score": 45,
         "test preparation course": "none",
         "writing score": 40
        },
        {
         "_deepnote_index_column": 1301,
         "gender": "female",
         "lunch": "free/reduced",
         "math score": 49,
         "names": "Sheila Friel",
         "parental level of education": "some college",
         "race/ethnicity": "group D",
         "reading score": 58,
         "test preparation course": "none",
         "writing score": 60
        },
        {
         "_deepnote_index_column": 1304,
         "gender": "female",
         "lunch": "standard",
         "math score": 59,
         "names": "Dolores Reddy",
         "parental level of education": "bachelor's degree",
         "race/ethnicity": "group D",
         "reading score": 70,
         "test preparation course": "none",
         "writing score": 73
        },
        {
         "_deepnote_index_column": 1306,
         "gender": "male",
         "lunch": "free/reduced",
         "math score": 193,
         "names": "Raymond Wiggins",
         "parental level of education": "associate's degree",
         "race/ethnicity": "group C",
         "reading score": 174,
         "test preparation course": "none",
         "writing score": 124
        },
        {
         "_deepnote_index_column": 1313,
         "gender": "female",
         "lunch": "free/reduced",
         "math score": 156,
         "names": "Jacqueline Mayrant",
         "parental level of education": "some high school",
         "race/ethnicity": "group E",
         "reading score": 188,
         "test preparation course": "none",
         "writing score": 193
        },
        {
         "_deepnote_index_column": 1316,
         "gender": "male",
         "lunch": "standard",
         "math score": 193,
         "names": "Edward Lee",
         "parental level of education": "some high school",
         "race/ethnicity": "group D",
         "reading score": 122,
         "test preparation course": "completed",
         "writing score": 131
        },
        {
         "_deepnote_index_column": 1322,
         "gender": "female",
         "lunch": "standard",
         "math score": 87,
         "names": "Cleo Jefferson",
         "parental level of education": "master's degree",
         "race/ethnicity": "group D",
         "reading score": 100,
         "test preparation course": "none",
         "writing score": 100
        },
        {
         "_deepnote_index_column": 1329,
         "gender": "female",
         "lunch": "standard",
         "math score": 88,
         "names": "Connie Banda",
         "parental level of education": "some college",
         "race/ethnicity": "group C",
         "reading score": 93,
         "test preparation course": "completed",
         "writing score": 93
        },
        {
         "_deepnote_index_column": 1336,
         "gender": "female",
         "lunch": "standard",
         "math score": 62,
         "names": "Jeane Budds",
         "parental level of education": "some college",
         "race/ethnicity": "group D",
         "reading score": 70,
         "test preparation course": "none",
         "writing score": 72
        },
        {
         "_deepnote_index_column": 1337,
         "gender": "male",
         "lunch": "free/reduced",
         "math score": 63,
         "names": "Scott Price",
         "parental level of education": "some college",
         "race/ethnicity": "group C",
         "reading score": 61,
         "test preparation course": "none",
         "writing score": 54
        },
        {
         "_deepnote_index_column": 1338,
         "gender": "male",
         "lunch": "standard",
         "math score": 84,
         "names": "James Daniel",
         "parental level of education": "associate's degree",
         "race/ethnicity": "group C",
         "reading score": 80,
         "test preparation course": "none",
         "writing score": 80
        },
        {
         "_deepnote_index_column": 1339,
         "gender": "male",
         "lunch": "standard",
         "math score": 193,
         "names": "Richard Henry",
         "parental level of education": "associate's degree",
         "race/ethnicity": "group D",
         "reading score": 174,
         "test preparation course": "none",
         "writing score": 193
        },
        {
         "_deepnote_index_column": 1340,
         "gender": "male",
         "lunch": "free/reduced",
         "math score": 131,
         "names": "Derrick Crasco",
         "parental level of education": "associate's degree",
         "race/ethnicity": "group B",
         "reading score": 142,
         "test preparation course": "completed",
         "writing score": 193
        },
        {
         "_deepnote_index_column": 1345,
         "gender": "female",
         "lunch": "standard",
         "math score": 188,
         "names": "Sara Kochan",
         "parental level of education": "bachelor's degree",
         "race/ethnicity": "group D",
         "reading score": 193,
         "test preparation course": "none",
         "writing score": 193
        },
        {
         "_deepnote_index_column": 1346,
         "gender": "female",
         "lunch": "free/reduced",
         "math score": 193,
         "names": "Bambi Dyer",
         "parental level of education": "associate's degree",
         "race/ethnicity": "group D",
         "reading score": 196,
         "test preparation course": "none",
         "writing score": 142
        },
        {
         "_deepnote_index_column": 1348,
         "gender": "female",
         "lunch": "standard",
         "math score": 79,
         "names": "Carolyn Greer",
         "parental level of education": "some college",
         "race/ethnicity": "group D",
         "reading score": 86,
         "test preparation course": "none",
         "writing score": 81
        },
        {
         "_deepnote_index_column": 1350,
         "gender": "female",
         "lunch": "free/reduced",
         "math score": 193,
         "names": "Kari Mitchell",
         "parental level of education": "some college",
         "race/ethnicity": "group D",
         "reading score": 193,
         "test preparation course": "none",
         "writing score": 193
        },
        {
         "_deepnote_index_column": 1355,
         "gender": "male",
         "lunch": "standard",
         "math score": 99,
         "names": "Zachary Glenn",
         "parental level of education": "some college",
         "race/ethnicity": "group E",
         "reading score": 87,
         "test preparation course": "completed",
         "writing score": 81
        },
        {
         "_deepnote_index_column": 1360,
         "gender": "male",
         "lunch": "standard",
         "math score": 91,
         "names": "Frank Shaffer",
         "parental level of education": "bachelor's degree",
         "race/ethnicity": "group A",
         "reading score": 96,
         "test preparation course": "none",
         "writing score": 92
        },
        {
         "_deepnote_index_column": 1364,
         "gender": "female",
         "lunch": "standard",
         "math score": 95,
         "names": "Tammi Aline",
         "parental level of education": "associate's degree",
         "race/ethnicity": "group E",
         "reading score": 89,
         "test preparation course": "completed",
         "writing score": 92
        },
        {
         "_deepnote_index_column": 1369,
         "gender": "male",
         "lunch": "standard",
         "math score": 193,
         "names": "Shawn Lopez",
         "parental level of education": "some college",
         "race/ethnicity": "group D",
         "reading score": 196,
         "test preparation course": "completed",
         "writing score": 193
        },
        {
         "_deepnote_index_column": 1378,
         "gender": "male",
         "lunch": "free/reduced",
         "math score": 193,
         "names": "Logan Camp",
         "parental level of education": "associate's degree",
         "race/ethnicity": "group C",
         "reading score": 124,
         "test preparation course": "none",
         "writing score": 193
        },
        {
         "_deepnote_index_column": 1385,
         "gender": "male",
         "lunch": "standard",
         "math score": 193,
         "names": "James Crawford",
         "parental level of education": "master's degree",
         "race/ethnicity": "group D",
         "reading score": 147,
         "test preparation course": "none",
         "writing score": 131
        },
        {
         "_deepnote_index_column": 1390,
         "gender": "female",
         "lunch": "standard",
         "math score": 124,
         "names": "Gloria Bradford",
         "parental level of education": "high school",
         "race/ethnicity": "group B",
         "reading score": 64,
         "test preparation course": "none",
         "writing score": 193
        },
        {
         "_deepnote_index_column": 1393,
         "gender": "male",
         "lunch": "standard",
         "math score": 124,
         "names": "Adam Romero",
         "parental level of education": "high school",
         "race/ethnicity": "group C",
         "reading score": 193,
         "test preparation course": "completed",
         "writing score": 49
        },
        {
         "_deepnote_index_column": 1395,
         "gender": "male",
         "lunch": "standard",
         "math score": 193,
         "names": "Alexander Dillon",
         "parental level of education": "associate's degree",
         "race/ethnicity": "group D",
         "reading score": 142,
         "test preparation course": "none",
         "writing score": 193
        },
        {
         "_deepnote_index_column": 1398,
         "gender": "male",
         "lunch": "free/reduced",
         "math score": 193,
         "names": "Joseph Mccoy",
         "parental level of education": "some college",
         "race/ethnicity": "group D",
         "reading score": 196,
         "test preparation course": "none",
         "writing score": 193
        }
       ],
       "rows_top": [
        {
         "_deepnote_index_column": 12,
         "gender": "female",
         "lunch": "standard",
         "math score": 193,
         "names": "Rita Courtney",
         "parental level of education": "some high school",
         "race/ethnicity": "group B",
         "reading score": 193,
         "test preparation course": "none",
         "writing score": 193
        },
        {
         "_deepnote_index_column": 81,
         "gender": "female",
         "lunch": "standard",
         "math score": 82,
         "names": "Elizabeth Quintero",
         "parental level of education": "some college",
         "race/ethnicity": "group B",
         "reading score": 85,
         "test preparation course": "none",
         "writing score": 87
        },
        {
         "_deepnote_index_column": 160,
         "gender": "female",
         "lunch": "standard",
         "math score": 60,
         "names": "Michelle Gonzales",
         "parental level of education": "some high school",
         "race/ethnicity": "group B",
         "reading score": 70,
         "test preparation course": "completed",
         "writing score": 74
        },
        {
         "_deepnote_index_column": 170,
         "gender": "female",
         "lunch": "free/reduced",
         "math score": 43,
         "names": "Carla Mendoza",
         "parental level of education": "associate's degree",
         "race/ethnicity": "group D",
         "reading score": 60,
         "test preparation course": "none",
         "writing score": 58
        },
        {
         "_deepnote_index_column": 176,
         "gender": "female",
         "lunch": "standard",
         "math score": 54,
         "names": "Darlene Parker",
         "parental level of education": "associate's degree",
         "race/ethnicity": "group C",
         "reading score": 61,
         "test preparation course": "none",
         "writing score": 58
        },
        {
         "_deepnote_index_column": 207,
         "gender": "male",
         "lunch": "standard",
         "math score": 196,
         "names": "Larry Dunn",
         "parental level of education": "some high school",
         "race/ethnicity": "group C",
         "reading score": 193,
         "test preparation course": "none",
         "writing score": 124
        },
        {
         "_deepnote_index_column": 215,
         "gender": "female",
         "lunch": "standard",
         "math score": 196,
         "names": "Donita Hill",
         "parental level of education": "bachelor's degree",
         "race/ethnicity": "group A",
         "reading score": 196,
         "test preparation course": "none",
         "writing score": 64
        },
        {
         "_deepnote_index_column": 229,
         "gender": "male",
         "lunch": "standard",
         "math score": 193,
         "names": "Rodrick Rasch",
         "parental level of education": "some high school",
         "race/ethnicity": "group E",
         "reading score": 124,
         "test preparation course": "none",
         "writing score": 142
        },
        {
         "_deepnote_index_column": 282,
         "gender": "male",
         "lunch": "free/reduced",
         "math score": 79,
         "names": "Eric Acosta",
         "parental level of education": "master's degree",
         "race/ethnicity": "group C",
         "reading score": 81,
         "test preparation course": "none",
         "writing score": 71
        },
        {
         "_deepnote_index_column": 287,
         "gender": "female",
         "lunch": "standard",
         "math score": 193,
         "names": "Ana Rodriguez",
         "parental level of education": "high school",
         "race/ethnicity": "group C",
         "reading score": "nan",
         "test preparation course": "none",
         "writing score": "nan"
        },
        {
         "_deepnote_index_column": 295,
         "gender": "male",
         "lunch": "standard",
         "math score": 122,
         "names": "Joel Reed",
         "parental level of education": "some high school",
         "race/ethnicity": "group D",
         "reading score": 193,
         "test preparation course": "completed",
         "writing score": 142
        },
        {
         "_deepnote_index_column": 315,
         "gender": "male",
         "lunch": "standard",
         "math score": 124,
         "names": "Leon Shipley",
         "parental level of education": "some college",
         "race/ethnicity": "group B",
         "reading score": 147,
         "test preparation course": "completed",
         "writing score": 193
        },
        {
         "_deepnote_index_column": 317,
         "gender": "male",
         "lunch": "free/reduced",
         "math score": 79,
         "names": "Frankie Malan",
         "parental level of education": "associate's degree",
         "race/ethnicity": "group D",
         "reading score": 82,
         "test preparation course": "completed",
         "writing score": 80
        },
        {
         "_deepnote_index_column": 320,
         "gender": "female",
         "lunch": "free/reduced",
         "math score": 124,
         "names": "Karen Ogburn",
         "parental level of education": "high school",
         "race/ethnicity": "group A",
         "reading score": 193,
         "test preparation course": "completed",
         "writing score": 142
        },
        {
         "_deepnote_index_column": 321,
         "gender": "female",
         "lunch": "standard",
         "math score": 54,
         "names": "Nancy Bassett",
         "parental level of education": "high school",
         "race/ethnicity": "group C",
         "reading score": 59,
         "test preparation course": "none",
         "writing score": 62
        },
        {
         "_deepnote_index_column": 325,
         "gender": "female",
         "lunch": "standard",
         "math score": 131,
         "names": "Ana Loredo",
         "parental level of education": "master's degree",
         "race/ethnicity": "group E",
         "reading score": 188,
         "test preparation course": "completed",
         "writing score": 196
        },
        {
         "_deepnote_index_column": 333,
         "gender": "male",
         "lunch": "standard",
         "math score": 76,
         "names": "Stanley Schroder",
         "parental level of education": "associate's degree",
         "race/ethnicity": "group C",
         "reading score": 70,
         "test preparation course": "none",
         "writing score": 68
        },
        {
         "_deepnote_index_column": 334,
         "gender": "female",
         "lunch": "standard",
         "math score": 78,
         "names": "Nancy Ramos",
         "parental level of education": "some college",
         "race/ethnicity": "group A",
         "reading score": 87,
         "test preparation course": "completed",
         "writing score": 91
        },
        {
         "_deepnote_index_column": 335,
         "gender": "male",
         "lunch": "standard",
         "math score": 69,
         "names": "Jeff Carlson",
         "parental level of education": "some college",
         "race/ethnicity": "group C",
         "reading score": 64,
         "test preparation course": "none",
         "writing score": 68
        },
        {
         "_deepnote_index_column": 342,
         "gender": "male",
         "lunch": "free/reduced",
         "math score": 57,
         "names": "Robert Frazier",
         "parental level of education": "associate's degree",
         "race/ethnicity": "group B",
         "reading score": 56,
         "test preparation course": "none",
         "writing score": 57
        },
        {
         "_deepnote_index_column": 352,
         "gender": "female",
         "lunch": "standard",
         "math score": 50,
         "names": "Catherine Grenier",
         "parental level of education": "master's degree",
         "race/ethnicity": "group A",
         "reading score": 53,
         "test preparation course": "none",
         "writing score": 58
        },
        {
         "_deepnote_index_column": 356,
         "gender": "female",
         "lunch": "standard",
         "math score": 40,
         "names": "Andrea Mcdavid",
         "parental level of education": "associate's degree",
         "race/ethnicity": "group C",
         "reading score": 59,
         "test preparation course": "none",
         "writing score": 51
        },
        {
         "_deepnote_index_column": 362,
         "gender": "male",
         "lunch": "standard",
         "math score": 53,
         "names": "Richard Garr",
         "parental level of education": "some college",
         "race/ethnicity": "group C",
         "reading score": 39,
         "test preparation course": "none",
         "writing score": 37
        },
        {
         "_deepnote_index_column": 375,
         "gender": "male",
         "lunch": "standard",
         "math score": 142,
         "names": "Howard Jimenez",
         "parental level of education": "some high school",
         "race/ethnicity": "group E",
         "reading score": 142,
         "test preparation course": "completed",
         "writing score": 193
        },
        {
         "_deepnote_index_column": 386,
         "gender": "male",
         "lunch": "free/reduced",
         "math score": 49,
         "names": "Richard Harden",
         "parental level of education": "some college",
         "race/ethnicity": "group D",
         "reading score": 196,
         "test preparation course": "none",
         "writing score": 193
        },
        {
         "_deepnote_index_column": 399,
         "gender": "male",
         "lunch": "standard",
         "math score": 79,
         "names": "George Mooney",
         "parental level of education": "some college",
         "race/ethnicity": "group C",
         "reading score": 79,
         "test preparation course": "completed",
         "writing score": 78
        },
        {
         "_deepnote_index_column": 403,
         "gender": "female",
         "lunch": "standard",
         "math score": 124,
         "names": "Audrey Mcdonald",
         "parental level of education": "some college",
         "race/ethnicity": "group D",
         "reading score": 193,
         "test preparation course": "none",
         "writing score": 193
        },
        {
         "_deepnote_index_column": 406,
         "gender": "male",
         "lunch": "standard",
         "math score": 124,
         "names": "Charles Smith",
         "parental level of education": "some college",
         "race/ethnicity": "group D",
         "reading score": 49,
         "test preparation course": "none",
         "writing score": 193
        },
        {
         "_deepnote_index_column": 423,
         "gender": "female",
         "lunch": "standard",
         "math score": 52,
         "names": "Carolyn Smartt",
         "parental level of education": "associate's degree",
         "race/ethnicity": "group B",
         "reading score": 66,
         "test preparation course": "completed",
         "writing score": 73
        },
        {
         "_deepnote_index_column": 424,
         "gender": "female",
         "lunch": "free/reduced",
         "math score": 52,
         "names": "Julia Nicole",
         "parental level of education": "some high school",
         "race/ethnicity": "group B",
         "reading score": 67,
         "test preparation course": "completed",
         "writing score": 72
        },
        {
         "_deepnote_index_column": 428,
         "gender": "male",
         "lunch": "standard",
         "math score": 82,
         "names": "Charles Kong",
         "parental level of education": "associate's degree",
         "race/ethnicity": "group C",
         "reading score": 75,
         "test preparation course": "completed",
         "writing score": 77
        },
        {
         "_deepnote_index_column": 441,
         "gender": "male",
         "lunch": "free/reduced",
         "math score": "nan",
         "names": "Aaron Oakden",
         "parental level of education": "high school",
         "race/ethnicity": "group D",
         "reading score": 193,
         "test preparation course": "none",
         "writing score": 124
        },
        {
         "_deepnote_index_column": 443,
         "gender": "female",
         "lunch": "standard",
         "math score": 196,
         "names": "Autumn Miller",
         "parental level of education": "high school",
         "race/ethnicity": "group D",
         "reading score": "nan",
         "test preparation course": "none",
         "writing score": 193
        },
        {
         "_deepnote_index_column": 473,
         "gender": "female",
         "lunch": "free/reduced",
         "math score": 57,
         "names": "Tanya Freeman",
         "parental level of education": "associate's degree",
         "race/ethnicity": "group C",
         "reading score": 78,
         "test preparation course": "none",
         "writing score": 67
        },
        {
         "_deepnote_index_column": 476,
         "gender": "female",
         "lunch": "free/reduced",
         "math score": "nan",
         "names": "Willie Neff",
         "parental level of education": "associate's degree",
         "race/ethnicity": "group E",
         "reading score": 193,
         "test preparation course": "none",
         "writing score": 142
        },
        {
         "_deepnote_index_column": 483,
         "gender": "female",
         "lunch": "standard",
         "math score": 188,
         "names": "Emma Gray",
         "parental level of education": "bachelor's degree",
         "race/ethnicity": "group E",
         "reading score": 196,
         "test preparation course": "completed",
         "writing score": 196
        },
        {
         "_deepnote_index_column": 484,
         "gender": "female",
         "lunch": "standard",
         "math score": "nan",
         "names": "Kathryn Dale",
         "parental level of education": "some college",
         "race/ethnicity": "group B",
         "reading score": 142,
         "test preparation course": "none",
         "writing score": 142
        },
        {
         "_deepnote_index_column": 497,
         "gender": "male",
         "lunch": "standard",
         "math score": "nan",
         "names": "Milton Chaput",
         "parental level of education": "high school",
         "race/ethnicity": "group D",
         "reading score": "nan",
         "test preparation course": "none",
         "writing score": "nan"
        },
        {
         "_deepnote_index_column": 498,
         "gender": "female",
         "lunch": "standard",
         "math score": 58,
         "names": "Tammy Patterson",
         "parental level of education": "high school",
         "race/ethnicity": "group B",
         "reading score": 62,
         "test preparation course": "none",
         "writing score": 59
        },
        {
         "_deepnote_index_column": 500,
         "gender": "female",
         "lunch": "standard",
         "math score": "nan",
         "names": "Audrey Darby",
         "parental level of education": "some high school",
         "race/ethnicity": "group D",
         "reading score": 142,
         "test preparation course": "completed",
         "writing score": 142
        },
        {
         "_deepnote_index_column": 504,
         "gender": "male",
         "lunch": "standard",
         "math score": 69,
         "names": "Aubrey Thompson",
         "parental level of education": "some college",
         "race/ethnicity": "group A",
         "reading score": 67,
         "test preparation course": "none",
         "writing score": 69
        },
        {
         "_deepnote_index_column": 511,
         "gender": "male",
         "lunch": "free/reduced",
         "math score": 124,
         "names": "Robert Miranda",
         "parental level of education": "high school",
         "race/ethnicity": "group C",
         "reading score": 156,
         "test preparation course": "none",
         "writing score": 196
        },
        {
         "_deepnote_index_column": 515,
         "gender": "male",
         "lunch": "standard",
         "math score": 84,
         "names": "Ned Burke",
         "parental level of education": "some college",
         "race/ethnicity": "group E",
         "reading score": 77,
         "test preparation course": "none",
         "writing score": 71
        },
        {
         "_deepnote_index_column": 522,
         "gender": "male",
         "lunch": "standard",
         "math score": 124,
         "names": "Jonathan Clingan",
         "parental level of education": "some college",
         "race/ethnicity": "group D",
         "reading score": 193,
         "test preparation course": "completed",
         "writing score": 124
        },
        {
         "_deepnote_index_column": 529,
         "gender": "male",
         "lunch": "standard",
         "math score": 193,
         "names": "David Carnagey",
         "parental level of education": "associate's degree",
         "race/ethnicity": "group D",
         "reading score": 142,
         "test preparation course": "none",
         "writing score": 124
        },
        {
         "_deepnote_index_column": 545,
         "gender": "male",
         "lunch": "standard",
         "math score": 156,
         "names": "Andrew Duran",
         "parental level of education": "some college",
         "race/ethnicity": "group D",
         "reading score": 196,
         "test preparation course": "none",
         "writing score": 193
        },
        {
         "_deepnote_index_column": 547,
         "gender": "male",
         "lunch": "standard",
         "math score": 76,
         "names": "Oliver Seldon",
         "parental level of education": "high school",
         "race/ethnicity": "group B",
         "reading score": 62,
         "test preparation course": "completed",
         "writing score": 60
        },
        {
         "_deepnote_index_column": 550,
         "gender": "male",
         "lunch": "standard",
         "math score": 193,
         "names": "James Lydon",
         "parental level of education": "high school",
         "race/ethnicity": "group A",
         "reading score": "nan",
         "test preparation course": "none",
         "writing score": "nan"
        },
        {
         "_deepnote_index_column": 558,
         "gender": "male",
         "lunch": "free/reduced",
         "math score": 39,
         "names": "Johnathan Bishop",
         "parental level of education": "bachelor's degree",
         "race/ethnicity": "group D",
         "reading score": 42,
         "test preparation course": "completed",
         "writing score": 38
        },
        {
         "_deepnote_index_column": 570,
         "gender": "female",
         "lunch": "standard",
         "math score": 196,
         "names": "Betty Buntin",
         "parental level of education": "bachelor's degree",
         "race/ethnicity": "group A",
         "reading score": 156,
         "test preparation course": "none",
         "writing score": "nan"
        },
        {
         "_deepnote_index_column": 581,
         "gender": "female",
         "lunch": "free/reduced",
         "math score": 42,
         "names": "Tina Willis",
         "parental level of education": "high school",
         "race/ethnicity": "group C",
         "reading score": 193,
         "test preparation course": "none",
         "writing score": 142
        },
        {
         "_deepnote_index_column": 588,
         "gender": "female",
         "lunch": "standard",
         "math score": 64,
         "names": "Nicole Roberts",
         "parental level of education": "some college",
         "race/ethnicity": "group C",
         "reading score": 131,
         "test preparation course": "completed",
         "writing score": 193
        },
        {
         "_deepnote_index_column": 598,
         "gender": "female",
         "lunch": "standard",
         "math score": 49,
         "names": "Odette Carter",
         "parental level of education": "some high school",
         "race/ethnicity": "group C",
         "reading score": 63,
         "test preparation course": "none",
         "writing score": 56
        },
        {
         "_deepnote_index_column": 608,
         "gender": "male",
         "lunch": "standard",
         "math score": 75,
         "names": "Todd Bernard",
         "parental level of education": "high school",
         "race/ethnicity": "group C",
         "reading score": 69,
         "test preparation course": "completed",
         "writing score": 68
        },
        {
         "_deepnote_index_column": 620,
         "gender": "male",
         "lunch": "standard",
         "math score": 87,
         "names": "Richard Taylor",
         "parental level of education": "associate's degree",
         "race/ethnicity": "group B",
         "reading score": 85,
         "test preparation course": "none",
         "writing score": 73
        }
       ]
      },
      "text/html": [
       "<div>\n",
       "<style scoped>\n",
       "    .dataframe tbody tr th:only-of-type {\n",
       "        vertical-align: middle;\n",
       "    }\n",
       "\n",
       "    .dataframe tbody tr th {\n",
       "        vertical-align: top;\n",
       "    }\n",
       "\n",
       "    .dataframe thead th {\n",
       "        text-align: right;\n",
       "    }\n",
       "</style>\n",
       "<table border=\"1\" class=\"dataframe\">\n",
       "  <thead>\n",
       "    <tr style=\"text-align: right;\">\n",
       "      <th></th>\n",
       "      <th>names</th>\n",
       "      <th>gender</th>\n",
       "      <th>race/ethnicity</th>\n",
       "      <th>parental level of education</th>\n",
       "      <th>lunch</th>\n",
       "      <th>test preparation course</th>\n",
       "      <th>math score</th>\n",
       "      <th>reading score</th>\n",
       "      <th>writing score</th>\n",
       "    </tr>\n",
       "  </thead>\n",
       "  <tbody>\n",
       "    <tr>\n",
       "      <th>12</th>\n",
       "      <td>Rita Courtney</td>\n",
       "      <td>female</td>\n",
       "      <td>group B</td>\n",
       "      <td>some high school</td>\n",
       "      <td>standard</td>\n",
       "      <td>none</td>\n",
       "      <td>193.0</td>\n",
       "      <td>193.0</td>\n",
       "      <td>193.0</td>\n",
       "    </tr>\n",
       "    <tr>\n",
       "      <th>81</th>\n",
       "      <td>Elizabeth Quintero</td>\n",
       "      <td>female</td>\n",
       "      <td>group B</td>\n",
       "      <td>some college</td>\n",
       "      <td>standard</td>\n",
       "      <td>none</td>\n",
       "      <td>82.0</td>\n",
       "      <td>85.0</td>\n",
       "      <td>87.0</td>\n",
       "    </tr>\n",
       "    <tr>\n",
       "      <th>160</th>\n",
       "      <td>Michelle Gonzales</td>\n",
       "      <td>female</td>\n",
       "      <td>group B</td>\n",
       "      <td>some high school</td>\n",
       "      <td>standard</td>\n",
       "      <td>completed</td>\n",
       "      <td>60.0</td>\n",
       "      <td>70.0</td>\n",
       "      <td>74.0</td>\n",
       "    </tr>\n",
       "    <tr>\n",
       "      <th>170</th>\n",
       "      <td>Carla Mendoza</td>\n",
       "      <td>female</td>\n",
       "      <td>group D</td>\n",
       "      <td>associate's degree</td>\n",
       "      <td>free/reduced</td>\n",
       "      <td>none</td>\n",
       "      <td>43.0</td>\n",
       "      <td>60.0</td>\n",
       "      <td>58.0</td>\n",
       "    </tr>\n",
       "    <tr>\n",
       "      <th>176</th>\n",
       "      <td>Darlene Parker</td>\n",
       "      <td>female</td>\n",
       "      <td>group C</td>\n",
       "      <td>associate's degree</td>\n",
       "      <td>standard</td>\n",
       "      <td>none</td>\n",
       "      <td>54.0</td>\n",
       "      <td>61.0</td>\n",
       "      <td>58.0</td>\n",
       "    </tr>\n",
       "    <tr>\n",
       "      <th>...</th>\n",
       "      <td>...</td>\n",
       "      <td>...</td>\n",
       "      <td>...</td>\n",
       "      <td>...</td>\n",
       "      <td>...</td>\n",
       "      <td>...</td>\n",
       "      <td>...</td>\n",
       "      <td>...</td>\n",
       "      <td>...</td>\n",
       "    </tr>\n",
       "    <tr>\n",
       "      <th>1385</th>\n",
       "      <td>James Crawford</td>\n",
       "      <td>male</td>\n",
       "      <td>group D</td>\n",
       "      <td>master's degree</td>\n",
       "      <td>standard</td>\n",
       "      <td>none</td>\n",
       "      <td>193.0</td>\n",
       "      <td>147.0</td>\n",
       "      <td>131.0</td>\n",
       "    </tr>\n",
       "    <tr>\n",
       "      <th>1390</th>\n",
       "      <td>Gloria Bradford</td>\n",
       "      <td>female</td>\n",
       "      <td>group B</td>\n",
       "      <td>high school</td>\n",
       "      <td>standard</td>\n",
       "      <td>none</td>\n",
       "      <td>124.0</td>\n",
       "      <td>64.0</td>\n",
       "      <td>193.0</td>\n",
       "    </tr>\n",
       "    <tr>\n",
       "      <th>1393</th>\n",
       "      <td>Adam Romero</td>\n",
       "      <td>male</td>\n",
       "      <td>group C</td>\n",
       "      <td>high school</td>\n",
       "      <td>standard</td>\n",
       "      <td>completed</td>\n",
       "      <td>124.0</td>\n",
       "      <td>193.0</td>\n",
       "      <td>49.0</td>\n",
       "    </tr>\n",
       "    <tr>\n",
       "      <th>1395</th>\n",
       "      <td>Alexander Dillon</td>\n",
       "      <td>male</td>\n",
       "      <td>group D</td>\n",
       "      <td>associate's degree</td>\n",
       "      <td>standard</td>\n",
       "      <td>none</td>\n",
       "      <td>193.0</td>\n",
       "      <td>142.0</td>\n",
       "      <td>193.0</td>\n",
       "    </tr>\n",
       "    <tr>\n",
       "      <th>1398</th>\n",
       "      <td>Joseph Mccoy</td>\n",
       "      <td>male</td>\n",
       "      <td>group D</td>\n",
       "      <td>some college</td>\n",
       "      <td>free/reduced</td>\n",
       "      <td>none</td>\n",
       "      <td>193.0</td>\n",
       "      <td>196.0</td>\n",
       "      <td>193.0</td>\n",
       "    </tr>\n",
       "  </tbody>\n",
       "</table>\n",
       "<p>247 rows × 9 columns</p>\n",
       "</div>"
      ],
      "text/plain": [
       "                   names  gender race/ethnicity parental level of education  \\\n",
       "12         Rita Courtney  female        group B            some high school   \n",
       "81    Elizabeth Quintero  female        group B                some college   \n",
       "160    Michelle Gonzales  female        group B            some high school   \n",
       "170        Carla Mendoza  female        group D          associate's degree   \n",
       "176       Darlene Parker  female        group C          associate's degree   \n",
       "...                  ...     ...            ...                         ...   \n",
       "1385      James Crawford    male        group D             master's degree   \n",
       "1390     Gloria Bradford  female        group B                 high school   \n",
       "1393         Adam Romero    male        group C                 high school   \n",
       "1395    Alexander Dillon    male        group D          associate's degree   \n",
       "1398        Joseph Mccoy    male        group D                some college   \n",
       "\n",
       "             lunch test preparation course  math score  reading score  \\\n",
       "12        standard                    none       193.0          193.0   \n",
       "81        standard                    none        82.0           85.0   \n",
       "160       standard               completed        60.0           70.0   \n",
       "170   free/reduced                    none        43.0           60.0   \n",
       "176       standard                    none        54.0           61.0   \n",
       "...            ...                     ...         ...            ...   \n",
       "1385      standard                    none       193.0          147.0   \n",
       "1390      standard                    none       124.0           64.0   \n",
       "1393      standard               completed       124.0          193.0   \n",
       "1395      standard                    none       193.0          142.0   \n",
       "1398  free/reduced                    none       193.0          196.0   \n",
       "\n",
       "      writing score  \n",
       "12            193.0  \n",
       "81             87.0  \n",
       "160            74.0  \n",
       "170            58.0  \n",
       "176            58.0  \n",
       "...             ...  \n",
       "1385          131.0  \n",
       "1390          193.0  \n",
       "1393           49.0  \n",
       "1395          193.0  \n",
       "1398          193.0  \n",
       "\n",
       "[247 rows x 9 columns]"
      ]
     },
     "metadata": {},
     "output_type": "display_data"
    },
    {
     "name": "stdout",
     "output_type": "stream",
     "text": [
      "\n",
      "9.- Boxplot de notas:\n"
     ]
    },
    {
     "data": {
      "text/html": [
       "<html>\n",
       "<head><meta charset=\"utf-8\" /></head>\n",
       "<body>\n",
       "    <div>            <script src=\"https://cdnjs.cloudflare.com/ajax/libs/mathjax/2.7.5/MathJax.js?config=TeX-AMS-MML_SVG\"></script><script type=\"text/javascript\">if (window.MathJax) {MathJax.Hub.Config({SVG: {font: \"STIX-Web\"}});}</script>                <script type=\"text/javascript\">window.PlotlyConfig = {MathJaxConfig: 'local'};</script>\n",
       "        <script src=\"https://cdn.plot.ly/plotly-2.4.2.min.js\"></script>                <div id=\"c29d6797-23b9-45a1-b905-5e2778425a29\" class=\"plotly-graph-div\" style=\"height:525px; width:100%;\"></div>            <script type=\"text/javascript\">                                    window.PLOTLYENV=window.PLOTLYENV || {};                                    if (document.getElementById(\"c29d6797-23b9-45a1-b905-5e2778425a29\")) {                    Plotly.newPlot(                        \"c29d6797-23b9-45a1-b905-5e2778425a29\",                        [{\"alignmentgroup\":\"True\",\"hovertemplate\":\"subject=math score<br>score=%{y}<extra></extra>\",\"legendgroup\":\"math score\",\"marker\":{\"color\":\"#636efa\"},\"name\":\"math score\",\"notched\":false,\"offsetgroup\":\"math score\",\"orientation\":\"v\",\"showlegend\":true,\"type\":\"box\",\"x0\":\" \",\"xaxis\":\"x\",\"y\":[37.0,124.0,156.0,80.0,131.0,73.0,81.0,94.0,71.0,75.0,124.0,188.0,193.0,34.0,193.0,63.0,94.0,65.0,95.0,52.0,62.0,74.0,142.0,124.0,62.0,73.0,46.0,82.0,124.0,63.0,64.0,80.0,124.0,131.0,null,93.0,69.0,46.0,86.0,59.0,84.0,64.0,73.0,83.0,131.0,75.0,69.0,68.0,193.0,57.0,66.0,61.0,40.0,50.0,48.0,36.0,78.0,196.0,57.0,122.0,196.0,69.0,124.0,40.0,92.0,188.0,35.0,63.0,193.0,73.0,63.0,52.0,131.0,73.0,63.0,124.0,71.0,45.0,85.0,80.0,40.0,82.0,188.0,77.0,91.0,null,196.0,60.0,63.0,40.0,174.0,57.0,58.0,147.0,188.0,97.0,81.0,68.0,59.0,96.0,87.0,57.0,193.0,193.0,142.0,94.0,97.0,124.0,65.0,82.0,72.0,62.0,44.0,49.0,196.0,82.0,75.0,193.0,59.0,75.0,72.0,68.0,193.0,124.0,66.0,196.0,null,67.0,93.0,69.0,142.0,63.0,46.0,66.0,193.0,49.0,62.0,182.0,48.0,null,71.0,193.0,147.0,193.0,54.0,80.0,55.0,193.0,90.0,94.0,81.0,34.0,193.0,53.0,124.0,61.0,75.0,74.0,62.0,70.0,60.0,59.0,193.0,62.0,53.0,80.0,69.0,69.0,69.0,49.0,43.0,83.0,65.0,73.0,68.0,64.0,54.0,65.0,193.0,49.0,58.0,66.0,65.0,65.0,193.0,70.0,79.0,50.0,193.0,188.0,64.0,124.0,68.0,32.0,68.0,58.0,19.0,193.0,69.0,72.0,53.0,64.0,61.0,78.0,53.0,45.0,44.0,196.0,83.0,65.0,88.0,88.0,91.0,84.0,51.0,196.0,196.0,null,38.0,193.0,47.0,66.0,61.0,60.0,71.0,45.0,77.0,53.0,193.0,193.0,57.0,124.0,193.0,131.0,193.0,72.0,76.0,45.0,193.0,99.0,51.0,64.0,52.0,80.0,51.0,193.0,193.0,196.0,50.0,64.0,74.0,196.0,71.0,57.0,69.0,77.0,193.0,75.0,196.0,43.0,80.0,193.0,null,122.0,59.0,85.0,55.0,44.0,42.0,58.0,61.0,50.0,64.0,88.0,73.0,95.0,124.0,174.0,67.0,97.0,61.0,62.0,79.0,54.0,66.0,193.0,174.0,193.0,174.0,78.0,193.0,85.0,84.0,76.0,44.0,122.0,81.0,54.0,58.0,124.0,81.0,35.0,72.0,71.0,61.0,66.0,71.0,71.0,89.0,73.0,81.0,46.0,22.0,124.0,48.0,124.0,44.0,79.0,91.0,76.0,124.0,54.0,77.0,62.0,67.0,131.0,196.0,86.0,58.0,53.0,57.0,182.0,69.0,76.0,78.0,69.0,124.0,62.0,37.0,196.0,88.0,90.0,57.0,193.0,68.0,65.0,63.0,124.0,52.0,48.0,65.0,54.0,50.0,124.0,193.0,122.0,40.0,29.0,26.0,70.0,196.0,75.0,53.0,64.0,60.0,98.0,93.0,59.0,46.0,null,76.0,79.0,28.0,55.0,61.0,142.0,196.0,193.0,193.0,35.0,193.0,94.0,193.0,46.0,100.0,67.0,49.0,193.0,50.0,79.0,142.0,71.0,null,83.0,55.0,193.0,48.0,76.0,77.0,79.0,193.0,62.0,56.0,124.0,68.0,84.0,124.0,80.0,62.0,124.0,60.0,64.0,29.0,52.0,53.0,131.0,67.0,82.0,56.0,79.0,142.0,73.0,66.0,52.0,52.0,73.0,66.0,84.0,82.0,193.0,74.0,193.0,76.0,81.0,79.0,124.0,68.0,128.0,63.0,142.0,124.0,null,50.0,196.0,196.0,72.0,85.0,196.0,83.0,84.0,65.0,null,85.0,70.0,58.0,86.0,64.0,65.0,124.0,61.0,193.0,49.0,53.0,97.0,196.0,75.0,72.0,124.0,74.0,59.0,68.0,78.0,53.0,57.0,72.0,99.0,null,79.0,91.0,83.0,null,72.0,142.0,188.0,null,61.0,73.0,59.0,100.0,61.0,77.0,71.0,49.0,62.0,193.0,86.0,75.0,null,58.0,47.0,null,131.0,193.0,63.0,69.0,null,70.0,68.0,61.0,71.0,122.0,124.0,142.0,81.0,100.0,84.0,77.0,53.0,71.0,73.0,193.0,65.0,124.0,193.0,49.0,52.0,65.0,59.0,80.0,193.0,62.0,57.0,46.0,58.0,67.0,73.0,72.0,40.0,78.0,63.0,61.0,79.0,77.0,70.0,53.0,156.0,151.0,76.0,45.0,40.0,193.0,82.0,124.0,193.0,78.0,75.0,70.0,55.0,39.0,188.0,null,70.0,30.0,75.0,63.0,82.0,74.0,54.0,124.0,71.0,196.0,142.0,73.0,77.0,77.0,87.0,87.0,74.0,67.0,43.0,49.0,42.0,49.0,null,124.0,193.0,53.0,64.0,64.0,196.0,61.0,79.0,null,69.0,54.0,65.0,77.0,58.0,49.0,73.0,124.0,54.0,142.0,54.0,64.0,null,59.0,76.0,75.0,85.0,131.0,97.0,193.0,188.0,53.0,52.0,142.0,77.0,79.0,57.0,87.0,66.0,193.0,193.0,63.0,65.0,64.0,124.0,68.0,55.0,72.0,86.0,142.0,35.0,97.0,124.0,75.0,52.0,74.0,70.0,39.0,61.0,193.0,44.0,193.0,32.0,193.0,77.0,49.0,87.0,193.0,66.0,68.0,196.0,193.0,65.0,62.0,81.0,196.0,70.0,124.0,null,74.0,94.0,142.0,193.0,76.0,59.0,156.0,68.0,124.0,193.0,193.0,73.0,null,193.0,124.0,100.0,131.0,8.0,65.0,40.0,48.0,89.0,77.0,193.0,65.0,69.0,68.0,49.0,62.0,50.0,56.0,46.0,124.0,38.0,53.0,142.0,193.0,60.0,91.0,90.0,73.0,70.0,47.0,65.0,81.0,55.0,93.0,142.0,193.0,124.0,142.0,65.0,131.0,62.0,48.0,196.0,68.0,66.0,55.0,42.0,54.0,74.0,37.0,66.0,88.0,69.0,166.0,61.0,193.0,39.0,87.0,142.0,64.0,44.0,131.0,59.0,80.0,33.0,71.0,76.0,53.0,78.0,55.0,70.0,65.0,193.0,86.0,47.0,54.0,41.0,193.0,78.0,83.0,54.0,90.0,59.0,65.0,null,67.0,193.0,null,89.0,59.0,73.0,74.0,86.0,55.0,61.0,57.0,58.0,42.0,45.0,null,63.0,61.0,81.0,92.0,193.0,67.0,94.0,56.0,62.0,70.0,142.0,70.0,76.0,64.0,47.0,66.0,86.0,40.0,66.0,68.0,51.0,45.0,88.0,90.0,52.0,49.0,53.0,171.0,193.0,71.0,50.0,58.0,42.0,67.0,39.0,85.0,62.0,78.0,73.0,68.0,89.0,40.0,82.0,69.0,null,77.0,69.0,79.0,53.0,43.0,58.0,76.0,40.0,88.0,69.0,49.0,85.0,69.0,72.0,57.0,58.0,62.0,62.0,142.0,142.0,75.0,88.0,81.0,193.0,null,193.0,67.0,142.0,67.0,166.0,74.0,188.0,74.0,95.0,71.0,193.0,85.0,193.0,124.0,131.0,188.0,142.0,196.0,56.0,82.0,124.0,85.0,60.0,63.0,51.0,50.0,81.0,64.0,87.0,46.0,58.0,62.0,76.0,60.0,193.0,50.0,124.0,193.0,142.0,77.0,124.0,64.0,null,61.0,60.0,193.0,67.0,64.0,193.0,196.0,90.0,59.0,53.0,48.0,193.0,35.0,60.0,82.0,58.0,60.0,66.0,null,85.0,124.0,49.0,77.0,67.0,69.0,131.0,50.0,62.0,83.0,81.0,92.0,70.0,72.0,92.0,51.0,156.0,87.0,71.0,59.0,193.0,124.0,88.0,61.0,193.0,82.0,193.0,71.0,75.0,43.0,142.0,51.0,62.0,75.0,63.0,174.0,71.0,67.0,71.0,61.0,56.0,98.0,82.0,75.0,59.0,193.0,71.0,44.0,77.0,65.0,196.0,57.0,60.0,27.0,58.0,70.0,38.0,42.0,100.0,193.0,89.0,35.0,74.0,77.0,62.0,79.0,124.0,46.0,74.0,196.0,59.0,66.0,124.0,47.0,142.0,77.0,78.0,52.0,null,70.0,193.0,58.0,193.0,68.0,69.0,87.0,52.0,72.0,85.0,196.0,41.0,61.0,67.0,54.0,75.0,80.0,63.0,52.0,62.0,58.0,62.0,65.0,74.0,182.0,142.0,142.0,79.0,49.0,68.0,63.0,52.0,59.0,55.0,66.0,38.0,193.0,193.0,74.0,91.0,64.0,142.0,74.0,142.0,81.0,79.0,142.0,90.0,142.0,124.0,null,54.0,78.0,46.0,193.0,88.0,62.0,193.0,80.0,124.0,142.0,80.0,71.0,64.0,75.0,60.0,68.0,88.0,55.0,50.0,124.0,97.0,42.0,null,188.0,49.0,69.0,40.0,122.0,42.0,196.0,58.0,24.0,48.0,124.0,67.0,59.0,193.0,59.0,96.0,45.0,88.0,72.0,166.0,61.0,81.0,59.0,73.0,193.0,79.0,68.0,193.0,47.0,124.0,64.0,49.0,124.0,54.0,71.0,null,59.0,89.0,37.0,59.0,null,57.0,47.0,77.0,62.0,77.0,51.0,131.0,69.0,74.0,60.0,76.0,51.0,32.0,124.0,193.0,73.0,49.0,76.0,193.0,64.0,62.0,63.0,156.0,50.0,44.0,66.0,67.0,142.0,142.0,61.0,75.0,147.0,69.0,76.0,65.0,53.0,87.0,53.0,null,66.0,196.0,49.0,67.0,55.0,30.0,73.0,62.0,79.0,63.0,52.0,193.0,58.0,124.0,142.0,193.0,78.0,81.0,142.0,193.0,74.0,68.0,82.0,73.0,35.0,142.0,59.0,74.0,62.0,49.0,84.0,67.0,81.0,33.0,142.0,59.0,87.0,77.0,58.0,69.0,null,65.0,92.0,87.0,69.0,null,73.0,61.0,55.0,67.0,193.0,69.0,74.0,64.0,56.0,36.0,41.0,142.0,124.0,49.0,59.0,34.0,142.0,84.0,76.0,142.0,61.0,193.0,193.0,62.0,87.0,67.0,54.0,59.0,68.0,67.0,91.0,142.0,80.0,96.0,68.0,193.0,156.0,30.0,124.0,null,74.0,71.0,35.0,81.0,53.0,49.0,147.0,40.0,80.0,76.0,142.0,76.0,29.0,196.0,63.0,57.0,58.0,null,72.0,196.0,55.0,53.0,null,80.0,41.0,55.0,51.0,85.0,81.0,52.0,18.0,193.0,73.0,48.0,56.0,142.0,124.0,63.0,58.0,32.0,59.0,193.0,142.0,193.0,63.0,142.0,63.0,80.0,60.0,64.0,98.0,59.0,65.0,193.0,87.0,66.0,52.0,193.0,28.0,174.0,73.0,87.0,79.0,60.0,81.0,74.0,196.0,69.0,47.0,47.0,79.0,82.0,92.0,57.0,41.0,49.0,88.0,79.0,59.0,71.0,193.0,81.0,65.0,82.0,65.0,40.0,73.0,156.0,56.0,69.0,193.0,67.0,91.0,67.0,188.0,124.0,87.0,124.0,65.0,124.0,58.0,55.0,48.0,88.0,53.0,85.0,193.0,62.0,65.0,82.0,62.0,63.0,84.0,193.0,131.0,77.0,50.0,69.0,0.0,188.0,193.0,65.0,79.0,69.0,193.0,72.0,100.0,65.0,47.0,99.0,51.0,71.0,124.0,82.0,91.0,55.0,75.0,66.0,95.0,72.0,70.0,57.0,84.0,193.0,61.0,45.0,65.0,27.0,88.0,65.0,63.0,78.0,193.0,65.0,90.0,100.0,67.0,74.0,76.0,193.0,66.0,59.0,62.0,41.0,124.0,29.0,69.0,124.0,23.0,193.0,66.0,54.0,193.0,68.0],\"y0\":\" \",\"yaxis\":\"y\"},{\"alignmentgroup\":\"True\",\"hovertemplate\":\"subject=reading score<br>score=%{y}<extra></extra>\",\"legendgroup\":\"reading score\",\"marker\":{\"color\":\"#EF553B\"},\"name\":\"reading score\",\"notched\":false,\"offsetgroup\":\"reading score\",\"orientation\":\"v\",\"showlegend\":true,\"type\":\"box\",\"x0\":\" \",\"xaxis\":\"x\",\"y\":[46.0,142.0,196.0,78.0,166.0,66.0,75.0,86.0,61.0,68.0,196.0,131.0,193.0,48.0,171.0,61.0,73.0,78.0,142.0,76.0,65.0,74.0,null,142.0,57.0,69.0,42.0,82.0,193.0,61.0,73.0,75.0,null,97.0,null,100.0,76.0,61.0,81.0,72.0,83.0,64.0,76.0,86.0,124.0,88.0,74.0,72.0,142.0,61.0,64.0,61.0,59.0,67.0,62.0,29.0,79.0,142.0,67.0,124.0,null,58.0,142.0,55.0,87.0,193.0,28.0,67.0,128.0,74.0,64.0,59.0,142.0,79.0,73.0,196.0,60.0,59.0,92.0,76.0,196.0,85.0,193.0,94.0,85.0,193.0,142.0,62.0,48.0,48.0,193.0,54.0,54.0,193.0,188.0,82.0,82.0,65.0,71.0,90.0,84.0,75.0,193.0,142.0,193.0,88.0,93.0,142.0,81.0,93.0,57.0,74.0,54.0,193.0,null,84.0,90.0,193.0,41.0,73.0,68.0,78.0,193.0,null,74.0,124.0,193.0,62.0,90.0,63.0,124.0,74.0,64.0,68.0,124.0,null,73.0,142.0,56.0,193.0,70.0,124.0,124.0,142.0,72.0,83.0,59.0,null,87.0,99.0,73.0,42.0,null,43.0,64.0,68.0,85.0,81.0,72.0,78.0,70.0,51.0,188.0,72.0,50.0,85.0,66.0,78.0,77.0,45.0,60.0,93.0,61.0,64.0,83.0,66.0,61.0,77.0,171.0,57.0,67.0,78.0,70.0,79.0,142.0,68.0,81.0,67.0,193.0,142.0,54.0,124.0,60.0,51.0,51.0,57.0,38.0,193.0,77.0,79.0,58.0,188.0,51.0,72.0,62.0,56.0,51.0,193.0,83.0,76.0,78.0,95.0,89.0,87.0,66.0,196.0,193.0,193.0,49.0,193.0,53.0,57.0,73.0,68.0,71.0,63.0,86.0,58.0,142.0,124.0,51.0,151.0,193.0,171.0,193.0,64.0,71.0,48.0,193.0,93.0,72.0,60.0,61.0,73.0,54.0,128.0,142.0,124.0,48.0,73.0,74.0,95.0,77.0,74.0,70.0,90.0,196.0,74.0,124.0,51.0,68.0,null,142.0,166.0,72.0,81.0,76.0,63.0,62.0,59.0,47.0,66.0,64.0,74.0,78.0,193.0,196.0,142.0,86.0,100.0,58.0,64.0,81.0,63.0,71.0,142.0,124.0,null,124.0,91.0,196.0,75.0,84.0,94.0,61.0,193.0,84.0,49.0,63.0,193.0,82.0,174.0,81.0,49.0,42.0,77.0,76.0,66.0,88.0,83.0,81.0,34.0,39.0,124.0,52.0,147.0,64.0,82.0,81.0,80.0,193.0,59.0,78.0,72.0,64.0,188.0,196.0,81.0,70.0,52.0,58.0,124.0,73.0,70.0,87.0,64.0,142.0,66.0,57.0,193.0,89.0,75.0,56.0,124.0,70.0,75.0,69.0,193.0,57.0,43.0,54.0,54.0,53.0,193.0,142.0,193.0,59.0,41.0,31.0,75.0,124.0,74.0,39.0,124.0,57.0,87.0,84.0,54.0,54.0,193.0,64.0,88.0,23.0,71.0,57.0,142.0,124.0,64.0,124.0,53.0,124.0,85.0,124.0,58.0,100.0,80.0,196.0,124.0,47.0,84.0,124.0,81.0,124.0,82.0,64.0,null,58.0,73.0,77.0,79.0,null,78.0,68.0,193.0,86.0,77.0,49.0,75.0,70.0,174.0,66.0,62.0,40.0,65.0,61.0,124.0,61.0,95.0,79.0,76.0,196.0,68.0,74.0,66.0,67.0,86.0,65.0,73.0,75.0,124.0,77.0,null,71.0,72.0,89.0,124.0,71.0,193.0,78.0,193.0,null,193.0,56.0,null,193.0,65.0,92.0,142.0,78.0,95.0,77.0,null,86.0,70.0,63.0,80.0,82.0,81.0,193.0,55.0,null,51.0,51.0,97.0,null,72.0,73.0,196.0,79.0,67.0,68.0,77.0,58.0,78.0,57.0,100.0,193.0,89.0,73.0,72.0,193.0,79.0,156.0,196.0,142.0,62.0,74.0,54.0,96.0,66.0,79.0,67.0,53.0,61.0,156.0,92.0,81.0,null,62.0,59.0,142.0,null,64.0,75.0,67.0,193.0,75.0,63.0,56.0,66.0,95.0,156.0,156.0,97.0,100.0,77.0,90.0,44.0,83.0,68.0,null,82.0,193.0,171.0,49.0,59.0,75.0,60.0,64.0,142.0,49.0,43.0,43.0,73.0,54.0,66.0,72.0,43.0,83.0,65.0,72.0,74.0,82.0,84.0,54.0,196.0,42.0,62.0,53.0,58.0,null,85.0,64.0,196.0,72.0,66.0,64.0,55.0,42.0,142.0,49.0,89.0,26.0,84.0,64.0,82.0,81.0,59.0,147.0,84.0,156.0,124.0,84.0,88.0,88.0,84.0,74.0,73.0,64.0,62.0,52.0,193.0,65.0,142.0,124.0,193.0,54.0,53.0,131.0,193.0,86.0,92.0,156.0,71.0,52.0,86.0,91.0,61.0,63.0,76.0,193.0,64.0,188.0,53.0,58.0,196.0,72.0,74.0,69.0,84.0,193.0,92.0,142.0,193.0,70.0,55.0,142.0,76.0,72.0,77.0,85.0,69.0,193.0,124.0,73.0,85.0,124.0,193.0,67.0,58.0,66.0,76.0,193.0,55.0,87.0,124.0,68.0,49.0,70.0,82.0,52.0,74.0,196.0,50.0,156.0,151.0,193.0,90.0,193.0,84.0,193.0,65.0,77.0,182.0,182.0,67.0,67.0,66.0,142.0,63.0,193.0,182.0,75.0,90.0,193.0,196.0,78.0,70.0,188.0,68.0,193.0,131.0,193.0,66.0,142.0,196.0,142.0,100.0,131.0,24.0,64.0,65.0,66.0,84.0,82.0,64.0,73.0,77.0,72.0,51.0,69.0,50.0,68.0,56.0,null,142.0,55.0,147.0,182.0,51.0,95.0,90.0,56.0,72.0,49.0,65.0,77.0,46.0,100.0,196.0,188.0,193.0,193.0,70.0,124.0,61.0,45.0,193.0,59.0,69.0,46.0,55.0,65.0,77.0,56.0,63.0,78.0,77.0,196.0,71.0,64.0,64.0,100.0,124.0,63.0,41.0,193.0,78.0,79.0,142.0,87.0,87.0,58.0,81.0,73.0,70.0,69.0,131.0,73.0,49.0,52.0,51.0,193.0,81.0,80.0,64.0,90.0,58.0,81.0,142.0,79.0,64.0,124.0,84.0,63.0,71.0,90.0,83.0,56.0,58.0,78.0,52.0,193.0,37.0,193.0,63.0,70.0,91.0,100.0,142.0,73.0,87.0,52.0,66.0,65.0,122.0,74.0,83.0,74.0,54.0,74.0,85.0,52.0,74.0,74.0,31.0,73.0,84.0,95.0,57.0,53.0,52.0,142.0,156.0,74.0,48.0,55.0,52.0,57.0,39.0,90.0,61.0,74.0,78.0,70.0,100.0,42.0,67.0,80.0,142.0,85.0,84.0,86.0,62.0,45.0,55.0,85.0,42.0,77.0,70.0,50.0,91.0,60.0,80.0,50.0,61.0,67.0,63.0,142.0,142.0,77.0,99.0,91.0,124.0,142.0,142.0,78.0,193.0,69.0,147.0,71.0,193.0,79.0,81.0,74.0,193.0,84.0,193.0,124.0,166.0,193.0,142.0,null,54.0,62.0,null,84.0,64.0,72.0,52.0,64.0,75.0,193.0,85.0,43.0,68.0,55.0,72.0,68.0,null,42.0,124.0,196.0,64.0,89.0,188.0,50.0,null,68.0,59.0,142.0,57.0,73.0,193.0,193.0,85.0,73.0,45.0,56.0,193.0,28.0,70.0,90.0,67.0,75.0,59.0,193.0,95.0,193.0,52.0,69.0,76.0,79.0,131.0,60.0,56.0,85.0,71.0,100.0,56.0,79.0,100.0,63.0,156.0,73.0,70.0,52.0,193.0,142.0,99.0,64.0,193.0,93.0,193.0,69.0,82.0,53.0,193.0,49.0,55.0,81.0,55.0,196.0,83.0,72.0,83.0,56.0,61.0,86.0,84.0,88.0,62.0,64.0,75.0,45.0,68.0,76.0,142.0,48.0,60.0,34.0,50.0,64.0,43.0,66.0,92.0,142.0,76.0,44.0,72.0,62.0,64.0,82.0,156.0,41.0,64.0,124.0,70.0,77.0,193.0,37.0,142.0,68.0,77.0,48.0,null,71.0,156.0,57.0,142.0,54.0,72.0,94.0,53.0,80.0,89.0,133.0,39.0,71.0,89.0,48.0,81.0,90.0,63.0,58.0,55.0,60.0,67.0,77.0,88.0,193.0,193.0,151.0,73.0,196.0,68.0,80.0,70.0,42.0,47.0,60.0,60.0,196.0,42.0,76.0,86.0,64.0,193.0,63.0,196.0,74.0,82.0,null,78.0,193.0,193.0,142.0,58.0,82.0,43.0,196.0,92.0,67.0,196.0,86.0,124.0,193.0,63.0,79.0,85.0,86.0,72.0,60.0,75.0,61.0,60.0,null,166.0,61.0,193.0,124.0,193.0,75.0,196.0,142.0,39.0,null,75.0,38.0,51.0,193.0,84.0,62.0,142.0,62.0,96.0,47.0,85.0,67.0,171.0,67.0,80.0,53.0,76.0,null,85.0,75.0,142.0,62.0,196.0,79.0,58.0,193.0,60.0,71.0,174.0,58.0,87.0,45.0,85.0,193.0,58.0,43.0,67.0,68.0,67.0,58.0,147.0,77.0,71.0,63.0,78.0,60.0,34.0,193.0,188.0,78.0,57.0,62.0,142.0,76.0,64.0,78.0,156.0,53.0,51.0,62.0,84.0,193.0,156.0,60.0,58.0,128.0,84.0,76.0,73.0,72.0,90.0,66.0,142.0,83.0,193.0,65.0,74.0,72.0,24.0,92.0,62.0,60.0,57.0,65.0,193.0,76.0,193.0,142.0,49.0,90.0,86.0,193.0,193.0,89.0,76.0,97.0,70.0,124.0,122.0,66.0,86.0,68.0,193.0,83.0,86.0,88.0,41.0,147.0,65.0,95.0,97.0,51.0,66.0,null,66.0,100.0,74.0,54.0,193.0,67.0,60.0,59.0,81.0,193.0,90.0,81.0,60.0,65.0,53.0,52.0,193.0,193.0,58.0,69.0,42.0,196.0,87.0,83.0,171.0,72.0,142.0,null,67.0,89.0,75.0,64.0,63.0,67.0,84.0,74.0,188.0,80.0,100.0,64.0,124.0,142.0,26.0,193.0,193.0,75.0,76.0,61.0,78.0,37.0,193.0,193.0,182.0,76.0,71.0,188.0,70.0,142.0,196.0,71.0,68.0,70.0,null,66.0,null,65.0,71.0,193.0,92.0,55.0,69.0,56.0,76.0,92.0,59.0,32.0,193.0,79.0,54.0,58.0,196.0,null,67.0,49.0,39.0,73.0,156.0,156.0,193.0,60.0,null,73.0,90.0,44.0,56.0,100.0,71.0,69.0,49.0,91.0,76.0,55.0,124.0,182.0,193.0,75.0,84.0,67.0,72.0,78.0,79.0,142.0,60.0,58.0,46.0,77.0,80.0,79.0,69.0,45.0,58.0,95.0,78.0,70.0,62.0,174.0,81.0,81.0,78.0,69.0,46.0,80.0,188.0,72.0,58.0,122.0,72.0,96.0,75.0,193.0,49.0,100.0,193.0,74.0,142.0,59.0,41.0,58.0,93.0,61.0,66.0,142.0,67.0,84.0,82.0,70.0,61.0,80.0,174.0,142.0,62.0,64.0,65.0,17.0,193.0,196.0,67.0,86.0,86.0,193.0,67.0,100.0,58.0,57.0,87.0,51.0,74.0,null,82.0,96.0,65.0,82.0,66.0,89.0,72.0,55.0,56.0,89.0,196.0,48.0,52.0,59.0,34.0,73.0,82.0,66.0,81.0,124.0,72.0,87.0,97.0,74.0,75.0,67.0,147.0,72.0,64.0,76.0,46.0,64.0,29.0,75.0,193.0,44.0,142.0,74.0,61.0,196.0,80.0],\"y0\":\" \",\"yaxis\":\"y\"},{\"alignmentgroup\":\"True\",\"hovertemplate\":\"subject=writing score<br>score=%{y}<extra></extra>\",\"legendgroup\":\"writing score\",\"marker\":{\"color\":\"#00cc96\"},\"name\":\"writing score\",\"notched\":false,\"offsetgroup\":\"writing score\",\"orientation\":\"v\",\"showlegend\":true,\"type\":\"box\",\"x0\":\" \",\"xaxis\":\"x\",\"y\":[46.0,142.0,193.0,81.0,166.0,63.0,76.0,87.0,69.0,64.0,193.0,193.0,193.0,41.0,131.0,61.0,71.0,82.0,147.0,70.0,58.0,72.0,193.0,124.0,62.0,68.0,46.0,74.0,193.0,60.0,68.0,77.0,null,124.0,142.0,100.0,74.0,55.0,80.0,70.0,75.0,67.0,78.0,88.0,124.0,85.0,74.0,65.0,124.0,54.0,62.0,62.0,54.0,63.0,60.0,27.0,76.0,142.0,72.0,193.0,193.0,57.0,124.0,53.0,78.0,142.0,27.0,70.0,188.0,61.0,67.0,65.0,193.0,79.0,71.0,196.0,61.0,64.0,85.0,65.0,196.0,87.0,193.0,95.0,85.0,122.0,196.0,60.0,47.0,50.0,182.0,56.0,52.0,124.0,142.0,88.0,82.0,61.0,65.0,92.0,86.0,73.0,196.0,124.0,193.0,78.0,91.0,124.0,81.0,93.0,58.0,70.0,53.0,142.0,null,78.0,88.0,193.0,42.0,74.0,67.0,77.0,null,193.0,78.0,142.0,null,60.0,83.0,61.0,196.0,74.0,66.0,64.0,193.0,142.0,70.0,193.0,51.0,142.0,70.0,193.0,196.0,124.0,59.0,83.0,54.0,null,85.0,100.0,72.0,151.0,124.0,43.0,193.0,63.0,82.0,71.0,65.0,78.0,74.0,43.0,188.0,74.0,60.0,85.0,61.0,76.0,77.0,45.0,58.0,95.0,71.0,57.0,78.0,59.0,58.0,74.0,193.0,46.0,62.0,78.0,74.0,81.0,193.0,72.0,82.0,73.0,128.0,124.0,50.0,124.0,59.0,44.0,57.0,54.0,32.0,142.0,73.0,74.0,57.0,193.0,52.0,69.0,53.0,54.0,48.0,124.0,90.0,75.0,83.0,94.0,92.0,91.0,62.0,64.0,124.0,193.0,45.0,193.0,58.0,52.0,63.0,60.0,74.0,59.0,86.0,55.0,131.0,142.0,54.0,193.0,193.0,196.0,193.0,63.0,73.0,46.0,156.0,90.0,79.0,58.0,66.0,72.0,41.0,122.0,142.0,193.0,42.0,70.0,72.0,131.0,77.0,76.0,67.0,85.0,null,66.0,142.0,54.0,72.0,193.0,196.0,166.0,68.0,85.0,76.0,62.0,60.0,58.0,56.0,64.0,null,75.0,72.0,193.0,196.0,196.0,83.0,100.0,56.0,66.0,71.0,67.0,76.0,142.0,193.0,null,124.0,96.0,188.0,68.0,80.0,87.0,52.0,142.0,82.0,47.0,65.0,124.0,84.0,142.0,79.0,52.0,41.0,73.0,83.0,65.0,82.0,76.0,79.0,36.0,33.0,null,45.0,193.0,58.0,80.0,79.0,73.0,142.0,62.0,73.0,70.0,61.0,196.0,196.0,75.0,68.0,49.0,64.0,124.0,73.0,68.0,91.0,68.0,142.0,68.0,56.0,193.0,86.0,69.0,57.0,142.0,66.0,70.0,74.0,128.0,56.0,45.0,57.0,45.0,58.0,193.0,156.0,193.0,51.0,47.0,38.0,78.0,193.0,69.0,37.0,124.0,51.0,90.0,90.0,51.0,58.0,142.0,66.0,94.0,19.0,69.0,56.0,193.0,null,193.0,174.0,46.0,196.0,82.0,124.0,57.0,100.0,81.0,193.0,131.0,54.0,91.0,193.0,80.0,142.0,84.0,70.0,156.0,52.0,68.0,73.0,78.0,142.0,79.0,70.0,193.0,84.0,74.0,193.0,69.0,75.0,193.0,70.0,68.0,44.0,69.0,68.0,193.0,68.0,89.0,72.0,65.0,196.0,66.0,69.0,73.0,72.0,82.0,69.0,69.0,77.0,142.0,73.0,124.0,72.0,77.0,86.0,142.0,75.0,null,80.0,142.0,156.0,124.0,54.0,193.0,193.0,68.0,93.0,193.0,73.0,92.0,74.0,142.0,98.0,70.0,73.0,75.0,77.0,81.0,124.0,52.0,193.0,51.0,51.0,96.0,null,62.0,74.0,196.0,75.0,61.0,67.0,77.0,44.0,67.0,62.0,100.0,142.0,89.0,80.0,78.0,64.0,77.0,124.0,196.0,142.0,61.0,72.0,67.0,86.0,61.0,80.0,67.0,53.0,55.0,null,87.0,71.0,null,59.0,50.0,142.0,124.0,null,81.0,69.0,147.0,74.0,54.0,55.0,60.0,193.0,196.0,null,96.0,93.0,71.0,91.0,42.0,83.0,66.0,193.0,81.0,124.0,147.0,41.0,56.0,77.0,58.0,66.0,124.0,52.0,47.0,41.0,68.0,63.0,62.0,71.0,39.0,80.0,61.0,70.0,72.0,89.0,81.0,48.0,193.0,38.0,60.0,55.0,54.0,null,86.0,124.0,196.0,70.0,73.0,72.0,47.0,38.0,131.0,49.0,88.0,22.0,80.0,66.0,80.0,83.0,50.0,131.0,87.0,null,null,85.0,87.0,85.0,87.0,70.0,67.0,70.0,61.0,51.0,142.0,61.0,193.0,null,193.0,48.0,57.0,193.0,147.0,87.0,89.0,null,65.0,52.0,80.0,88.0,52.0,56.0,80.0,193.0,68.0,156.0,47.0,51.0,193.0,80.0,73.0,68.0,89.0,193.0,86.0,142.0,142.0,70.0,57.0,193.0,77.0,69.0,80.0,73.0,63.0,124.0,124.0,78.0,76.0,196.0,193.0,73.0,52.0,66.0,74.0,142.0,60.0,82.0,193.0,65.0,46.0,69.0,76.0,46.0,72.0,38.0,51.0,null,33.0,142.0,84.0,193.0,85.0,193.0,60.0,80.0,null,42.0,65.0,58.0,64.0,null,58.0,131.0,142.0,83.0,91.0,193.0,97.0,80.0,66.0,193.0,64.0,null,193.0,193.0,66.0,156.0,124.0,193.0,100.0,193.0,23.0,62.0,64.0,65.0,82.0,91.0,null,75.0,69.0,64.0,43.0,69.0,47.0,74.0,57.0,124.0,193.0,48.0,147.0,193.0,56.0,94.0,91.0,57.0,76.0,50.0,63.0,79.0,44.0,95.0,193.0,193.0,193.0,193.0,71.0,131.0,57.0,41.0,193.0,62.0,68.0,43.0,54.0,65.0,76.0,47.0,64.0,75.0,78.0,196.0,73.0,193.0,57.0,95.0,131.0,66.0,38.0,124.0,76.0,79.0,182.0,82.0,85.0,65.0,86.0,73.0,65.0,76.0,124.0,70.0,49.0,51.0,48.0,null,80.0,73.0,65.0,82.0,59.0,73.0,193.0,84.0,142.0,null,77.0,75.0,68.0,88.0,86.0,51.0,62.0,79.0,54.0,193.0,37.0,42.0,62.0,76.0,89.0,97.0,124.0,68.0,92.0,55.0,68.0,60.0,171.0,71.0,88.0,75.0,53.0,73.0,91.0,43.0,81.0,74.0,36.0,70.0,75.0,93.0,50.0,52.0,42.0,124.0,156.0,64.0,53.0,53.0,51.0,53.0,34.0,92.0,58.0,72.0,76.0,66.0,100.0,38.0,61.0,71.0,193.0,87.0,85.0,92.0,56.0,50.0,48.0,82.0,38.0,77.0,63.0,52.0,89.0,54.0,83.0,54.0,66.0,69.0,56.0,188.0,193.0,83.0,100.0,87.0,156.0,196.0,188.0,79.0,124.0,75.0,171.0,78.0,193.0,82.0,84.0,68.0,196.0,78.0,142.0,193.0,166.0,156.0,142.0,156.0,52.0,62.0,142.0,82.0,74.0,70.0,44.0,66.0,78.0,193.0,93.0,44.0,61.0,55.0,71.0,72.0,null,48.0,174.0,193.0,193.0,98.0,142.0,43.0,193.0,66.0,54.0,null,59.0,71.0,124.0,196.0,84.0,72.0,40.0,58.0,193.0,27.0,70.0,94.0,72.0,74.0,52.0,null,100.0,42.0,54.0,68.0,75.0,81.0,193.0,59.0,53.0,90.0,73.0,100.0,51.0,82.0,100.0,61.0,124.0,72.0,76.0,46.0,null,193.0,95.0,62.0,193.0,93.0,196.0,68.0,79.0,53.0,null,51.0,49.0,84.0,63.0,196.0,78.0,74.0,77.0,56.0,60.0,90.0,82.0,85.0,64.0,174.0,70.0,45.0,69.0,76.0,193.0,51.0,60.0,36.0,45.0,70.0,43.0,69.0,97.0,193.0,74.0,43.0,72.0,62.0,64.0,82.0,64.0,43.0,60.0,193.0,65.0,70.0,193.0,35.0,193.0,77.0,80.0,49.0,124.0,74.0,124.0,53.0,null,53.0,77.0,95.0,49.0,75.0,95.0,36.0,34.0,78.0,82.0,52.0,74.0,89.0,60.0,58.0,54.0,57.0,67.0,74.0,90.0,193.0,124.0,34.0,67.0,196.0,61.0,80.0,62.0,41.0,44.0,57.0,50.0,193.0,142.0,73.0,84.0,70.0,null,57.0,196.0,71.0,73.0,null,81.0,193.0,124.0,196.0,61.0,79.0,42.0,142.0,95.0,62.0,193.0,83.0,193.0,188.0,63.0,71.0,85.0,79.0,74.0,53.0,76.0,54.0,60.0,null,196.0,58.0,142.0,142.0,196.0,78.0,124.0,128.0,34.0,142.0,77.0,27.0,46.0,142.0,86.0,69.0,193.0,61.0,99.0,49.0,76.0,65.0,128.0,66.0,76.0,52.0,78.0,156.0,86.0,81.0,193.0,66.0,193.0,77.0,55.0,193.0,63.0,80.0,null,47.0,79.0,38.0,80.0,193.0,57.0,41.0,64.0,75.0,68.0,54.0,142.0,77.0,80.0,59.0,75.0,58.0,38.0,196.0,131.0,74.0,52.0,66.0,null,74.0,55.0,79.0,193.0,55.0,55.0,64.0,81.0,64.0,193.0,55.0,62.0,142.0,82.0,74.0,68.0,64.0,88.0,73.0,188.0,83.0,49.0,55.0,77.0,79.0,15.0,84.0,63.0,65.0,56.0,61.0,124.0,78.0,193.0,124.0,42.0,93.0,87.0,193.0,193.0,84.0,67.0,96.0,75.0,193.0,124.0,67.0,89.0,68.0,124.0,78.0,83.0,90.0,43.0,193.0,66.0,86.0,94.0,52.0,60.0,124.0,62.0,99.0,76.0,55.0,193.0,59.0,57.0,59.0,79.0,null,88.0,76.0,74.0,63.0,43.0,51.0,null,193.0,60.0,65.0,39.0,40.0,81.0,79.0,166.0,70.0,128.0,124.0,61.0,94.0,70.0,67.0,64.0,69.0,84.0,76.0,193.0,72.0,100.0,66.0,124.0,188.0,22.0,193.0,124.0,82.0,70.0,54.0,78.0,40.0,142.0,193.0,151.0,64.0,67.0,147.0,69.0,null,182.0,69.0,73.0,67.0,null,72.0,64.0,62.0,67.0,142.0,88.0,51.0,65.0,53.0,71.0,91.0,62.0,28.0,193.0,84.0,53.0,64.0,124.0,null,67.0,42.0,33.0,69.0,null,193.0,193.0,57.0,null,68.0,82.0,47.0,52.0,99.0,70.0,67.0,193.0,81.0,68.0,49.0,124.0,124.0,193.0,80.0,76.0,67.0,68.0,81.0,80.0,124.0,63.0,67.0,42.0,75.0,77.0,84.0,68.0,40.0,60.0,92.0,77.0,73.0,50.0,124.0,84.0,77.0,74.0,70.0,50.0,82.0,193.0,65.0,53.0,131.0,67.0,91.0,72.0,124.0,null,100.0,193.0,77.0,193.0,66.0,48.0,54.0,93.0,62.0,71.0,196.0,64.0,84.0,80.0,72.0,54.0,80.0,193.0,193.0,64.0,59.0,74.0,10.0,193.0,142.0,62.0,81.0,81.0,193.0,64.0,100.0,49.0,44.0,81.0,54.0,68.0,193.0,88.0,92.0,62.0,90.0,59.0,92.0,74.0,56.0,54.0,90.0,193.0,46.0,49.0,53.0,32.0,78.0,78.0,67.0,82.0,193.0,74.0,75.0,99.0,70.0,79.0,67.0,131.0,70.0,75.0,80.0,43.0,193.0,30.0,71.0,49.0,36.0,193.0,81.0,62.0,193.0,76.0],\"y0\":\" \",\"yaxis\":\"y\"}],                        {\"boxmode\":\"group\",\"legend\":{\"title\":{\"text\":\"subject\"},\"tracegroupgap\":0},\"margin\":{\"t\":60},\"template\":{\"data\":{\"bar\":[{\"error_x\":{\"color\":\"#2a3f5f\"},\"error_y\":{\"color\":\"#2a3f5f\"},\"marker\":{\"line\":{\"color\":\"#E5ECF6\",\"width\":0.5},\"pattern\":{\"fillmode\":\"overlay\",\"size\":10,\"solidity\":0.2}},\"type\":\"bar\"}],\"barpolar\":[{\"marker\":{\"line\":{\"color\":\"#E5ECF6\",\"width\":0.5},\"pattern\":{\"fillmode\":\"overlay\",\"size\":10,\"solidity\":0.2}},\"type\":\"barpolar\"}],\"carpet\":[{\"aaxis\":{\"endlinecolor\":\"#2a3f5f\",\"gridcolor\":\"white\",\"linecolor\":\"white\",\"minorgridcolor\":\"white\",\"startlinecolor\":\"#2a3f5f\"},\"baxis\":{\"endlinecolor\":\"#2a3f5f\",\"gridcolor\":\"white\",\"linecolor\":\"white\",\"minorgridcolor\":\"white\",\"startlinecolor\":\"#2a3f5f\"},\"type\":\"carpet\"}],\"choropleth\":[{\"colorbar\":{\"outlinewidth\":0,\"ticks\":\"\"},\"type\":\"choropleth\"}],\"contour\":[{\"colorbar\":{\"outlinewidth\":0,\"ticks\":\"\"},\"colorscale\":[[0.0,\"#0d0887\"],[0.1111111111111111,\"#46039f\"],[0.2222222222222222,\"#7201a8\"],[0.3333333333333333,\"#9c179e\"],[0.4444444444444444,\"#bd3786\"],[0.5555555555555556,\"#d8576b\"],[0.6666666666666666,\"#ed7953\"],[0.7777777777777778,\"#fb9f3a\"],[0.8888888888888888,\"#fdca26\"],[1.0,\"#f0f921\"]],\"type\":\"contour\"}],\"contourcarpet\":[{\"colorbar\":{\"outlinewidth\":0,\"ticks\":\"\"},\"type\":\"contourcarpet\"}],\"heatmap\":[{\"colorbar\":{\"outlinewidth\":0,\"ticks\":\"\"},\"colorscale\":[[0.0,\"#0d0887\"],[0.1111111111111111,\"#46039f\"],[0.2222222222222222,\"#7201a8\"],[0.3333333333333333,\"#9c179e\"],[0.4444444444444444,\"#bd3786\"],[0.5555555555555556,\"#d8576b\"],[0.6666666666666666,\"#ed7953\"],[0.7777777777777778,\"#fb9f3a\"],[0.8888888888888888,\"#fdca26\"],[1.0,\"#f0f921\"]],\"type\":\"heatmap\"}],\"heatmapgl\":[{\"colorbar\":{\"outlinewidth\":0,\"ticks\":\"\"},\"colorscale\":[[0.0,\"#0d0887\"],[0.1111111111111111,\"#46039f\"],[0.2222222222222222,\"#7201a8\"],[0.3333333333333333,\"#9c179e\"],[0.4444444444444444,\"#bd3786\"],[0.5555555555555556,\"#d8576b\"],[0.6666666666666666,\"#ed7953\"],[0.7777777777777778,\"#fb9f3a\"],[0.8888888888888888,\"#fdca26\"],[1.0,\"#f0f921\"]],\"type\":\"heatmapgl\"}],\"histogram\":[{\"marker\":{\"pattern\":{\"fillmode\":\"overlay\",\"size\":10,\"solidity\":0.2}},\"type\":\"histogram\"}],\"histogram2d\":[{\"colorbar\":{\"outlinewidth\":0,\"ticks\":\"\"},\"colorscale\":[[0.0,\"#0d0887\"],[0.1111111111111111,\"#46039f\"],[0.2222222222222222,\"#7201a8\"],[0.3333333333333333,\"#9c179e\"],[0.4444444444444444,\"#bd3786\"],[0.5555555555555556,\"#d8576b\"],[0.6666666666666666,\"#ed7953\"],[0.7777777777777778,\"#fb9f3a\"],[0.8888888888888888,\"#fdca26\"],[1.0,\"#f0f921\"]],\"type\":\"histogram2d\"}],\"histogram2dcontour\":[{\"colorbar\":{\"outlinewidth\":0,\"ticks\":\"\"},\"colorscale\":[[0.0,\"#0d0887\"],[0.1111111111111111,\"#46039f\"],[0.2222222222222222,\"#7201a8\"],[0.3333333333333333,\"#9c179e\"],[0.4444444444444444,\"#bd3786\"],[0.5555555555555556,\"#d8576b\"],[0.6666666666666666,\"#ed7953\"],[0.7777777777777778,\"#fb9f3a\"],[0.8888888888888888,\"#fdca26\"],[1.0,\"#f0f921\"]],\"type\":\"histogram2dcontour\"}],\"mesh3d\":[{\"colorbar\":{\"outlinewidth\":0,\"ticks\":\"\"},\"type\":\"mesh3d\"}],\"parcoords\":[{\"line\":{\"colorbar\":{\"outlinewidth\":0,\"ticks\":\"\"}},\"type\":\"parcoords\"}],\"pie\":[{\"automargin\":true,\"type\":\"pie\"}],\"scatter\":[{\"marker\":{\"colorbar\":{\"outlinewidth\":0,\"ticks\":\"\"}},\"type\":\"scatter\"}],\"scatter3d\":[{\"line\":{\"colorbar\":{\"outlinewidth\":0,\"ticks\":\"\"}},\"marker\":{\"colorbar\":{\"outlinewidth\":0,\"ticks\":\"\"}},\"type\":\"scatter3d\"}],\"scattercarpet\":[{\"marker\":{\"colorbar\":{\"outlinewidth\":0,\"ticks\":\"\"}},\"type\":\"scattercarpet\"}],\"scattergeo\":[{\"marker\":{\"colorbar\":{\"outlinewidth\":0,\"ticks\":\"\"}},\"type\":\"scattergeo\"}],\"scattergl\":[{\"marker\":{\"colorbar\":{\"outlinewidth\":0,\"ticks\":\"\"}},\"type\":\"scattergl\"}],\"scattermapbox\":[{\"marker\":{\"colorbar\":{\"outlinewidth\":0,\"ticks\":\"\"}},\"type\":\"scattermapbox\"}],\"scatterpolar\":[{\"marker\":{\"colorbar\":{\"outlinewidth\":0,\"ticks\":\"\"}},\"type\":\"scatterpolar\"}],\"scatterpolargl\":[{\"marker\":{\"colorbar\":{\"outlinewidth\":0,\"ticks\":\"\"}},\"type\":\"scatterpolargl\"}],\"scatterternary\":[{\"marker\":{\"colorbar\":{\"outlinewidth\":0,\"ticks\":\"\"}},\"type\":\"scatterternary\"}],\"surface\":[{\"colorbar\":{\"outlinewidth\":0,\"ticks\":\"\"},\"colorscale\":[[0.0,\"#0d0887\"],[0.1111111111111111,\"#46039f\"],[0.2222222222222222,\"#7201a8\"],[0.3333333333333333,\"#9c179e\"],[0.4444444444444444,\"#bd3786\"],[0.5555555555555556,\"#d8576b\"],[0.6666666666666666,\"#ed7953\"],[0.7777777777777778,\"#fb9f3a\"],[0.8888888888888888,\"#fdca26\"],[1.0,\"#f0f921\"]],\"type\":\"surface\"}],\"table\":[{\"cells\":{\"fill\":{\"color\":\"#EBF0F8\"},\"line\":{\"color\":\"white\"}},\"header\":{\"fill\":{\"color\":\"#C8D4E3\"},\"line\":{\"color\":\"white\"}},\"type\":\"table\"}]},\"layout\":{\"annotationdefaults\":{\"arrowcolor\":\"#2a3f5f\",\"arrowhead\":0,\"arrowwidth\":1},\"autotypenumbers\":\"strict\",\"coloraxis\":{\"colorbar\":{\"outlinewidth\":0,\"ticks\":\"\"}},\"colorscale\":{\"diverging\":[[0,\"#8e0152\"],[0.1,\"#c51b7d\"],[0.2,\"#de77ae\"],[0.3,\"#f1b6da\"],[0.4,\"#fde0ef\"],[0.5,\"#f7f7f7\"],[0.6,\"#e6f5d0\"],[0.7,\"#b8e186\"],[0.8,\"#7fbc41\"],[0.9,\"#4d9221\"],[1,\"#276419\"]],\"sequential\":[[0.0,\"#0d0887\"],[0.1111111111111111,\"#46039f\"],[0.2222222222222222,\"#7201a8\"],[0.3333333333333333,\"#9c179e\"],[0.4444444444444444,\"#bd3786\"],[0.5555555555555556,\"#d8576b\"],[0.6666666666666666,\"#ed7953\"],[0.7777777777777778,\"#fb9f3a\"],[0.8888888888888888,\"#fdca26\"],[1.0,\"#f0f921\"]],\"sequentialminus\":[[0.0,\"#0d0887\"],[0.1111111111111111,\"#46039f\"],[0.2222222222222222,\"#7201a8\"],[0.3333333333333333,\"#9c179e\"],[0.4444444444444444,\"#bd3786\"],[0.5555555555555556,\"#d8576b\"],[0.6666666666666666,\"#ed7953\"],[0.7777777777777778,\"#fb9f3a\"],[0.8888888888888888,\"#fdca26\"],[1.0,\"#f0f921\"]]},\"colorway\":[\"#636efa\",\"#EF553B\",\"#00cc96\",\"#ab63fa\",\"#FFA15A\",\"#19d3f3\",\"#FF6692\",\"#B6E880\",\"#FF97FF\",\"#FECB52\"],\"font\":{\"color\":\"#2a3f5f\"},\"geo\":{\"bgcolor\":\"white\",\"lakecolor\":\"white\",\"landcolor\":\"#E5ECF6\",\"showlakes\":true,\"showland\":true,\"subunitcolor\":\"white\"},\"hoverlabel\":{\"align\":\"left\"},\"hovermode\":\"closest\",\"mapbox\":{\"style\":\"light\"},\"paper_bgcolor\":\"white\",\"plot_bgcolor\":\"#E5ECF6\",\"polar\":{\"angularaxis\":{\"gridcolor\":\"white\",\"linecolor\":\"white\",\"ticks\":\"\"},\"bgcolor\":\"#E5ECF6\",\"radialaxis\":{\"gridcolor\":\"white\",\"linecolor\":\"white\",\"ticks\":\"\"}},\"scene\":{\"xaxis\":{\"backgroundcolor\":\"#E5ECF6\",\"gridcolor\":\"white\",\"gridwidth\":2,\"linecolor\":\"white\",\"showbackground\":true,\"ticks\":\"\",\"zerolinecolor\":\"white\"},\"yaxis\":{\"backgroundcolor\":\"#E5ECF6\",\"gridcolor\":\"white\",\"gridwidth\":2,\"linecolor\":\"white\",\"showbackground\":true,\"ticks\":\"\",\"zerolinecolor\":\"white\"},\"zaxis\":{\"backgroundcolor\":\"#E5ECF6\",\"gridcolor\":\"white\",\"gridwidth\":2,\"linecolor\":\"white\",\"showbackground\":true,\"ticks\":\"\",\"zerolinecolor\":\"white\"}},\"shapedefaults\":{\"line\":{\"color\":\"#2a3f5f\"}},\"ternary\":{\"aaxis\":{\"gridcolor\":\"white\",\"linecolor\":\"white\",\"ticks\":\"\"},\"baxis\":{\"gridcolor\":\"white\",\"linecolor\":\"white\",\"ticks\":\"\"},\"bgcolor\":\"#E5ECF6\",\"caxis\":{\"gridcolor\":\"white\",\"linecolor\":\"white\",\"ticks\":\"\"}},\"title\":{\"x\":0.05},\"xaxis\":{\"automargin\":true,\"gridcolor\":\"white\",\"linecolor\":\"white\",\"ticks\":\"\",\"title\":{\"standoff\":15},\"zerolinecolor\":\"white\",\"zerolinewidth\":2},\"yaxis\":{\"automargin\":true,\"gridcolor\":\"white\",\"linecolor\":\"white\",\"ticks\":\"\",\"title\":{\"standoff\":15},\"zerolinecolor\":\"white\",\"zerolinewidth\":2}}},\"xaxis\":{\"anchor\":\"y\",\"domain\":[0.0,1.0]},\"yaxis\":{\"anchor\":\"x\",\"domain\":[0.0,1.0],\"title\":{\"text\":\"score\"}}},                        {\"responsive\": true}                    ).then(function(){\n",
       "                            \n",
       "var gd = document.getElementById('c29d6797-23b9-45a1-b905-5e2778425a29');\n",
       "var x = new MutationObserver(function (mutations, observer) {{\n",
       "        var display = window.getComputedStyle(gd).display;\n",
       "        if (!display || display === 'none') {{\n",
       "            console.log([gd, 'removed!']);\n",
       "            Plotly.purge(gd);\n",
       "            observer.disconnect();\n",
       "        }}\n",
       "}});\n",
       "\n",
       "// Listen for the removal of the full notebook cells\n",
       "var notebookContainer = gd.closest('#notebook-container');\n",
       "if (notebookContainer) {{\n",
       "    x.observe(notebookContainer, {childList: true});\n",
       "}}\n",
       "\n",
       "// Listen for the clearing of the current output cell\n",
       "var outputEl = gd.closest('.output');\n",
       "if (outputEl) {{\n",
       "    x.observe(outputEl, {childList: true});\n",
       "}}\n",
       "\n",
       "                        })                };                            </script>        </div>\n",
       "</body>\n",
       "</html>"
      ]
     },
     "metadata": {},
     "output_type": "display_data"
    }
   ],
   "source": [
    "exploratory_data_analysis(df_grades)"
   ]
  },
  {
   "cell_type": "markdown",
   "metadata": {
    "cell_id": "00023-ff3bb417-54d5-425c-9dfc-d6bb2115277e",
    "deepnote_cell_height": 193.1875,
    "deepnote_cell_type": "markdown",
    "id": "YJfqPXFZjQiA"
   },
   "source": [
    "## 1.2 Limpieza de Datos [1 punto]\n",
    "\n",
    "<p align=\"center\">\n",
    "  <img src=\"https://blogdatlas.files.wordpress.com/2020/07/datlas_mx_blog_limpieza_bds_data-scrubbing-service.gif\">\n",
    "</p>\n"
   ]
  },
  {
   "cell_type": "markdown",
   "metadata": {
    "cell_id": "00024-a0d43035-41b5-4b1c-99c6-f93dc8847789",
    "deepnote_cell_height": 268.1875,
    "deepnote_cell_type": "markdown",
    "id": "syO5lHKvv6Wt"
   },
   "source": [
    "En base a lo realizado anteriormente, realice una limpieza de los dataset. Asuma los supuestos señalados en la pregunta anterior para limpiar el `DataFrame` y cree una función que le permita limpiar los datos. Una vez limpiado cada uno de los `DataFrames` compruebe nuevamente los datos con la función creada en la sección 1.1.\n",
    "\n",
    "**To-Do:**\n",
    "\n",
    "- [X] Crear función que permita limpiar el dataset.\n",
    "- [X] Comprobar que no existen anomalías en los datos a traves de la función de la sección 1.1.\n",
    "\n",
    "**Hint**\n",
    "\n",
    "Puede ser útil los métodos ```.drop_duplicates()``` y ```.dropna()``` como también utilizar queries con máscaras booleanas.\n"
   ]
  },
  {
   "cell_type": "markdown",
   "metadata": {
    "cell_id": "00025-7728a191-b359-4030-ac04-3b7d9070c53d",
    "deepnote_cell_height": 52.390625,
    "deepnote_cell_type": "markdown",
    "tags": []
   },
   "source": [
    "**Respuesta:**"
   ]
  },
  {
   "cell_type": "code",
   "execution_count": 183,
   "metadata": {},
   "outputs": [],
   "source": [
    "def clean_data(dataframe):\n",
    "    dataframe.drop_duplicates(subset='names', inplace=True)\n",
    "    dataframe.dropna(inplace=True)\n",
    "    dataframe = dataframe.loc[(dataframe['math score'] <= 100) & (dataframe['reading score'] <= 100) & (dataframe['writing score'] <= 100)]\n",
    "    return dataframe"
   ]
  },
  {
   "cell_type": "code",
   "execution_count": 184,
   "metadata": {
    "cell_id": "00027-afa227d9-32aa-49eb-9ae8-7c2fb625253a",
    "colab": {
     "base_uri": "https://localhost:8080/",
     "height": 419
    },
    "deepnote_cell_height": 490.6875,
    "deepnote_cell_type": "code",
    "deepnote_to_be_reexecuted": false,
    "executionInfo": {
     "elapsed": 571,
     "status": "ok",
     "timestamp": 1619205960363,
     "user": {
      "displayName": "IGNACIO ALEJANDRO MEZA",
      "photoUrl": "",
      "userId": "17011121633069169364"
     },
     "user_tz": 240
    },
    "execution_millis": 73,
    "execution_start": 1632493424310,
    "id": "Vl6MkQYHhXao",
    "outputId": "f070312b-113e-4e31-f676-3ed33e06ef91",
    "source_hash": "2f2b6eb"
   },
   "outputs": [
    {
     "data": {
      "text/html": [
       "<div>\n",
       "<style scoped>\n",
       "    .dataframe tbody tr th:only-of-type {\n",
       "        vertical-align: middle;\n",
       "    }\n",
       "\n",
       "    .dataframe tbody tr th {\n",
       "        vertical-align: top;\n",
       "    }\n",
       "\n",
       "    .dataframe thead th {\n",
       "        text-align: right;\n",
       "    }\n",
       "</style>\n",
       "<table border=\"1\" class=\"dataframe\">\n",
       "  <thead>\n",
       "    <tr style=\"text-align: right;\">\n",
       "      <th></th>\n",
       "      <th>names</th>\n",
       "      <th>gender</th>\n",
       "      <th>race/ethnicity</th>\n",
       "      <th>parental level of education</th>\n",
       "      <th>lunch</th>\n",
       "      <th>test preparation course</th>\n",
       "      <th>math score</th>\n",
       "      <th>reading score</th>\n",
       "      <th>writing score</th>\n",
       "    </tr>\n",
       "  </thead>\n",
       "  <tbody>\n",
       "    <tr>\n",
       "      <th>0</th>\n",
       "      <td>Rita Courtney</td>\n",
       "      <td>female</td>\n",
       "      <td>group B</td>\n",
       "      <td>some high school</td>\n",
       "      <td>standard</td>\n",
       "      <td>none</td>\n",
       "      <td>37.0</td>\n",
       "      <td>46.0</td>\n",
       "      <td>46.0</td>\n",
       "    </tr>\n",
       "    <tr>\n",
       "      <th>3</th>\n",
       "      <td>Charles Linstrom</td>\n",
       "      <td>male</td>\n",
       "      <td>group A</td>\n",
       "      <td>bachelor's degree</td>\n",
       "      <td>standard</td>\n",
       "      <td>completed</td>\n",
       "      <td>80.0</td>\n",
       "      <td>78.0</td>\n",
       "      <td>81.0</td>\n",
       "    </tr>\n",
       "    <tr>\n",
       "      <th>5</th>\n",
       "      <td>Brian Young</td>\n",
       "      <td>male</td>\n",
       "      <td>group C</td>\n",
       "      <td>some high school</td>\n",
       "      <td>standard</td>\n",
       "      <td>none</td>\n",
       "      <td>73.0</td>\n",
       "      <td>66.0</td>\n",
       "      <td>63.0</td>\n",
       "    </tr>\n",
       "    <tr>\n",
       "      <th>6</th>\n",
       "      <td>Howard Jimenez</td>\n",
       "      <td>male</td>\n",
       "      <td>group E</td>\n",
       "      <td>some high school</td>\n",
       "      <td>standard</td>\n",
       "      <td>completed</td>\n",
       "      <td>81.0</td>\n",
       "      <td>75.0</td>\n",
       "      <td>76.0</td>\n",
       "    </tr>\n",
       "    <tr>\n",
       "      <th>7</th>\n",
       "      <td>Wayne Wilson</td>\n",
       "      <td>male</td>\n",
       "      <td>group B</td>\n",
       "      <td>some high school</td>\n",
       "      <td>standard</td>\n",
       "      <td>completed</td>\n",
       "      <td>94.0</td>\n",
       "      <td>86.0</td>\n",
       "      <td>87.0</td>\n",
       "    </tr>\n",
       "    <tr>\n",
       "      <th>...</th>\n",
       "      <td>...</td>\n",
       "      <td>...</td>\n",
       "      <td>...</td>\n",
       "      <td>...</td>\n",
       "      <td>...</td>\n",
       "      <td>...</td>\n",
       "      <td>...</td>\n",
       "      <td>...</td>\n",
       "      <td>...</td>\n",
       "    </tr>\n",
       "    <tr>\n",
       "      <th>1392</th>\n",
       "      <td>Richard Young</td>\n",
       "      <td>male</td>\n",
       "      <td>group D</td>\n",
       "      <td>high school</td>\n",
       "      <td>standard</td>\n",
       "      <td>none</td>\n",
       "      <td>69.0</td>\n",
       "      <td>75.0</td>\n",
       "      <td>71.0</td>\n",
       "    </tr>\n",
       "    <tr>\n",
       "      <th>1394</th>\n",
       "      <td>Wanda Russell</td>\n",
       "      <td>female</td>\n",
       "      <td>group B</td>\n",
       "      <td>high school</td>\n",
       "      <td>free/reduced</td>\n",
       "      <td>completed</td>\n",
       "      <td>23.0</td>\n",
       "      <td>44.0</td>\n",
       "      <td>36.0</td>\n",
       "    </tr>\n",
       "    <tr>\n",
       "      <th>1396</th>\n",
       "      <td>Marina Zeigler</td>\n",
       "      <td>female</td>\n",
       "      <td>group C</td>\n",
       "      <td>bachelor's degree</td>\n",
       "      <td>free/reduced</td>\n",
       "      <td>completed</td>\n",
       "      <td>66.0</td>\n",
       "      <td>74.0</td>\n",
       "      <td>81.0</td>\n",
       "    </tr>\n",
       "    <tr>\n",
       "      <th>1397</th>\n",
       "      <td>Laurie Carter</td>\n",
       "      <td>female</td>\n",
       "      <td>group B</td>\n",
       "      <td>some high school</td>\n",
       "      <td>standard</td>\n",
       "      <td>completed</td>\n",
       "      <td>54.0</td>\n",
       "      <td>61.0</td>\n",
       "      <td>62.0</td>\n",
       "    </tr>\n",
       "    <tr>\n",
       "      <th>1399</th>\n",
       "      <td>Amanda Perez</td>\n",
       "      <td>female</td>\n",
       "      <td>group A</td>\n",
       "      <td>high school</td>\n",
       "      <td>standard</td>\n",
       "      <td>completed</td>\n",
       "      <td>68.0</td>\n",
       "      <td>80.0</td>\n",
       "      <td>76.0</td>\n",
       "    </tr>\n",
       "  </tbody>\n",
       "</table>\n",
       "<p>875 rows × 9 columns</p>\n",
       "</div>"
      ],
      "text/plain": [
       "                 names  gender race/ethnicity parental level of education  \\\n",
       "0        Rita Courtney  female        group B            some high school   \n",
       "3     Charles Linstrom    male        group A           bachelor's degree   \n",
       "5          Brian Young    male        group C            some high school   \n",
       "6       Howard Jimenez    male        group E            some high school   \n",
       "7         Wayne Wilson    male        group B            some high school   \n",
       "...                ...     ...            ...                         ...   \n",
       "1392     Richard Young    male        group D                 high school   \n",
       "1394     Wanda Russell  female        group B                 high school   \n",
       "1396    Marina Zeigler  female        group C           bachelor's degree   \n",
       "1397     Laurie Carter  female        group B            some high school   \n",
       "1399      Amanda Perez  female        group A                 high school   \n",
       "\n",
       "             lunch test preparation course  math score  reading score  \\\n",
       "0         standard                    none        37.0           46.0   \n",
       "3         standard               completed        80.0           78.0   \n",
       "5         standard                    none        73.0           66.0   \n",
       "6         standard               completed        81.0           75.0   \n",
       "7         standard               completed        94.0           86.0   \n",
       "...            ...                     ...         ...            ...   \n",
       "1392      standard                    none        69.0           75.0   \n",
       "1394  free/reduced               completed        23.0           44.0   \n",
       "1396  free/reduced               completed        66.0           74.0   \n",
       "1397      standard               completed        54.0           61.0   \n",
       "1399      standard               completed        68.0           80.0   \n",
       "\n",
       "      writing score  \n",
       "0              46.0  \n",
       "3              81.0  \n",
       "5              63.0  \n",
       "6              76.0  \n",
       "7              87.0  \n",
       "...             ...  \n",
       "1392           71.0  \n",
       "1394           36.0  \n",
       "1396           81.0  \n",
       "1397           62.0  \n",
       "1399           76.0  \n",
       "\n",
       "[875 rows x 9 columns]"
      ]
     },
     "execution_count": 184,
     "metadata": {},
     "output_type": "execute_result"
    }
   ],
   "source": [
    "df_grades = clean_data(df_grades)\n",
    "df_grades"
   ]
  },
  {
   "cell_type": "markdown",
   "metadata": {
    "cell_id": "00017-b4a9f1a1-c50d-47f6-95af-4ce1416feed7",
    "deepnote_cell_height": 52.390625,
    "deepnote_cell_type": "markdown",
    "id": "45jxMTJHNPC3"
   },
   "source": [
    "**Respuesta Esperada:**"
   ]
  },
  {
   "cell_type": "code",
   "execution_count": null,
   "metadata": {
    "cell_id": "00027-afa227d9-32aa-49eb-9ae8-7c2fb625253a",
    "colab": {
     "base_uri": "https://localhost:8080/",
     "height": 419
    },
    "deepnote_cell_height": 490.6875,
    "deepnote_cell_type": "code",
    "deepnote_to_be_reexecuted": false,
    "executionInfo": {
     "elapsed": 571,
     "status": "ok",
     "timestamp": 1619205960363,
     "user": {
      "displayName": "IGNACIO ALEJANDRO MEZA",
      "photoUrl": "",
      "userId": "17011121633069169364"
     },
     "user_tz": 240
    },
    "execution_millis": 73,
    "execution_start": 1632493424310,
    "id": "Vl6MkQYHhXao",
    "outputId": "f070312b-113e-4e31-f676-3ed33e06ef91",
    "source_hash": "2f2b6eb"
   },
   "outputs": [
    {
     "data": {
      "application/vnd.deepnote.dataframe.v2+json": {
       "column_count": 9,
       "columns": [
        {
         "dtype": "object",
         "name": "names",
         "stats": {
          "categories": [
           {
            "count": 1,
            "name": "Rita Courtney"
           },
           {
            "count": 1,
            "name": "Charles Linstrom"
           },
           {
            "count": 873,
            "name": "873 others"
           }
          ],
          "nan_count": 0,
          "unique_count": 875
         }
        },
        {
         "dtype": "object",
         "name": "gender",
         "stats": {
          "categories": [
           {
            "count": 448,
            "name": "female"
           },
           {
            "count": 427,
            "name": "male"
           }
          ],
          "nan_count": 0,
          "unique_count": 2
         }
        },
        {
         "dtype": "object",
         "name": "race/ethnicity",
         "stats": {
          "categories": [
           {
            "count": 272,
            "name": "group C"
           },
           {
            "count": 239,
            "name": "group D"
           },
           {
            "count": 364,
            "name": "3 others"
           }
          ],
          "nan_count": 0,
          "unique_count": 5
         }
        },
        {
         "dtype": "object",
         "name": "parental level of education",
         "stats": {
          "categories": [
           {
            "count": 196,
            "name": "associate's degree"
           },
           {
            "count": 191,
            "name": "some college"
           },
           {
            "count": 488,
            "name": "4 others"
           }
          ],
          "nan_count": 0,
          "unique_count": 6
         }
        },
        {
         "dtype": "object",
         "name": "lunch",
         "stats": {
          "categories": [
           {
            "count": 562,
            "name": "standard"
           },
           {
            "count": 313,
            "name": "free/reduced"
           }
          ],
          "nan_count": 0,
          "unique_count": 2
         }
        },
        {
         "dtype": "object",
         "name": "test preparation course",
         "stats": {
          "categories": [
           {
            "count": 563,
            "name": "none"
           },
           {
            "count": 312,
            "name": "completed"
           }
          ],
          "nan_count": 0,
          "unique_count": 2
         }
        },
        {
         "dtype": "float64",
         "name": "math score",
         "stats": {
          "histogram": [
           {
            "bin_end": 10,
            "bin_start": 0,
            "count": 2
           },
           {
            "bin_end": 20,
            "bin_start": 10,
            "count": 2
           },
           {
            "bin_end": 30,
            "bin_start": 20,
            "count": 10
           },
           {
            "bin_end": 40,
            "bin_start": 30,
            "count": 19
           },
           {
            "bin_end": 50,
            "bin_start": 40,
            "count": 81
           },
           {
            "bin_end": 60,
            "bin_start": 50,
            "count": 158
           },
           {
            "bin_end": 70,
            "bin_start": 60,
            "count": 245
           },
           {
            "bin_end": 80,
            "bin_start": 70,
            "count": 191
           },
           {
            "bin_end": 90,
            "bin_start": 80,
            "count": 116
           },
           {
            "bin_end": 100,
            "bin_start": 90,
            "count": 51
           }
          ],
          "max": "100.0",
          "min": "0.0",
          "nan_count": 0,
          "unique_count": 79
         }
        },
        {
         "dtype": "float64",
         "name": "reading score",
         "stats": {
          "histogram": [
           {
            "bin_end": 25.3,
            "bin_start": 17,
            "count": 4
           },
           {
            "bin_end": 33.6,
            "bin_start": 25.3,
            "count": 7
           },
           {
            "bin_end": 41.900000000000006,
            "bin_start": 33.6,
            "count": 19
           },
           {
            "bin_end": 50.2,
            "bin_start": 41.900000000000006,
            "count": 53
           },
           {
            "bin_end": 58.5,
            "bin_start": 50.2,
            "count": 124
           },
           {
            "bin_end": 66.80000000000001,
            "bin_start": 58.5,
            "count": 157
           },
           {
            "bin_end": 75.10000000000001,
            "bin_start": 66.80000000000001,
            "count": 212
           },
           {
            "bin_end": 83.4,
            "bin_start": 75.10000000000001,
            "count": 147
           },
           {
            "bin_end": 91.7,
            "bin_start": 83.4,
            "count": 101
           },
           {
            "bin_end": 100,
            "bin_start": 91.7,
            "count": 51
           }
          ],
          "max": "100.0",
          "min": "17.0",
          "nan_count": 0,
          "unique_count": 72
         }
        },
        {
         "dtype": "float64",
         "name": "writing score",
         "stats": {
          "histogram": [
           {
            "bin_end": 19,
            "bin_start": 10,
            "count": 2
           },
           {
            "bin_end": 28,
            "bin_start": 19,
            "count": 6
           },
           {
            "bin_end": 37,
            "bin_start": 28,
            "count": 13
           },
           {
            "bin_end": 46,
            "bin_start": 37,
            "count": 44
           },
           {
            "bin_end": 55,
            "bin_start": 46,
            "count": 110
           },
           {
            "bin_end": 64,
            "bin_start": 55,
            "count": 142
           },
           {
            "bin_end": 73,
            "bin_start": 64,
            "count": 194
           },
           {
            "bin_end": 82,
            "bin_start": 73,
            "count": 198
           },
           {
            "bin_end": 91,
            "bin_start": 82,
            "count": 108
           },
           {
            "bin_end": 100,
            "bin_start": 91,
            "count": 58
           }
          ],
          "max": "100.0",
          "min": "10.0",
          "nan_count": 0,
          "unique_count": 77
         }
        },
        {
         "dtype": "int64",
         "name": "_deepnote_index_column"
        }
       ],
       "row_count": 875,
       "rows_bottom": [
        {
         "_deepnote_index_column": 819,
         "gender": "male",
         "lunch": "standard",
         "math score": 67,
         "names": "Stuart Stanford",
         "parental level of education": "associate's degree",
         "race/ethnicity": "group D",
         "reading score": 72,
         "test preparation course": "completed",
         "writing score": 67
        },
        {
         "_deepnote_index_column": 820,
         "gender": "male",
         "lunch": "standard",
         "math score": 91,
         "names": "James King",
         "parental level of education": "some college",
         "race/ethnicity": "group B",
         "reading score": 96,
         "test preparation course": "completed",
         "writing score": 91
        },
        {
         "_deepnote_index_column": 821,
         "gender": "female",
         "lunch": "free/reduced",
         "math score": 67,
         "names": "Verda Perryman",
         "parental level of education": "bachelor's degree",
         "race/ethnicity": "group C",
         "reading score": 75,
         "test preparation course": "none",
         "writing score": 72
        },
        {
         "_deepnote_index_column": 822,
         "gender": "female",
         "lunch": "standard",
         "math score": 65,
         "names": "Wendy Freel",
         "parental level of education": "some high school",
         "race/ethnicity": "group C",
         "reading score": 74,
         "test preparation course": "completed",
         "writing score": 77
        },
        {
         "_deepnote_index_column": 823,
         "gender": "female",
         "lunch": "standard",
         "math score": 58,
         "names": "Kathryn White",
         "parental level of education": "some college",
         "race/ethnicity": "group C",
         "reading score": 59,
         "test preparation course": "none",
         "writing score": 66
        },
        {
         "_deepnote_index_column": 824,
         "gender": "male",
         "lunch": "standard",
         "math score": 55,
         "names": "Martin Wilson",
         "parental level of education": "high school",
         "race/ethnicity": "group D",
         "reading score": 41,
         "test preparation course": "completed",
         "writing score": 48
        },
        {
         "_deepnote_index_column": 825,
         "gender": "female",
         "lunch": "standard",
         "math score": 48,
         "names": "Kelly Bowar",
         "parental level of education": "some high school",
         "race/ethnicity": "group D",
         "reading score": 58,
         "test preparation course": "none",
         "writing score": 54
        },
        {
         "_deepnote_index_column": 826,
         "gender": "female",
         "lunch": "free/reduced",
         "math score": 53,
         "names": "Kelly Greer",
         "parental level of education": "associate's degree",
         "race/ethnicity": "group C",
         "reading score": 61,
         "test preparation course": "none",
         "writing score": 62
        },
        {
         "_deepnote_index_column": 827,
         "gender": "male",
         "lunch": "standard",
         "math score": 85,
         "names": "Fred Jaeger",
         "parental level of education": "bachelor's degree",
         "race/ethnicity": "group E",
         "reading score": 66,
         "test preparation course": "completed",
         "writing score": 71
        },
        {
         "_deepnote_index_column": 828,
         "gender": "female",
         "lunch": "free/reduced",
         "math score": 62,
         "names": "Haydee Kunkel",
         "parental level of education": "high school",
         "race/ethnicity": "group C",
         "reading score": 67,
         "test preparation course": "none",
         "writing score": 64
        },
        {
         "_deepnote_index_column": 829,
         "gender": "female",
         "lunch": "standard",
         "math score": 65,
         "names": "Kayla Lopez",
         "parental level of education": "associate's degree",
         "race/ethnicity": "group C",
         "reading score": 84,
         "test preparation course": "completed",
         "writing score": 84
        },
        {
         "_deepnote_index_column": 830,
         "gender": "male",
         "lunch": "standard",
         "math score": 82,
         "names": "Paul Brownell",
         "parental level of education": "high school",
         "race/ethnicity": "group B",
         "reading score": 82,
         "test preparation course": "none",
         "writing score": 80
        },
        {
         "_deepnote_index_column": 831,
         "gender": "male",
         "lunch": "free/reduced",
         "math score": 77,
         "names": "Jose Rogers",
         "parental level of education": "some college",
         "race/ethnicity": "group D",
         "reading score": 62,
         "test preparation course": "none",
         "writing score": 64
        },
        {
         "_deepnote_index_column": 832,
         "gender": "female",
         "lunch": "free/reduced",
         "math score": 50,
         "names": "Joyce Bland",
         "parental level of education": "some high school",
         "race/ethnicity": "group D",
         "reading score": 64,
         "test preparation course": "none",
         "writing score": 59
        },
        {
         "_deepnote_index_column": 833,
         "gender": "female",
         "lunch": "free/reduced",
         "math score": 69,
         "names": "Fannie Alvarez",
         "parental level of education": "some college",
         "race/ethnicity": "group D",
         "reading score": 65,
         "test preparation course": "none",
         "writing score": 74
        },
        {
         "_deepnote_index_column": 834,
         "gender": "female",
         "lunch": "free/reduced",
         "math score": 0,
         "names": "Melissa Johnston",
         "parental level of education": "some high school",
         "race/ethnicity": "group C",
         "reading score": 17,
         "test preparation course": "none",
         "writing score": 10
        },
        {
         "_deepnote_index_column": 835,
         "gender": "female",
         "lunch": "standard",
         "math score": 65,
         "names": "Judith Mcenany",
         "parental level of education": "bachelor's degree",
         "race/ethnicity": "group D",
         "reading score": 67,
         "test preparation course": "none",
         "writing score": 62
        },
        {
         "_deepnote_index_column": 836,
         "gender": "female",
         "lunch": "free/reduced",
         "math score": 69,
         "names": "Nancy Mccormick",
         "parental level of education": "some high school",
         "race/ethnicity": "group D",
         "reading score": 86,
         "test preparation course": "completed",
         "writing score": 81
        },
        {
         "_deepnote_index_column": 837,
         "gender": "male",
         "lunch": "standard",
         "math score": 72,
         "names": "Timothy Long",
         "parental level of education": "high school",
         "race/ethnicity": "group C",
         "reading score": 67,
         "test preparation course": "completed",
         "writing score": 64
        },
        {
         "_deepnote_index_column": 838,
         "gender": "female",
         "lunch": "standard",
         "math score": 100,
         "names": "Sandra Pompey",
         "parental level of education": "associate's degree",
         "race/ethnicity": "group E",
         "reading score": 100,
         "test preparation course": "none",
         "writing score": 100
        },
        {
         "_deepnote_index_column": 839,
         "gender": "male",
         "lunch": "free/reduced",
         "math score": 65,
         "names": "Steven Marriot",
         "parental level of education": "some college",
         "race/ethnicity": "group C",
         "reading score": 58,
         "test preparation course": "none",
         "writing score": 49
        },
        {
         "_deepnote_index_column": 840,
         "gender": "male",
         "lunch": "free/reduced",
         "math score": 47,
         "names": "Stanley Chappell",
         "parental level of education": "associate's degree",
         "race/ethnicity": "group A",
         "reading score": 57,
         "test preparation course": "none",
         "writing score": 44
        },
        {
         "_deepnote_index_column": 841,
         "gender": "female",
         "lunch": "standard",
         "math score": 51,
         "names": "Michelle Smithson",
         "parental level of education": "associate's degree",
         "race/ethnicity": "group E",
         "reading score": 51,
         "test preparation course": "none",
         "writing score": 54
        },
        {
         "_deepnote_index_column": 842,
         "gender": "male",
         "lunch": "standard",
         "math score": 71,
         "names": "Jeffrey Bostrom",
         "parental level of education": "associate's degree",
         "race/ethnicity": "group E",
         "reading score": 74,
         "test preparation course": "completed",
         "writing score": 68
        },
        {
         "_deepnote_index_column": 843,
         "gender": "male",
         "lunch": "standard",
         "math score": 82,
         "names": "Earnest Cole",
         "parental level of education": "some college",
         "race/ethnicity": "group D",
         "reading score": 82,
         "test preparation course": "completed",
         "writing score": 88
        },
        {
         "_deepnote_index_column": 844,
         "gender": "female",
         "lunch": "free/reduced",
         "math score": 55,
         "names": "Sharon Garcia",
         "parental level of education": "some high school",
         "race/ethnicity": "group C",
         "reading score": 65,
         "test preparation course": "none",
         "writing score": 62
        },
        {
         "_deepnote_index_column": 845,
         "gender": "female",
         "lunch": "standard",
         "math score": 75,
         "names": "Carol Miller",
         "parental level of education": "associate's degree",
         "race/ethnicity": "group C",
         "reading score": 82,
         "test preparation course": "completed",
         "writing score": 90
        },
        {
         "_deepnote_index_column": 846,
         "gender": "male",
         "lunch": "free/reduced",
         "math score": 66,
         "names": "Antonio Evans",
         "parental level of education": "high school",
         "race/ethnicity": "group C",
         "reading score": 66,
         "test preparation course": "none",
         "writing score": 59
        },
        {
         "_deepnote_index_column": 847,
         "gender": "female",
         "lunch": "standard",
         "math score": 72,
         "names": "Pam Otoole",
         "parental level of education": "bachelor's degree",
         "race/ethnicity": "group B",
         "reading score": 72,
         "test preparation course": "none",
         "writing score": 74
        },
        {
         "_deepnote_index_column": 848,
         "gender": "male",
         "lunch": "standard",
         "math score": 70,
         "names": "Matthew Burns",
         "parental level of education": "high school",
         "race/ethnicity": "group E",
         "reading score": 55,
         "test preparation course": "none",
         "writing score": 56
        },
        {
         "_deepnote_index_column": 849,
         "gender": "male",
         "lunch": "free/reduced",
         "math score": 57,
         "names": "Gregory Fernandez",
         "parental level of education": "high school",
         "race/ethnicity": "group E",
         "reading score": 56,
         "test preparation course": "completed",
         "writing score": 54
        },
        {
         "_deepnote_index_column": 850,
         "gender": "male",
         "lunch": "free/reduced",
         "math score": 84,
         "names": "Charles Herandez",
         "parental level of education": "master's degree",
         "race/ethnicity": "group D",
         "reading score": 89,
         "test preparation course": "completed",
         "writing score": 90
        },
        {
         "_deepnote_index_column": 851,
         "gender": "male",
         "lunch": "standard",
         "math score": 61,
         "names": "Aaron Shelly",
         "parental level of education": "associate's degree",
         "race/ethnicity": "group D",
         "reading score": 48,
         "test preparation course": "none",
         "writing score": 46
        },
        {
         "_deepnote_index_column": 852,
         "gender": "male",
         "lunch": "free/reduced",
         "math score": 45,
         "names": "Charles Harian",
         "parental level of education": "some high school",
         "race/ethnicity": "group C",
         "reading score": 52,
         "test preparation course": "completed",
         "writing score": 49
        },
        {
         "_deepnote_index_column": 853,
         "gender": "male",
         "lunch": "free/reduced",
         "math score": 65,
         "names": "Steven Hacker",
         "parental level of education": "some high school",
         "race/ethnicity": "group A",
         "reading score": 59,
         "test preparation course": "none",
         "writing score": 53
        },
        {
         "_deepnote_index_column": 854,
         "gender": "female",
         "lunch": "free/reduced",
         "math score": 27,
         "names": "Wendy Gunnell",
         "parental level of education": "some high school",
         "race/ethnicity": "group D",
         "reading score": 34,
         "test preparation course": "none",
         "writing score": 32
        },
        {
         "_deepnote_index_column": 855,
         "gender": "male",
         "lunch": "standard",
         "math score": 88,
         "names": "Manuel Glover",
         "parental level of education": "some college",
         "race/ethnicity": "group D",
         "reading score": 73,
         "test preparation course": "none",
         "writing score": 78
        },
        {
         "_deepnote_index_column": 856,
         "gender": "female",
         "lunch": "standard",
         "math score": 65,
         "names": "Linda Nevin",
         "parental level of education": "some high school",
         "race/ethnicity": "group B",
         "reading score": 82,
         "test preparation course": "completed",
         "writing score": 78
        },
        {
         "_deepnote_index_column": 857,
         "gender": "male",
         "lunch": "free/reduced",
         "math score": 63,
         "names": "James Piper",
         "parental level of education": "bachelor's degree",
         "race/ethnicity": "group D",
         "reading score": 66,
         "test preparation course": "none",
         "writing score": 67
        },
        {
         "_deepnote_index_column": 858,
         "gender": "male",
         "lunch": "free/reduced",
         "math score": 78,
         "names": "Timothy Anderson",
         "parental level of education": "associate's degree",
         "race/ethnicity": "group C",
         "reading score": 81,
         "test preparation course": "completed",
         "writing score": 82
        },
        {
         "_deepnote_index_column": 859,
         "gender": "female",
         "lunch": "standard",
         "math score": 65,
         "names": "Julie Sciancalepore",
         "parental level of education": "bachelor's degree",
         "race/ethnicity": "group C",
         "reading score": 72,
         "test preparation course": "none",
         "writing score": 74
        },
        {
         "_deepnote_index_column": 860,
         "gender": "male",
         "lunch": "free/reduced",
         "math score": 90,
         "names": "Brandon Palmer",
         "parental level of education": "associate's degree",
         "race/ethnicity": "group D",
         "reading score": 87,
         "test preparation course": "none",
         "writing score": 75
        },
        {
         "_deepnote_index_column": 861,
         "gender": "male",
         "lunch": "standard",
         "math score": 100,
         "names": "Robert Morrison",
         "parental level of education": "some college",
         "race/ethnicity": "group D",
         "reading score": 97,
         "test preparation course": "completed",
         "writing score": 99
        },
        {
         "_deepnote_index_column": 862,
         "gender": "male",
         "lunch": "free/reduced",
         "math score": 67,
         "names": "Claudio Millender",
         "parental level of education": "some college",
         "race/ethnicity": "group C",
         "reading score": 74,
         "test preparation course": "completed",
         "writing score": 70
        },
        {
         "_deepnote_index_column": 863,
         "gender": "female",
         "lunch": "standard",
         "math score": 74,
         "names": "Emily King",
         "parental level of education": "some college",
         "race/ethnicity": "group D",
         "reading score": 75,
         "test preparation course": "completed",
         "writing score": 79
        },
        {
         "_deepnote_index_column": 864,
         "gender": "male",
         "lunch": "standard",
         "math score": 76,
         "names": "William Sakkinen",
         "parental level of education": "some college",
         "race/ethnicity": "group E",
         "reading score": 67,
         "test preparation course": "none",
         "writing score": 67
        },
        {
         "_deepnote_index_column": 865,
         "gender": "female",
         "lunch": "standard",
         "math score": 66,
         "names": "Elsa Hyman",
         "parental level of education": "high school",
         "race/ethnicity": "group B",
         "reading score": 72,
         "test preparation course": "none",
         "writing score": 70
        },
        {
         "_deepnote_index_column": 866,
         "gender": "female",
         "lunch": "standard",
         "math score": 59,
         "names": "Virginia Sievers",
         "parental level of education": "bachelor's degree",
         "race/ethnicity": "group C",
         "reading score": 64,
         "test preparation course": "completed",
         "writing score": 75
        },
        {
         "_deepnote_index_column": 867,
         "gender": "female",
         "lunch": "standard",
         "math score": 62,
         "names": "Laura Cavanaugh",
         "parental level of education": "associate's degree",
         "race/ethnicity": "group C",
         "reading score": 76,
         "test preparation course": "completed",
         "writing score": 80
        },
        {
         "_deepnote_index_column": 868,
         "gender": "female",
         "lunch": "free/reduced",
         "math score": 41,
         "names": "Diana Costa",
         "parental level of education": "high school",
         "race/ethnicity": "group C",
         "reading score": 46,
         "test preparation course": "none",
         "writing score": 43
        },
        {
         "_deepnote_index_column": 869,
         "gender": "female",
         "lunch": "standard",
         "math score": 29,
         "names": "Amy Sieving",
         "parental level of education": "high school",
         "race/ethnicity": "group C",
         "reading score": 29,
         "test preparation course": "none",
         "writing score": 30
        },
        {
         "_deepnote_index_column": 870,
         "gender": "male",
         "lunch": "standard",
         "math score": 69,
         "names": "Richard Young",
         "parental level of education": "high school",
         "race/ethnicity": "group D",
         "reading score": 75,
         "test preparation course": "none",
         "writing score": 71
        },
        {
         "_deepnote_index_column": 871,
         "gender": "female",
         "lunch": "free/reduced",
         "math score": 23,
         "names": "Wanda Russell",
         "parental level of education": "high school",
         "race/ethnicity": "group B",
         "reading score": 44,
         "test preparation course": "completed",
         "writing score": 36
        },
        {
         "_deepnote_index_column": 872,
         "gender": "female",
         "lunch": "free/reduced",
         "math score": 66,
         "names": "Marina Zeigler",
         "parental level of education": "bachelor's degree",
         "race/ethnicity": "group C",
         "reading score": 74,
         "test preparation course": "completed",
         "writing score": 81
        },
        {
         "_deepnote_index_column": 873,
         "gender": "female",
         "lunch": "standard",
         "math score": 54,
         "names": "Laurie Carter",
         "parental level of education": "some high school",
         "race/ethnicity": "group B",
         "reading score": 61,
         "test preparation course": "completed",
         "writing score": 62
        },
        {
         "_deepnote_index_column": 874,
         "gender": "female",
         "lunch": "standard",
         "math score": 68,
         "names": "Amanda Perez",
         "parental level of education": "high school",
         "race/ethnicity": "group A",
         "reading score": 80,
         "test preparation course": "completed",
         "writing score": 76
        }
       ],
       "rows_top": [
        {
         "_deepnote_index_column": 0,
         "gender": "female",
         "lunch": "standard",
         "math score": 37,
         "names": "Rita Courtney",
         "parental level of education": "some high school",
         "race/ethnicity": "group B",
         "reading score": 46,
         "test preparation course": "none",
         "writing score": 46
        },
        {
         "_deepnote_index_column": 1,
         "gender": "male",
         "lunch": "standard",
         "math score": 80,
         "names": "Charles Linstrom",
         "parental level of education": "bachelor's degree",
         "race/ethnicity": "group A",
         "reading score": 78,
         "test preparation course": "completed",
         "writing score": 81
        },
        {
         "_deepnote_index_column": 2,
         "gender": "male",
         "lunch": "standard",
         "math score": 73,
         "names": "Brian Young",
         "parental level of education": "some high school",
         "race/ethnicity": "group C",
         "reading score": 66,
         "test preparation course": "none",
         "writing score": 63
        },
        {
         "_deepnote_index_column": 3,
         "gender": "male",
         "lunch": "standard",
         "math score": 81,
         "names": "Howard Jimenez",
         "parental level of education": "some high school",
         "race/ethnicity": "group E",
         "reading score": 75,
         "test preparation course": "completed",
         "writing score": 76
        },
        {
         "_deepnote_index_column": 4,
         "gender": "male",
         "lunch": "standard",
         "math score": 94,
         "names": "Wayne Wilson",
         "parental level of education": "some high school",
         "race/ethnicity": "group B",
         "reading score": 86,
         "test preparation course": "completed",
         "writing score": 87
        },
        {
         "_deepnote_index_column": 5,
         "gender": "male",
         "lunch": "standard",
         "math score": 71,
         "names": "Jonathan Clingan",
         "parental level of education": "some college",
         "race/ethnicity": "group D",
         "reading score": 61,
         "test preparation course": "completed",
         "writing score": 69
        },
        {
         "_deepnote_index_column": 6,
         "gender": "male",
         "lunch": "standard",
         "math score": 75,
         "names": "William Tang",
         "parental level of education": "associate's degree",
         "race/ethnicity": "group D",
         "reading score": 68,
         "test preparation course": "none",
         "writing score": 64
        },
        {
         "_deepnote_index_column": 7,
         "gender": "female",
         "lunch": "free/reduced",
         "math score": 34,
         "names": "Mikki Amaya",
         "parental level of education": "high school",
         "race/ethnicity": "group A",
         "reading score": 48,
         "test preparation course": "completed",
         "writing score": 41
        },
        {
         "_deepnote_index_column": 8,
         "gender": "male",
         "lunch": "standard",
         "math score": 63,
         "names": "Gerald Wilson",
         "parental level of education": "associate's degree",
         "race/ethnicity": "group A",
         "reading score": 61,
         "test preparation course": "none",
         "writing score": 61
        },
        {
         "_deepnote_index_column": 9,
         "gender": "male",
         "lunch": "standard",
         "math score": 94,
         "names": "Damon Mckee",
         "parental level of education": "high school",
         "race/ethnicity": "group E",
         "reading score": 73,
         "test preparation course": "none",
         "writing score": 71
        },
        {
         "_deepnote_index_column": 10,
         "gender": "female",
         "lunch": "standard",
         "math score": 65,
         "names": "Sophia Bijou",
         "parental level of education": "some high school",
         "race/ethnicity": "group D",
         "reading score": 78,
         "test preparation course": "completed",
         "writing score": 82
        },
        {
         "_deepnote_index_column": 11,
         "gender": "female",
         "lunch": "free/reduced",
         "math score": 52,
         "names": "Monica Schwartz",
         "parental level of education": "associate's degree",
         "race/ethnicity": "group B",
         "reading score": 76,
         "test preparation course": "none",
         "writing score": 70
        },
        {
         "_deepnote_index_column": 12,
         "gender": "male",
         "lunch": "standard",
         "math score": 62,
         "names": "Donald Upchurch",
         "parental level of education": "associate's degree",
         "race/ethnicity": "group C",
         "reading score": 65,
         "test preparation course": "none",
         "writing score": 58
        },
        {
         "_deepnote_index_column": 13,
         "gender": "male",
         "lunch": "standard",
         "math score": 74,
         "names": "Donald Dunnings",
         "parental level of education": "some high school",
         "race/ethnicity": "group D",
         "reading score": 74,
         "test preparation course": "none",
         "writing score": 72
        },
        {
         "_deepnote_index_column": 14,
         "gender": "male",
         "lunch": "free/reduced",
         "math score": 62,
         "names": "Joseph Mccoy",
         "parental level of education": "some college",
         "race/ethnicity": "group D",
         "reading score": 57,
         "test preparation course": "none",
         "writing score": 62
        },
        {
         "_deepnote_index_column": 15,
         "gender": "male",
         "lunch": "standard",
         "math score": 73,
         "names": "David Dupree",
         "parental level of education": "high school",
         "race/ethnicity": "group B",
         "reading score": 69,
         "test preparation course": "completed",
         "writing score": 68
        },
        {
         "_deepnote_index_column": 16,
         "gender": "male",
         "lunch": "free/reduced",
         "math score": 46,
         "names": "Samuel Dougal",
         "parental level of education": "master's degree",
         "race/ethnicity": "group C",
         "reading score": 42,
         "test preparation course": "completed",
         "writing score": 46
        },
        {
         "_deepnote_index_column": 17,
         "gender": "male",
         "lunch": "standard",
         "math score": 82,
         "names": "Richard Pina",
         "parental level of education": "master's degree",
         "race/ethnicity": "group D",
         "reading score": 82,
         "test preparation course": "none",
         "writing score": 74
        },
        {
         "_deepnote_index_column": 18,
         "gender": "male",
         "lunch": "free/reduced",
         "math score": 63,
         "names": "Dale Sylvain",
         "parental level of education": "some college",
         "race/ethnicity": "group D",
         "reading score": 61,
         "test preparation course": "none",
         "writing score": 60
        },
        {
         "_deepnote_index_column": 19,
         "gender": "female",
         "lunch": "free/reduced",
         "math score": 64,
         "names": "Janine Taylor",
         "parental level of education": "associate's degree",
         "race/ethnicity": "group C",
         "reading score": 73,
         "test preparation course": "none",
         "writing score": 68
        },
        {
         "_deepnote_index_column": 20,
         "gender": "male",
         "lunch": "standard",
         "math score": 80,
         "names": "Alexander Dillon",
         "parental level of education": "associate's degree",
         "race/ethnicity": "group D",
         "reading score": 75,
         "test preparation course": "none",
         "writing score": 77
        },
        {
         "_deepnote_index_column": 21,
         "gender": "female",
         "lunch": "free/reduced",
         "math score": 93,
         "names": "Shanna Braswell",
         "parental level of education": "bachelor's degree",
         "race/ethnicity": "group D",
         "reading score": 100,
         "test preparation course": "completed",
         "writing score": 100
        },
        {
         "_deepnote_index_column": 22,
         "gender": "female",
         "lunch": "standard",
         "math score": 69,
         "names": "Bonnie Ramos",
         "parental level of education": "high school",
         "race/ethnicity": "group B",
         "reading score": 76,
         "test preparation course": "completed",
         "writing score": 74
        },
        {
         "_deepnote_index_column": 23,
         "gender": "female",
         "lunch": "free/reduced",
         "math score": 46,
         "names": "Connie Shinn",
         "parental level of education": "associate's degree",
         "race/ethnicity": "group B",
         "reading score": 61,
         "test preparation course": "none",
         "writing score": 55
        },
        {
         "_deepnote_index_column": 24,
         "gender": "male",
         "lunch": "standard",
         "math score": 86,
         "names": "Daniel Cartwright",
         "parental level of education": "high school",
         "race/ethnicity": "group C",
         "reading score": 81,
         "test preparation course": "completed",
         "writing score": 80
        },
        {
         "_deepnote_index_column": 25,
         "gender": "female",
         "lunch": "standard",
         "math score": 59,
         "names": "Betty Buntin",
         "parental level of education": "bachelor's degree",
         "race/ethnicity": "group A",
         "reading score": 72,
         "test preparation course": "none",
         "writing score": 70
        },
        {
         "_deepnote_index_column": 26,
         "gender": "male",
         "lunch": "standard",
         "math score": 84,
         "names": "Francis Seibold",
         "parental level of education": "some high school",
         "race/ethnicity": "group B",
         "reading score": 83,
         "test preparation course": "completed",
         "writing score": 75
        },
        {
         "_deepnote_index_column": 27,
         "gender": "male",
         "lunch": "free/reduced",
         "math score": 64,
         "names": "Arthur Byer",
         "parental level of education": "high school",
         "race/ethnicity": "group D",
         "reading score": 64,
         "test preparation course": "completed",
         "writing score": 67
        },
        {
         "_deepnote_index_column": 28,
         "gender": "female",
         "lunch": "free/reduced",
         "math score": 73,
         "names": "Willie Neff",
         "parental level of education": "associate's degree",
         "race/ethnicity": "group E",
         "reading score": 76,
         "test preparation course": "none",
         "writing score": 78
        },
        {
         "_deepnote_index_column": 29,
         "gender": "female",
         "lunch": "free/reduced",
         "math score": 83,
         "names": "Thelma Yeates",
         "parental level of education": "associate's degree",
         "race/ethnicity": "group E",
         "reading score": 86,
         "test preparation course": "completed",
         "writing score": 88
        },
        {
         "_deepnote_index_column": 30,
         "gender": "female",
         "lunch": "free/reduced",
         "math score": 75,
         "names": "Mary Piotrowski",
         "parental level of education": "some college",
         "race/ethnicity": "group E",
         "reading score": 88,
         "test preparation course": "completed",
         "writing score": 85
        },
        {
         "_deepnote_index_column": 31,
         "gender": "female",
         "lunch": "standard",
         "math score": 69,
         "names": "Hazel Montoya",
         "parental level of education": "some college",
         "race/ethnicity": "group D",
         "reading score": 74,
         "test preparation course": "none",
         "writing score": 74
        },
        {
         "_deepnote_index_column": 32,
         "gender": "male",
         "lunch": "standard",
         "math score": 68,
         "names": "James Eury",
         "parental level of education": "some college",
         "race/ethnicity": "group E",
         "reading score": 72,
         "test preparation course": "none",
         "writing score": 65
        },
        {
         "_deepnote_index_column": 33,
         "gender": "male",
         "lunch": "standard",
         "math score": 57,
         "names": "Larry Dunn",
         "parental level of education": "some high school",
         "race/ethnicity": "group C",
         "reading score": 61,
         "test preparation course": "none",
         "writing score": 54
        },
        {
         "_deepnote_index_column": 34,
         "gender": "male",
         "lunch": "standard",
         "math score": 66,
         "names": "David Dunham",
         "parental level of education": "bachelor's degree",
         "race/ethnicity": "group A",
         "reading score": 64,
         "test preparation course": "none",
         "writing score": 62
        },
        {
         "_deepnote_index_column": 35,
         "gender": "male",
         "lunch": "standard",
         "math score": 61,
         "names": "Jeffery Wiedmann",
         "parental level of education": "some college",
         "race/ethnicity": "group C",
         "reading score": 61,
         "test preparation course": "none",
         "writing score": 62
        },
        {
         "_deepnote_index_column": 36,
         "gender": "female",
         "lunch": "free/reduced",
         "math score": 40,
         "names": "Lisa Watters",
         "parental level of education": "master's degree",
         "race/ethnicity": "group D",
         "reading score": 59,
         "test preparation course": "none",
         "writing score": 54
        },
        {
         "_deepnote_index_column": 37,
         "gender": "female",
         "lunch": "free/reduced",
         "math score": 50,
         "names": "Katharine Kellum",
         "parental level of education": "high school",
         "race/ethnicity": "group B",
         "reading score": 67,
         "test preparation course": "none",
         "writing score": 63
        },
        {
         "_deepnote_index_column": 38,
         "gender": "female",
         "lunch": "standard",
         "math score": 48,
         "names": "Marjorie Brown",
         "parental level of education": "high school",
         "race/ethnicity": "group B",
         "reading score": 62,
         "test preparation course": "none",
         "writing score": 60
        },
        {
         "_deepnote_index_column": 39,
         "gender": "male",
         "lunch": "free/reduced",
         "math score": 36,
         "names": "Rodger Talavera",
         "parental level of education": "high school",
         "race/ethnicity": "group B",
         "reading score": 29,
         "test preparation course": "none",
         "writing score": 27
        },
        {
         "_deepnote_index_column": 40,
         "gender": "female",
         "lunch": "free/reduced",
         "math score": 78,
         "names": "Mary Jackson",
         "parental level of education": "bachelor's degree",
         "race/ethnicity": "group B",
         "reading score": 79,
         "test preparation course": "none",
         "writing score": 76
        },
        {
         "_deepnote_index_column": 41,
         "gender": "female",
         "lunch": "standard",
         "math score": 57,
         "names": "Rebecca Dalton",
         "parental level of education": "some high school",
         "race/ethnicity": "group B",
         "reading score": 67,
         "test preparation course": "none",
         "writing score": 72
        },
        {
         "_deepnote_index_column": 42,
         "gender": "male",
         "lunch": "standard",
         "math score": 69,
         "names": "David Fisk",
         "parental level of education": "bachelor's degree",
         "race/ethnicity": "group D",
         "reading score": 58,
         "test preparation course": "none",
         "writing score": 57
        },
        {
         "_deepnote_index_column": 43,
         "gender": "male",
         "lunch": "free/reduced",
         "math score": 40,
         "names": "Morris Johnson",
         "parental level of education": "associate's degree",
         "race/ethnicity": "group A",
         "reading score": 55,
         "test preparation course": "completed",
         "writing score": 53
        },
        {
         "_deepnote_index_column": 44,
         "gender": "male",
         "lunch": "standard",
         "math score": 92,
         "names": "Rodrick Rasch",
         "parental level of education": "some high school",
         "race/ethnicity": "group E",
         "reading score": 87,
         "test preparation course": "none",
         "writing score": 78
        },
        {
         "_deepnote_index_column": 45,
         "gender": "male",
         "lunch": "free/reduced",
         "math score": 35,
         "names": "Anthony Malcomb",
         "parental level of education": "some college",
         "race/ethnicity": "group C",
         "reading score": 28,
         "test preparation course": "none",
         "writing score": 27
        },
        {
         "_deepnote_index_column": 46,
         "gender": "female",
         "lunch": "standard",
         "math score": 63,
         "names": "Joyce Amos",
         "parental level of education": "associate's degree",
         "race/ethnicity": "group C",
         "reading score": 67,
         "test preparation course": "none",
         "writing score": 70
        },
        {
         "_deepnote_index_column": 47,
         "gender": "male",
         "lunch": "standard",
         "math score": 73,
         "names": "Donald Chestnut",
         "parental level of education": "some college",
         "race/ethnicity": "group C",
         "reading score": 74,
         "test preparation course": "none",
         "writing score": 61
        },
        {
         "_deepnote_index_column": 48,
         "gender": "female",
         "lunch": "standard",
         "math score": 63,
         "names": "Lynne Rodgers",
         "parental level of education": "some college",
         "race/ethnicity": "group D",
         "reading score": 64,
         "test preparation course": "none",
         "writing score": 67
        },
        {
         "_deepnote_index_column": 49,
         "gender": "female",
         "lunch": "free/reduced",
         "math score": 52,
         "names": "Diane Preister",
         "parental level of education": "some college",
         "race/ethnicity": "group D",
         "reading score": 59,
         "test preparation course": "completed",
         "writing score": 65
        },
        {
         "_deepnote_index_column": 50,
         "gender": "female",
         "lunch": "standard",
         "math score": 73,
         "names": "Brenda Kitchin",
         "parental level of education": "some high school",
         "race/ethnicity": "group B",
         "reading score": 79,
         "test preparation course": "none",
         "writing score": 79
        },
        {
         "_deepnote_index_column": 51,
         "gender": "female",
         "lunch": "free/reduced",
         "math score": 63,
         "names": "Susan Palmo",
         "parental level of education": "some college",
         "race/ethnicity": "group C",
         "reading score": 73,
         "test preparation course": "completed",
         "writing score": 71
        },
        {
         "_deepnote_index_column": 52,
         "gender": "male",
         "lunch": "standard",
         "math score": 71,
         "names": "Edward Hohn",
         "parental level of education": "high school",
         "race/ethnicity": "group C",
         "reading score": 60,
         "test preparation course": "none",
         "writing score": 61
        },
        {
         "_deepnote_index_column": 53,
         "gender": "female",
         "lunch": "standard",
         "math score": 45,
         "names": "Donita Hill",
         "parental level of education": "bachelor's degree",
         "race/ethnicity": "group A",
         "reading score": 59,
         "test preparation course": "none",
         "writing score": 64
        },
        {
         "_deepnote_index_column": 54,
         "gender": "female",
         "lunch": "standard",
         "math score": 85,
         "names": "Natalie Turney",
         "parental level of education": "associate's degree",
         "race/ethnicity": "group E",
         "reading score": 92,
         "test preparation course": "none",
         "writing score": 85
        }
       ]
      },
      "text/html": [
       "<div>\n",
       "<style scoped>\n",
       "    .dataframe tbody tr th:only-of-type {\n",
       "        vertical-align: middle;\n",
       "    }\n",
       "\n",
       "    .dataframe tbody tr th {\n",
       "        vertical-align: top;\n",
       "    }\n",
       "\n",
       "    .dataframe thead th {\n",
       "        text-align: right;\n",
       "    }\n",
       "</style>\n",
       "<table border=\"1\" class=\"dataframe\">\n",
       "  <thead>\n",
       "    <tr style=\"text-align: right;\">\n",
       "      <th></th>\n",
       "      <th>names</th>\n",
       "      <th>gender</th>\n",
       "      <th>race/ethnicity</th>\n",
       "      <th>parental level of education</th>\n",
       "      <th>lunch</th>\n",
       "      <th>test preparation course</th>\n",
       "      <th>math score</th>\n",
       "      <th>reading score</th>\n",
       "      <th>writing score</th>\n",
       "    </tr>\n",
       "  </thead>\n",
       "  <tbody>\n",
       "    <tr>\n",
       "      <th>0</th>\n",
       "      <td>Rita Courtney</td>\n",
       "      <td>female</td>\n",
       "      <td>group B</td>\n",
       "      <td>some high school</td>\n",
       "      <td>standard</td>\n",
       "      <td>none</td>\n",
       "      <td>37.0</td>\n",
       "      <td>46.0</td>\n",
       "      <td>46.0</td>\n",
       "    </tr>\n",
       "    <tr>\n",
       "      <th>1</th>\n",
       "      <td>Charles Linstrom</td>\n",
       "      <td>male</td>\n",
       "      <td>group A</td>\n",
       "      <td>bachelor's degree</td>\n",
       "      <td>standard</td>\n",
       "      <td>completed</td>\n",
       "      <td>80.0</td>\n",
       "      <td>78.0</td>\n",
       "      <td>81.0</td>\n",
       "    </tr>\n",
       "    <tr>\n",
       "      <th>2</th>\n",
       "      <td>Brian Young</td>\n",
       "      <td>male</td>\n",
       "      <td>group C</td>\n",
       "      <td>some high school</td>\n",
       "      <td>standard</td>\n",
       "      <td>none</td>\n",
       "      <td>73.0</td>\n",
       "      <td>66.0</td>\n",
       "      <td>63.0</td>\n",
       "    </tr>\n",
       "    <tr>\n",
       "      <th>3</th>\n",
       "      <td>Howard Jimenez</td>\n",
       "      <td>male</td>\n",
       "      <td>group E</td>\n",
       "      <td>some high school</td>\n",
       "      <td>standard</td>\n",
       "      <td>completed</td>\n",
       "      <td>81.0</td>\n",
       "      <td>75.0</td>\n",
       "      <td>76.0</td>\n",
       "    </tr>\n",
       "    <tr>\n",
       "      <th>4</th>\n",
       "      <td>Wayne Wilson</td>\n",
       "      <td>male</td>\n",
       "      <td>group B</td>\n",
       "      <td>some high school</td>\n",
       "      <td>standard</td>\n",
       "      <td>completed</td>\n",
       "      <td>94.0</td>\n",
       "      <td>86.0</td>\n",
       "      <td>87.0</td>\n",
       "    </tr>\n",
       "    <tr>\n",
       "      <th>...</th>\n",
       "      <td>...</td>\n",
       "      <td>...</td>\n",
       "      <td>...</td>\n",
       "      <td>...</td>\n",
       "      <td>...</td>\n",
       "      <td>...</td>\n",
       "      <td>...</td>\n",
       "      <td>...</td>\n",
       "      <td>...</td>\n",
       "    </tr>\n",
       "    <tr>\n",
       "      <th>870</th>\n",
       "      <td>Richard Young</td>\n",
       "      <td>male</td>\n",
       "      <td>group D</td>\n",
       "      <td>high school</td>\n",
       "      <td>standard</td>\n",
       "      <td>none</td>\n",
       "      <td>69.0</td>\n",
       "      <td>75.0</td>\n",
       "      <td>71.0</td>\n",
       "    </tr>\n",
       "    <tr>\n",
       "      <th>871</th>\n",
       "      <td>Wanda Russell</td>\n",
       "      <td>female</td>\n",
       "      <td>group B</td>\n",
       "      <td>high school</td>\n",
       "      <td>free/reduced</td>\n",
       "      <td>completed</td>\n",
       "      <td>23.0</td>\n",
       "      <td>44.0</td>\n",
       "      <td>36.0</td>\n",
       "    </tr>\n",
       "    <tr>\n",
       "      <th>872</th>\n",
       "      <td>Marina Zeigler</td>\n",
       "      <td>female</td>\n",
       "      <td>group C</td>\n",
       "      <td>bachelor's degree</td>\n",
       "      <td>free/reduced</td>\n",
       "      <td>completed</td>\n",
       "      <td>66.0</td>\n",
       "      <td>74.0</td>\n",
       "      <td>81.0</td>\n",
       "    </tr>\n",
       "    <tr>\n",
       "      <th>873</th>\n",
       "      <td>Laurie Carter</td>\n",
       "      <td>female</td>\n",
       "      <td>group B</td>\n",
       "      <td>some high school</td>\n",
       "      <td>standard</td>\n",
       "      <td>completed</td>\n",
       "      <td>54.0</td>\n",
       "      <td>61.0</td>\n",
       "      <td>62.0</td>\n",
       "    </tr>\n",
       "    <tr>\n",
       "      <th>874</th>\n",
       "      <td>Amanda Perez</td>\n",
       "      <td>female</td>\n",
       "      <td>group A</td>\n",
       "      <td>high school</td>\n",
       "      <td>standard</td>\n",
       "      <td>completed</td>\n",
       "      <td>68.0</td>\n",
       "      <td>80.0</td>\n",
       "      <td>76.0</td>\n",
       "    </tr>\n",
       "  </tbody>\n",
       "</table>\n",
       "<p>875 rows × 9 columns</p>\n",
       "</div>"
      ],
      "text/plain": [
       "                names  gender race/ethnicity parental level of education  \\\n",
       "0       Rita Courtney  female        group B            some high school   \n",
       "1    Charles Linstrom    male        group A           bachelor's degree   \n",
       "2         Brian Young    male        group C            some high school   \n",
       "3      Howard Jimenez    male        group E            some high school   \n",
       "4        Wayne Wilson    male        group B            some high school   \n",
       "..                ...     ...            ...                         ...   \n",
       "870     Richard Young    male        group D                 high school   \n",
       "871     Wanda Russell  female        group B                 high school   \n",
       "872    Marina Zeigler  female        group C           bachelor's degree   \n",
       "873     Laurie Carter  female        group B            some high school   \n",
       "874      Amanda Perez  female        group A                 high school   \n",
       "\n",
       "            lunch test preparation course  math score  reading score  \\\n",
       "0        standard                    none        37.0           46.0   \n",
       "1        standard               completed        80.0           78.0   \n",
       "2        standard                    none        73.0           66.0   \n",
       "3        standard               completed        81.0           75.0   \n",
       "4        standard               completed        94.0           86.0   \n",
       "..            ...                     ...         ...            ...   \n",
       "870      standard                    none        69.0           75.0   \n",
       "871  free/reduced               completed        23.0           44.0   \n",
       "872  free/reduced               completed        66.0           74.0   \n",
       "873      standard               completed        54.0           61.0   \n",
       "874      standard               completed        68.0           80.0   \n",
       "\n",
       "     writing score  \n",
       "0             46.0  \n",
       "1             81.0  \n",
       "2             63.0  \n",
       "3             76.0  \n",
       "4             87.0  \n",
       "..             ...  \n",
       "870           71.0  \n",
       "871           36.0  \n",
       "872           81.0  \n",
       "873           62.0  \n",
       "874           76.0  \n",
       "\n",
       "[875 rows x 9 columns]"
      ]
     },
     "execution_count": 7,
     "metadata": {},
     "output_type": "execute_result"
    }
   ],
   "source": [
    "df_grades = clean_data(df_grades)\n",
    "df_grades"
   ]
  },
  {
   "cell_type": "markdown",
   "metadata": {
    "cell_id": "00028-7d461c3c-584a-437b-a3b0-8eb3a9a60b08",
    "deepnote_cell_height": 66.390625,
    "deepnote_cell_type": "markdown",
    "id": "iAnb7kcRj9gJ"
   },
   "source": [
    "> Utilice la función creada en el punto 1.1 para verificar sus resultados."
   ]
  },
  {
   "cell_type": "code",
   "execution_count": 185,
   "metadata": {},
   "outputs": [
    {
     "name": "stdout",
     "output_type": "stream",
     "text": [
      "1.- El DataFrame tiene 875 filas y 9 columnas\n",
      "\n",
      "2.- El DataFrame esta compuesto por las siguientes columnas: ['names', 'gender', 'race/ethnicity', 'parental level of education', 'lunch', 'test preparation course', 'math score', 'reading score', 'writing score']\n",
      "\n",
      "3.- Ejemplos de filas del DataFrame:\n",
      "\n",
      "Primeras 5 filas:\n"
     ]
    },
    {
     "data": {
      "text/html": [
       "<div>\n",
       "<style scoped>\n",
       "    .dataframe tbody tr th:only-of-type {\n",
       "        vertical-align: middle;\n",
       "    }\n",
       "\n",
       "    .dataframe tbody tr th {\n",
       "        vertical-align: top;\n",
       "    }\n",
       "\n",
       "    .dataframe thead th {\n",
       "        text-align: right;\n",
       "    }\n",
       "</style>\n",
       "<table border=\"1\" class=\"dataframe\">\n",
       "  <thead>\n",
       "    <tr style=\"text-align: right;\">\n",
       "      <th></th>\n",
       "      <th>names</th>\n",
       "      <th>gender</th>\n",
       "      <th>race/ethnicity</th>\n",
       "      <th>parental level of education</th>\n",
       "      <th>lunch</th>\n",
       "      <th>test preparation course</th>\n",
       "      <th>math score</th>\n",
       "      <th>reading score</th>\n",
       "      <th>writing score</th>\n",
       "    </tr>\n",
       "  </thead>\n",
       "  <tbody>\n",
       "    <tr>\n",
       "      <th>0</th>\n",
       "      <td>Rita Courtney</td>\n",
       "      <td>female</td>\n",
       "      <td>group B</td>\n",
       "      <td>some high school</td>\n",
       "      <td>standard</td>\n",
       "      <td>none</td>\n",
       "      <td>37.0</td>\n",
       "      <td>46.0</td>\n",
       "      <td>46.0</td>\n",
       "    </tr>\n",
       "    <tr>\n",
       "      <th>3</th>\n",
       "      <td>Charles Linstrom</td>\n",
       "      <td>male</td>\n",
       "      <td>group A</td>\n",
       "      <td>bachelor's degree</td>\n",
       "      <td>standard</td>\n",
       "      <td>completed</td>\n",
       "      <td>80.0</td>\n",
       "      <td>78.0</td>\n",
       "      <td>81.0</td>\n",
       "    </tr>\n",
       "    <tr>\n",
       "      <th>5</th>\n",
       "      <td>Brian Young</td>\n",
       "      <td>male</td>\n",
       "      <td>group C</td>\n",
       "      <td>some high school</td>\n",
       "      <td>standard</td>\n",
       "      <td>none</td>\n",
       "      <td>73.0</td>\n",
       "      <td>66.0</td>\n",
       "      <td>63.0</td>\n",
       "    </tr>\n",
       "    <tr>\n",
       "      <th>6</th>\n",
       "      <td>Howard Jimenez</td>\n",
       "      <td>male</td>\n",
       "      <td>group E</td>\n",
       "      <td>some high school</td>\n",
       "      <td>standard</td>\n",
       "      <td>completed</td>\n",
       "      <td>81.0</td>\n",
       "      <td>75.0</td>\n",
       "      <td>76.0</td>\n",
       "    </tr>\n",
       "    <tr>\n",
       "      <th>7</th>\n",
       "      <td>Wayne Wilson</td>\n",
       "      <td>male</td>\n",
       "      <td>group B</td>\n",
       "      <td>some high school</td>\n",
       "      <td>standard</td>\n",
       "      <td>completed</td>\n",
       "      <td>94.0</td>\n",
       "      <td>86.0</td>\n",
       "      <td>87.0</td>\n",
       "    </tr>\n",
       "  </tbody>\n",
       "</table>\n",
       "</div>"
      ],
      "text/plain": [
       "              names  gender race/ethnicity parental level of education  \\\n",
       "0     Rita Courtney  female        group B            some high school   \n",
       "3  Charles Linstrom    male        group A           bachelor's degree   \n",
       "5       Brian Young    male        group C            some high school   \n",
       "6    Howard Jimenez    male        group E            some high school   \n",
       "7      Wayne Wilson    male        group B            some high school   \n",
       "\n",
       "      lunch test preparation course  math score  reading score  writing score  \n",
       "0  standard                    none        37.0           46.0           46.0  \n",
       "3  standard               completed        80.0           78.0           81.0  \n",
       "5  standard                    none        73.0           66.0           63.0  \n",
       "6  standard               completed        81.0           75.0           76.0  \n",
       "7  standard               completed        94.0           86.0           87.0  "
      ]
     },
     "metadata": {},
     "output_type": "display_data"
    },
    {
     "name": "stdout",
     "output_type": "stream",
     "text": [
      "\n",
      "Últimas 5 filas:\n"
     ]
    },
    {
     "data": {
      "text/html": [
       "<div>\n",
       "<style scoped>\n",
       "    .dataframe tbody tr th:only-of-type {\n",
       "        vertical-align: middle;\n",
       "    }\n",
       "\n",
       "    .dataframe tbody tr th {\n",
       "        vertical-align: top;\n",
       "    }\n",
       "\n",
       "    .dataframe thead th {\n",
       "        text-align: right;\n",
       "    }\n",
       "</style>\n",
       "<table border=\"1\" class=\"dataframe\">\n",
       "  <thead>\n",
       "    <tr style=\"text-align: right;\">\n",
       "      <th></th>\n",
       "      <th>names</th>\n",
       "      <th>gender</th>\n",
       "      <th>race/ethnicity</th>\n",
       "      <th>parental level of education</th>\n",
       "      <th>lunch</th>\n",
       "      <th>test preparation course</th>\n",
       "      <th>math score</th>\n",
       "      <th>reading score</th>\n",
       "      <th>writing score</th>\n",
       "    </tr>\n",
       "  </thead>\n",
       "  <tbody>\n",
       "    <tr>\n",
       "      <th>1392</th>\n",
       "      <td>Richard Young</td>\n",
       "      <td>male</td>\n",
       "      <td>group D</td>\n",
       "      <td>high school</td>\n",
       "      <td>standard</td>\n",
       "      <td>none</td>\n",
       "      <td>69.0</td>\n",
       "      <td>75.0</td>\n",
       "      <td>71.0</td>\n",
       "    </tr>\n",
       "    <tr>\n",
       "      <th>1394</th>\n",
       "      <td>Wanda Russell</td>\n",
       "      <td>female</td>\n",
       "      <td>group B</td>\n",
       "      <td>high school</td>\n",
       "      <td>free/reduced</td>\n",
       "      <td>completed</td>\n",
       "      <td>23.0</td>\n",
       "      <td>44.0</td>\n",
       "      <td>36.0</td>\n",
       "    </tr>\n",
       "    <tr>\n",
       "      <th>1396</th>\n",
       "      <td>Marina Zeigler</td>\n",
       "      <td>female</td>\n",
       "      <td>group C</td>\n",
       "      <td>bachelor's degree</td>\n",
       "      <td>free/reduced</td>\n",
       "      <td>completed</td>\n",
       "      <td>66.0</td>\n",
       "      <td>74.0</td>\n",
       "      <td>81.0</td>\n",
       "    </tr>\n",
       "    <tr>\n",
       "      <th>1397</th>\n",
       "      <td>Laurie Carter</td>\n",
       "      <td>female</td>\n",
       "      <td>group B</td>\n",
       "      <td>some high school</td>\n",
       "      <td>standard</td>\n",
       "      <td>completed</td>\n",
       "      <td>54.0</td>\n",
       "      <td>61.0</td>\n",
       "      <td>62.0</td>\n",
       "    </tr>\n",
       "    <tr>\n",
       "      <th>1399</th>\n",
       "      <td>Amanda Perez</td>\n",
       "      <td>female</td>\n",
       "      <td>group A</td>\n",
       "      <td>high school</td>\n",
       "      <td>standard</td>\n",
       "      <td>completed</td>\n",
       "      <td>68.0</td>\n",
       "      <td>80.0</td>\n",
       "      <td>76.0</td>\n",
       "    </tr>\n",
       "  </tbody>\n",
       "</table>\n",
       "</div>"
      ],
      "text/plain": [
       "               names  gender race/ethnicity parental level of education  \\\n",
       "1392   Richard Young    male        group D                 high school   \n",
       "1394   Wanda Russell  female        group B                 high school   \n",
       "1396  Marina Zeigler  female        group C           bachelor's degree   \n",
       "1397   Laurie Carter  female        group B            some high school   \n",
       "1399    Amanda Perez  female        group A                 high school   \n",
       "\n",
       "             lunch test preparation course  math score  reading score  \\\n",
       "1392      standard                    none        69.0           75.0   \n",
       "1394  free/reduced               completed        23.0           44.0   \n",
       "1396  free/reduced               completed        66.0           74.0   \n",
       "1397      standard               completed        54.0           61.0   \n",
       "1399      standard               completed        68.0           80.0   \n",
       "\n",
       "      writing score  \n",
       "1392           71.0  \n",
       "1394           36.0  \n",
       "1396           81.0  \n",
       "1397           62.0  \n",
       "1399           76.0  "
      ]
     },
     "metadata": {},
     "output_type": "display_data"
    },
    {
     "name": "stdout",
     "output_type": "stream",
     "text": [
      "\n",
      "Muestreo aleatorio de 5 filas:\n"
     ]
    },
    {
     "data": {
      "text/html": [
       "<div>\n",
       "<style scoped>\n",
       "    .dataframe tbody tr th:only-of-type {\n",
       "        vertical-align: middle;\n",
       "    }\n",
       "\n",
       "    .dataframe tbody tr th {\n",
       "        vertical-align: top;\n",
       "    }\n",
       "\n",
       "    .dataframe thead th {\n",
       "        text-align: right;\n",
       "    }\n",
       "</style>\n",
       "<table border=\"1\" class=\"dataframe\">\n",
       "  <thead>\n",
       "    <tr style=\"text-align: right;\">\n",
       "      <th></th>\n",
       "      <th>names</th>\n",
       "      <th>gender</th>\n",
       "      <th>race/ethnicity</th>\n",
       "      <th>parental level of education</th>\n",
       "      <th>lunch</th>\n",
       "      <th>test preparation course</th>\n",
       "      <th>math score</th>\n",
       "      <th>reading score</th>\n",
       "      <th>writing score</th>\n",
       "    </tr>\n",
       "  </thead>\n",
       "  <tbody>\n",
       "    <tr>\n",
       "      <th>637</th>\n",
       "      <td>Matthew Freeman</td>\n",
       "      <td>male</td>\n",
       "      <td>group B</td>\n",
       "      <td>high school</td>\n",
       "      <td>standard</td>\n",
       "      <td>completed</td>\n",
       "      <td>52.0</td>\n",
       "      <td>49.0</td>\n",
       "      <td>46.0</td>\n",
       "    </tr>\n",
       "    <tr>\n",
       "      <th>575</th>\n",
       "      <td>Kenneth Robertson</td>\n",
       "      <td>male</td>\n",
       "      <td>group A</td>\n",
       "      <td>bachelor's degree</td>\n",
       "      <td>standard</td>\n",
       "      <td>completed</td>\n",
       "      <td>87.0</td>\n",
       "      <td>84.0</td>\n",
       "      <td>87.0</td>\n",
       "    </tr>\n",
       "    <tr>\n",
       "      <th>910</th>\n",
       "      <td>Shannon Bale</td>\n",
       "      <td>male</td>\n",
       "      <td>group E</td>\n",
       "      <td>associate's degree</td>\n",
       "      <td>free/reduced</td>\n",
       "      <td>completed</td>\n",
       "      <td>77.0</td>\n",
       "      <td>69.0</td>\n",
       "      <td>68.0</td>\n",
       "    </tr>\n",
       "    <tr>\n",
       "      <th>468</th>\n",
       "      <td>Matthew Mcdonald</td>\n",
       "      <td>male</td>\n",
       "      <td>group D</td>\n",
       "      <td>bachelor's degree</td>\n",
       "      <td>free/reduced</td>\n",
       "      <td>completed</td>\n",
       "      <td>74.0</td>\n",
       "      <td>79.0</td>\n",
       "      <td>75.0</td>\n",
       "    </tr>\n",
       "    <tr>\n",
       "      <th>963</th>\n",
       "      <td>Emma Fussell</td>\n",
       "      <td>female</td>\n",
       "      <td>group A</td>\n",
       "      <td>some high school</td>\n",
       "      <td>free/reduced</td>\n",
       "      <td>none</td>\n",
       "      <td>38.0</td>\n",
       "      <td>43.0</td>\n",
       "      <td>43.0</td>\n",
       "    </tr>\n",
       "  </tbody>\n",
       "</table>\n",
       "</div>"
      ],
      "text/plain": [
       "                 names  gender race/ethnicity parental level of education  \\\n",
       "637    Matthew Freeman    male        group B                 high school   \n",
       "575  Kenneth Robertson    male        group A           bachelor's degree   \n",
       "910       Shannon Bale    male        group E          associate's degree   \n",
       "468   Matthew Mcdonald    male        group D           bachelor's degree   \n",
       "963       Emma Fussell  female        group A            some high school   \n",
       "\n",
       "            lunch test preparation course  math score  reading score  \\\n",
       "637      standard               completed        52.0           49.0   \n",
       "575      standard               completed        87.0           84.0   \n",
       "910  free/reduced               completed        77.0           69.0   \n",
       "468  free/reduced               completed        74.0           79.0   \n",
       "963  free/reduced                    none        38.0           43.0   \n",
       "\n",
       "     writing score  \n",
       "637           46.0  \n",
       "575           87.0  \n",
       "910           68.0  \n",
       "468           75.0  \n",
       "963           43.0  "
      ]
     },
     "metadata": {},
     "output_type": "display_data"
    },
    {
     "name": "stdout",
     "output_type": "stream",
     "text": [
      "\n",
      "4.- Descripción numérica del DataFrame:\n"
     ]
    },
    {
     "data": {
      "text/html": [
       "<div>\n",
       "<style scoped>\n",
       "    .dataframe tbody tr th:only-of-type {\n",
       "        vertical-align: middle;\n",
       "    }\n",
       "\n",
       "    .dataframe tbody tr th {\n",
       "        vertical-align: top;\n",
       "    }\n",
       "\n",
       "    .dataframe thead th {\n",
       "        text-align: right;\n",
       "    }\n",
       "</style>\n",
       "<table border=\"1\" class=\"dataframe\">\n",
       "  <thead>\n",
       "    <tr style=\"text-align: right;\">\n",
       "      <th></th>\n",
       "      <th>math score</th>\n",
       "      <th>reading score</th>\n",
       "      <th>writing score</th>\n",
       "    </tr>\n",
       "  </thead>\n",
       "  <tbody>\n",
       "    <tr>\n",
       "      <th>count</th>\n",
       "      <td>875.000000</td>\n",
       "      <td>875.000000</td>\n",
       "      <td>875.000000</td>\n",
       "    </tr>\n",
       "    <tr>\n",
       "      <th>mean</th>\n",
       "      <td>66.225143</td>\n",
       "      <td>69.195429</td>\n",
       "      <td>68.114286</td>\n",
       "    </tr>\n",
       "    <tr>\n",
       "      <th>std</th>\n",
       "      <td>15.076716</td>\n",
       "      <td>14.629270</td>\n",
       "      <td>15.174220</td>\n",
       "    </tr>\n",
       "    <tr>\n",
       "      <th>min</th>\n",
       "      <td>0.000000</td>\n",
       "      <td>17.000000</td>\n",
       "      <td>10.000000</td>\n",
       "    </tr>\n",
       "    <tr>\n",
       "      <th>25%</th>\n",
       "      <td>57.000000</td>\n",
       "      <td>59.000000</td>\n",
       "      <td>57.500000</td>\n",
       "    </tr>\n",
       "    <tr>\n",
       "      <th>50%</th>\n",
       "      <td>66.000000</td>\n",
       "      <td>70.000000</td>\n",
       "      <td>69.000000</td>\n",
       "    </tr>\n",
       "    <tr>\n",
       "      <th>75%</th>\n",
       "      <td>76.500000</td>\n",
       "      <td>79.000000</td>\n",
       "      <td>79.000000</td>\n",
       "    </tr>\n",
       "    <tr>\n",
       "      <th>max</th>\n",
       "      <td>100.000000</td>\n",
       "      <td>100.000000</td>\n",
       "      <td>100.000000</td>\n",
       "    </tr>\n",
       "  </tbody>\n",
       "</table>\n",
       "</div>"
      ],
      "text/plain": [
       "       math score  reading score  writing score\n",
       "count  875.000000     875.000000     875.000000\n",
       "mean    66.225143      69.195429      68.114286\n",
       "std     15.076716      14.629270      15.174220\n",
       "min      0.000000      17.000000      10.000000\n",
       "25%     57.000000      59.000000      57.500000\n",
       "50%     66.000000      70.000000      69.000000\n",
       "75%     76.500000      79.000000      79.000000\n",
       "max    100.000000     100.000000     100.000000"
      ]
     },
     "metadata": {},
     "output_type": "display_data"
    },
    {
     "name": "stdout",
     "output_type": "stream",
     "text": [
      "\n",
      "5.- Cantidad de valores nulos por columna:\n"
     ]
    },
    {
     "data": {
      "text/plain": [
       "names                          0\n",
       "gender                         0\n",
       "race/ethnicity                 0\n",
       "parental level of education    0\n",
       "lunch                          0\n",
       "test preparation course        0\n",
       "math score                     0\n",
       "reading score                  0\n",
       "writing score                  0\n",
       "dtype: int64"
      ]
     },
     "metadata": {},
     "output_type": "display_data"
    },
    {
     "name": "stdout",
     "output_type": "stream",
     "text": [
      "\n",
      "6.- Cantidad de valores únicos por columna:\n"
     ]
    },
    {
     "data": {
      "text/plain": [
       "names                          875\n",
       "gender                           2\n",
       "race/ethnicity                   5\n",
       "parental level of education      6\n",
       "lunch                            2\n",
       "test preparation course          2\n",
       "math score                      79\n",
       "reading score                   72\n",
       "writing score                   77\n",
       "dtype: int64"
      ]
     },
     "metadata": {},
     "output_type": "display_data"
    },
    {
     "name": "stdout",
     "output_type": "stream",
     "text": [
      "\n",
      "7.- Presenta un total de 0 filas con nombres duplicados.\n",
      "\n",
      "8.- Las filas con nombres duplicados son:\n"
     ]
    },
    {
     "data": {
      "text/html": [
       "<div>\n",
       "<style scoped>\n",
       "    .dataframe tbody tr th:only-of-type {\n",
       "        vertical-align: middle;\n",
       "    }\n",
       "\n",
       "    .dataframe tbody tr th {\n",
       "        vertical-align: top;\n",
       "    }\n",
       "\n",
       "    .dataframe thead th {\n",
       "        text-align: right;\n",
       "    }\n",
       "</style>\n",
       "<table border=\"1\" class=\"dataframe\">\n",
       "  <thead>\n",
       "    <tr style=\"text-align: right;\">\n",
       "      <th></th>\n",
       "      <th>names</th>\n",
       "      <th>gender</th>\n",
       "      <th>race/ethnicity</th>\n",
       "      <th>parental level of education</th>\n",
       "      <th>lunch</th>\n",
       "      <th>test preparation course</th>\n",
       "      <th>math score</th>\n",
       "      <th>reading score</th>\n",
       "      <th>writing score</th>\n",
       "    </tr>\n",
       "  </thead>\n",
       "  <tbody>\n",
       "  </tbody>\n",
       "</table>\n",
       "</div>"
      ],
      "text/plain": [
       "Empty DataFrame\n",
       "Columns: [names, gender, race/ethnicity, parental level of education, lunch, test preparation course, math score, reading score, writing score]\n",
       "Index: []"
      ]
     },
     "metadata": {},
     "output_type": "display_data"
    },
    {
     "name": "stdout",
     "output_type": "stream",
     "text": [
      "\n",
      "9.- Boxplot de notas:\n"
     ]
    },
    {
     "data": {
      "image/png": "[encoded data removed]",
      "text/plain": [
       "<Figure size 1080x576 with 1 Axes>"
      ]
     },
     "metadata": {
      "needs_background": "light"
     },
     "output_type": "display_data"
    }
   ],
   "source": [
    "exploratory_data_analysis(df_grades)"
   ]
  },
  {
   "cell_type": "markdown",
   "metadata": {
    "cell_id": "00030-826810d6-9106-4a3f-9272-16f541b88ac0",
    "deepnote_cell_type": "markdown",
    "id": "mPmHNen3jZCX"
   },
   "source": [
    "**Justificación:**"
   ]
  },
  {
   "cell_type": "markdown",
   "metadata": {
    "cell_id": "00031-04187309-a1db-4ad3-a90b-75b312d9b39f",
    "deepnote_cell_type": "markdown",
    "id": "uCK_RZEajZHI"
   },
   "source": [
    "```\n",
    "Luego de volver aplicar la función creada en 1.1 sobre los datos limpios, se puede comprobar que los datos ya no presentan anomalías. Este se ve reflejado en que según lo señalado, no existen datos nulos ni nombres duplicados. Además, según los valores máximos también se tiene que ninguno es superior a 100, lo que también se puede verificar visualmente en la descripción númerica del DataFrame y en el rango de datos que muestra el boxplot de las notas.\n",
    "```"
   ]
  },
  {
   "cell_type": "markdown",
   "metadata": {
    "cell_id": "00032-35743f33-7587-4206-903d-5922c094c121",
    "deepnote_cell_type": "markdown",
    "id": "2tnenh4uOF6k"
   },
   "source": [
    "## 1.3 Trabajando con Datos\n",
    "\n",
    "<p align=\"center\">\n",
    "  <img src=\"https://media3.giphy.com/media/YQitE4YNQNahy/giphy-downsized-large.gif\">\n",
    "</p>"
   ]
  },
  {
   "cell_type": "markdown",
   "metadata": {
    "cell_id": "00033-ae1d6c24-6c73-49d9-961d-4f6a9da3f5a1",
    "deepnote_cell_type": "markdown",
    "id": "Qecw0sKor_Au"
   },
   "source": [
    "### 1.3.1 Transformación de notas a \"Nota Chilena\" [0.5 Puntos]"
   ]
  },
  {
   "cell_type": "markdown",
   "metadata": {
    "cell_id": "00034-0c2d3679-984b-4d24-8ab0-fc8de61bb42e",
    "deepnote_cell_type": "markdown",
    "id": "BfmD-9yi4PnX"
   },
   "source": [
    "En una de las reuniones con Don Caguayo este les comenta su intención de pasar todas sus notas a la \"Escala Chilena\". Para esto les facilita la siguiente ecuación:\n",
    "\n",
    "$$Nota \\, Chilena= \\% \\, de \\, logro*0.06 + 1$$\n",
    "\n",
    "Utilizando la ecuación entregada, cree una función que le permita pasar a la escala Chilena las notas que se escapan del rango [1,7] y entregue las notas redondeadas al segundo decimal.\n",
    "\n",
    "**To-Do**\n",
    "\n",
    "- [X] Tranforme los valores a la escala chilena."
   ]
  },
  {
   "cell_type": "markdown",
   "metadata": {
    "cell_id": "00035-7dd5d2b3-12e5-4cb8-a9ab-e3f0e4870b94",
    "deepnote_cell_type": "markdown",
    "tags": []
   },
   "source": [
    "**Respuesta:**"
   ]
  },
  {
   "cell_type": "code",
   "execution_count": 186,
   "metadata": {
    "cell_id": "00036-4f869d3b-f09e-4986-8f77-604d440d0b99",
    "deepnote_cell_type": "code",
    "deepnote_to_be_reexecuted": false,
    "executionInfo": {
     "elapsed": 669,
     "status": "ok",
     "timestamp": 1619205969195,
     "user": {
      "displayName": "IGNACIO ALEJANDRO MEZA",
      "photoUrl": "",
      "userId": "17011121633069169364"
     },
     "user_tz": 240
    },
    "execution_millis": 1,
    "execution_start": 1632493424541,
    "id": "GQ0gDEvd3T1m",
    "source_hash": "e84f9f19"
   },
   "outputs": [],
   "source": [
    "def nota_chilena(dataframe_in, columna):\n",
    "  dataframe_in.loc[:, columna] = dataframe_in.loc[:, columna].apply(lambda x: round(x*0.06+1,2))\n",
    "  return dataframe_in"
   ]
  },
  {
   "cell_type": "code",
   "execution_count": 187,
   "metadata": {},
   "outputs": [
    {
     "name": "stderr",
     "output_type": "stream",
     "text": [
      "/tmp/ipykernel_7635/3195444609.py:2: SettingWithCopyWarning: \n",
      "A value is trying to be set on a copy of a slice from a DataFrame.\n",
      "Try using .loc[row_indexer,col_indexer] = value instead\n",
      "\n",
      "See the caveats in the documentation: https://pandas.pydata.org/pandas-docs/stable/user_guide/indexing.html#returning-a-view-versus-a-copy\n",
      "  dataframe_in.loc[:, columna] = dataframe_in.loc[:, columna].apply(lambda x: round(x*0.06+1,2))\n"
     ]
    },
    {
     "data": {
      "text/html": [
       "<div>\n",
       "<style scoped>\n",
       "    .dataframe tbody tr th:only-of-type {\n",
       "        vertical-align: middle;\n",
       "    }\n",
       "\n",
       "    .dataframe tbody tr th {\n",
       "        vertical-align: top;\n",
       "    }\n",
       "\n",
       "    .dataframe thead th {\n",
       "        text-align: right;\n",
       "    }\n",
       "</style>\n",
       "<table border=\"1\" class=\"dataframe\">\n",
       "  <thead>\n",
       "    <tr style=\"text-align: right;\">\n",
       "      <th></th>\n",
       "      <th>math score</th>\n",
       "      <th>reading score</th>\n",
       "      <th>writing score</th>\n",
       "    </tr>\n",
       "  </thead>\n",
       "  <tbody>\n",
       "    <tr>\n",
       "      <th>count</th>\n",
       "      <td>875.000000</td>\n",
       "      <td>875.000000</td>\n",
       "      <td>875.000000</td>\n",
       "    </tr>\n",
       "    <tr>\n",
       "      <th>mean</th>\n",
       "      <td>4.973509</td>\n",
       "      <td>5.151726</td>\n",
       "      <td>5.086857</td>\n",
       "    </tr>\n",
       "    <tr>\n",
       "      <th>std</th>\n",
       "      <td>0.904603</td>\n",
       "      <td>0.877756</td>\n",
       "      <td>0.910453</td>\n",
       "    </tr>\n",
       "    <tr>\n",
       "      <th>min</th>\n",
       "      <td>1.000000</td>\n",
       "      <td>2.020000</td>\n",
       "      <td>1.600000</td>\n",
       "    </tr>\n",
       "    <tr>\n",
       "      <th>25%</th>\n",
       "      <td>4.420000</td>\n",
       "      <td>4.540000</td>\n",
       "      <td>4.450000</td>\n",
       "    </tr>\n",
       "    <tr>\n",
       "      <th>50%</th>\n",
       "      <td>4.960000</td>\n",
       "      <td>5.200000</td>\n",
       "      <td>5.140000</td>\n",
       "    </tr>\n",
       "    <tr>\n",
       "      <th>75%</th>\n",
       "      <td>5.590000</td>\n",
       "      <td>5.740000</td>\n",
       "      <td>5.740000</td>\n",
       "    </tr>\n",
       "    <tr>\n",
       "      <th>max</th>\n",
       "      <td>7.000000</td>\n",
       "      <td>7.000000</td>\n",
       "      <td>7.000000</td>\n",
       "    </tr>\n",
       "  </tbody>\n",
       "</table>\n",
       "</div>"
      ],
      "text/plain": [
       "       math score  reading score  writing score\n",
       "count  875.000000     875.000000     875.000000\n",
       "mean     4.973509       5.151726       5.086857\n",
       "std      0.904603       0.877756       0.910453\n",
       "min      1.000000       2.020000       1.600000\n",
       "25%      4.420000       4.540000       4.450000\n",
       "50%      4.960000       5.200000       5.140000\n",
       "75%      5.590000       5.740000       5.740000\n",
       "max      7.000000       7.000000       7.000000"
      ]
     },
     "execution_count": 187,
     "metadata": {},
     "output_type": "execute_result"
    }
   ],
   "source": [
    "df_grades = nota_chilena(df_grades, ['math score', 'reading score', 'writing score'])\n",
    "df_grades.describe()"
   ]
  },
  {
   "cell_type": "markdown",
   "metadata": {
    "cell_id": "00038-3045a9c7-3dc1-4909-a993-3346ce27103d",
    "deepnote_cell_type": "markdown",
    "id": "QGe-Hb2UTAE1"
   },
   "source": [
    "### 1.3.2 Obtención de promedio de alumnos [0.5]"
   ]
  },
  {
   "cell_type": "markdown",
   "metadata": {
    "cell_id": "00039-5e16ce47-71fb-4750-9d81-c7bdb854141d",
    "deepnote_cell_type": "markdown",
    "id": "AEkWI5K-OZgt"
   },
   "source": [
    "Con todas las notas adjuntadas, la prestigiosa Universidad De la Cachaña necesita obtener el promedio general de cada uno de los alumnos. Para esto se le solicita que calcule el promedio con cada una de las asignaturas y el promedio se anexe como una nueva columna al final del DataFrame original. Cabe señalar que las notas deben ser redondeadas al segundo decimal.\n",
    "\n",
    "**To-Do:**\n",
    "- [ ] Crear función que nos permite obtener el promedio de cada uno de los alumnos y anexar esta información en el DataFrame original.\n"
   ]
  },
  {
   "cell_type": "markdown",
   "metadata": {
    "cell_id": "00040-ed949f3e-dd9b-44a7-aa8c-b75d7651546d",
    "deepnote_cell_type": "markdown",
    "tags": []
   },
   "source": [
    "**Respuesta:**"
   ]
  },
  {
   "cell_type": "code",
   "execution_count": null,
   "metadata": {
    "cell_id": "00041-71c0f72b-1361-4b83-a3d2-cd5a916f0bb0",
    "deepnote_cell_type": "code",
    "deepnote_to_be_reexecuted": false,
    "executionInfo": {
     "elapsed": 644,
     "status": "ok",
     "timestamp": 1619205973016,
     "user": {
      "displayName": "IGNACIO ALEJANDRO MEZA",
      "photoUrl": "",
      "userId": "17011121633069169364"
     },
     "user_tz": 240
    },
    "execution_millis": 0,
    "execution_start": 1632493424597,
    "id": "b6CTPp5TAMhE",
    "source_hash": "810948b"
   },
   "outputs": [],
   "source": [
    "def alumnos_promedio(dataframe_in):\n",
    "  pass"
   ]
  },
  {
   "cell_type": "markdown",
   "metadata": {
    "cell_id": "00042-507bb30d-9670-4be3-9854-1617ba8f2095",
    "deepnote_cell_type": "markdown",
    "id": "hrakfq02Si8z"
   },
   "source": [
    "**Respuesta Esperada:**"
   ]
  },
  {
   "cell_type": "code",
   "execution_count": null,
   "metadata": {
    "cell_id": "00043-e16930f7-fe82-453a-8e9a-7421732ac929",
    "colab": {
     "base_uri": "https://localhost:8080/",
     "height": 204
    },
    "deepnote_cell_type": "code",
    "deepnote_to_be_reexecuted": false,
    "executionInfo": {
     "elapsed": 783,
     "status": "ok",
     "timestamp": 1619205975187,
     "user": {
      "displayName": "IGNACIO ALEJANDRO MEZA",
      "photoUrl": "",
      "userId": "17011121633069169364"
     },
     "user_tz": 240
    },
    "execution_millis": 43,
    "execution_start": 1632493424603,
    "id": "g9Fiwt8USiac",
    "outputId": "1e4da1d8-62d8-41b1-923d-68bfd65bed38",
    "source_hash": "55e53e3b"
   },
   "outputs": [
    {
     "data": {
      "application/vnd.deepnote.dataframe.v2+json": {
       "column_count": 10,
       "columns": [
        {
         "dtype": "object",
         "name": "names",
         "stats": {
          "categories": [
           {
            "count": 1,
            "name": "Rita Courtney"
           },
           {
            "count": 1,
            "name": "Charles Linstrom"
           },
           {
            "count": 3,
            "name": "3 others"
           }
          ],
          "nan_count": 0,
          "unique_count": 5
         }
        },
        {
         "dtype": "object",
         "name": "gender",
         "stats": {
          "categories": [
           {
            "count": 4,
            "name": "male"
           },
           {
            "count": 1,
            "name": "female"
           }
          ],
          "nan_count": 0,
          "unique_count": 2
         }
        },
        {
         "dtype": "object",
         "name": "race/ethnicity",
         "stats": {
          "categories": [
           {
            "count": 2,
            "name": "group B"
           },
           {
            "count": 1,
            "name": "group A"
           },
           {
            "count": 2,
            "name": "2 others"
           }
          ],
          "nan_count": 0,
          "unique_count": 4
         }
        },
        {
         "dtype": "object",
         "name": "parental level of education",
         "stats": {
          "categories": [
           {
            "count": 4,
            "name": "some high school"
           },
           {
            "count": 1,
            "name": "bachelor's degree"
           }
          ],
          "nan_count": 0,
          "unique_count": 2
         }
        },
        {
         "dtype": "object",
         "name": "lunch",
         "stats": {
          "categories": [
           {
            "count": 5,
            "name": "standard"
           }
          ],
          "nan_count": 0,
          "unique_count": 1
         }
        },
        {
         "dtype": "object",
         "name": "test preparation course",
         "stats": {
          "categories": [
           {
            "count": 3,
            "name": "completed"
           },
           {
            "count": 2,
            "name": "none"
           }
          ],
          "nan_count": 0,
          "unique_count": 2
         }
        },
        {
         "dtype": "float64",
         "name": "math score",
         "stats": {
          "histogram": [
           {
            "bin_end": 3.5620000000000003,
            "bin_start": 3.22,
            "count": 1
           },
           {
            "bin_end": 3.904,
            "bin_start": 3.5620000000000003,
            "count": 0
           },
           {
            "bin_end": 4.246,
            "bin_start": 3.904,
            "count": 0
           },
           {
            "bin_end": 4.588,
            "bin_start": 4.246,
            "count": 0
           },
           {
            "bin_end": 4.93,
            "bin_start": 4.588,
            "count": 0
           },
           {
            "bin_end": 5.272,
            "bin_start": 4.93,
            "count": 0
           },
           {
            "bin_end": 5.614,
            "bin_start": 5.272,
            "count": 1
           },
           {
            "bin_end": 5.9559999999999995,
            "bin_start": 5.614,
            "count": 2
           },
           {
            "bin_end": 6.298,
            "bin_start": 5.9559999999999995,
            "count": 0
           },
           {
            "bin_end": 6.64,
            "bin_start": 6.298,
            "count": 1
           }
          ],
          "max": "6.64",
          "min": "3.22",
          "nan_count": 0,
          "unique_count": 5
         }
        },
        {
         "dtype": "float64",
         "name": "reading score",
         "stats": {
          "histogram": [
           {
            "bin_end": 4,
            "bin_start": 3.76,
            "count": 1
           },
           {
            "bin_end": 4.24,
            "bin_start": 4,
            "count": 0
           },
           {
            "bin_end": 4.48,
            "bin_start": 4.24,
            "count": 0
           },
           {
            "bin_end": 4.72,
            "bin_start": 4.48,
            "count": 0
           },
           {
            "bin_end": 4.96,
            "bin_start": 4.72,
            "count": 0
           },
           {
            "bin_end": 5.2,
            "bin_start": 4.96,
            "count": 1
           },
           {
            "bin_end": 5.44,
            "bin_start": 5.2,
            "count": 0
           },
           {
            "bin_end": 5.68,
            "bin_start": 5.44,
            "count": 1
           },
           {
            "bin_end": 5.92,
            "bin_start": 5.68,
            "count": 1
           },
           {
            "bin_end": 6.16,
            "bin_start": 5.92,
            "count": 1
           }
          ],
          "max": "6.16",
          "min": "3.76",
          "nan_count": 0,
          "unique_count": 5
         }
        },
        {
         "dtype": "float64",
         "name": "writing score",
         "stats": {
          "histogram": [
           {
            "bin_end": 4.006,
            "bin_start": 3.76,
            "count": 1
           },
           {
            "bin_end": 4.252,
            "bin_start": 4.006,
            "count": 0
           },
           {
            "bin_end": 4.497999999999999,
            "bin_start": 4.252,
            "count": 0
           },
           {
            "bin_end": 4.744,
            "bin_start": 4.497999999999999,
            "count": 0
           },
           {
            "bin_end": 4.99,
            "bin_start": 4.744,
            "count": 1
           },
           {
            "bin_end": 5.236,
            "bin_start": 4.99,
            "count": 0
           },
           {
            "bin_end": 5.481999999999999,
            "bin_start": 5.236,
            "count": 0
           },
           {
            "bin_end": 5.728,
            "bin_start": 5.481999999999999,
            "count": 1
           },
           {
            "bin_end": 5.974,
            "bin_start": 5.728,
            "count": 1
           },
           {
            "bin_end": 6.22,
            "bin_start": 5.974,
            "count": 1
           }
          ],
          "max": "6.22",
          "min": "3.76",
          "nan_count": 0,
          "unique_count": 5
         }
        },
        {
         "dtype": "float64",
         "name": "GPA",
         "stats": {
          "histogram": [
           {
            "bin_end": 3.856,
            "bin_start": 3.58,
            "count": 1
           },
           {
            "bin_end": 4.132,
            "bin_start": 3.856,
            "count": 0
           },
           {
            "bin_end": 4.4079999999999995,
            "bin_start": 4.132,
            "count": 0
           },
           {
            "bin_end": 4.684,
            "bin_start": 4.4079999999999995,
            "count": 0
           },
           {
            "bin_end": 4.96,
            "bin_start": 4.684,
            "count": 0
           },
           {
            "bin_end": 5.236,
            "bin_start": 4.96,
            "count": 1
           },
           {
            "bin_end": 5.512,
            "bin_start": 5.236,
            "count": 0
           },
           {
            "bin_end": 5.788,
            "bin_start": 5.512,
            "count": 2
           },
           {
            "bin_end": 6.064,
            "bin_start": 5.788,
            "count": 0
           },
           {
            "bin_end": 6.34,
            "bin_start": 6.064,
            "count": 1
           }
          ],
          "max": "6.34",
          "min": "3.58",
          "nan_count": 0,
          "unique_count": 5
         }
        },
        {
         "dtype": "int64",
         "name": "_deepnote_index_column"
        }
       ],
       "row_count": 5,
       "rows_bottom": null,
       "rows_top": [
        {
         "GPA": 3.58,
         "_deepnote_index_column": 0,
         "gender": "female",
         "lunch": "standard",
         "math score": 3.22,
         "names": "Rita Courtney",
         "parental level of education": "some high school",
         "race/ethnicity": "group B",
         "reading score": 3.76,
         "test preparation course": "none",
         "writing score": 3.76
        },
        {
         "GPA": 5.78,
         "_deepnote_index_column": 1,
         "gender": "male",
         "lunch": "standard",
         "math score": 5.8,
         "names": "Charles Linstrom",
         "parental level of education": "bachelor's degree",
         "race/ethnicity": "group A",
         "reading score": 5.68,
         "test preparation course": "completed",
         "writing score": 5.86
        },
        {
         "GPA": 5.04,
         "_deepnote_index_column": 2,
         "gender": "male",
         "lunch": "standard",
         "math score": 5.38,
         "names": "Brian Young",
         "parental level of education": "some high school",
         "race/ethnicity": "group C",
         "reading score": 4.96,
         "test preparation course": "none",
         "writing score": 4.78
        },
        {
         "GPA": 5.64,
         "_deepnote_index_column": 3,
         "gender": "male",
         "lunch": "standard",
         "math score": 5.86,
         "names": "Howard Jimenez",
         "parental level of education": "some high school",
         "race/ethnicity": "group E",
         "reading score": 5.5,
         "test preparation course": "completed",
         "writing score": 5.56
        },
        {
         "GPA": 6.34,
         "_deepnote_index_column": 4,
         "gender": "male",
         "lunch": "standard",
         "math score": 6.64,
         "names": "Wayne Wilson",
         "parental level of education": "some high school",
         "race/ethnicity": "group B",
         "reading score": 6.16,
         "test preparation course": "completed",
         "writing score": 6.22
        }
       ]
      },
      "text/html": [
       "<div>\n",
       "<style scoped>\n",
       "    .dataframe tbody tr th:only-of-type {\n",
       "        vertical-align: middle;\n",
       "    }\n",
       "\n",
       "    .dataframe tbody tr th {\n",
       "        vertical-align: top;\n",
       "    }\n",
       "\n",
       "    .dataframe thead th {\n",
       "        text-align: right;\n",
       "    }\n",
       "</style>\n",
       "<table border=\"1\" class=\"dataframe\">\n",
       "  <thead>\n",
       "    <tr style=\"text-align: right;\">\n",
       "      <th></th>\n",
       "      <th>names</th>\n",
       "      <th>gender</th>\n",
       "      <th>race/ethnicity</th>\n",
       "      <th>parental level of education</th>\n",
       "      <th>lunch</th>\n",
       "      <th>test preparation course</th>\n",
       "      <th>math score</th>\n",
       "      <th>reading score</th>\n",
       "      <th>writing score</th>\n",
       "      <th>GPA</th>\n",
       "    </tr>\n",
       "  </thead>\n",
       "  <tbody>\n",
       "    <tr>\n",
       "      <th>0</th>\n",
       "      <td>Rita Courtney</td>\n",
       "      <td>female</td>\n",
       "      <td>group B</td>\n",
       "      <td>some high school</td>\n",
       "      <td>standard</td>\n",
       "      <td>none</td>\n",
       "      <td>3.22</td>\n",
       "      <td>3.76</td>\n",
       "      <td>3.76</td>\n",
       "      <td>3.58</td>\n",
       "    </tr>\n",
       "    <tr>\n",
       "      <th>1</th>\n",
       "      <td>Charles Linstrom</td>\n",
       "      <td>male</td>\n",
       "      <td>group A</td>\n",
       "      <td>bachelor's degree</td>\n",
       "      <td>standard</td>\n",
       "      <td>completed</td>\n",
       "      <td>5.80</td>\n",
       "      <td>5.68</td>\n",
       "      <td>5.86</td>\n",
       "      <td>5.78</td>\n",
       "    </tr>\n",
       "    <tr>\n",
       "      <th>2</th>\n",
       "      <td>Brian Young</td>\n",
       "      <td>male</td>\n",
       "      <td>group C</td>\n",
       "      <td>some high school</td>\n",
       "      <td>standard</td>\n",
       "      <td>none</td>\n",
       "      <td>5.38</td>\n",
       "      <td>4.96</td>\n",
       "      <td>4.78</td>\n",
       "      <td>5.04</td>\n",
       "    </tr>\n",
       "    <tr>\n",
       "      <th>3</th>\n",
       "      <td>Howard Jimenez</td>\n",
       "      <td>male</td>\n",
       "      <td>group E</td>\n",
       "      <td>some high school</td>\n",
       "      <td>standard</td>\n",
       "      <td>completed</td>\n",
       "      <td>5.86</td>\n",
       "      <td>5.50</td>\n",
       "      <td>5.56</td>\n",
       "      <td>5.64</td>\n",
       "    </tr>\n",
       "    <tr>\n",
       "      <th>4</th>\n",
       "      <td>Wayne Wilson</td>\n",
       "      <td>male</td>\n",
       "      <td>group B</td>\n",
       "      <td>some high school</td>\n",
       "      <td>standard</td>\n",
       "      <td>completed</td>\n",
       "      <td>6.64</td>\n",
       "      <td>6.16</td>\n",
       "      <td>6.22</td>\n",
       "      <td>6.34</td>\n",
       "    </tr>\n",
       "  </tbody>\n",
       "</table>\n",
       "</div>"
      ],
      "text/plain": [
       "              names  gender race/ethnicity parental level of education  \\\n",
       "0     Rita Courtney  female        group B            some high school   \n",
       "1  Charles Linstrom    male        group A           bachelor's degree   \n",
       "2       Brian Young    male        group C            some high school   \n",
       "3    Howard Jimenez    male        group E            some high school   \n",
       "4      Wayne Wilson    male        group B            some high school   \n",
       "\n",
       "      lunch test preparation course  math score  reading score  writing score  \\\n",
       "0  standard                    none        3.22           3.76           3.76   \n",
       "1  standard               completed        5.80           5.68           5.86   \n",
       "2  standard                    none        5.38           4.96           4.78   \n",
       "3  standard               completed        5.86           5.50           5.56   \n",
       "4  standard               completed        6.64           6.16           6.22   \n",
       "\n",
       "    GPA  \n",
       "0  3.58  \n",
       "1  5.78  \n",
       "2  5.04  \n",
       "3  5.64  \n",
       "4  6.34  "
      ]
     },
     "execution_count": 12,
     "metadata": {},
     "output_type": "execute_result"
    }
   ],
   "source": [
    "df_grades = alumnos_promedio(df_grades)\n",
    "df_grades.head()"
   ]
  },
  {
   "cell_type": "markdown",
   "metadata": {
    "cell_id": "00044-362969a2-b0d5-4d45-a6f1-0293e36c0417",
    "deepnote_cell_type": "markdown",
    "id": "uA0ZXAWyBoLX"
   },
   "source": [
    "### 1.3.3 Reprobados y Destacados [1.5 Punto, 0.5 Cada DataFrame]"
   ]
  },
  {
   "cell_type": "markdown",
   "metadata": {
    "cell_id": "00045-7514bdf0-01ec-4c0a-83d1-12a2a8c8d3c3",
    "deepnote_cell_type": "markdown",
    "id": "k1FKahC3_g5_"
   },
   "source": [
    "Contentos con su desempeño, la Universidad les solicita que obtengan los alumnos quienes han reprobado el año y los que han tenido desempeño de destacado. Para esto se considerará que un alumno ha reprobado el año cuando el promedio de notas es inferior a 4.0 en la Escala Chilena, y se considerará destacado si posee notas superiores a 5.8 en todas las asignaturas (o sea notas superiores a 5.8 en `math score`, `reading score` y `writing score`).\n",
    "\n",
    "Cree una función que permita obtener tres Dataframes: \n",
    "- El primero deberá poseer solamente los alumnos que han reprobado en la prestigiosa universidad.\n",
    "- El segundo debe entregar un DataFrame similar al original, pero marcado con una \"R\" el promedio de notas de los alumnos reprobados.\n",
    "- El tercero será un Data Frame con los alumnos destacados ordenados de mayor a menor.\n",
    "\n",
    "**To-Do:**\n",
    "\n",
    "- [ ] Obtener DataFrame con los alumnos que reprobaron el año.\n",
    "- [ ] Obtener DataFrame similar al original, pero marcados con una \"R\" el atributo GPA de los alumnos reprobados.\n",
    "- [ ] Obtener DataFrame con los alumnos destacados ordenados de mayor a menor."
   ]
  },
  {
   "cell_type": "markdown",
   "metadata": {
    "cell_id": "00046-8337183c-cd19-4dc0-b936-9dadeda8418e",
    "deepnote_cell_type": "markdown",
    "tags": []
   },
   "source": [
    "**Respuesta:**"
   ]
  },
  {
   "cell_type": "code",
   "execution_count": null,
   "metadata": {
    "cell_id": "00047-d6f8abcb-8fba-4e2a-9dde-de6844e4868b",
    "deepnote_cell_type": "code",
    "deepnote_to_be_reexecuted": false,
    "executionInfo": {
     "elapsed": 641,
     "status": "ok",
     "timestamp": 1619205977306,
     "user": {
      "displayName": "IGNACIO ALEJANDRO MEZA",
      "photoUrl": "",
      "userId": "17011121633069169364"
     },
     "user_tz": 240
    },
    "execution_millis": 2,
    "execution_start": 1632493424637,
    "id": "Yw52wzwMAXHW",
    "source_hash": "e3c68478"
   },
   "outputs": [],
   "source": [
    "def reprobados_destacados(dataframe_in):\n",
    "    pass\n"
   ]
  },
  {
   "cell_type": "code",
   "execution_count": null,
   "metadata": {
    "cell_id": "00048-58c77591-f1eb-4497-af40-252bcc9ed099",
    "colab": {
     "base_uri": "https://localhost:8080/",
     "height": 419
    },
    "deepnote_cell_type": "code",
    "deepnote_to_be_reexecuted": false,
    "executionInfo": {
     "elapsed": 611,
     "status": "ok",
     "timestamp": 1619205978676,
     "user": {
      "displayName": "IGNACIO ALEJANDRO MEZA",
      "photoUrl": "",
      "userId": "17011121633069169364"
     },
     "user_tz": 240
    },
    "execution_millis": 69,
    "execution_start": 1632493424642,
    "id": "LlxNXK11XBGn",
    "outputId": "a4572fe2-0758-4c0c-c9f3-cb444233134f",
    "source_hash": "73b6de2"
   },
   "outputs": [
    {
     "data": {
      "application/vnd.deepnote.dataframe.v2+json": {
       "column_count": 10,
       "columns": [
        {
         "dtype": "object",
         "name": "names",
         "stats": {
          "categories": [
           {
            "count": 1,
            "name": "Rita Courtney"
           },
           {
            "count": 1,
            "name": "Mikki Amaya"
           },
           {
            "count": 84,
            "name": "84 others"
           }
          ],
          "nan_count": 0,
          "unique_count": 86
         }
        },
        {
         "dtype": "object",
         "name": "gender",
         "stats": {
          "categories": [
           {
            "count": 55,
            "name": "male"
           },
           {
            "count": 31,
            "name": "female"
           }
          ],
          "nan_count": 0,
          "unique_count": 2
         }
        },
        {
         "dtype": "object",
         "name": "race/ethnicity",
         "stats": {
          "categories": [
           {
            "count": 24,
            "name": "group C"
           },
           {
            "count": 23,
            "name": "group B"
           },
           {
            "count": 39,
            "name": "3 others"
           }
          ],
          "nan_count": 0,
          "unique_count": 5
         }
        },
        {
         "dtype": "object",
         "name": "parental level of education",
         "stats": {
          "categories": [
           {
            "count": 27,
            "name": "high school"
           },
           {
            "count": 26,
            "name": "some high school"
           },
           {
            "count": 33,
            "name": "4 others"
           }
          ],
          "nan_count": 0,
          "unique_count": 6
         }
        },
        {
         "dtype": "object",
         "name": "lunch",
         "stats": {
          "categories": [
           {
            "count": 53,
            "name": "free/reduced"
           },
           {
            "count": 33,
            "name": "standard"
           }
          ],
          "nan_count": 0,
          "unique_count": 2
         }
        },
        {
         "dtype": "object",
         "name": "test preparation course",
         "stats": {
          "categories": [
           {
            "count": 70,
            "name": "none"
           },
           {
            "count": 16,
            "name": "completed"
           }
          ],
          "nan_count": 0,
          "unique_count": 2
         }
        },
        {
         "dtype": "float64",
         "name": "math score",
         "stats": {
          "histogram": [
           {
            "bin_end": 1.366,
            "bin_start": 1,
            "count": 1
           },
           {
            "bin_end": 1.732,
            "bin_start": 1.366,
            "count": 1
           },
           {
            "bin_end": 2.098,
            "bin_start": 1.732,
            "count": 1
           },
           {
            "bin_end": 2.464,
            "bin_start": 2.098,
            "count": 4
           },
           {
            "bin_end": 2.83,
            "bin_start": 2.464,
            "count": 9
           },
           {
            "bin_end": 3.1959999999999997,
            "bin_start": 2.83,
            "count": 8
           },
           {
            "bin_end": 3.562,
            "bin_start": 3.1959999999999997,
            "count": 19
           },
           {
            "bin_end": 3.928,
            "bin_start": 3.562,
            "count": 21
           },
           {
            "bin_end": 4.2940000000000005,
            "bin_start": 3.928,
            "count": 14
           },
           {
            "bin_end": 4.66,
            "bin_start": 4.2940000000000005,
            "count": 8
           }
          ],
          "max": "4.66",
          "min": "1.0",
          "nan_count": 0,
          "unique_count": 37
         }
        },
        {
         "dtype": "float64",
         "name": "reading score",
         "stats": {
          "histogram": [
           {
            "bin_end": 2.26,
            "bin_start": 2.02,
            "count": 1
           },
           {
            "bin_end": 2.5,
            "bin_start": 2.26,
            "count": 3
           },
           {
            "bin_end": 2.74,
            "bin_start": 2.5,
            "count": 2
           },
           {
            "bin_end": 2.98,
            "bin_start": 2.74,
            "count": 5
           },
           {
            "bin_end": 3.2199999999999998,
            "bin_start": 2.98,
            "count": 4
           },
           {
            "bin_end": 3.46,
            "bin_start": 3.2199999999999998,
            "count": 10
           },
           {
            "bin_end": 3.7,
            "bin_start": 3.46,
            "count": 20
           },
           {
            "bin_end": 3.94,
            "bin_start": 3.7,
            "count": 17
           },
           {
            "bin_end": 4.18,
            "bin_start": 3.94,
            "count": 17
           },
           {
            "bin_end": 4.42,
            "bin_start": 4.18,
            "count": 7
           }
          ],
          "max": "4.42",
          "min": "2.02",
          "nan_count": 0,
          "unique_count": 30
         }
        },
        {
         "dtype": "float64",
         "name": "writing score",
         "stats": {
          "histogram": [
           {
            "bin_end": 1.864,
            "bin_start": 1.6,
            "count": 1
           },
           {
            "bin_end": 2.128,
            "bin_start": 1.864,
            "count": 1
           },
           {
            "bin_end": 2.3920000000000003,
            "bin_start": 2.128,
            "count": 3
           },
           {
            "bin_end": 2.656,
            "bin_start": 2.3920000000000003,
            "count": 3
           },
           {
            "bin_end": 2.92,
            "bin_start": 2.656,
            "count": 2
           },
           {
            "bin_end": 3.184,
            "bin_start": 2.92,
            "count": 11
           },
           {
            "bin_end": 3.4480000000000004,
            "bin_start": 3.184,
            "count": 8
           },
           {
            "bin_end": 3.712,
            "bin_start": 3.4480000000000004,
            "count": 31
           },
           {
            "bin_end": 3.9760000000000004,
            "bin_start": 3.712,
            "count": 16
           },
           {
            "bin_end": 4.24,
            "bin_start": 3.9760000000000004,
            "count": 10
           }
          ],
          "max": "4.24",
          "min": "1.6",
          "nan_count": 0,
          "unique_count": 30
         }
        },
        {
         "dtype": "float64",
         "name": "GPA",
         "stats": {
          "histogram": [
           {
            "bin_end": 1.784,
            "bin_start": 1.54,
            "count": 1
           },
           {
            "bin_end": 2.028,
            "bin_start": 1.784,
            "count": 0
           },
           {
            "bin_end": 2.2720000000000002,
            "bin_start": 2.028,
            "count": 1
           },
           {
            "bin_end": 2.516,
            "bin_start": 2.2720000000000002,
            "count": 2
           },
           {
            "bin_end": 2.76,
            "bin_start": 2.516,
            "count": 2
           },
           {
            "bin_end": 3.004,
            "bin_start": 2.76,
            "count": 9
           },
           {
            "bin_end": 3.248,
            "bin_start": 3.004,
            "count": 3
           },
           {
            "bin_end": 3.492,
            "bin_start": 3.248,
            "count": 14
           },
           {
            "bin_end": 3.7359999999999998,
            "bin_start": 3.492,
            "count": 16
           },
           {
            "bin_end": 3.98,
            "bin_start": 3.7359999999999998,
            "count": 38
           }
          ],
          "max": "3.98",
          "min": "1.54",
          "nan_count": 0,
          "unique_count": 48
         }
        },
        {
         "dtype": "int64",
         "name": "_deepnote_index_column"
        }
       ],
       "row_count": 86,
       "rows_bottom": null,
       "rows_top": [
        {
         "GPA": 3.58,
         "_deepnote_index_column": 0,
         "gender": "female",
         "lunch": "standard",
         "math score": 3.22,
         "names": "Rita Courtney",
         "parental level of education": "some high school",
         "race/ethnicity": "group B",
         "reading score": 3.76,
         "test preparation course": "none",
         "writing score": 3.76
        },
        {
         "GPA": 3.46,
         "_deepnote_index_column": 1,
         "gender": "female",
         "lunch": "free/reduced",
         "math score": 3.04,
         "names": "Mikki Amaya",
         "parental level of education": "high school",
         "race/ethnicity": "group A",
         "reading score": 3.88,
         "test preparation course": "completed",
         "writing score": 3.46
        },
        {
         "GPA": 3.68,
         "_deepnote_index_column": 2,
         "gender": "male",
         "lunch": "free/reduced",
         "math score": 3.76,
         "names": "Samuel Dougal",
         "parental level of education": "master's degree",
         "race/ethnicity": "group C",
         "reading score": 3.52,
         "test preparation course": "completed",
         "writing score": 3.76
        },
        {
         "GPA": 2.84,
         "_deepnote_index_column": 3,
         "gender": "male",
         "lunch": "free/reduced",
         "math score": 3.16,
         "names": "Rodger Talavera",
         "parental level of education": "high school",
         "race/ethnicity": "group B",
         "reading score": 2.74,
         "test preparation course": "none",
         "writing score": 2.62
        },
        {
         "GPA": 3.96,
         "_deepnote_index_column": 4,
         "gender": "male",
         "lunch": "free/reduced",
         "math score": 3.4,
         "names": "Morris Johnson",
         "parental level of education": "associate's degree",
         "race/ethnicity": "group A",
         "reading score": 4.3,
         "test preparation course": "completed",
         "writing score": 4.18
        },
        {
         "GPA": 2.8,
         "_deepnote_index_column": 5,
         "gender": "male",
         "lunch": "free/reduced",
         "math score": 3.1,
         "names": "Anthony Malcomb",
         "parental level of education": "some college",
         "race/ethnicity": "group C",
         "reading score": 2.68,
         "test preparation course": "none",
         "writing score": 2.62
        },
        {
         "GPA": 3.76,
         "_deepnote_index_column": 6,
         "gender": "female",
         "lunch": "standard",
         "math score": 3.4,
         "names": "Ann Pence",
         "parental level of education": "associate's degree",
         "race/ethnicity": "group B",
         "reading score": 3.88,
         "test preparation course": "none",
         "writing score": 4
        },
        {
         "GPA": 3.84,
         "_deepnote_index_column": 7,
         "gender": "male",
         "lunch": "standard",
         "math score": 4.54,
         "names": "Brian Green",
         "parental level of education": "some college",
         "race/ethnicity": "group C",
         "reading score": 3.46,
         "test preparation course": "none",
         "writing score": 3.52
        },
        {
         "GPA": 3.78,
         "_deepnote_index_column": 8,
         "gender": "male",
         "lunch": "standard",
         "math score": 4.18,
         "names": "Carl Caruthers",
         "parental level of education": "some college",
         "race/ethnicity": "group A",
         "reading score": 3.58,
         "test preparation course": "none",
         "writing score": 3.58
        },
        {
         "GPA": 3.78,
         "_deepnote_index_column": 9,
         "gender": "male",
         "lunch": "free/reduced",
         "math score": 3.94,
         "names": "Paul Sherrill",
         "parental level of education": "high school",
         "race/ethnicity": "group B",
         "reading score": 3.7,
         "test preparation course": "none",
         "writing score": 3.7
        },
        {
         "GPA": 3.54,
         "_deepnote_index_column": 10,
         "gender": "female",
         "lunch": "standard",
         "math score": 2.92,
         "names": "Alicia Ratliff",
         "parental level of education": "some high school",
         "race/ethnicity": "group B",
         "reading score": 4.06,
         "test preparation course": "completed",
         "writing score": 3.64
        },
        {
         "GPA": 2.78,
         "_deepnote_index_column": 11,
         "gender": "female",
         "lunch": "standard",
         "math score": 2.14,
         "names": "Patricia Briney",
         "parental level of education": "some college",
         "race/ethnicity": "group B",
         "reading score": 3.28,
         "test preparation course": "none",
         "writing score": 2.92
        },
        {
         "GPA": 3.86,
         "_deepnote_index_column": 12,
         "gender": "male",
         "lunch": "free/reduced",
         "math score": 3.64,
         "names": "Chris Chauncey",
         "parental level of education": "high school",
         "race/ethnicity": "group D",
         "reading score": 4.06,
         "test preparation course": "none",
         "writing score": 3.88
        },
        {
         "GPA": 3.64,
         "_deepnote_index_column": 13,
         "gender": "female",
         "lunch": "free/reduced",
         "math score": 3.28,
         "names": "Julie Watkins",
         "parental level of education": "some high school",
         "race/ethnicity": "group E",
         "reading score": 3.94,
         "test preparation course": "none",
         "writing score": 3.7
        },
        {
         "GPA": 3.78,
         "_deepnote_index_column": 14,
         "gender": "male",
         "lunch": "standard",
         "math score": 3.7,
         "names": "Michael Reel",
         "parental level of education": "high school",
         "race/ethnicity": "group D",
         "reading score": 3.88,
         "test preparation course": "none",
         "writing score": 3.76
        },
        {
         "GPA": 3.92,
         "_deepnote_index_column": 15,
         "gender": "male",
         "lunch": "standard",
         "math score": 4.06,
         "names": "Gary Spencer",
         "parental level of education": "some high school",
         "race/ethnicity": "group B",
         "reading score": 4.24,
         "test preparation course": "completed",
         "writing score": 3.46
        },
        {
         "GPA": 3.8,
         "_deepnote_index_column": 16,
         "gender": "male",
         "lunch": "standard",
         "math score": 4,
         "names": "Michael Mederos",
         "parental level of education": "high school",
         "race/ethnicity": "group C",
         "reading score": 3.88,
         "test preparation course": "none",
         "writing score": 3.52
        },
        {
         "GPA": 3.96,
         "_deepnote_index_column": 17,
         "gender": "female",
         "lunch": "free/reduced",
         "math score": 3.58,
         "names": "Callie Mork",
         "parental level of education": "bachelor's degree",
         "race/ethnicity": "group C",
         "reading score": 4.06,
         "test preparation course": "completed",
         "writing score": 4.24
        },
        {
         "GPA": 3.88,
         "_deepnote_index_column": 18,
         "gender": "male",
         "lunch": "standard",
         "math score": 4.66,
         "names": "William Saska",
         "parental level of education": "associate's degree",
         "race/ethnicity": "group B",
         "reading score": 3.52,
         "test preparation course": "none",
         "writing score": 3.46
        },
        {
         "GPA": 3.32,
         "_deepnote_index_column": 19,
         "gender": "male",
         "lunch": "standard",
         "math score": 3.76,
         "names": "Gerald Brunner",
         "parental level of education": "high school",
         "race/ethnicity": "group D",
         "reading score": 3.04,
         "test preparation course": "none",
         "writing score": 3.16
        },
        {
         "GPA": 2.88,
         "_deepnote_index_column": 20,
         "gender": "female",
         "lunch": "free/reduced",
         "math score": 2.32,
         "names": "Barbara Henriques",
         "parental level of education": "some college",
         "race/ethnicity": "group C",
         "reading score": 3.34,
         "test preparation course": "none",
         "writing score": 2.98
        },
        {
         "GPA": 3.9,
         "_deepnote_index_column": 21,
         "gender": "male",
         "lunch": "free/reduced",
         "math score": 3.88,
         "names": "John Moreno",
         "parental level of education": "some high school",
         "race/ethnicity": "group B",
         "reading score": 4.12,
         "test preparation course": "none",
         "writing score": 3.7
        },
        {
         "GPA": 3.72,
         "_deepnote_index_column": 22,
         "gender": "male",
         "lunch": "standard",
         "math score": 3.88,
         "names": "Kermit Gates",
         "parental level of education": "associate's degree",
         "race/ethnicity": "group B",
         "reading score": 3.58,
         "test preparation course": "none",
         "writing score": 3.7
        },
        {
         "GPA": 3.34,
         "_deepnote_index_column": 23,
         "gender": "female",
         "lunch": "free/reduced",
         "math score": 2.74,
         "names": "Paula Barriere",
         "parental level of education": "bachelor's degree",
         "race/ethnicity": "group D",
         "reading score": 3.46,
         "test preparation course": "none",
         "writing score": 3.82
        },
        {
         "GPA": 2.9,
         "_deepnote_index_column": 24,
         "gender": "female",
         "lunch": "free/reduced",
         "math score": 2.56,
         "names": "Marina Smith",
         "parental level of education": "associate's degree",
         "race/ethnicity": "group D",
         "reading score": 2.86,
         "test preparation course": "none",
         "writing score": 3.28
        },
        {
         "GPA": 2.4,
         "_deepnote_index_column": 25,
         "gender": "male",
         "lunch": "free/reduced",
         "math score": 2.68,
         "names": "John Gunter",
         "parental level of education": "some college",
         "race/ethnicity": "group A",
         "reading score": 2.38,
         "test preparation course": "none",
         "writing score": 2.14
        },
        {
         "GPA": 3.68,
         "_deepnote_index_column": 26,
         "gender": "female",
         "lunch": "free/reduced",
         "math score": 3.1,
         "names": "Sara Ray",
         "parental level of education": "high school",
         "race/ethnicity": "group C",
         "reading score": 4.18,
         "test preparation course": "none",
         "writing score": 3.76
        },
        {
         "GPA": 3.26,
         "_deepnote_index_column": 27,
         "gender": "female",
         "lunch": "free/reduced",
         "math score": 2.74,
         "names": "Flossie Streeter",
         "parental level of education": "some high school",
         "race/ethnicity": "group C",
         "reading score": 3.4,
         "test preparation course": "completed",
         "writing score": 3.64
        },
        {
         "GPA": 3.78,
         "_deepnote_index_column": 28,
         "gender": "male",
         "lunch": "standard",
         "math score": 4.18,
         "names": "Charles Ayala",
         "parental level of education": "some college",
         "race/ethnicity": "group C",
         "reading score": 3.64,
         "test preparation course": "none",
         "writing score": 3.52
        },
        {
         "GPA": 3.78,
         "_deepnote_index_column": 29,
         "gender": "male",
         "lunch": "standard",
         "math score": 3.94,
         "names": "Anthony Hinerman",
         "parental level of education": "some high school",
         "race/ethnicity": "group C",
         "reading score": 3.94,
         "test preparation course": "none",
         "writing score": 3.46
        },
        {
         "GPA": 3.94,
         "_deepnote_index_column": 30,
         "gender": "male",
         "lunch": "standard",
         "math score": 4.42,
         "names": "Doyle Johnson",
         "parental level of education": "high school",
         "race/ethnicity": "group A",
         "reading score": 3.58,
         "test preparation course": "none",
         "writing score": 3.82
        },
        {
         "GPA": 3.6,
         "_deepnote_index_column": 31,
         "gender": "male",
         "lunch": "free/reduced",
         "math score": 3.76,
         "names": "Evan Smith",
         "parental level of education": "associate's degree",
         "race/ethnicity": "group E",
         "reading score": 3.58,
         "test preparation course": "none",
         "writing score": 3.46
        },
        {
         "GPA": 3.44,
         "_deepnote_index_column": 32,
         "gender": "male",
         "lunch": "free/reduced",
         "math score": 3.4,
         "names": "Joseph Jaco",
         "parental level of education": "some college",
         "race/ethnicity": "group B",
         "reading score": 3.58,
         "test preparation course": "none",
         "writing score": 3.34
        },
        {
         "GPA": 2.56,
         "_deepnote_index_column": 33,
         "gender": "male",
         "lunch": "standard",
         "math score": 2.8,
         "names": "Charles Jackson",
         "parental level of education": "some high school",
         "race/ethnicity": "group E",
         "reading score": 2.56,
         "test preparation course": "none",
         "writing score": 2.32
        },
        {
         "GPA": 3.94,
         "_deepnote_index_column": 34,
         "gender": "male",
         "lunch": "standard",
         "math score": 4.12,
         "names": "Matthew Freeman",
         "parental level of education": "high school",
         "race/ethnicity": "group B",
         "reading score": 3.94,
         "test preparation course": "completed",
         "writing score": 3.76
        },
        {
         "GPA": 3.74,
         "_deepnote_index_column": 35,
         "gender": "female",
         "lunch": "free/reduced",
         "math score": 3.34,
         "names": "Dana Mojica",
         "parental level of education": "high school",
         "race/ethnicity": "group D",
         "reading score": 4.12,
         "test preparation course": "none",
         "writing score": 3.76
        },
        {
         "GPA": 3.9,
         "_deepnote_index_column": 36,
         "gender": "female",
         "lunch": "free/reduced",
         "math score": 3.64,
         "names": "Lauren Warren",
         "parental level of education": "some high school",
         "race/ethnicity": "group C",
         "reading score": 4,
         "test preparation course": "none",
         "writing score": 4.06
        },
        {
         "GPA": 2.1,
         "_deepnote_index_column": 37,
         "gender": "female",
         "lunch": "free/reduced",
         "math score": 1.48,
         "names": "Luetta Caponigro",
         "parental level of education": "high school",
         "race/ethnicity": "group B",
         "reading score": 2.44,
         "test preparation course": "none",
         "writing score": 2.38
        },
        {
         "GPA": 3.86,
         "_deepnote_index_column": 38,
         "gender": "male",
         "lunch": "standard",
         "math score": 3.94,
         "names": "Antonio Pelaez",
         "parental level of education": "associate's degree",
         "race/ethnicity": "group C",
         "reading score": 4.06,
         "test preparation course": "none",
         "writing score": 3.58
        },
        {
         "GPA": 3.92,
         "_deepnote_index_column": 39,
         "gender": "female",
         "lunch": "standard",
         "math score": 3.82,
         "names": "Emily Devins",
         "parental level of education": "associate's degree",
         "race/ethnicity": "group B",
         "reading score": 3.94,
         "test preparation course": "none",
         "writing score": 4
        },
        {
         "GPA": 3.9,
         "_deepnote_index_column": 40,
         "gender": "male",
         "lunch": "free/reduced",
         "math score": 4.3,
         "names": "Harvey Pribbenow",
         "parental level of education": "bachelor's degree",
         "race/ethnicity": "group D",
         "reading score": 3.76,
         "test preparation course": "none",
         "writing score": 3.64
        },
        {
         "GPA": 3.68,
         "_deepnote_index_column": 41,
         "gender": "male",
         "lunch": "free/reduced",
         "math score": 3.88,
         "names": "Joseph Rains",
         "parental level of education": "high school",
         "race/ethnicity": "group A",
         "reading score": 3.7,
         "test preparation course": "none",
         "writing score": 3.46
        },
        {
         "GPA": 3.88,
         "_deepnote_index_column": 42,
         "gender": "male",
         "lunch": "free/reduced",
         "math score": 4.3,
         "names": "Charles Vaughan",
         "parental level of education": "some high school",
         "race/ethnicity": "group A",
         "reading score": 3.76,
         "test preparation course": "none",
         "writing score": 3.58
        },
        {
         "GPA": 3.8,
         "_deepnote_index_column": 43,
         "gender": "male",
         "lunch": "free/reduced",
         "math score": 3.22,
         "names": "Walter Simmons",
         "parental level of education": "bachelor's degree",
         "race/ethnicity": "group C",
         "reading score": 4.36,
         "test preparation course": "none",
         "writing score": 3.82
        },
        {
         "GPA": 3.46,
         "_deepnote_index_column": 44,
         "gender": "male",
         "lunch": "free/reduced",
         "math score": 3.64,
         "names": "Larry Matthews",
         "parental level of education": "associate's degree",
         "race/ethnicity": "group B",
         "reading score": 3.46,
         "test preparation course": "none",
         "writing score": 3.28
        },
        {
         "GPA": 3.8,
         "_deepnote_index_column": 45,
         "gender": "female",
         "lunch": "free/reduced",
         "math score": 3.46,
         "names": "Olga Hatcher",
         "parental level of education": "associate's degree",
         "race/ethnicity": "group A",
         "reading score": 4.06,
         "test preparation course": "none",
         "writing score": 3.88
        },
        {
         "GPA": 3.38,
         "_deepnote_index_column": 46,
         "gender": "male",
         "lunch": "free/reduced",
         "math score": 3.7,
         "names": "Jean Stamdifer",
         "parental level of education": "some high school",
         "race/ethnicity": "group D",
         "reading score": 3.22,
         "test preparation course": "none",
         "writing score": 3.22
        },
        {
         "GPA": 3.7,
         "_deepnote_index_column": 47,
         "gender": "male",
         "lunch": "standard",
         "math score": 3.4,
         "names": "Lamar Becker",
         "parental level of education": "associate's degree",
         "race/ethnicity": "group D",
         "reading score": 4.12,
         "test preparation course": "none",
         "writing score": 3.58
        },
        {
         "GPA": 3.36,
         "_deepnote_index_column": 48,
         "gender": "male",
         "lunch": "standard",
         "math score": 4.06,
         "names": "Gerald Gramham",
         "parental level of education": "some high school",
         "race/ethnicity": "group A",
         "reading score": 2.86,
         "test preparation course": "none",
         "writing score": 3.16
        },
        {
         "GPA": 3.94,
         "_deepnote_index_column": 49,
         "gender": "male",
         "lunch": "standard",
         "math score": 4.18,
         "names": "Mack Gilliland",
         "parental level of education": "high school",
         "race/ethnicity": "group D",
         "reading score": 4.12,
         "test preparation course": "none",
         "writing score": 3.52
        },
        {
         "GPA": 3.9,
         "_deepnote_index_column": 50,
         "gender": "female",
         "lunch": "standard",
         "math score": 3.52,
         "names": "Arlene Seymour",
         "parental level of education": "high school",
         "race/ethnicity": "group B",
         "reading score": 4.12,
         "test preparation course": "none",
         "writing score": 4.06
        },
        {
         "GPA": 3.24,
         "_deepnote_index_column": 51,
         "gender": "male",
         "lunch": "free/reduced",
         "math score": 3.34,
         "names": "Arthur Daschofsky",
         "parental level of education": "some high school",
         "race/ethnicity": "group A",
         "reading score": 3.34,
         "test preparation course": "none",
         "writing score": 3.04
        },
        {
         "GPA": 3.4,
         "_deepnote_index_column": 52,
         "gender": "male",
         "lunch": "standard",
         "math score": 3.4,
         "names": "Justin Harris",
         "parental level of education": "some college",
         "race/ethnicity": "group D",
         "reading score": 3.52,
         "test preparation course": "none",
         "writing score": 3.28
        },
        {
         "GPA": 3.76,
         "_deepnote_index_column": 53,
         "gender": "male",
         "lunch": "free/reduced",
         "math score": 3.58,
         "names": "Russel Broussard",
         "parental level of education": "associate's degree",
         "race/ethnicity": "group C",
         "reading score": 3.7,
         "test preparation course": "completed",
         "writing score": 4
        },
        {
         "GPA": 3.66,
         "_deepnote_index_column": 54,
         "gender": "male",
         "lunch": "free/reduced",
         "math score": 3.76,
         "names": "Jerome Lopze",
         "parental level of education": "associate's degree",
         "race/ethnicity": "group E",
         "reading score": 3.58,
         "test preparation course": "completed",
         "writing score": 3.64
        },
        {
         "GPA": 3.8,
         "_deepnote_index_column": 55,
         "gender": "male",
         "lunch": "free/reduced",
         "math score": 4,
         "names": "Shannon Weaver",
         "parental level of education": "bachelor's degree",
         "race/ethnicity": "group D",
         "reading score": 3.52,
         "test preparation course": "none",
         "writing score": 3.88
        },
        {
         "GPA": 3.76,
         "_deepnote_index_column": 56,
         "gender": "male",
         "lunch": "standard",
         "math score": 4.18,
         "names": "Mark Spicer",
         "parental level of education": "associate's degree",
         "race/ethnicity": "group E",
         "reading score": 3.7,
         "test preparation course": "none",
         "writing score": 3.4
        },
        {
         "GPA": 3.68,
         "_deepnote_index_column": 57,
         "gender": "female",
         "lunch": "free/reduced",
         "math score": 3.64,
         "names": "Rosa Clagon",
         "parental level of education": "some high school",
         "race/ethnicity": "group A",
         "reading score": 3.7,
         "test preparation course": "none",
         "writing score": 3.7
        },
        {
         "GPA": 2.94,
         "_deepnote_index_column": 58,
         "gender": "male",
         "lunch": "free/reduced",
         "math score": 2.62,
         "names": "Eugene Jewett",
         "parental level of education": "high school",
         "race/ethnicity": "group C",
         "reading score": 3.04,
         "test preparation course": "none",
         "writing score": 3.16
        },
        {
         "GPA": 3.48,
         "_deepnote_index_column": 59,
         "gender": "female",
         "lunch": "free/reduced",
         "math score": 3.28,
         "names": "Emma Fussell",
         "parental level of education": "some high school",
         "race/ethnicity": "group A",
         "reading score": 3.58,
         "test preparation course": "none",
         "writing score": 3.58
        },
        {
         "GPA": 3.44,
         "_deepnote_index_column": 60,
         "gender": "female",
         "lunch": "free/reduced",
         "math score": 3.1,
         "names": "Christina Cullins",
         "parental level of education": "some college",
         "race/ethnicity": "group C",
         "reading score": 3.64,
         "test preparation course": "none",
         "writing score": 3.58
        },
        {
         "GPA": 3.6,
         "_deepnote_index_column": 61,
         "gender": "male",
         "lunch": "standard",
         "math score": 3.76,
         "names": "Jorge Apana",
         "parental level of education": "some high school",
         "race/ethnicity": "group A",
         "reading score": 3.46,
         "test preparation course": "completed",
         "writing score": 3.58
        },
        {
         "GPA": 3.38,
         "_deepnote_index_column": 62,
         "gender": "male",
         "lunch": "standard",
         "math score": 3.82,
         "names": "Arthur Johnson",
         "parental level of education": "associate's degree",
         "race/ethnicity": "group C",
         "reading score": 3.22,
         "test preparation course": "none",
         "writing score": 3.1
        },
        {
         "GPA": 3.98,
         "_deepnote_index_column": 63,
         "gender": "male",
         "lunch": "standard",
         "math score": 4.12,
         "names": "Jonathan Moser",
         "parental level of education": "high school",
         "race/ethnicity": "group B",
         "reading score": 3.88,
         "test preparation course": "none",
         "writing score": 3.94
        },
        {
         "GPA": 3.28,
         "_deepnote_index_column": 64,
         "gender": "male",
         "lunch": "free/reduced",
         "math score": 3.46,
         "names": "Michael Gore",
         "parental level of education": "some college",
         "race/ethnicity": "group B",
         "reading score": 3.34,
         "test preparation course": "none",
         "writing score": 3.04
        },
        {
         "GPA": 3.84,
         "_deepnote_index_column": 65,
         "gender": "male",
         "lunch": "free/reduced",
         "math score": 4.54,
         "names": "Jonathan Calcote",
         "parental level of education": "some high school",
         "race/ethnicity": "group D",
         "reading score": 3.52,
         "test preparation course": "none",
         "writing score": 3.46
        },
        {
         "GPA": 3.92,
         "_deepnote_index_column": 66,
         "gender": "male",
         "lunch": "standard",
         "math score": 4.3,
         "names": "Michael Mcdonnell",
         "parental level of education": "some high school",
         "race/ethnicity": "group D",
         "reading score": 3.82,
         "test preparation course": "none",
         "writing score": 3.64
        },
        {
         "GPA": 3.3,
         "_deepnote_index_column": 67,
         "gender": "male",
         "lunch": "free/reduced",
         "math score": 3.52,
         "names": "Ronald Jett",
         "parental level of education": "high school",
         "race/ethnicity": "group D",
         "reading score": 3.34,
         "test preparation course": "none",
         "writing score": 3.04
        },
        {
         "GPA": 2.78,
         "_deepnote_index_column": 68,
         "gender": "female",
         "lunch": "free/reduced",
         "math score": 2.44,
         "names": "Hazel Posey",
         "parental level of education": "some high school",
         "race/ethnicity": "group B",
         "reading score": 3.28,
         "test preparation course": "none",
         "writing score": 2.62
        },
        {
         "GPA": 3.82,
         "_deepnote_index_column": 69,
         "gender": "male",
         "lunch": "free/reduced",
         "math score": 3.7,
         "names": "Eric Baldwin",
         "parental level of education": "high school",
         "race/ethnicity": "group A",
         "reading score": 3.82,
         "test preparation course": "none",
         "writing score": 3.94
        },
        {
         "GPA": 3.08,
         "_deepnote_index_column": 70,
         "gender": "female",
         "lunch": "free/reduced",
         "math score": 2.92,
         "names": "Rosalia Arrants",
         "parental level of education": "some high school",
         "race/ethnicity": "group E",
         "reading score": 3.04,
         "test preparation course": "none",
         "writing score": 3.28
        },
        {
         "GPA": 2.38,
         "_deepnote_index_column": 71,
         "gender": "male",
         "lunch": "free/reduced",
         "math score": 2.8,
         "names": "Richard Guercio",
         "parental level of education": "high school",
         "race/ethnicity": "group B",
         "reading score": 2.44,
         "test preparation course": "none",
         "writing score": 1.9
        },
        {
         "GPA": 3.64,
         "_deepnote_index_column": 72,
         "gender": "female",
         "lunch": "free/reduced",
         "math score": 3.16,
         "names": "Lorena Reed",
         "parental level of education": "high school",
         "race/ethnicity": "group C",
         "reading score": 4.18,
         "test preparation course": "none",
         "writing score": 3.58
        },
        {
         "GPA": 3.88,
         "_deepnote_index_column": 73,
         "gender": "male",
         "lunch": "standard",
         "math score": 3.46,
         "names": "Christopher Kilkenny",
         "parental level of education": "high school",
         "race/ethnicity": "group D",
         "reading score": 4.12,
         "test preparation course": "none",
         "writing score": 4.06
        },
        {
         "GPA": 3.6,
         "_deepnote_index_column": 74,
         "gender": "male",
         "lunch": "free/reduced",
         "math score": 4.18,
         "names": "Larry Braun",
         "parental level of education": "some high school",
         "race/ethnicity": "group C",
         "reading score": 3.22,
         "test preparation course": "completed",
         "writing score": 3.4
        },
        {
         "GPA": 3.94,
         "_deepnote_index_column": 75,
         "gender": "female",
         "lunch": "standard",
         "math score": 3.46,
         "names": "Bertha Nelson",
         "parental level of education": "some high school",
         "race/ethnicity": "group B",
         "reading score": 4.3,
         "test preparation course": "none",
         "writing score": 4.06
        },
        {
         "GPA": 2.56,
         "_deepnote_index_column": 76,
         "gender": "female",
         "lunch": "free/reduced",
         "math score": 2.08,
         "names": "Sonia Brent",
         "parental level of education": "some high school",
         "race/ethnicity": "group B",
         "reading score": 2.92,
         "test preparation course": "none",
         "writing score": 2.68
        },
        {
         "GPA": 3.72,
         "_deepnote_index_column": 77,
         "gender": "male",
         "lunch": "free/reduced",
         "math score": 3.4,
         "names": "Dustin Henry",
         "parental level of education": "high school",
         "race/ethnicity": "group C",
         "reading score": 3.76,
         "test preparation course": "completed",
         "writing score": 4
        },
        {
         "GPA": 3.88,
         "_deepnote_index_column": 78,
         "gender": "male",
         "lunch": "standard",
         "math score": 4.3,
         "names": "Martin Wilson",
         "parental level of education": "high school",
         "race/ethnicity": "group D",
         "reading score": 3.46,
         "test preparation course": "completed",
         "writing score": 3.88
        },
        {
         "GPA": 1.54,
         "_deepnote_index_column": 79,
         "gender": "female",
         "lunch": "free/reduced",
         "math score": 1,
         "names": "Melissa Johnston",
         "parental level of education": "some high school",
         "race/ethnicity": "group C",
         "reading score": 2.02,
         "test preparation course": "none",
         "writing score": 1.6
        },
        {
         "GPA": 3.96,
         "_deepnote_index_column": 80,
         "gender": "male",
         "lunch": "free/reduced",
         "math score": 3.82,
         "names": "Stanley Chappell",
         "parental level of education": "associate's degree",
         "race/ethnicity": "group A",
         "reading score": 4.42,
         "test preparation course": "none",
         "writing score": 3.64
        },
        {
         "GPA": 3.92,
         "_deepnote_index_column": 81,
         "gender": "male",
         "lunch": "free/reduced",
         "math score": 3.7,
         "names": "Charles Harian",
         "parental level of education": "some high school",
         "race/ethnicity": "group C",
         "reading score": 4.12,
         "test preparation course": "completed",
         "writing score": 3.94
        },
        {
         "GPA": 2.86,
         "_deepnote_index_column": 82,
         "gender": "female",
         "lunch": "free/reduced",
         "math score": 2.62,
         "names": "Wendy Gunnell",
         "parental level of education": "some high school",
         "race/ethnicity": "group D",
         "reading score": 3.04,
         "test preparation course": "none",
         "writing score": 2.92
        },
        {
         "GPA": 3.6,
         "_deepnote_index_column": 83,
         "gender": "female",
         "lunch": "free/reduced",
         "math score": 3.46,
         "names": "Diana Costa",
         "parental level of education": "high school",
         "race/ethnicity": "group C",
         "reading score": 3.76,
         "test preparation course": "none",
         "writing score": 3.58
        },
        {
         "GPA": 2.76,
         "_deepnote_index_column": 84,
         "gender": "female",
         "lunch": "standard",
         "math score": 2.74,
         "names": "Amy Sieving",
         "parental level of education": "high school",
         "race/ethnicity": "group C",
         "reading score": 2.74,
         "test preparation course": "none",
         "writing score": 2.8
        },
        {
         "GPA": 3.06,
         "_deepnote_index_column": 85,
         "gender": "female",
         "lunch": "free/reduced",
         "math score": 2.38,
         "names": "Wanda Russell",
         "parental level of education": "high school",
         "race/ethnicity": "group B",
         "reading score": 3.64,
         "test preparation course": "completed",
         "writing score": 3.16
        }
       ]
      },
      "text/html": [
       "<div>\n",
       "<style scoped>\n",
       "    .dataframe tbody tr th:only-of-type {\n",
       "        vertical-align: middle;\n",
       "    }\n",
       "\n",
       "    .dataframe tbody tr th {\n",
       "        vertical-align: top;\n",
       "    }\n",
       "\n",
       "    .dataframe thead th {\n",
       "        text-align: right;\n",
       "    }\n",
       "</style>\n",
       "<table border=\"1\" class=\"dataframe\">\n",
       "  <thead>\n",
       "    <tr style=\"text-align: right;\">\n",
       "      <th></th>\n",
       "      <th>names</th>\n",
       "      <th>gender</th>\n",
       "      <th>race/ethnicity</th>\n",
       "      <th>parental level of education</th>\n",
       "      <th>lunch</th>\n",
       "      <th>test preparation course</th>\n",
       "      <th>math score</th>\n",
       "      <th>reading score</th>\n",
       "      <th>writing score</th>\n",
       "      <th>GPA</th>\n",
       "    </tr>\n",
       "  </thead>\n",
       "  <tbody>\n",
       "    <tr>\n",
       "      <th>0</th>\n",
       "      <td>Rita Courtney</td>\n",
       "      <td>female</td>\n",
       "      <td>group B</td>\n",
       "      <td>some high school</td>\n",
       "      <td>standard</td>\n",
       "      <td>none</td>\n",
       "      <td>3.22</td>\n",
       "      <td>3.76</td>\n",
       "      <td>3.76</td>\n",
       "      <td>3.58</td>\n",
       "    </tr>\n",
       "    <tr>\n",
       "      <th>1</th>\n",
       "      <td>Mikki Amaya</td>\n",
       "      <td>female</td>\n",
       "      <td>group A</td>\n",
       "      <td>high school</td>\n",
       "      <td>free/reduced</td>\n",
       "      <td>completed</td>\n",
       "      <td>3.04</td>\n",
       "      <td>3.88</td>\n",
       "      <td>3.46</td>\n",
       "      <td>3.46</td>\n",
       "    </tr>\n",
       "    <tr>\n",
       "      <th>2</th>\n",
       "      <td>Samuel Dougal</td>\n",
       "      <td>male</td>\n",
       "      <td>group C</td>\n",
       "      <td>master's degree</td>\n",
       "      <td>free/reduced</td>\n",
       "      <td>completed</td>\n",
       "      <td>3.76</td>\n",
       "      <td>3.52</td>\n",
       "      <td>3.76</td>\n",
       "      <td>3.68</td>\n",
       "    </tr>\n",
       "    <tr>\n",
       "      <th>3</th>\n",
       "      <td>Rodger Talavera</td>\n",
       "      <td>male</td>\n",
       "      <td>group B</td>\n",
       "      <td>high school</td>\n",
       "      <td>free/reduced</td>\n",
       "      <td>none</td>\n",
       "      <td>3.16</td>\n",
       "      <td>2.74</td>\n",
       "      <td>2.62</td>\n",
       "      <td>2.84</td>\n",
       "    </tr>\n",
       "    <tr>\n",
       "      <th>4</th>\n",
       "      <td>Morris Johnson</td>\n",
       "      <td>male</td>\n",
       "      <td>group A</td>\n",
       "      <td>associate's degree</td>\n",
       "      <td>free/reduced</td>\n",
       "      <td>completed</td>\n",
       "      <td>3.40</td>\n",
       "      <td>4.30</td>\n",
       "      <td>4.18</td>\n",
       "      <td>3.96</td>\n",
       "    </tr>\n",
       "    <tr>\n",
       "      <th>...</th>\n",
       "      <td>...</td>\n",
       "      <td>...</td>\n",
       "      <td>...</td>\n",
       "      <td>...</td>\n",
       "      <td>...</td>\n",
       "      <td>...</td>\n",
       "      <td>...</td>\n",
       "      <td>...</td>\n",
       "      <td>...</td>\n",
       "      <td>...</td>\n",
       "    </tr>\n",
       "    <tr>\n",
       "      <th>81</th>\n",
       "      <td>Charles Harian</td>\n",
       "      <td>male</td>\n",
       "      <td>group C</td>\n",
       "      <td>some high school</td>\n",
       "      <td>free/reduced</td>\n",
       "      <td>completed</td>\n",
       "      <td>3.70</td>\n",
       "      <td>4.12</td>\n",
       "      <td>3.94</td>\n",
       "      <td>3.92</td>\n",
       "    </tr>\n",
       "    <tr>\n",
       "      <th>82</th>\n",
       "      <td>Wendy Gunnell</td>\n",
       "      <td>female</td>\n",
       "      <td>group D</td>\n",
       "      <td>some high school</td>\n",
       "      <td>free/reduced</td>\n",
       "      <td>none</td>\n",
       "      <td>2.62</td>\n",
       "      <td>3.04</td>\n",
       "      <td>2.92</td>\n",
       "      <td>2.86</td>\n",
       "    </tr>\n",
       "    <tr>\n",
       "      <th>83</th>\n",
       "      <td>Diana Costa</td>\n",
       "      <td>female</td>\n",
       "      <td>group C</td>\n",
       "      <td>high school</td>\n",
       "      <td>free/reduced</td>\n",
       "      <td>none</td>\n",
       "      <td>3.46</td>\n",
       "      <td>3.76</td>\n",
       "      <td>3.58</td>\n",
       "      <td>3.60</td>\n",
       "    </tr>\n",
       "    <tr>\n",
       "      <th>84</th>\n",
       "      <td>Amy Sieving</td>\n",
       "      <td>female</td>\n",
       "      <td>group C</td>\n",
       "      <td>high school</td>\n",
       "      <td>standard</td>\n",
       "      <td>none</td>\n",
       "      <td>2.74</td>\n",
       "      <td>2.74</td>\n",
       "      <td>2.80</td>\n",
       "      <td>2.76</td>\n",
       "    </tr>\n",
       "    <tr>\n",
       "      <th>85</th>\n",
       "      <td>Wanda Russell</td>\n",
       "      <td>female</td>\n",
       "      <td>group B</td>\n",
       "      <td>high school</td>\n",
       "      <td>free/reduced</td>\n",
       "      <td>completed</td>\n",
       "      <td>2.38</td>\n",
       "      <td>3.64</td>\n",
       "      <td>3.16</td>\n",
       "      <td>3.06</td>\n",
       "    </tr>\n",
       "  </tbody>\n",
       "</table>\n",
       "<p>86 rows × 10 columns</p>\n",
       "</div>"
      ],
      "text/plain": [
       "              names  gender race/ethnicity parental level of education  \\\n",
       "0     Rita Courtney  female        group B            some high school   \n",
       "1       Mikki Amaya  female        group A                 high school   \n",
       "2     Samuel Dougal    male        group C             master's degree   \n",
       "3   Rodger Talavera    male        group B                 high school   \n",
       "4    Morris Johnson    male        group A          associate's degree   \n",
       "..              ...     ...            ...                         ...   \n",
       "81   Charles Harian    male        group C            some high school   \n",
       "82    Wendy Gunnell  female        group D            some high school   \n",
       "83      Diana Costa  female        group C                 high school   \n",
       "84      Amy Sieving  female        group C                 high school   \n",
       "85    Wanda Russell  female        group B                 high school   \n",
       "\n",
       "           lunch test preparation course  math score  reading score  \\\n",
       "0       standard                    none        3.22           3.76   \n",
       "1   free/reduced               completed        3.04           3.88   \n",
       "2   free/reduced               completed        3.76           3.52   \n",
       "3   free/reduced                    none        3.16           2.74   \n",
       "4   free/reduced               completed        3.40           4.30   \n",
       "..           ...                     ...         ...            ...   \n",
       "81  free/reduced               completed        3.70           4.12   \n",
       "82  free/reduced                    none        2.62           3.04   \n",
       "83  free/reduced                    none        3.46           3.76   \n",
       "84      standard                    none        2.74           2.74   \n",
       "85  free/reduced               completed        2.38           3.64   \n",
       "\n",
       "    writing score   GPA  \n",
       "0            3.76  3.58  \n",
       "1            3.46  3.46  \n",
       "2            3.76  3.68  \n",
       "3            2.62  2.84  \n",
       "4            4.18  3.96  \n",
       "..            ...   ...  \n",
       "81           3.94  3.92  \n",
       "82           2.92  2.86  \n",
       "83           3.58  3.60  \n",
       "84           2.80  2.76  \n",
       "85           3.16  3.06  \n",
       "\n",
       "[86 rows x 10 columns]"
      ]
     },
     "execution_count": 14,
     "metadata": {},
     "output_type": "execute_result"
    }
   ],
   "source": [
    "dataframe1, dataframe2, dataframe3 = reprobados_destacados(df_grades)\n",
    "dataframe1"
   ]
  },
  {
   "cell_type": "code",
   "execution_count": null,
   "metadata": {
    "cell_id": "00049-8240c0ec-b1ea-41d3-8b5e-4970d3ef59dc",
    "colab": {
     "base_uri": "https://localhost:8080/",
     "height": 419
    },
    "deepnote_cell_type": "code",
    "deepnote_to_be_reexecuted": false,
    "executionInfo": {
     "elapsed": 492,
     "status": "ok",
     "timestamp": 1619192503533,
     "user": {
      "displayName": "IGNACIO ALEJANDRO MEZA",
      "photoUrl": "",
      "userId": "17011121633069169364"
     },
     "user_tz": 240
    },
    "execution_millis": 67,
    "execution_start": 1632493424700,
    "id": "tpG_2VzNEpf7",
    "outputId": "08aaa113-1055-4075-a0f5-5b8f1a1b9b1f",
    "source_hash": "6205a86b"
   },
   "outputs": [
    {
     "data": {
      "application/vnd.deepnote.dataframe.v2+json": {
       "column_count": 10,
       "columns": [
        {
         "dtype": "object",
         "name": "names",
         "stats": {
          "categories": [
           {
            "count": 1,
            "name": "Rita Courtney"
           },
           {
            "count": 1,
            "name": "Charles Linstrom"
           },
           {
            "count": 873,
            "name": "873 others"
           }
          ],
          "nan_count": 0,
          "unique_count": 875
         }
        },
        {
         "dtype": "object",
         "name": "gender",
         "stats": {
          "categories": [
           {
            "count": 448,
            "name": "female"
           },
           {
            "count": 427,
            "name": "male"
           }
          ],
          "nan_count": 0,
          "unique_count": 2
         }
        },
        {
         "dtype": "object",
         "name": "race/ethnicity",
         "stats": {
          "categories": [
           {
            "count": 272,
            "name": "group C"
           },
           {
            "count": 239,
            "name": "group D"
           },
           {
            "count": 364,
            "name": "3 others"
           }
          ],
          "nan_count": 0,
          "unique_count": 5
         }
        },
        {
         "dtype": "object",
         "name": "parental level of education",
         "stats": {
          "categories": [
           {
            "count": 196,
            "name": "associate's degree"
           },
           {
            "count": 191,
            "name": "some college"
           },
           {
            "count": 488,
            "name": "4 others"
           }
          ],
          "nan_count": 0,
          "unique_count": 6
         }
        },
        {
         "dtype": "object",
         "name": "lunch",
         "stats": {
          "categories": [
           {
            "count": 562,
            "name": "standard"
           },
           {
            "count": 313,
            "name": "free/reduced"
           }
          ],
          "nan_count": 0,
          "unique_count": 2
         }
        },
        {
         "dtype": "object",
         "name": "test preparation course",
         "stats": {
          "categories": [
           {
            "count": 563,
            "name": "none"
           },
           {
            "count": 312,
            "name": "completed"
           }
          ],
          "nan_count": 0,
          "unique_count": 2
         }
        },
        {
         "dtype": "float64",
         "name": "math score",
         "stats": {
          "histogram": [
           {
            "bin_end": 1.6,
            "bin_start": 1,
            "count": 2
           },
           {
            "bin_end": 2.2,
            "bin_start": 1.6,
            "count": 2
           },
           {
            "bin_end": 2.8,
            "bin_start": 2.2,
            "count": 10
           },
           {
            "bin_end": 3.4,
            "bin_start": 2.8,
            "count": 19
           },
           {
            "bin_end": 4,
            "bin_start": 3.4,
            "count": 81
           },
           {
            "bin_end": 4.6,
            "bin_start": 4,
            "count": 158
           },
           {
            "bin_end": 5.2,
            "bin_start": 4.6,
            "count": 245
           },
           {
            "bin_end": 5.8,
            "bin_start": 5.2,
            "count": 191
           },
           {
            "bin_end": 6.3999999999999995,
            "bin_start": 5.8,
            "count": 116
           },
           {
            "bin_end": 7,
            "bin_start": 6.3999999999999995,
            "count": 51
           }
          ],
          "max": "7.0",
          "min": "1.0",
          "nan_count": 0,
          "unique_count": 79
         }
        },
        {
         "dtype": "float64",
         "name": "reading score",
         "stats": {
          "histogram": [
           {
            "bin_end": 2.5180000000000002,
            "bin_start": 2.02,
            "count": 4
           },
           {
            "bin_end": 3.016,
            "bin_start": 2.5180000000000002,
            "count": 7
           },
           {
            "bin_end": 3.5140000000000002,
            "bin_start": 3.016,
            "count": 19
           },
           {
            "bin_end": 4.0120000000000005,
            "bin_start": 3.5140000000000002,
            "count": 53
           },
           {
            "bin_end": 4.51,
            "bin_start": 4.0120000000000005,
            "count": 124
           },
           {
            "bin_end": 5.008000000000001,
            "bin_start": 4.51,
            "count": 157
           },
           {
            "bin_end": 5.506,
            "bin_start": 5.008000000000001,
            "count": 212
           },
           {
            "bin_end": 6.0040000000000004,
            "bin_start": 5.506,
            "count": 147
           },
           {
            "bin_end": 6.502000000000001,
            "bin_start": 6.0040000000000004,
            "count": 101
           },
           {
            "bin_end": 7,
            "bin_start": 6.502000000000001,
            "count": 51
           }
          ],
          "max": "7.0",
          "min": "2.02",
          "nan_count": 0,
          "unique_count": 72
         }
        },
        {
         "dtype": "float64",
         "name": "writing score",
         "stats": {
          "histogram": [
           {
            "bin_end": 2.14,
            "bin_start": 1.6,
            "count": 2
           },
           {
            "bin_end": 2.68,
            "bin_start": 2.14,
            "count": 6
           },
           {
            "bin_end": 3.22,
            "bin_start": 2.68,
            "count": 13
           },
           {
            "bin_end": 3.7600000000000002,
            "bin_start": 3.22,
            "count": 52
           },
           {
            "bin_end": 4.300000000000001,
            "bin_start": 3.7600000000000002,
            "count": 115
           },
           {
            "bin_end": 4.84,
            "bin_start": 4.300000000000001,
            "count": 129
           },
           {
            "bin_end": 5.380000000000001,
            "bin_start": 4.84,
            "count": 218
           },
           {
            "bin_end": 5.92,
            "bin_start": 5.380000000000001,
            "count": 174
           },
           {
            "bin_end": 6.460000000000001,
            "bin_start": 5.92,
            "count": 116
           },
           {
            "bin_end": 7,
            "bin_start": 6.460000000000001,
            "count": 50
           }
          ],
          "max": "7.0",
          "min": "1.6",
          "nan_count": 0,
          "unique_count": 77
         }
        },
        {
         "dtype": "object",
         "name": "GPA",
         "stats": {
          "categories": [
           {
            "count": 86,
            "name": "R"
           },
           {
            "count": 12,
            "name": "5.2"
           },
           {
            "count": 777,
            "name": "142 others"
           }
          ],
          "nan_count": 0,
          "unique_count": 144
         }
        },
        {
         "dtype": "int64",
         "name": "_deepnote_index_column"
        }
       ],
       "row_count": 875,
       "rows_bottom": [
        {
         "GPA": "4.2",
         "_deepnote_index_column": 825,
         "gender": "female",
         "lunch": "standard",
         "math score": 3.88,
         "names": "Kelly Bowar",
         "parental level of education": "some high school",
         "race/ethnicity": "group D",
         "reading score": 4.48,
         "test preparation course": "none",
         "writing score": 4.24
        },
        {
         "GPA": "4.52",
         "_deepnote_index_column": 826,
         "gender": "female",
         "lunch": "free/reduced",
         "math score": 4.18,
         "names": "Kelly Greer",
         "parental level of education": "associate's degree",
         "race/ethnicity": "group C",
         "reading score": 4.66,
         "test preparation course": "none",
         "writing score": 4.72
        },
        {
         "GPA": "5.44",
         "_deepnote_index_column": 827,
         "gender": "male",
         "lunch": "standard",
         "math score": 6.1,
         "names": "Fred Jaeger",
         "parental level of education": "bachelor's degree",
         "race/ethnicity": "group E",
         "reading score": 4.96,
         "test preparation course": "completed",
         "writing score": 5.26
        },
        {
         "GPA": "4.86",
         "_deepnote_index_column": 828,
         "gender": "female",
         "lunch": "free/reduced",
         "math score": 4.72,
         "names": "Haydee Kunkel",
         "parental level of education": "high school",
         "race/ethnicity": "group C",
         "reading score": 5.02,
         "test preparation course": "none",
         "writing score": 4.84
        },
        {
         "GPA": "5.66",
         "_deepnote_index_column": 829,
         "gender": "female",
         "lunch": "standard",
         "math score": 4.9,
         "names": "Kayla Lopez",
         "parental level of education": "associate's degree",
         "race/ethnicity": "group C",
         "reading score": 6.04,
         "test preparation course": "completed",
         "writing score": 6.04
        },
        {
         "GPA": "5.88",
         "_deepnote_index_column": 830,
         "gender": "male",
         "lunch": "standard",
         "math score": 5.92,
         "names": "Paul Brownell",
         "parental level of education": "high school",
         "race/ethnicity": "group B",
         "reading score": 5.92,
         "test preparation course": "none",
         "writing score": 5.8
        },
        {
         "GPA": "5.06",
         "_deepnote_index_column": 831,
         "gender": "male",
         "lunch": "free/reduced",
         "math score": 5.62,
         "names": "Jose Rogers",
         "parental level of education": "some college",
         "race/ethnicity": "group D",
         "reading score": 4.72,
         "test preparation course": "none",
         "writing score": 4.84
        },
        {
         "GPA": "4.46",
         "_deepnote_index_column": 832,
         "gender": "female",
         "lunch": "free/reduced",
         "math score": 4,
         "names": "Joyce Bland",
         "parental level of education": "some high school",
         "race/ethnicity": "group D",
         "reading score": 4.84,
         "test preparation course": "none",
         "writing score": 4.54
        },
        {
         "GPA": "5.16",
         "_deepnote_index_column": 833,
         "gender": "female",
         "lunch": "free/reduced",
         "math score": 5.14,
         "names": "Fannie Alvarez",
         "parental level of education": "some college",
         "race/ethnicity": "group D",
         "reading score": 4.9,
         "test preparation course": "none",
         "writing score": 5.44
        },
        {
         "GPA": "R",
         "_deepnote_index_column": 834,
         "gender": "female",
         "lunch": "free/reduced",
         "math score": 1,
         "names": "Melissa Johnston",
         "parental level of education": "some high school",
         "race/ethnicity": "group C",
         "reading score": 2.02,
         "test preparation course": "none",
         "writing score": 1.6
        },
        {
         "GPA": "4.88",
         "_deepnote_index_column": 835,
         "gender": "female",
         "lunch": "standard",
         "math score": 4.9,
         "names": "Judith Mcenany",
         "parental level of education": "bachelor's degree",
         "race/ethnicity": "group D",
         "reading score": 5.02,
         "test preparation course": "none",
         "writing score": 4.72
        },
        {
         "GPA": "5.72",
         "_deepnote_index_column": 836,
         "gender": "female",
         "lunch": "free/reduced",
         "math score": 5.14,
         "names": "Nancy Mccormick",
         "parental level of education": "some high school",
         "race/ethnicity": "group D",
         "reading score": 6.16,
         "test preparation course": "completed",
         "writing score": 5.86
        },
        {
         "GPA": "5.06",
         "_deepnote_index_column": 837,
         "gender": "male",
         "lunch": "standard",
         "math score": 5.32,
         "names": "Timothy Long",
         "parental level of education": "high school",
         "race/ethnicity": "group C",
         "reading score": 5.02,
         "test preparation course": "completed",
         "writing score": 4.84
        },
        {
         "GPA": "7.0",
         "_deepnote_index_column": 838,
         "gender": "female",
         "lunch": "standard",
         "math score": 7,
         "names": "Sandra Pompey",
         "parental level of education": "associate's degree",
         "race/ethnicity": "group E",
         "reading score": 7,
         "test preparation course": "none",
         "writing score": 7
        },
        {
         "GPA": "4.44",
         "_deepnote_index_column": 839,
         "gender": "male",
         "lunch": "free/reduced",
         "math score": 4.9,
         "names": "Steven Marriot",
         "parental level of education": "some college",
         "race/ethnicity": "group C",
         "reading score": 4.48,
         "test preparation course": "none",
         "writing score": 3.94
        },
        {
         "GPA": "R",
         "_deepnote_index_column": 840,
         "gender": "male",
         "lunch": "free/reduced",
         "math score": 3.82,
         "names": "Stanley Chappell",
         "parental level of education": "associate's degree",
         "race/ethnicity": "group A",
         "reading score": 4.42,
         "test preparation course": "none",
         "writing score": 3.64
        },
        {
         "GPA": "4.12",
         "_deepnote_index_column": 841,
         "gender": "female",
         "lunch": "standard",
         "math score": 4.06,
         "names": "Michelle Smithson",
         "parental level of education": "associate's degree",
         "race/ethnicity": "group E",
         "reading score": 4.06,
         "test preparation course": "none",
         "writing score": 4.24
        },
        {
         "GPA": "5.26",
         "_deepnote_index_column": 842,
         "gender": "male",
         "lunch": "standard",
         "math score": 5.26,
         "names": "Jeffrey Bostrom",
         "parental level of education": "associate's degree",
         "race/ethnicity": "group E",
         "reading score": 5.44,
         "test preparation course": "completed",
         "writing score": 5.08
        },
        {
         "GPA": "6.04",
         "_deepnote_index_column": 843,
         "gender": "male",
         "lunch": "standard",
         "math score": 5.92,
         "names": "Earnest Cole",
         "parental level of education": "some college",
         "race/ethnicity": "group D",
         "reading score": 5.92,
         "test preparation course": "completed",
         "writing score": 6.28
        },
        {
         "GPA": "4.64",
         "_deepnote_index_column": 844,
         "gender": "female",
         "lunch": "free/reduced",
         "math score": 4.3,
         "names": "Sharon Garcia",
         "parental level of education": "some high school",
         "race/ethnicity": "group C",
         "reading score": 4.9,
         "test preparation course": "none",
         "writing score": 4.72
        },
        {
         "GPA": "5.94",
         "_deepnote_index_column": 845,
         "gender": "female",
         "lunch": "standard",
         "math score": 5.5,
         "names": "Carol Miller",
         "parental level of education": "associate's degree",
         "race/ethnicity": "group C",
         "reading score": 5.92,
         "test preparation course": "completed",
         "writing score": 6.4
        },
        {
         "GPA": "4.82",
         "_deepnote_index_column": 846,
         "gender": "male",
         "lunch": "free/reduced",
         "math score": 4.96,
         "names": "Antonio Evans",
         "parental level of education": "high school",
         "race/ethnicity": "group C",
         "reading score": 4.96,
         "test preparation course": "none",
         "writing score": 4.54
        },
        {
         "GPA": "5.36",
         "_deepnote_index_column": 847,
         "gender": "female",
         "lunch": "standard",
         "math score": 5.32,
         "names": "Pam Otoole",
         "parental level of education": "bachelor's degree",
         "race/ethnicity": "group B",
         "reading score": 5.32,
         "test preparation course": "none",
         "writing score": 5.44
        },
        {
         "GPA": "4.62",
         "_deepnote_index_column": 848,
         "gender": "male",
         "lunch": "standard",
         "math score": 5.2,
         "names": "Matthew Burns",
         "parental level of education": "high school",
         "race/ethnicity": "group E",
         "reading score": 4.3,
         "test preparation course": "none",
         "writing score": 4.36
        },
        {
         "GPA": "4.34",
         "_deepnote_index_column": 849,
         "gender": "male",
         "lunch": "free/reduced",
         "math score": 4.42,
         "names": "Gregory Fernandez",
         "parental level of education": "high school",
         "race/ethnicity": "group E",
         "reading score": 4.36,
         "test preparation course": "completed",
         "writing score": 4.24
        },
        {
         "GPA": "6.26",
         "_deepnote_index_column": 850,
         "gender": "male",
         "lunch": "free/reduced",
         "math score": 6.04,
         "names": "Charles Herandez",
         "parental level of education": "master's degree",
         "race/ethnicity": "group D",
         "reading score": 6.34,
         "test preparation course": "completed",
         "writing score": 6.4
        },
        {
         "GPA": "4.1",
         "_deepnote_index_column": 851,
         "gender": "male",
         "lunch": "standard",
         "math score": 4.66,
         "names": "Aaron Shelly",
         "parental level of education": "associate's degree",
         "race/ethnicity": "group D",
         "reading score": 3.88,
         "test preparation course": "none",
         "writing score": 3.76
        },
        {
         "GPA": "R",
         "_deepnote_index_column": 852,
         "gender": "male",
         "lunch": "free/reduced",
         "math score": 3.7,
         "names": "Charles Harian",
         "parental level of education": "some high school",
         "race/ethnicity": "group C",
         "reading score": 4.12,
         "test preparation course": "completed",
         "writing score": 3.94
        },
        {
         "GPA": "4.54",
         "_deepnote_index_column": 853,
         "gender": "male",
         "lunch": "free/reduced",
         "math score": 4.9,
         "names": "Steven Hacker",
         "parental level of education": "some high school",
         "race/ethnicity": "group A",
         "reading score": 4.54,
         "test preparation course": "none",
         "writing score": 4.18
        },
        {
         "GPA": "R",
         "_deepnote_index_column": 854,
         "gender": "female",
         "lunch": "free/reduced",
         "math score": 2.62,
         "names": "Wendy Gunnell",
         "parental level of education": "some high school",
         "race/ethnicity": "group D",
         "reading score": 3.04,
         "test preparation course": "none",
         "writing score": 2.92
        },
        {
         "GPA": "5.78",
         "_deepnote_index_column": 855,
         "gender": "male",
         "lunch": "standard",
         "math score": 6.28,
         "names": "Manuel Glover",
         "parental level of education": "some college",
         "race/ethnicity": "group D",
         "reading score": 5.38,
         "test preparation course": "none",
         "writing score": 5.68
        },
        {
         "GPA": "5.5",
         "_deepnote_index_column": 856,
         "gender": "female",
         "lunch": "standard",
         "math score": 4.9,
         "names": "Linda Nevin",
         "parental level of education": "some high school",
         "race/ethnicity": "group B",
         "reading score": 5.92,
         "test preparation course": "completed",
         "writing score": 5.68
        },
        {
         "GPA": "4.92",
         "_deepnote_index_column": 857,
         "gender": "male",
         "lunch": "free/reduced",
         "math score": 4.78,
         "names": "James Piper",
         "parental level of education": "bachelor's degree",
         "race/ethnicity": "group D",
         "reading score": 4.96,
         "test preparation course": "none",
         "writing score": 5.02
        },
        {
         "GPA": "5.82",
         "_deepnote_index_column": 858,
         "gender": "male",
         "lunch": "free/reduced",
         "math score": 5.68,
         "names": "Timothy Anderson",
         "parental level of education": "associate's degree",
         "race/ethnicity": "group C",
         "reading score": 5.86,
         "test preparation course": "completed",
         "writing score": 5.92
        },
        {
         "GPA": "5.22",
         "_deepnote_index_column": 859,
         "gender": "female",
         "lunch": "standard",
         "math score": 4.9,
         "names": "Julie Sciancalepore",
         "parental level of education": "bachelor's degree",
         "race/ethnicity": "group C",
         "reading score": 5.32,
         "test preparation course": "none",
         "writing score": 5.44
        },
        {
         "GPA": "6.04",
         "_deepnote_index_column": 860,
         "gender": "male",
         "lunch": "free/reduced",
         "math score": 6.4,
         "names": "Brandon Palmer",
         "parental level of education": "associate's degree",
         "race/ethnicity": "group D",
         "reading score": 6.22,
         "test preparation course": "none",
         "writing score": 5.5
        },
        {
         "GPA": "6.92",
         "_deepnote_index_column": 861,
         "gender": "male",
         "lunch": "standard",
         "math score": 7,
         "names": "Robert Morrison",
         "parental level of education": "some college",
         "race/ethnicity": "group D",
         "reading score": 6.82,
         "test preparation course": "completed",
         "writing score": 6.94
        },
        {
         "GPA": "5.22",
         "_deepnote_index_column": 862,
         "gender": "male",
         "lunch": "free/reduced",
         "math score": 5.02,
         "names": "Claudio Millender",
         "parental level of education": "some college",
         "race/ethnicity": "group C",
         "reading score": 5.44,
         "test preparation course": "completed",
         "writing score": 5.2
        },
        {
         "GPA": "5.56",
         "_deepnote_index_column": 863,
         "gender": "female",
         "lunch": "standard",
         "math score": 5.44,
         "names": "Emily King",
         "parental level of education": "some college",
         "race/ethnicity": "group D",
         "reading score": 5.5,
         "test preparation course": "completed",
         "writing score": 5.74
        },
        {
         "GPA": "5.2",
         "_deepnote_index_column": 864,
         "gender": "male",
         "lunch": "standard",
         "math score": 5.56,
         "names": "William Sakkinen",
         "parental level of education": "some college",
         "race/ethnicity": "group E",
         "reading score": 5.02,
         "test preparation course": "none",
         "writing score": 5.02
        },
        {
         "GPA": "5.16",
         "_deepnote_index_column": 865,
         "gender": "female",
         "lunch": "standard",
         "math score": 4.96,
         "names": "Elsa Hyman",
         "parental level of education": "high school",
         "race/ethnicity": "group B",
         "reading score": 5.32,
         "test preparation course": "none",
         "writing score": 5.2
        },
        {
         "GPA": "4.96",
         "_deepnote_index_column": 866,
         "gender": "female",
         "lunch": "standard",
         "math score": 4.54,
         "names": "Virginia Sievers",
         "parental level of education": "bachelor's degree",
         "race/ethnicity": "group C",
         "reading score": 4.84,
         "test preparation course": "completed",
         "writing score": 5.5
        },
        {
         "GPA": "5.36",
         "_deepnote_index_column": 867,
         "gender": "female",
         "lunch": "standard",
         "math score": 4.72,
         "names": "Laura Cavanaugh",
         "parental level of education": "associate's degree",
         "race/ethnicity": "group C",
         "reading score": 5.56,
         "test preparation course": "completed",
         "writing score": 5.8
        },
        {
         "GPA": "R",
         "_deepnote_index_column": 868,
         "gender": "female",
         "lunch": "free/reduced",
         "math score": 3.46,
         "names": "Diana Costa",
         "parental level of education": "high school",
         "race/ethnicity": "group C",
         "reading score": 3.76,
         "test preparation course": "none",
         "writing score": 3.58
        },
        {
         "GPA": "R",
         "_deepnote_index_column": 869,
         "gender": "female",
         "lunch": "standard",
         "math score": 2.74,
         "names": "Amy Sieving",
         "parental level of education": "high school",
         "race/ethnicity": "group C",
         "reading score": 2.74,
         "test preparation course": "none",
         "writing score": 2.8
        },
        {
         "GPA": "5.3",
         "_deepnote_index_column": 870,
         "gender": "male",
         "lunch": "standard",
         "math score": 5.14,
         "names": "Richard Young",
         "parental level of education": "high school",
         "race/ethnicity": "group D",
         "reading score": 5.5,
         "test preparation course": "none",
         "writing score": 5.26
        },
        {
         "GPA": "R",
         "_deepnote_index_column": 871,
         "gender": "female",
         "lunch": "free/reduced",
         "math score": 2.38,
         "names": "Wanda Russell",
         "parental level of education": "high school",
         "race/ethnicity": "group B",
         "reading score": 3.64,
         "test preparation course": "completed",
         "writing score": 3.16
        },
        {
         "GPA": "5.42",
         "_deepnote_index_column": 872,
         "gender": "female",
         "lunch": "free/reduced",
         "math score": 4.96,
         "names": "Marina Zeigler",
         "parental level of education": "bachelor's degree",
         "race/ethnicity": "group C",
         "reading score": 5.44,
         "test preparation course": "completed",
         "writing score": 5.86
        },
        {
         "GPA": "4.54",
         "_deepnote_index_column": 873,
         "gender": "female",
         "lunch": "standard",
         "math score": 4.24,
         "names": "Laurie Carter",
         "parental level of education": "some high school",
         "race/ethnicity": "group B",
         "reading score": 4.66,
         "test preparation course": "completed",
         "writing score": 4.72
        },
        {
         "GPA": "5.48",
         "_deepnote_index_column": 874,
         "gender": "female",
         "lunch": "standard",
         "math score": 5.08,
         "names": "Amanda Perez",
         "parental level of education": "high school",
         "race/ethnicity": "group A",
         "reading score": 5.8,
         "test preparation course": "completed",
         "writing score": 5.56
        }
       ],
       "rows_top": [
        {
         "GPA": "R",
         "_deepnote_index_column": 0,
         "gender": "female",
         "lunch": "standard",
         "math score": 3.22,
         "names": "Rita Courtney",
         "parental level of education": "some high school",
         "race/ethnicity": "group B",
         "reading score": 3.76,
         "test preparation course": "none",
         "writing score": 3.76
        },
        {
         "GPA": "5.78",
         "_deepnote_index_column": 1,
         "gender": "male",
         "lunch": "standard",
         "math score": 5.8,
         "names": "Charles Linstrom",
         "parental level of education": "bachelor's degree",
         "race/ethnicity": "group A",
         "reading score": 5.68,
         "test preparation course": "completed",
         "writing score": 5.86
        },
        {
         "GPA": "5.04",
         "_deepnote_index_column": 2,
         "gender": "male",
         "lunch": "standard",
         "math score": 5.38,
         "names": "Brian Young",
         "parental level of education": "some high school",
         "race/ethnicity": "group C",
         "reading score": 4.96,
         "test preparation course": "none",
         "writing score": 4.78
        },
        {
         "GPA": "5.64",
         "_deepnote_index_column": 3,
         "gender": "male",
         "lunch": "standard",
         "math score": 5.86,
         "names": "Howard Jimenez",
         "parental level of education": "some high school",
         "race/ethnicity": "group E",
         "reading score": 5.5,
         "test preparation course": "completed",
         "writing score": 5.56
        },
        {
         "GPA": "6.34",
         "_deepnote_index_column": 4,
         "gender": "male",
         "lunch": "standard",
         "math score": 6.64,
         "names": "Wayne Wilson",
         "parental level of education": "some high school",
         "race/ethnicity": "group B",
         "reading score": 6.16,
         "test preparation course": "completed",
         "writing score": 6.22
        },
        {
         "GPA": "5.02",
         "_deepnote_index_column": 5,
         "gender": "male",
         "lunch": "standard",
         "math score": 5.26,
         "names": "Jonathan Clingan",
         "parental level of education": "some college",
         "race/ethnicity": "group D",
         "reading score": 4.66,
         "test preparation course": "completed",
         "writing score": 5.14
        },
        {
         "GPA": "5.14",
         "_deepnote_index_column": 6,
         "gender": "male",
         "lunch": "standard",
         "math score": 5.5,
         "names": "William Tang",
         "parental level of education": "associate's degree",
         "race/ethnicity": "group D",
         "reading score": 5.08,
         "test preparation course": "none",
         "writing score": 4.84
        },
        {
         "GPA": "R",
         "_deepnote_index_column": 7,
         "gender": "female",
         "lunch": "free/reduced",
         "math score": 3.04,
         "names": "Mikki Amaya",
         "parental level of education": "high school",
         "race/ethnicity": "group A",
         "reading score": 3.88,
         "test preparation course": "completed",
         "writing score": 3.46
        },
        {
         "GPA": "4.7",
         "_deepnote_index_column": 8,
         "gender": "male",
         "lunch": "standard",
         "math score": 4.78,
         "names": "Gerald Wilson",
         "parental level of education": "associate's degree",
         "race/ethnicity": "group A",
         "reading score": 4.66,
         "test preparation course": "none",
         "writing score": 4.66
        },
        {
         "GPA": "5.76",
         "_deepnote_index_column": 9,
         "gender": "male",
         "lunch": "standard",
         "math score": 6.64,
         "names": "Damon Mckee",
         "parental level of education": "high school",
         "race/ethnicity": "group E",
         "reading score": 5.38,
         "test preparation course": "none",
         "writing score": 5.26
        },
        {
         "GPA": "5.5",
         "_deepnote_index_column": 10,
         "gender": "female",
         "lunch": "standard",
         "math score": 4.9,
         "names": "Sophia Bijou",
         "parental level of education": "some high school",
         "race/ethnicity": "group D",
         "reading score": 5.68,
         "test preparation course": "completed",
         "writing score": 5.92
        },
        {
         "GPA": "4.96",
         "_deepnote_index_column": 11,
         "gender": "female",
         "lunch": "free/reduced",
         "math score": 4.12,
         "names": "Monica Schwartz",
         "parental level of education": "associate's degree",
         "race/ethnicity": "group B",
         "reading score": 5.56,
         "test preparation course": "none",
         "writing score": 5.2
        },
        {
         "GPA": "4.7",
         "_deepnote_index_column": 12,
         "gender": "male",
         "lunch": "standard",
         "math score": 4.72,
         "names": "Donald Upchurch",
         "parental level of education": "associate's degree",
         "race/ethnicity": "group C",
         "reading score": 4.9,
         "test preparation course": "none",
         "writing score": 4.48
        },
        {
         "GPA": "5.4",
         "_deepnote_index_column": 13,
         "gender": "male",
         "lunch": "standard",
         "math score": 5.44,
         "names": "Donald Dunnings",
         "parental level of education": "some high school",
         "race/ethnicity": "group D",
         "reading score": 5.44,
         "test preparation course": "none",
         "writing score": 5.32
        },
        {
         "GPA": "4.62",
         "_deepnote_index_column": 14,
         "gender": "male",
         "lunch": "free/reduced",
         "math score": 4.72,
         "names": "Joseph Mccoy",
         "parental level of education": "some college",
         "race/ethnicity": "group D",
         "reading score": 4.42,
         "test preparation course": "none",
         "writing score": 4.72
        },
        {
         "GPA": "5.2",
         "_deepnote_index_column": 15,
         "gender": "male",
         "lunch": "standard",
         "math score": 5.38,
         "names": "David Dupree",
         "parental level of education": "high school",
         "race/ethnicity": "group B",
         "reading score": 5.14,
         "test preparation course": "completed",
         "writing score": 5.08
        },
        {
         "GPA": "R",
         "_deepnote_index_column": 16,
         "gender": "male",
         "lunch": "free/reduced",
         "math score": 3.76,
         "names": "Samuel Dougal",
         "parental level of education": "master's degree",
         "race/ethnicity": "group C",
         "reading score": 3.52,
         "test preparation course": "completed",
         "writing score": 3.76
        },
        {
         "GPA": "5.76",
         "_deepnote_index_column": 17,
         "gender": "male",
         "lunch": "standard",
         "math score": 5.92,
         "names": "Richard Pina",
         "parental level of education": "master's degree",
         "race/ethnicity": "group D",
         "reading score": 5.92,
         "test preparation course": "none",
         "writing score": 5.44
        },
        {
         "GPA": "4.68",
         "_deepnote_index_column": 18,
         "gender": "male",
         "lunch": "free/reduced",
         "math score": 4.78,
         "names": "Dale Sylvain",
         "parental level of education": "some college",
         "race/ethnicity": "group D",
         "reading score": 4.66,
         "test preparation course": "none",
         "writing score": 4.6
        },
        {
         "GPA": "5.1",
         "_deepnote_index_column": 19,
         "gender": "female",
         "lunch": "free/reduced",
         "math score": 4.84,
         "names": "Janine Taylor",
         "parental level of education": "associate's degree",
         "race/ethnicity": "group C",
         "reading score": 5.38,
         "test preparation course": "none",
         "writing score": 5.08
        },
        {
         "GPA": "5.64",
         "_deepnote_index_column": 20,
         "gender": "male",
         "lunch": "standard",
         "math score": 5.8,
         "names": "Alexander Dillon",
         "parental level of education": "associate's degree",
         "race/ethnicity": "group D",
         "reading score": 5.5,
         "test preparation course": "none",
         "writing score": 5.62
        },
        {
         "GPA": "6.86",
         "_deepnote_index_column": 21,
         "gender": "female",
         "lunch": "free/reduced",
         "math score": 6.58,
         "names": "Shanna Braswell",
         "parental level of education": "bachelor's degree",
         "race/ethnicity": "group D",
         "reading score": 7,
         "test preparation course": "completed",
         "writing score": 7
        },
        {
         "GPA": "5.38",
         "_deepnote_index_column": 22,
         "gender": "female",
         "lunch": "standard",
         "math score": 5.14,
         "names": "Bonnie Ramos",
         "parental level of education": "high school",
         "race/ethnicity": "group B",
         "reading score": 5.56,
         "test preparation course": "completed",
         "writing score": 5.44
        },
        {
         "GPA": "4.24",
         "_deepnote_index_column": 23,
         "gender": "female",
         "lunch": "free/reduced",
         "math score": 3.76,
         "names": "Connie Shinn",
         "parental level of education": "associate's degree",
         "race/ethnicity": "group B",
         "reading score": 4.66,
         "test preparation course": "none",
         "writing score": 4.3
        },
        {
         "GPA": "5.94",
         "_deepnote_index_column": 24,
         "gender": "male",
         "lunch": "standard",
         "math score": 6.16,
         "names": "Daniel Cartwright",
         "parental level of education": "high school",
         "race/ethnicity": "group C",
         "reading score": 5.86,
         "test preparation course": "completed",
         "writing score": 5.8
        },
        {
         "GPA": "5.02",
         "_deepnote_index_column": 25,
         "gender": "female",
         "lunch": "standard",
         "math score": 4.54,
         "names": "Betty Buntin",
         "parental level of education": "bachelor's degree",
         "race/ethnicity": "group A",
         "reading score": 5.32,
         "test preparation course": "none",
         "writing score": 5.2
        },
        {
         "GPA": "5.84",
         "_deepnote_index_column": 26,
         "gender": "male",
         "lunch": "standard",
         "math score": 6.04,
         "names": "Francis Seibold",
         "parental level of education": "some high school",
         "race/ethnicity": "group B",
         "reading score": 5.98,
         "test preparation course": "completed",
         "writing score": 5.5
        },
        {
         "GPA": "4.9",
         "_deepnote_index_column": 27,
         "gender": "male",
         "lunch": "free/reduced",
         "math score": 4.84,
         "names": "Arthur Byer",
         "parental level of education": "high school",
         "race/ethnicity": "group D",
         "reading score": 4.84,
         "test preparation course": "completed",
         "writing score": 5.02
        },
        {
         "GPA": "5.54",
         "_deepnote_index_column": 28,
         "gender": "female",
         "lunch": "free/reduced",
         "math score": 5.38,
         "names": "Willie Neff",
         "parental level of education": "associate's degree",
         "race/ethnicity": "group E",
         "reading score": 5.56,
         "test preparation course": "none",
         "writing score": 5.68
        },
        {
         "GPA": "6.14",
         "_deepnote_index_column": 29,
         "gender": "female",
         "lunch": "free/reduced",
         "math score": 5.98,
         "names": "Thelma Yeates",
         "parental level of education": "associate's degree",
         "race/ethnicity": "group E",
         "reading score": 6.16,
         "test preparation course": "completed",
         "writing score": 6.28
        },
        {
         "GPA": "5.96",
         "_deepnote_index_column": 30,
         "gender": "female",
         "lunch": "free/reduced",
         "math score": 5.5,
         "names": "Mary Piotrowski",
         "parental level of education": "some college",
         "race/ethnicity": "group E",
         "reading score": 6.28,
         "test preparation course": "completed",
         "writing score": 6.1
        },
        {
         "GPA": "5.34",
         "_deepnote_index_column": 31,
         "gender": "female",
         "lunch": "standard",
         "math score": 5.14,
         "names": "Hazel Montoya",
         "parental level of education": "some college",
         "race/ethnicity": "group D",
         "reading score": 5.44,
         "test preparation course": "none",
         "writing score": 5.44
        },
        {
         "GPA": "5.1",
         "_deepnote_index_column": 32,
         "gender": "male",
         "lunch": "standard",
         "math score": 5.08,
         "names": "James Eury",
         "parental level of education": "some college",
         "race/ethnicity": "group E",
         "reading score": 5.32,
         "test preparation course": "none",
         "writing score": 4.9
        },
        {
         "GPA": "4.44",
         "_deepnote_index_column": 33,
         "gender": "male",
         "lunch": "standard",
         "math score": 4.42,
         "names": "Larry Dunn",
         "parental level of education": "some high school",
         "race/ethnicity": "group C",
         "reading score": 4.66,
         "test preparation course": "none",
         "writing score": 4.24
        },
        {
         "GPA": "4.84",
         "_deepnote_index_column": 34,
         "gender": "male",
         "lunch": "standard",
         "math score": 4.96,
         "names": "David Dunham",
         "parental level of education": "bachelor's degree",
         "race/ethnicity": "group A",
         "reading score": 4.84,
         "test preparation course": "none",
         "writing score": 4.72
        },
        {
         "GPA": "4.68",
         "_deepnote_index_column": 35,
         "gender": "male",
         "lunch": "standard",
         "math score": 4.66,
         "names": "Jeffery Wiedmann",
         "parental level of education": "some college",
         "race/ethnicity": "group C",
         "reading score": 4.66,
         "test preparation course": "none",
         "writing score": 4.72
        },
        {
         "GPA": "4.06",
         "_deepnote_index_column": 36,
         "gender": "female",
         "lunch": "free/reduced",
         "math score": 3.4,
         "names": "Lisa Watters",
         "parental level of education": "master's degree",
         "race/ethnicity": "group D",
         "reading score": 4.54,
         "test preparation course": "none",
         "writing score": 4.24
        },
        {
         "GPA": "4.6",
         "_deepnote_index_column": 37,
         "gender": "female",
         "lunch": "free/reduced",
         "math score": 4,
         "names": "Katharine Kellum",
         "parental level of education": "high school",
         "race/ethnicity": "group B",
         "reading score": 5.02,
         "test preparation course": "none",
         "writing score": 4.78
        },
        {
         "GPA": "4.4",
         "_deepnote_index_column": 38,
         "gender": "female",
         "lunch": "standard",
         "math score": 3.88,
         "names": "Marjorie Brown",
         "parental level of education": "high school",
         "race/ethnicity": "group B",
         "reading score": 4.72,
         "test preparation course": "none",
         "writing score": 4.6
        },
        {
         "GPA": "R",
         "_deepnote_index_column": 39,
         "gender": "male",
         "lunch": "free/reduced",
         "math score": 3.16,
         "names": "Rodger Talavera",
         "parental level of education": "high school",
         "race/ethnicity": "group B",
         "reading score": 2.74,
         "test preparation course": "none",
         "writing score": 2.62
        },
        {
         "GPA": "5.66",
         "_deepnote_index_column": 40,
         "gender": "female",
         "lunch": "free/reduced",
         "math score": 5.68,
         "names": "Mary Jackson",
         "parental level of education": "bachelor's degree",
         "race/ethnicity": "group B",
         "reading score": 5.74,
         "test preparation course": "none",
         "writing score": 5.56
        },
        {
         "GPA": "4.92",
         "_deepnote_index_column": 41,
         "gender": "female",
         "lunch": "standard",
         "math score": 4.42,
         "names": "Rebecca Dalton",
         "parental level of education": "some high school",
         "race/ethnicity": "group B",
         "reading score": 5.02,
         "test preparation course": "none",
         "writing score": 5.32
        },
        {
         "GPA": "4.68",
         "_deepnote_index_column": 42,
         "gender": "male",
         "lunch": "standard",
         "math score": 5.14,
         "names": "David Fisk",
         "parental level of education": "bachelor's degree",
         "race/ethnicity": "group D",
         "reading score": 4.48,
         "test preparation course": "none",
         "writing score": 4.42
        },
        {
         "GPA": "R",
         "_deepnote_index_column": 43,
         "gender": "male",
         "lunch": "free/reduced",
         "math score": 3.4,
         "names": "Morris Johnson",
         "parental level of education": "associate's degree",
         "race/ethnicity": "group A",
         "reading score": 4.3,
         "test preparation course": "completed",
         "writing score": 4.18
        },
        {
         "GPA": "6.14",
         "_deepnote_index_column": 44,
         "gender": "male",
         "lunch": "standard",
         "math score": 6.52,
         "names": "Rodrick Rasch",
         "parental level of education": "some high school",
         "race/ethnicity": "group E",
         "reading score": 6.22,
         "test preparation course": "none",
         "writing score": 5.68
        },
        {
         "GPA": "R",
         "_deepnote_index_column": 45,
         "gender": "male",
         "lunch": "free/reduced",
         "math score": 3.1,
         "names": "Anthony Malcomb",
         "parental level of education": "some college",
         "race/ethnicity": "group C",
         "reading score": 2.68,
         "test preparation course": "none",
         "writing score": 2.62
        },
        {
         "GPA": "5.0",
         "_deepnote_index_column": 46,
         "gender": "female",
         "lunch": "standard",
         "math score": 4.78,
         "names": "Joyce Amos",
         "parental level of education": "associate's degree",
         "race/ethnicity": "group C",
         "reading score": 5.02,
         "test preparation course": "none",
         "writing score": 5.2
        },
        {
         "GPA": "5.16",
         "_deepnote_index_column": 47,
         "gender": "male",
         "lunch": "standard",
         "math score": 5.38,
         "names": "Donald Chestnut",
         "parental level of education": "some college",
         "race/ethnicity": "group C",
         "reading score": 5.44,
         "test preparation course": "none",
         "writing score": 4.66
        },
        {
         "GPA": "4.88",
         "_deepnote_index_column": 48,
         "gender": "female",
         "lunch": "standard",
         "math score": 4.78,
         "names": "Lynne Rodgers",
         "parental level of education": "some college",
         "race/ethnicity": "group D",
         "reading score": 4.84,
         "test preparation course": "none",
         "writing score": 5.02
        },
        {
         "GPA": "4.52",
         "_deepnote_index_column": 49,
         "gender": "female",
         "lunch": "free/reduced",
         "math score": 4.12,
         "names": "Diane Preister",
         "parental level of education": "some college",
         "race/ethnicity": "group D",
         "reading score": 4.54,
         "test preparation course": "completed",
         "writing score": 4.9
        }
       ]
      },
      "text/html": [
       "<div>\n",
       "<style scoped>\n",
       "    .dataframe tbody tr th:only-of-type {\n",
       "        vertical-align: middle;\n",
       "    }\n",
       "\n",
       "    .dataframe tbody tr th {\n",
       "        vertical-align: top;\n",
       "    }\n",
       "\n",
       "    .dataframe thead th {\n",
       "        text-align: right;\n",
       "    }\n",
       "</style>\n",
       "<table border=\"1\" class=\"dataframe\">\n",
       "  <thead>\n",
       "    <tr style=\"text-align: right;\">\n",
       "      <th></th>\n",
       "      <th>names</th>\n",
       "      <th>gender</th>\n",
       "      <th>race/ethnicity</th>\n",
       "      <th>parental level of education</th>\n",
       "      <th>lunch</th>\n",
       "      <th>test preparation course</th>\n",
       "      <th>math score</th>\n",
       "      <th>reading score</th>\n",
       "      <th>writing score</th>\n",
       "      <th>GPA</th>\n",
       "    </tr>\n",
       "  </thead>\n",
       "  <tbody>\n",
       "    <tr>\n",
       "      <th>0</th>\n",
       "      <td>Rita Courtney</td>\n",
       "      <td>female</td>\n",
       "      <td>group B</td>\n",
       "      <td>some high school</td>\n",
       "      <td>standard</td>\n",
       "      <td>none</td>\n",
       "      <td>3.22</td>\n",
       "      <td>3.76</td>\n",
       "      <td>3.76</td>\n",
       "      <td>R</td>\n",
       "    </tr>\n",
       "    <tr>\n",
       "      <th>1</th>\n",
       "      <td>Charles Linstrom</td>\n",
       "      <td>male</td>\n",
       "      <td>group A</td>\n",
       "      <td>bachelor's degree</td>\n",
       "      <td>standard</td>\n",
       "      <td>completed</td>\n",
       "      <td>5.80</td>\n",
       "      <td>5.68</td>\n",
       "      <td>5.86</td>\n",
       "      <td>5.78</td>\n",
       "    </tr>\n",
       "    <tr>\n",
       "      <th>2</th>\n",
       "      <td>Brian Young</td>\n",
       "      <td>male</td>\n",
       "      <td>group C</td>\n",
       "      <td>some high school</td>\n",
       "      <td>standard</td>\n",
       "      <td>none</td>\n",
       "      <td>5.38</td>\n",
       "      <td>4.96</td>\n",
       "      <td>4.78</td>\n",
       "      <td>5.04</td>\n",
       "    </tr>\n",
       "    <tr>\n",
       "      <th>3</th>\n",
       "      <td>Howard Jimenez</td>\n",
       "      <td>male</td>\n",
       "      <td>group E</td>\n",
       "      <td>some high school</td>\n",
       "      <td>standard</td>\n",
       "      <td>completed</td>\n",
       "      <td>5.86</td>\n",
       "      <td>5.50</td>\n",
       "      <td>5.56</td>\n",
       "      <td>5.64</td>\n",
       "    </tr>\n",
       "    <tr>\n",
       "      <th>4</th>\n",
       "      <td>Wayne Wilson</td>\n",
       "      <td>male</td>\n",
       "      <td>group B</td>\n",
       "      <td>some high school</td>\n",
       "      <td>standard</td>\n",
       "      <td>completed</td>\n",
       "      <td>6.64</td>\n",
       "      <td>6.16</td>\n",
       "      <td>6.22</td>\n",
       "      <td>6.34</td>\n",
       "    </tr>\n",
       "    <tr>\n",
       "      <th>...</th>\n",
       "      <td>...</td>\n",
       "      <td>...</td>\n",
       "      <td>...</td>\n",
       "      <td>...</td>\n",
       "      <td>...</td>\n",
       "      <td>...</td>\n",
       "      <td>...</td>\n",
       "      <td>...</td>\n",
       "      <td>...</td>\n",
       "      <td>...</td>\n",
       "    </tr>\n",
       "    <tr>\n",
       "      <th>870</th>\n",
       "      <td>Richard Young</td>\n",
       "      <td>male</td>\n",
       "      <td>group D</td>\n",
       "      <td>high school</td>\n",
       "      <td>standard</td>\n",
       "      <td>none</td>\n",
       "      <td>5.14</td>\n",
       "      <td>5.50</td>\n",
       "      <td>5.26</td>\n",
       "      <td>5.3</td>\n",
       "    </tr>\n",
       "    <tr>\n",
       "      <th>871</th>\n",
       "      <td>Wanda Russell</td>\n",
       "      <td>female</td>\n",
       "      <td>group B</td>\n",
       "      <td>high school</td>\n",
       "      <td>free/reduced</td>\n",
       "      <td>completed</td>\n",
       "      <td>2.38</td>\n",
       "      <td>3.64</td>\n",
       "      <td>3.16</td>\n",
       "      <td>R</td>\n",
       "    </tr>\n",
       "    <tr>\n",
       "      <th>872</th>\n",
       "      <td>Marina Zeigler</td>\n",
       "      <td>female</td>\n",
       "      <td>group C</td>\n",
       "      <td>bachelor's degree</td>\n",
       "      <td>free/reduced</td>\n",
       "      <td>completed</td>\n",
       "      <td>4.96</td>\n",
       "      <td>5.44</td>\n",
       "      <td>5.86</td>\n",
       "      <td>5.42</td>\n",
       "    </tr>\n",
       "    <tr>\n",
       "      <th>873</th>\n",
       "      <td>Laurie Carter</td>\n",
       "      <td>female</td>\n",
       "      <td>group B</td>\n",
       "      <td>some high school</td>\n",
       "      <td>standard</td>\n",
       "      <td>completed</td>\n",
       "      <td>4.24</td>\n",
       "      <td>4.66</td>\n",
       "      <td>4.72</td>\n",
       "      <td>4.54</td>\n",
       "    </tr>\n",
       "    <tr>\n",
       "      <th>874</th>\n",
       "      <td>Amanda Perez</td>\n",
       "      <td>female</td>\n",
       "      <td>group A</td>\n",
       "      <td>high school</td>\n",
       "      <td>standard</td>\n",
       "      <td>completed</td>\n",
       "      <td>5.08</td>\n",
       "      <td>5.80</td>\n",
       "      <td>5.56</td>\n",
       "      <td>5.48</td>\n",
       "    </tr>\n",
       "  </tbody>\n",
       "</table>\n",
       "<p>875 rows × 10 columns</p>\n",
       "</div>"
      ],
      "text/plain": [
       "                names  gender race/ethnicity parental level of education  \\\n",
       "0       Rita Courtney  female        group B            some high school   \n",
       "1    Charles Linstrom    male        group A           bachelor's degree   \n",
       "2         Brian Young    male        group C            some high school   \n",
       "3      Howard Jimenez    male        group E            some high school   \n",
       "4        Wayne Wilson    male        group B            some high school   \n",
       "..                ...     ...            ...                         ...   \n",
       "870     Richard Young    male        group D                 high school   \n",
       "871     Wanda Russell  female        group B                 high school   \n",
       "872    Marina Zeigler  female        group C           bachelor's degree   \n",
       "873     Laurie Carter  female        group B            some high school   \n",
       "874      Amanda Perez  female        group A                 high school   \n",
       "\n",
       "            lunch test preparation course  math score  reading score  \\\n",
       "0        standard                    none        3.22           3.76   \n",
       "1        standard               completed        5.80           5.68   \n",
       "2        standard                    none        5.38           4.96   \n",
       "3        standard               completed        5.86           5.50   \n",
       "4        standard               completed        6.64           6.16   \n",
       "..            ...                     ...         ...            ...   \n",
       "870      standard                    none        5.14           5.50   \n",
       "871  free/reduced               completed        2.38           3.64   \n",
       "872  free/reduced               completed        4.96           5.44   \n",
       "873      standard               completed        4.24           4.66   \n",
       "874      standard               completed        5.08           5.80   \n",
       "\n",
       "     writing score   GPA  \n",
       "0             3.76     R  \n",
       "1             5.86  5.78  \n",
       "2             4.78  5.04  \n",
       "3             5.56  5.64  \n",
       "4             6.22  6.34  \n",
       "..             ...   ...  \n",
       "870           5.26   5.3  \n",
       "871           3.16     R  \n",
       "872           5.86  5.42  \n",
       "873           4.72  4.54  \n",
       "874           5.56  5.48  \n",
       "\n",
       "[875 rows x 10 columns]"
      ]
     },
     "execution_count": 15,
     "metadata": {},
     "output_type": "execute_result"
    }
   ],
   "source": [
    "dataframe2"
   ]
  },
  {
   "cell_type": "code",
   "execution_count": null,
   "metadata": {
    "cell_id": "00050-19596313-6c35-480a-b2e2-0e17df76f2b9",
    "deepnote_cell_type": "code",
    "deepnote_to_be_reexecuted": false,
    "execution_millis": 44,
    "execution_start": 1632493424750,
    "source_hash": "142d1b25",
    "tags": []
   },
   "outputs": [
    {
     "data": {
      "application/vnd.deepnote.dataframe.v2+json": {
       "column_count": 10,
       "columns": [
        {
         "dtype": "object",
         "name": "names",
         "stats": {
          "categories": [
           {
            "count": 1,
            "name": "Richard Pryor"
           },
           {
            "count": 1,
            "name": "Sandra Pompey"
           },
           {
            "count": 92,
            "name": "92 others"
           }
          ],
          "nan_count": 0,
          "unique_count": 94
         }
        },
        {
         "dtype": "object",
         "name": "gender",
         "stats": {
          "categories": [
           {
            "count": 53,
            "name": "female"
           },
           {
            "count": 41,
            "name": "male"
           }
          ],
          "nan_count": 0,
          "unique_count": 2
         }
        },
        {
         "dtype": "object",
         "name": "race/ethnicity",
         "stats": {
          "categories": [
           {
            "count": 29,
            "name": "group C"
           },
           {
            "count": 24,
            "name": "group E"
           },
           {
            "count": 41,
            "name": "3 others"
           }
          ],
          "nan_count": 0,
          "unique_count": 5
         }
        },
        {
         "dtype": "object",
         "name": "parental level of education",
         "stats": {
          "categories": [
           {
            "count": 31,
            "name": "associate's degree"
           },
           {
            "count": 22,
            "name": "some college"
           },
           {
            "count": 41,
            "name": "4 others"
           }
          ],
          "nan_count": 0,
          "unique_count": 6
         }
        },
        {
         "dtype": "object",
         "name": "lunch",
         "stats": {
          "categories": [
           {
            "count": 85,
            "name": "standard"
           },
           {
            "count": 9,
            "name": "free/reduced"
           }
          ],
          "nan_count": 0,
          "unique_count": 2
         }
        },
        {
         "dtype": "object",
         "name": "test preparation course",
         "stats": {
          "categories": [
           {
            "count": 53,
            "name": "completed"
           },
           {
            "count": 41,
            "name": "none"
           }
          ],
          "nan_count": 0,
          "unique_count": 2
         }
        },
        {
         "dtype": "float64",
         "name": "math score",
         "stats": {
          "histogram": [
           {
            "bin_end": 5.974,
            "bin_start": 5.86,
            "count": 15
           },
           {
            "bin_end": 6.088,
            "bin_start": 5.974,
            "count": 9
           },
           {
            "bin_end": 6.202,
            "bin_start": 6.088,
            "count": 11
           },
           {
            "bin_end": 6.316,
            "bin_start": 6.202,
            "count": 15
           },
           {
            "bin_end": 6.43,
            "bin_start": 6.316,
            "count": 8
           },
           {
            "bin_end": 6.5440000000000005,
            "bin_start": 6.43,
            "count": 7
           },
           {
            "bin_end": 6.658,
            "bin_start": 6.5440000000000005,
            "count": 8
           },
           {
            "bin_end": 6.772,
            "bin_start": 6.658,
            "count": 3
           },
           {
            "bin_end": 6.886,
            "bin_start": 6.772,
            "count": 9
           },
           {
            "bin_end": 7,
            "bin_start": 6.886,
            "count": 9
           }
          ],
          "max": "7.0",
          "min": "5.86",
          "nan_count": 0,
          "unique_count": 19
         }
        },
        {
         "dtype": "float64",
         "name": "reading score",
         "stats": {
          "histogram": [
           {
            "bin_end": 5.974,
            "bin_start": 5.86,
            "count": 7
           },
           {
            "bin_end": 6.088,
            "bin_start": 5.974,
            "count": 10
           },
           {
            "bin_end": 6.202,
            "bin_start": 6.088,
            "count": 11
           },
           {
            "bin_end": 6.316,
            "bin_start": 6.202,
            "count": 7
           },
           {
            "bin_end": 6.43,
            "bin_start": 6.316,
            "count": 11
           },
           {
            "bin_end": 6.5440000000000005,
            "bin_start": 6.43,
            "count": 10
           },
           {
            "bin_end": 6.658,
            "bin_start": 6.5440000000000005,
            "count": 6
           },
           {
            "bin_end": 6.772,
            "bin_start": 6.658,
            "count": 11
           },
           {
            "bin_end": 6.886,
            "bin_start": 6.772,
            "count": 4
           },
           {
            "bin_end": 7,
            "bin_start": 6.886,
            "count": 17
           }
          ],
          "max": "7.0",
          "min": "5.86",
          "nan_count": 0,
          "unique_count": 19
         }
        },
        {
         "dtype": "float64",
         "name": "writing score",
         "stats": {
          "histogram": [
           {
            "bin_end": 5.974,
            "bin_start": 5.86,
            "count": 10
           },
           {
            "bin_end": 6.088,
            "bin_start": 5.974,
            "count": 6
           },
           {
            "bin_end": 6.202,
            "bin_start": 6.088,
            "count": 12
           },
           {
            "bin_end": 6.316,
            "bin_start": 6.202,
            "count": 8
           },
           {
            "bin_end": 6.43,
            "bin_start": 6.316,
            "count": 10
           },
           {
            "bin_end": 6.5440000000000005,
            "bin_start": 6.43,
            "count": 11
           },
           {
            "bin_end": 6.658,
            "bin_start": 6.5440000000000005,
            "count": 9
           },
           {
            "bin_end": 6.772,
            "bin_start": 6.658,
            "count": 10
           },
           {
            "bin_end": 6.886,
            "bin_start": 6.772,
            "count": 2
           },
           {
            "bin_end": 7,
            "bin_start": 6.886,
            "count": 16
           }
          ],
          "max": "7.0",
          "min": "5.86",
          "nan_count": 0,
          "unique_count": 20
         }
        },
        {
         "dtype": "object",
         "name": "GPA",
         "stats": {
          "categories": [
           {
            "count": 5,
            "name": "6.5"
           },
           {
            "count": 4,
            "name": "6.64"
           },
           {
            "count": 85,
            "name": "43 others"
           }
          ],
          "nan_count": 0,
          "unique_count": 45
         }
        },
        {
         "dtype": "int64",
         "name": "_deepnote_index_column"
        }
       ],
       "row_count": 94,
       "rows_bottom": null,
       "rows_top": [
        {
         "GPA": "7.0",
         "_deepnote_index_column": 0,
         "gender": "male",
         "lunch": "standard",
         "math score": 7,
         "names": "Richard Pryor",
         "parental level of education": "bachelor's degree",
         "race/ethnicity": "group E",
         "reading score": 7,
         "test preparation course": "completed",
         "writing score": 7
        },
        {
         "GPA": "7.0",
         "_deepnote_index_column": 1,
         "gender": "female",
         "lunch": "standard",
         "math score": 7,
         "names": "Sandra Pompey",
         "parental level of education": "associate's degree",
         "race/ethnicity": "group E",
         "reading score": 7,
         "test preparation course": "none",
         "writing score": 7
        },
        {
         "GPA": "7.0",
         "_deepnote_index_column": 2,
         "gender": "female",
         "lunch": "standard",
         "math score": 7,
         "names": "Elizabeth Beasley",
         "parental level of education": "bachelor's degree",
         "race/ethnicity": "group E",
         "reading score": 7,
         "test preparation course": "none",
         "writing score": 7
        },
        {
         "GPA": "6.98",
         "_deepnote_index_column": 3,
         "gender": "female",
         "lunch": "standard",
         "math score": 6.94,
         "names": "Emma Gray",
         "parental level of education": "bachelor's degree",
         "race/ethnicity": "group E",
         "reading score": 7,
         "test preparation course": "completed",
         "writing score": 7
        },
        {
         "GPA": "6.94",
         "_deepnote_index_column": 4,
         "gender": "female",
         "lunch": "standard",
         "math score": 6.82,
         "names": "Emma Brasher",
         "parental level of education": "some high school",
         "race/ethnicity": "group D",
         "reading score": 7,
         "test preparation course": "completed",
         "writing score": 7
        },
        {
         "GPA": "6.94",
         "_deepnote_index_column": 5,
         "gender": "female",
         "lunch": "standard",
         "math score": 6.88,
         "names": "Angela Cressey",
         "parental level of education": "some college",
         "race/ethnicity": "group D",
         "reading score": 7,
         "test preparation course": "none",
         "writing score": 6.94
        },
        {
         "GPA": "6.92",
         "_deepnote_index_column": 6,
         "gender": "female",
         "lunch": "standard",
         "math score": 6.76,
         "names": "Emmie Mooreland",
         "parental level of education": "bachelor's degree",
         "race/ethnicity": "group C",
         "reading score": 7,
         "test preparation course": "completed",
         "writing score": 7
        },
        {
         "GPA": "6.92",
         "_deepnote_index_column": 7,
         "gender": "male",
         "lunch": "standard",
         "math score": 7,
         "names": "Robert Morrison",
         "parental level of education": "some college",
         "race/ethnicity": "group D",
         "reading score": 6.82,
         "test preparation course": "completed",
         "writing score": 6.94
        },
        {
         "GPA": "6.86",
         "_deepnote_index_column": 8,
         "gender": "male",
         "lunch": "free/reduced",
         "math score": 7,
         "names": "David Martinez",
         "parental level of education": "associate's degree",
         "race/ethnicity": "group E",
         "reading score": 7,
         "test preparation course": "completed",
         "writing score": 6.58
        },
        {
         "GPA": "6.86",
         "_deepnote_index_column": 9,
         "gender": "female",
         "lunch": "free/reduced",
         "math score": 6.58,
         "names": "Shanna Braswell",
         "parental level of education": "bachelor's degree",
         "race/ethnicity": "group D",
         "reading score": 7,
         "test preparation course": "completed",
         "writing score": 7
        },
        {
         "GPA": "6.86",
         "_deepnote_index_column": 10,
         "gender": "female",
         "lunch": "standard",
         "math score": 6.64,
         "names": "Ana Loredo",
         "parental level of education": "master's degree",
         "race/ethnicity": "group E",
         "reading score": 6.94,
         "test preparation course": "completed",
         "writing score": 7
        },
        {
         "GPA": "6.84",
         "_deepnote_index_column": 11,
         "gender": "female",
         "lunch": "standard",
         "math score": 6.52,
         "names": "Agatha Bergman",
         "parental level of education": "master's degree",
         "race/ethnicity": "group D",
         "reading score": 7,
         "test preparation course": "none",
         "writing score": 7
        },
        {
         "GPA": "6.82",
         "_deepnote_index_column": 12,
         "gender": "female",
         "lunch": "standard",
         "math score": 6.76,
         "names": "Loretta Velez",
         "parental level of education": "associate's degree",
         "race/ethnicity": "group C",
         "reading score": 6.76,
         "test preparation course": "completed",
         "writing score": 6.94
        },
        {
         "GPA": "6.82",
         "_deepnote_index_column": 13,
         "gender": "female",
         "lunch": "standard",
         "math score": 6.52,
         "names": "Angie Laskoski",
         "parental level of education": "bachelor's degree",
         "race/ethnicity": "group C",
         "reading score": 7,
         "test preparation course": "completed",
         "writing score": 6.94
        },
        {
         "GPA": "6.8",
         "_deepnote_index_column": 14,
         "gender": "female",
         "lunch": "standard",
         "math score": 6.82,
         "names": "Jeanine Diaz",
         "parental level of education": "bachelor's degree",
         "race/ethnicity": "group B",
         "reading score": 6.82,
         "test preparation course": "none",
         "writing score": 6.76
        },
        {
         "GPA": "6.78",
         "_deepnote_index_column": 15,
         "gender": "female",
         "lunch": "standard",
         "math score": 6.34,
         "names": "Sandra Case",
         "parental level of education": "bachelor's degree",
         "race/ethnicity": "group D",
         "reading score": 7,
         "test preparation course": "none",
         "writing score": 7
        },
        {
         "GPA": "6.78",
         "_deepnote_index_column": 16,
         "gender": "female",
         "lunch": "standard",
         "math score": 7,
         "names": "Olivia Papp",
         "parental level of education": "some college",
         "race/ethnicity": "group E",
         "reading score": 6.52,
         "test preparation course": "none",
         "writing score": 6.82
        },
        {
         "GPA": "6.76",
         "_deepnote_index_column": 17,
         "gender": "female",
         "lunch": "standard",
         "math score": 6.58,
         "names": "Sharon Matthews",
         "parental level of education": "associate's degree",
         "race/ethnicity": "group E",
         "reading score": 7,
         "test preparation course": "completed",
         "writing score": 6.7
        },
        {
         "GPA": "6.74",
         "_deepnote_index_column": 18,
         "gender": "female",
         "lunch": "standard",
         "math score": 6.28,
         "names": "Maryann Russell",
         "parental level of education": "high school",
         "race/ethnicity": "group D",
         "reading score": 6.94,
         "test preparation course": "completed",
         "writing score": 7
        },
        {
         "GPA": "6.64",
         "_deepnote_index_column": 19,
         "gender": "male",
         "lunch": "standard",
         "math score": 7,
         "names": "Raymond Stuart",
         "parental level of education": "some college",
         "race/ethnicity": "group A",
         "reading score": 6.76,
         "test preparation course": "completed",
         "writing score": 6.16
        },
        {
         "GPA": "6.64",
         "_deepnote_index_column": 20,
         "gender": "female",
         "lunch": "standard",
         "math score": 6.94,
         "names": "Cheryl Leonard",
         "parental level of education": "high school",
         "race/ethnicity": "group E",
         "reading score": 6.58,
         "test preparation course": "none",
         "writing score": 6.4
        },
        {
         "GPA": "6.64",
         "_deepnote_index_column": 21,
         "gender": "male",
         "lunch": "standard",
         "math score": 6.22,
         "names": "Garth Zayas",
         "parental level of education": "associate's degree",
         "race/ethnicity": "group C",
         "reading score": 7,
         "test preparation course": "completed",
         "writing score": 6.7
        },
        {
         "GPA": "6.64",
         "_deepnote_index_column": 22,
         "gender": "female",
         "lunch": "standard",
         "math score": 6.28,
         "names": "Melanie Acevedo",
         "parental level of education": "master's degree",
         "race/ethnicity": "group E",
         "reading score": 6.94,
         "test preparation course": "completed",
         "writing score": 6.7
        },
        {
         "GPA": "6.62",
         "_deepnote_index_column": 23,
         "gender": "male",
         "lunch": "standard",
         "math score": 6.82,
         "names": "Joseph Sisk",
         "parental level of education": "associate's degree",
         "race/ethnicity": "group C",
         "reading score": 6.58,
         "test preparation course": "none",
         "writing score": 6.46
        },
        {
         "GPA": "6.6",
         "_deepnote_index_column": 24,
         "gender": "female",
         "lunch": "free/reduced",
         "math score": 6.1,
         "names": "Ann Polston",
         "parental level of education": "master's degree",
         "race/ethnicity": "group D",
         "reading score": 6.7,
         "test preparation course": "completed",
         "writing score": 7
        },
        {
         "GPA": "6.6",
         "_deepnote_index_column": 25,
         "gender": "female",
         "lunch": "standard",
         "math score": 6.46,
         "names": "Belinda Tuholski",
         "parental level of education": "associate's degree",
         "race/ethnicity": "group C",
         "reading score": 6.7,
         "test preparation course": "none",
         "writing score": 6.64
        },
        {
         "GPA": "6.56",
         "_deepnote_index_column": 26,
         "gender": "male",
         "lunch": "standard",
         "math score": 6.46,
         "names": "James King",
         "parental level of education": "some college",
         "race/ethnicity": "group B",
         "reading score": 6.76,
         "test preparation course": "completed",
         "writing score": 6.46
        },
        {
         "GPA": "6.56",
         "_deepnote_index_column": 27,
         "gender": "female",
         "lunch": "standard",
         "math score": 6.4,
         "names": "Sarah Flannery",
         "parental level of education": "master's degree",
         "race/ethnicity": "group B",
         "reading score": 6.7,
         "test preparation course": "none",
         "writing score": 6.58
        },
        {
         "GPA": "6.56",
         "_deepnote_index_column": 28,
         "gender": "male",
         "lunch": "standard",
         "math score": 6.76,
         "names": "Joseph Dean",
         "parental level of education": "bachelor's degree",
         "race/ethnicity": "group C",
         "reading score": 6.4,
         "test preparation course": "completed",
         "writing score": 6.52
        },
        {
         "GPA": "6.54",
         "_deepnote_index_column": 29,
         "gender": "female",
         "lunch": "standard",
         "math score": 6.28,
         "names": "Kelly Summers",
         "parental level of education": "some college",
         "race/ethnicity": "group C",
         "reading score": 6.7,
         "test preparation course": "completed",
         "writing score": 6.64
        },
        {
         "GPA": "6.52",
         "_deepnote_index_column": 30,
         "gender": "female",
         "lunch": "standard",
         "math score": 6.22,
         "names": "Eleanor Bond",
         "parental level of education": "associate's degree",
         "race/ethnicity": "group E",
         "reading score": 6.64,
         "test preparation course": "none",
         "writing score": 6.7
        },
        {
         "GPA": "6.5",
         "_deepnote_index_column": 31,
         "gender": "male",
         "lunch": "standard",
         "math score": 6.88,
         "names": "Clyde Gay",
         "parental level of education": "associate's degree",
         "race/ethnicity": "group C",
         "reading score": 6.22,
         "test preparation course": "completed",
         "writing score": 6.4
        },
        {
         "GPA": "6.5",
         "_deepnote_index_column": 32,
         "gender": "female",
         "lunch": "standard",
         "math score": 6.28,
         "names": "Susan Miller",
         "parental level of education": "some college",
         "race/ethnicity": "group B",
         "reading score": 6.7,
         "test preparation course": "completed",
         "writing score": 6.52
        },
        {
         "GPA": "6.5",
         "_deepnote_index_column": 33,
         "gender": "female",
         "lunch": "standard",
         "math score": 6.28,
         "names": "Julie Smith",
         "parental level of education": "associate's degree",
         "race/ethnicity": "group D",
         "reading score": 6.52,
         "test preparation course": "completed",
         "writing score": 6.7
        },
        {
         "GPA": "6.5",
         "_deepnote_index_column": 34,
         "gender": "male",
         "lunch": "standard",
         "math score": 6.82,
         "names": "Ronald Coria",
         "parental level of education": "associate's degree",
         "race/ethnicity": "group A",
         "reading score": 6.52,
         "test preparation course": "completed",
         "writing score": 6.16
        },
        {
         "GPA": "6.5",
         "_deepnote_index_column": 35,
         "gender": "female",
         "lunch": "standard",
         "math score": 5.92,
         "names": "Terri Motley",
         "parental level of education": "some college",
         "race/ethnicity": "group D",
         "reading score": 6.82,
         "test preparation course": "completed",
         "writing score": 6.76
        },
        {
         "GPA": "6.48",
         "_deepnote_index_column": 36,
         "gender": "female",
         "lunch": "standard",
         "math score": 5.86,
         "names": "Linda Michael",
         "parental level of education": "some high school",
         "race/ethnicity": "group D",
         "reading score": 6.82,
         "test preparation course": "none",
         "writing score": 6.76
        },
        {
         "GPA": "6.48",
         "_deepnote_index_column": 37,
         "gender": "male",
         "lunch": "standard",
         "math score": 6.88,
         "names": "James Stanley",
         "parental level of education": "some college",
         "race/ethnicity": "group C",
         "reading score": 6.16,
         "test preparation course": "completed",
         "writing score": 6.4
        },
        {
         "GPA": "6.46",
         "_deepnote_index_column": 38,
         "gender": "female",
         "lunch": "standard",
         "math score": 6.64,
         "names": "Monica Duggins",
         "parental level of education": "associate's degree",
         "race/ethnicity": "group B",
         "reading score": 6.22,
         "test preparation course": "completed",
         "writing score": 6.52
        },
        {
         "GPA": "6.44",
         "_deepnote_index_column": 39,
         "gender": "male",
         "lunch": "standard",
         "math score": 6.46,
         "names": "Earl Rodriguez",
         "parental level of education": "associate's degree",
         "race/ethnicity": "group B",
         "reading score": 6.34,
         "test preparation course": "completed",
         "writing score": 6.52
        },
        {
         "GPA": "6.42",
         "_deepnote_index_column": 40,
         "gender": "female",
         "lunch": "standard",
         "math score": 5.98,
         "names": "Judith Foster",
         "parental level of education": "bachelor's degree",
         "race/ethnicity": "group C",
         "reading score": 6.58,
         "test preparation course": "none",
         "writing score": 6.7
        },
        {
         "GPA": "6.42",
         "_deepnote_index_column": 41,
         "gender": "female",
         "lunch": "standard",
         "math score": 6.04,
         "names": "Tracy Fowler",
         "parental level of education": "associate's degree",
         "race/ethnicity": "group E",
         "reading score": 6.7,
         "test preparation course": "none",
         "writing score": 6.52
        },
        {
         "GPA": "6.42",
         "_deepnote_index_column": 42,
         "gender": "female",
         "lunch": "standard",
         "math score": 6.4,
         "names": "Bette Williams",
         "parental level of education": "associate's degree",
         "race/ethnicity": "group B",
         "reading score": 6.4,
         "test preparation course": "completed",
         "writing score": 6.46
        },
        {
         "GPA": "6.4",
         "_deepnote_index_column": 43,
         "gender": "female",
         "lunch": "standard",
         "math score": 6.1,
         "names": "Molly House",
         "parental level of education": "some high school",
         "race/ethnicity": "group C",
         "reading score": 6.52,
         "test preparation course": "completed",
         "writing score": 6.58
        },
        {
         "GPA": "6.38",
         "_deepnote_index_column": 44,
         "gender": "female",
         "lunch": "standard",
         "math score": 6.1,
         "names": "Carmen Simcoe",
         "parental level of education": "some college",
         "race/ethnicity": "group D",
         "reading score": 6.16,
         "test preparation course": "completed",
         "writing score": 6.88
        },
        {
         "GPA": "6.38",
         "_deepnote_index_column": 45,
         "gender": "female",
         "lunch": "standard",
         "math score": 6.1,
         "names": "Sheila Carboni",
         "parental level of education": "associate's degree",
         "race/ethnicity": "group C",
         "reading score": 6.34,
         "test preparation course": "none",
         "writing score": 6.7
        },
        {
         "GPA": "6.36",
         "_deepnote_index_column": 46,
         "gender": "female",
         "lunch": "standard",
         "math score": 6.22,
         "names": "Wendy Lewis",
         "parental level of education": "high school",
         "race/ethnicity": "group B",
         "reading score": 6.7,
         "test preparation course": "none",
         "writing score": 6.16
        },
        {
         "GPA": "6.36",
         "_deepnote_index_column": 47,
         "gender": "female",
         "lunch": "free/reduced",
         "math score": 5.92,
         "names": "Susan Cook",
         "parental level of education": "associate's degree",
         "race/ethnicity": "group C",
         "reading score": 6.58,
         "test preparation course": "completed",
         "writing score": 6.58
        },
        {
         "GPA": "6.36",
         "_deepnote_index_column": 48,
         "gender": "female",
         "lunch": "standard",
         "math score": 5.92,
         "names": "Gloria Gambrell",
         "parental level of education": "associate's degree",
         "race/ethnicity": "group A",
         "reading score": 6.58,
         "test preparation course": "none",
         "writing score": 6.58
        },
        {
         "GPA": "6.34",
         "_deepnote_index_column": 49,
         "gender": "female",
         "lunch": "standard",
         "math score": 6.1,
         "names": "Tanya Macinnes",
         "parental level of education": "some high school",
         "race/ethnicity": "group A",
         "reading score": 6.4,
         "test preparation course": "completed",
         "writing score": 6.52
        },
        {
         "GPA": "6.34",
         "_deepnote_index_column": 50,
         "gender": "male",
         "lunch": "standard",
         "math score": 6.64,
         "names": "Wayne Wilson",
         "parental level of education": "some high school",
         "race/ethnicity": "group B",
         "reading score": 6.16,
         "test preparation course": "completed",
         "writing score": 6.22
        },
        {
         "GPA": "6.34",
         "_deepnote_index_column": 51,
         "gender": "male",
         "lunch": "standard",
         "math score": 6.58,
         "names": "Walter Ortiz",
         "parental level of education": "some college",
         "race/ethnicity": "group C",
         "reading score": 6.04,
         "test preparation course": "completed",
         "writing score": 6.4
        },
        {
         "GPA": "6.34",
         "_deepnote_index_column": 52,
         "gender": "male",
         "lunch": "standard",
         "math score": 6.82,
         "names": "Darryl Ruble",
         "parental level of education": "associate's degree",
         "race/ethnicity": "group E",
         "reading score": 5.92,
         "test preparation course": "completed",
         "writing score": 6.28
        },
        {
         "GPA": "6.32",
         "_deepnote_index_column": 53,
         "gender": "male",
         "lunch": "standard",
         "math score": 6.82,
         "names": "Matthew Demelis",
         "parental level of education": "some college",
         "race/ethnicity": "group E",
         "reading score": 6.22,
         "test preparation course": "none",
         "writing score": 5.92
        },
        {
         "GPA": "6.32",
         "_deepnote_index_column": 54,
         "gender": "male",
         "lunch": "free/reduced",
         "math score": 6.58,
         "names": "Norman Arnold",
         "parental level of education": "some college",
         "race/ethnicity": "group E",
         "reading score": 6.4,
         "test preparation course": "none",
         "writing score": 5.98
        },
        {
         "GPA": "6.32",
         "_deepnote_index_column": 55,
         "gender": "female",
         "lunch": "standard",
         "math score": 5.92,
         "names": "Nicole Nesbitt",
         "parental level of education": "some college",
         "race/ethnicity": "group C",
         "reading score": 6.4,
         "test preparation course": "none",
         "writing score": 6.64
        },
        {
         "GPA": "6.32",
         "_deepnote_index_column": 56,
         "gender": "female",
         "lunch": "standard",
         "math score": 5.92,
         "names": "Anna Cotman",
         "parental level of education": "associate's degree",
         "race/ethnicity": "group D",
         "reading score": 6.7,
         "test preparation course": "none",
         "writing score": 6.34
        },
        {
         "GPA": "6.3",
         "_deepnote_index_column": 57,
         "gender": "male",
         "lunch": "free/reduced",
         "math score": 6.22,
         "names": "Anthony Pedigo",
         "parental level of education": "bachelor's degree",
         "race/ethnicity": "group B",
         "reading score": 6.4,
         "test preparation course": "completed",
         "writing score": 6.28
        },
        {
         "GPA": "6.3",
         "_deepnote_index_column": 58,
         "gender": "female",
         "lunch": "standard",
         "math score": 6.1,
         "names": "Julie Tang",
         "parental level of education": "associate's degree",
         "race/ethnicity": "group D",
         "reading score": 6.46,
         "test preparation course": "none",
         "writing score": 6.34
        },
        {
         "GPA": "6.3",
         "_deepnote_index_column": 59,
         "gender": "female",
         "lunch": "standard",
         "math score": 6.16,
         "names": "Marguerite Ramos",
         "parental level of education": "bachelor's degree",
         "race/ethnicity": "group C",
         "reading score": 6.52,
         "test preparation course": "none",
         "writing score": 6.22
        },
        {
         "GPA": "6.3",
         "_deepnote_index_column": 60,
         "gender": "female",
         "lunch": "standard",
         "math score": 6.22,
         "names": "Wanda Hardin",
         "parental level of education": "some college",
         "race/ethnicity": "group E",
         "reading score": 6.1,
         "test preparation course": "none",
         "writing score": 6.58
        },
        {
         "GPA": "6.28",
         "_deepnote_index_column": 61,
         "gender": "female",
         "lunch": "standard",
         "math score": 5.86,
         "names": "Esther Childress",
         "parental level of education": "master's degree",
         "race/ethnicity": "group E",
         "reading score": 6.52,
         "test preparation course": "none",
         "writing score": 6.46
        },
        {
         "GPA": "6.26",
         "_deepnote_index_column": 62,
         "gender": "male",
         "lunch": "free/reduced",
         "math score": 6.04,
         "names": "Charles Herandez",
         "parental level of education": "master's degree",
         "race/ethnicity": "group D",
         "reading score": 6.34,
         "test preparation course": "completed",
         "writing score": 6.4
        },
        {
         "GPA": "6.26",
         "_deepnote_index_column": 63,
         "gender": "male",
         "lunch": "standard",
         "math score": 6.28,
         "names": "Charles Johnson",
         "parental level of education": "high school",
         "race/ethnicity": "group C",
         "reading score": 6.34,
         "test preparation course": "none",
         "writing score": 6.16
        },
        {
         "GPA": "6.24",
         "_deepnote_index_column": 64,
         "gender": "female",
         "lunch": "standard",
         "math score": 6.1,
         "names": "Natalie Turney",
         "parental level of education": "associate's degree",
         "race/ethnicity": "group E",
         "reading score": 6.52,
         "test preparation course": "none",
         "writing score": 6.1
        },
        {
         "GPA": "6.24",
         "_deepnote_index_column": 65,
         "gender": "male",
         "lunch": "standard",
         "math score": 6.4,
         "names": "John Echols",
         "parental level of education": "associate's degree",
         "race/ethnicity": "group D",
         "reading score": 6.22,
         "test preparation course": "none",
         "writing score": 6.1
        },
        {
         "GPA": "6.24",
         "_deepnote_index_column": 66,
         "gender": "male",
         "lunch": "free/reduced",
         "math score": 6.4,
         "names": "Larry Mclane",
         "parental level of education": "associate's degree",
         "race/ethnicity": "group E",
         "reading score": 6.4,
         "test preparation course": "none",
         "writing score": 5.92
        },
        {
         "GPA": "6.24",
         "_deepnote_index_column": 67,
         "gender": "female",
         "lunch": "standard",
         "math score": 6.04,
         "names": "Ulrike Davidson",
         "parental level of education": "some college",
         "race/ethnicity": "group C",
         "reading score": 6.22,
         "test preparation course": "none",
         "writing score": 6.46
        },
        {
         "GPA": "6.22",
         "_deepnote_index_column": 68,
         "gender": "male",
         "lunch": "standard",
         "math score": 6.64,
         "names": "Ronald Mason",
         "parental level of education": "associate's degree",
         "race/ethnicity": "group E",
         "reading score": 6.1,
         "test preparation course": "completed",
         "writing score": 5.92
        },
        {
         "GPA": "6.22",
         "_deepnote_index_column": 69,
         "gender": "female",
         "lunch": "standard",
         "math score": 6.46,
         "names": "Patricia Harrell",
         "parental level of education": "associate's degree",
         "race/ethnicity": "group C",
         "reading score": 6.16,
         "test preparation course": "none",
         "writing score": 6.04
        },
        {
         "GPA": "6.22",
         "_deepnote_index_column": 70,
         "gender": "male",
         "lunch": "standard",
         "math score": 6.46,
         "names": "Dennis Campbell",
         "parental level of education": "master's degree",
         "race/ethnicity": "group C",
         "reading score": 6.1,
         "test preparation course": "completed",
         "writing score": 6.1
        },
        {
         "GPA": "6.18",
         "_deepnote_index_column": 71,
         "gender": "male",
         "lunch": "standard",
         "math score": 6.4,
         "names": "Larry Maldonado",
         "parental level of education": "master's degree",
         "race/ethnicity": "group E",
         "reading score": 6.1,
         "test preparation course": "none",
         "writing score": 6.04
        },
        {
         "GPA": "6.18",
         "_deepnote_index_column": 72,
         "gender": "female",
         "lunch": "standard",
         "math score": 5.86,
         "names": "Ofelia Evans",
         "parental level of education": "master's degree",
         "race/ethnicity": "group C",
         "reading score": 6.46,
         "test preparation course": "completed",
         "writing score": 6.22
        },
        {
         "GPA": "6.18",
         "_deepnote_index_column": 73,
         "gender": "male",
         "lunch": "standard",
         "math score": 6.22,
         "names": "Jonathan Mitchell",
         "parental level of education": "high school",
         "race/ethnicity": "group E",
         "reading score": 6.46,
         "test preparation course": "completed",
         "writing score": 5.86
        },
        {
         "GPA": "6.18",
         "_deepnote_index_column": 74,
         "gender": "male",
         "lunch": "standard",
         "math score": 6.34,
         "names": "Edward Lee",
         "parental level of education": "some high school",
         "race/ethnicity": "group D",
         "reading score": 6.28,
         "test preparation course": "completed",
         "writing score": 5.92
        },
        {
         "GPA": "6.16",
         "_deepnote_index_column": 75,
         "gender": "male",
         "lunch": "standard",
         "math score": 6.22,
         "names": "Kenneth Robertson",
         "parental level of education": "bachelor's degree",
         "race/ethnicity": "group A",
         "reading score": 6.04,
         "test preparation course": "completed",
         "writing score": 6.22
        },
        {
         "GPA": "6.16",
         "_deepnote_index_column": 76,
         "gender": "male",
         "lunch": "standard",
         "math score": 6.1,
         "names": "Timothy Botello",
         "parental level of education": "master's degree",
         "race/ethnicity": "group D",
         "reading score": 6.04,
         "test preparation course": "none",
         "writing score": 6.34
        },
        {
         "GPA": "6.16",
         "_deepnote_index_column": 77,
         "gender": "female",
         "lunch": "standard",
         "math score": 5.98,
         "names": "Jessica Salas",
         "parental level of education": "associate's degree",
         "race/ethnicity": "group C",
         "reading score": 6.1,
         "test preparation course": "completed",
         "writing score": 6.4
        },
        {
         "GPA": "6.14",
         "_deepnote_index_column": 78,
         "gender": "female",
         "lunch": "free/reduced",
         "math score": 5.98,
         "names": "Thelma Yeates",
         "parental level of education": "associate's degree",
         "race/ethnicity": "group E",
         "reading score": 6.16,
         "test preparation course": "completed",
         "writing score": 6.28
        },
        {
         "GPA": "6.14",
         "_deepnote_index_column": 79,
         "gender": "male",
         "lunch": "standard",
         "math score": 6.22,
         "names": "Leon Shipley",
         "parental level of education": "some college",
         "race/ethnicity": "group B",
         "reading score": 6.04,
         "test preparation course": "completed",
         "writing score": 6.16
        },
        {
         "GPA": "6.12",
         "_deepnote_index_column": 80,
         "gender": "female",
         "lunch": "standard",
         "math score": 5.98,
         "names": "Arlene Calhoun",
         "parental level of education": "some college",
         "race/ethnicity": "group C",
         "reading score": 5.98,
         "test preparation course": "none",
         "writing score": 6.4
        },
        {
         "GPA": "6.12",
         "_deepnote_index_column": 81,
         "gender": "male",
         "lunch": "standard",
         "math score": 6.22,
         "names": "Gary Hunter",
         "parental level of education": "associate's degree",
         "race/ethnicity": "group D",
         "reading score": 6.04,
         "test preparation course": "completed",
         "writing score": 6.1
        },
        {
         "GPA": "6.1",
         "_deepnote_index_column": 82,
         "gender": "male",
         "lunch": "standard",
         "math score": 6.16,
         "names": "James Hughey",
         "parental level of education": "bachelor's degree",
         "race/ethnicity": "group C",
         "reading score": 5.98,
         "test preparation course": "none",
         "writing score": 6.16
        },
        {
         "GPA": "6.1",
         "_deepnote_index_column": 83,
         "gender": "male",
         "lunch": "standard",
         "math score": 6.34,
         "names": "James Crawford",
         "parental level of education": "master's degree",
         "race/ethnicity": "group D",
         "reading score": 6.04,
         "test preparation course": "none",
         "writing score": 5.92
        },
        {
         "GPA": "6.06",
         "_deepnote_index_column": 84,
         "gender": "female",
         "lunch": "standard",
         "math score": 5.92,
         "names": "Dorothea Martin",
         "parental level of education": "associate's degree",
         "race/ethnicity": "group E",
         "reading score": 6.1,
         "test preparation course": "completed",
         "writing score": 6.16
        },
        {
         "GPA": "6.04",
         "_deepnote_index_column": 85,
         "gender": "male",
         "lunch": "standard",
         "math score": 6.04,
         "names": "Isaiah Massey",
         "parental level of education": "some college",
         "race/ethnicity": "group C",
         "reading score": 6.22,
         "test preparation course": "none",
         "writing score": 5.86
        },
        {
         "GPA": "6.04",
         "_deepnote_index_column": 86,
         "gender": "male",
         "lunch": "standard",
         "math score": 5.92,
         "names": "Earnest Cole",
         "parental level of education": "some college",
         "race/ethnicity": "group D",
         "reading score": 5.92,
         "test preparation course": "completed",
         "writing score": 6.28
        },
        {
         "GPA": "6.02",
         "_deepnote_index_column": 87,
         "gender": "male",
         "lunch": "standard",
         "math score": 6.1,
         "names": "David Moss",
         "parental level of education": "some college",
         "race/ethnicity": "group D",
         "reading score": 5.86,
         "test preparation course": "completed",
         "writing score": 6.1
        },
        {
         "GPA": "5.98",
         "_deepnote_index_column": 88,
         "gender": "male",
         "lunch": "standard",
         "math score": 5.98,
         "names": "Christopher Martinez",
         "parental level of education": "bachelor's degree",
         "race/ethnicity": "group C",
         "reading score": 5.92,
         "test preparation course": "completed",
         "writing score": 6.04
        },
        {
         "GPA": "5.96",
         "_deepnote_index_column": 89,
         "gender": "male",
         "lunch": "standard",
         "math score": 5.92,
         "names": "Rolando Widmer",
         "parental level of education": "high school",
         "race/ethnicity": "group C",
         "reading score": 6.04,
         "test preparation course": "completed",
         "writing score": 5.92
        },
        {
         "GPA": "5.94",
         "_deepnote_index_column": 90,
         "gender": "female",
         "lunch": "standard",
         "math score": 5.86,
         "names": "Lucille Stanphill",
         "parental level of education": "high school",
         "race/ethnicity": "group C",
         "reading score": 6.04,
         "test preparation course": "none",
         "writing score": 5.92
        },
        {
         "GPA": "5.94",
         "_deepnote_index_column": 91,
         "gender": "male",
         "lunch": "standard",
         "math score": 5.86,
         "names": "Steven Kelly",
         "parental level of education": "some college",
         "race/ethnicity": "group D",
         "reading score": 5.92,
         "test preparation course": "none",
         "writing score": 6.04
        },
        {
         "GPA": "5.92",
         "_deepnote_index_column": 92,
         "gender": "male",
         "lunch": "standard",
         "math score": 5.86,
         "names": "Peter Perez",
         "parental level of education": "master's degree",
         "race/ethnicity": "group D",
         "reading score": 5.86,
         "test preparation course": "none",
         "writing score": 6.04
        },
        {
         "GPA": "5.9",
         "_deepnote_index_column": 93,
         "gender": "male",
         "lunch": "standard",
         "math score": 5.86,
         "names": "Harry Berry",
         "parental level of education": "associate's degree",
         "race/ethnicity": "group B",
         "reading score": 5.92,
         "test preparation course": "completed",
         "writing score": 5.92
        }
       ]
      },
      "text/html": [
       "<div>\n",
       "<style scoped>\n",
       "    .dataframe tbody tr th:only-of-type {\n",
       "        vertical-align: middle;\n",
       "    }\n",
       "\n",
       "    .dataframe tbody tr th {\n",
       "        vertical-align: top;\n",
       "    }\n",
       "\n",
       "    .dataframe thead th {\n",
       "        text-align: right;\n",
       "    }\n",
       "</style>\n",
       "<table border=\"1\" class=\"dataframe\">\n",
       "  <thead>\n",
       "    <tr style=\"text-align: right;\">\n",
       "      <th></th>\n",
       "      <th>names</th>\n",
       "      <th>gender</th>\n",
       "      <th>race/ethnicity</th>\n",
       "      <th>parental level of education</th>\n",
       "      <th>lunch</th>\n",
       "      <th>test preparation course</th>\n",
       "      <th>math score</th>\n",
       "      <th>reading score</th>\n",
       "      <th>writing score</th>\n",
       "      <th>GPA</th>\n",
       "    </tr>\n",
       "  </thead>\n",
       "  <tbody>\n",
       "    <tr>\n",
       "      <th>0</th>\n",
       "      <td>Richard Pryor</td>\n",
       "      <td>male</td>\n",
       "      <td>group E</td>\n",
       "      <td>bachelor's degree</td>\n",
       "      <td>standard</td>\n",
       "      <td>completed</td>\n",
       "      <td>7.00</td>\n",
       "      <td>7.00</td>\n",
       "      <td>7.00</td>\n",
       "      <td>7.0</td>\n",
       "    </tr>\n",
       "    <tr>\n",
       "      <th>1</th>\n",
       "      <td>Sandra Pompey</td>\n",
       "      <td>female</td>\n",
       "      <td>group E</td>\n",
       "      <td>associate's degree</td>\n",
       "      <td>standard</td>\n",
       "      <td>none</td>\n",
       "      <td>7.00</td>\n",
       "      <td>7.00</td>\n",
       "      <td>7.00</td>\n",
       "      <td>7.0</td>\n",
       "    </tr>\n",
       "    <tr>\n",
       "      <th>2</th>\n",
       "      <td>Elizabeth Beasley</td>\n",
       "      <td>female</td>\n",
       "      <td>group E</td>\n",
       "      <td>bachelor's degree</td>\n",
       "      <td>standard</td>\n",
       "      <td>none</td>\n",
       "      <td>7.00</td>\n",
       "      <td>7.00</td>\n",
       "      <td>7.00</td>\n",
       "      <td>7.0</td>\n",
       "    </tr>\n",
       "    <tr>\n",
       "      <th>3</th>\n",
       "      <td>Emma Gray</td>\n",
       "      <td>female</td>\n",
       "      <td>group E</td>\n",
       "      <td>bachelor's degree</td>\n",
       "      <td>standard</td>\n",
       "      <td>completed</td>\n",
       "      <td>6.94</td>\n",
       "      <td>7.00</td>\n",
       "      <td>7.00</td>\n",
       "      <td>6.98</td>\n",
       "    </tr>\n",
       "    <tr>\n",
       "      <th>4</th>\n",
       "      <td>Emma Brasher</td>\n",
       "      <td>female</td>\n",
       "      <td>group D</td>\n",
       "      <td>some high school</td>\n",
       "      <td>standard</td>\n",
       "      <td>completed</td>\n",
       "      <td>6.82</td>\n",
       "      <td>7.00</td>\n",
       "      <td>7.00</td>\n",
       "      <td>6.94</td>\n",
       "    </tr>\n",
       "    <tr>\n",
       "      <th>...</th>\n",
       "      <td>...</td>\n",
       "      <td>...</td>\n",
       "      <td>...</td>\n",
       "      <td>...</td>\n",
       "      <td>...</td>\n",
       "      <td>...</td>\n",
       "      <td>...</td>\n",
       "      <td>...</td>\n",
       "      <td>...</td>\n",
       "      <td>...</td>\n",
       "    </tr>\n",
       "    <tr>\n",
       "      <th>89</th>\n",
       "      <td>Rolando Widmer</td>\n",
       "      <td>male</td>\n",
       "      <td>group C</td>\n",
       "      <td>high school</td>\n",
       "      <td>standard</td>\n",
       "      <td>completed</td>\n",
       "      <td>5.92</td>\n",
       "      <td>6.04</td>\n",
       "      <td>5.92</td>\n",
       "      <td>5.96</td>\n",
       "    </tr>\n",
       "    <tr>\n",
       "      <th>90</th>\n",
       "      <td>Lucille Stanphill</td>\n",
       "      <td>female</td>\n",
       "      <td>group C</td>\n",
       "      <td>high school</td>\n",
       "      <td>standard</td>\n",
       "      <td>none</td>\n",
       "      <td>5.86</td>\n",
       "      <td>6.04</td>\n",
       "      <td>5.92</td>\n",
       "      <td>5.94</td>\n",
       "    </tr>\n",
       "    <tr>\n",
       "      <th>91</th>\n",
       "      <td>Steven Kelly</td>\n",
       "      <td>male</td>\n",
       "      <td>group D</td>\n",
       "      <td>some college</td>\n",
       "      <td>standard</td>\n",
       "      <td>none</td>\n",
       "      <td>5.86</td>\n",
       "      <td>5.92</td>\n",
       "      <td>6.04</td>\n",
       "      <td>5.94</td>\n",
       "    </tr>\n",
       "    <tr>\n",
       "      <th>92</th>\n",
       "      <td>Peter Perez</td>\n",
       "      <td>male</td>\n",
       "      <td>group D</td>\n",
       "      <td>master's degree</td>\n",
       "      <td>standard</td>\n",
       "      <td>none</td>\n",
       "      <td>5.86</td>\n",
       "      <td>5.86</td>\n",
       "      <td>6.04</td>\n",
       "      <td>5.92</td>\n",
       "    </tr>\n",
       "    <tr>\n",
       "      <th>93</th>\n",
       "      <td>Harry Berry</td>\n",
       "      <td>male</td>\n",
       "      <td>group B</td>\n",
       "      <td>associate's degree</td>\n",
       "      <td>standard</td>\n",
       "      <td>completed</td>\n",
       "      <td>5.86</td>\n",
       "      <td>5.92</td>\n",
       "      <td>5.92</td>\n",
       "      <td>5.9</td>\n",
       "    </tr>\n",
       "  </tbody>\n",
       "</table>\n",
       "<p>94 rows × 10 columns</p>\n",
       "</div>"
      ],
      "text/plain": [
       "                names  gender race/ethnicity parental level of education  \\\n",
       "0       Richard Pryor    male        group E           bachelor's degree   \n",
       "1       Sandra Pompey  female        group E          associate's degree   \n",
       "2   Elizabeth Beasley  female        group E           bachelor's degree   \n",
       "3           Emma Gray  female        group E           bachelor's degree   \n",
       "4        Emma Brasher  female        group D            some high school   \n",
       "..                ...     ...            ...                         ...   \n",
       "89     Rolando Widmer    male        group C                 high school   \n",
       "90  Lucille Stanphill  female        group C                 high school   \n",
       "91       Steven Kelly    male        group D                some college   \n",
       "92        Peter Perez    male        group D             master's degree   \n",
       "93        Harry Berry    male        group B          associate's degree   \n",
       "\n",
       "       lunch test preparation course  math score  reading score  \\\n",
       "0   standard               completed        7.00           7.00   \n",
       "1   standard                    none        7.00           7.00   \n",
       "2   standard                    none        7.00           7.00   \n",
       "3   standard               completed        6.94           7.00   \n",
       "4   standard               completed        6.82           7.00   \n",
       "..       ...                     ...         ...            ...   \n",
       "89  standard               completed        5.92           6.04   \n",
       "90  standard                    none        5.86           6.04   \n",
       "91  standard                    none        5.86           5.92   \n",
       "92  standard                    none        5.86           5.86   \n",
       "93  standard               completed        5.86           5.92   \n",
       "\n",
       "    writing score   GPA  \n",
       "0            7.00   7.0  \n",
       "1            7.00   7.0  \n",
       "2            7.00   7.0  \n",
       "3            7.00  6.98  \n",
       "4            7.00  6.94  \n",
       "..            ...   ...  \n",
       "89           5.92  5.96  \n",
       "90           5.92  5.94  \n",
       "91           6.04  5.94  \n",
       "92           6.04  5.92  \n",
       "93           5.92   5.9  \n",
       "\n",
       "[94 rows x 10 columns]"
      ]
     },
     "execution_count": 16,
     "metadata": {},
     "output_type": "execute_result"
    }
   ],
   "source": [
    "dataframe3"
   ]
  },
  {
   "cell_type": "markdown",
   "metadata": {
    "cell_id": "00051-1765b59c-25ca-4dc5-ac88-29805642f748",
    "deepnote_cell_type": "markdown",
    "id": "jb9sjfJlwolM"
   },
   "source": [
    "**Respuesta:**"
   ]
  },
  {
   "cell_type": "markdown",
   "metadata": {
    "cell_id": "00052-4e2f07e8-ce26-4d48-ba89-4c04132729ca",
    "deepnote_cell_type": "markdown",
    "id": "vDl7h7JbwrKh"
   },
   "source": [
    "```\n",
    "Escriba aqui su respuesta\n",
    "```"
   ]
  },
  {
   "cell_type": "markdown",
   "metadata": {
    "cell_id": "00053-c26e032f-9917-4088-ac1d-9ba2983ba419",
    "deepnote_cell_type": "markdown",
    "tags": []
   },
   "source": [
    "### 1.3.4 Consultas de Alumnos [0.5 Puntos]"
   ]
  },
  {
   "cell_type": "markdown",
   "metadata": {
    "cell_id": "00054-265dbcea-43c7-4418-b289-48906d0c1626",
    "deepnote_cell_type": "markdown",
    "tags": []
   },
   "source": [
    "Algunos padres (extremadamente entrometidos y...) preocupados por el desempeño de sus hijos, desean saber estos han aprobado o no el año. Como la tarea de buscar a mano cada uno de estos alumnos en el `DataFrame` resulta demasiado tedioso, el rector le solicita crear una función que tenga como entrada el `DataFrame` donde se realizará la busqueda y una lista con los nombres de los alumnos, luego la función deberá retornar un `DataFrame` con los nombres de los alumnos y el promedio general de cada uno. \n",
    "\n",
    "Creada la función busque el promedio general de los siguientes alumnos en el segundo Data frame creado en la sección 1.3.3:\n",
    "\n",
    "`['Lucille Stanphill','Marcus Mcfarland', 'Matthew Freeman', 'Dana Mojica', 'Paul Hyder', 'Jeffrey Korn', 'Robert Strain',\n",
    "'Ronald Jett', 'Lorena Reed', 'Hazel Posey']`\n",
    "\n",
    "**Hint:** Puede serle de utilidad utilizar `isin()`."
   ]
  },
  {
   "cell_type": "markdown",
   "metadata": {
    "cell_id": "00055-f296cada-4f15-4a9b-900c-cde55391c32b",
    "deepnote_cell_type": "markdown",
    "tags": []
   },
   "source": [
    "**Respuesta:**"
   ]
  },
  {
   "cell_type": "code",
   "execution_count": null,
   "metadata": {
    "cell_id": "00056-1625f6ad-80ec-45be-9bbb-c08ddd6df2fb",
    "deepnote_cell_type": "code",
    "deepnote_to_be_reexecuted": false,
    "execution_millis": 21,
    "execution_start": 1632493424802,
    "source_hash": "f3ff8aa7",
    "tags": []
   },
   "outputs": [
    {
     "data": {
      "application/vnd.deepnote.dataframe.v2+json": {
       "column_count": 2,
       "columns": [
        {
         "dtype": "object",
         "name": "names",
         "stats": {
          "categories": [
           {
            "count": 1,
            "name": "Lucille Stanphill"
           },
           {
            "count": 1,
            "name": "Marcus Mcfarland"
           },
           {
            "count": 6,
            "name": "6 others"
           }
          ],
          "nan_count": 0,
          "unique_count": 8
         }
        },
        {
         "dtype": "object",
         "name": "GPA",
         "stats": {
          "categories": [
           {
            "count": 5,
            "name": "R"
           },
           {
            "count": 1,
            "name": "5.94"
           },
           {
            "count": 2,
            "name": "2 others"
           }
          ],
          "nan_count": 0,
          "unique_count": 4
         }
        },
        {
         "dtype": "int64",
         "name": "_deepnote_index_column"
        }
       ],
       "row_count": 8,
       "rows_bottom": null,
       "rows_top": [
        {
         "GPA": "5.94",
         "_deepnote_index_column": 198,
         "names": "Lucille Stanphill"
        },
        {
         "GPA": "4.86",
         "_deepnote_index_column": 372,
         "names": "Marcus Mcfarland"
        },
        {
         "GPA": "R",
         "_deepnote_index_column": 418,
         "names": "Matthew Freeman"
        },
        {
         "GPA": "R",
         "_deepnote_index_column": 421,
         "names": "Dana Mojica"
        },
        {
         "GPA": "4.4",
         "_deepnote_index_column": 675,
         "names": "Robert Strain"
        },
        {
         "GPA": "R",
         "_deepnote_index_column": 679,
         "names": "Ronald Jett"
        },
        {
         "GPA": "R",
         "_deepnote_index_column": 681,
         "names": "Hazel Posey"
        },
        {
         "GPA": "R",
         "_deepnote_index_column": 753,
         "names": "Lorena Reed"
        }
       ]
      },
      "text/html": [
       "<div>\n",
       "<style scoped>\n",
       "    .dataframe tbody tr th:only-of-type {\n",
       "        vertical-align: middle;\n",
       "    }\n",
       "\n",
       "    .dataframe tbody tr th {\n",
       "        vertical-align: top;\n",
       "    }\n",
       "\n",
       "    .dataframe thead th {\n",
       "        text-align: right;\n",
       "    }\n",
       "</style>\n",
       "<table border=\"1\" class=\"dataframe\">\n",
       "  <thead>\n",
       "    <tr style=\"text-align: right;\">\n",
       "      <th></th>\n",
       "      <th>names</th>\n",
       "      <th>GPA</th>\n",
       "    </tr>\n",
       "  </thead>\n",
       "  <tbody>\n",
       "    <tr>\n",
       "      <th>198</th>\n",
       "      <td>Lucille Stanphill</td>\n",
       "      <td>5.94</td>\n",
       "    </tr>\n",
       "    <tr>\n",
       "      <th>372</th>\n",
       "      <td>Marcus Mcfarland</td>\n",
       "      <td>4.86</td>\n",
       "    </tr>\n",
       "    <tr>\n",
       "      <th>418</th>\n",
       "      <td>Matthew Freeman</td>\n",
       "      <td>R</td>\n",
       "    </tr>\n",
       "    <tr>\n",
       "      <th>421</th>\n",
       "      <td>Dana Mojica</td>\n",
       "      <td>R</td>\n",
       "    </tr>\n",
       "    <tr>\n",
       "      <th>675</th>\n",
       "      <td>Robert Strain</td>\n",
       "      <td>4.4</td>\n",
       "    </tr>\n",
       "    <tr>\n",
       "      <th>679</th>\n",
       "      <td>Ronald Jett</td>\n",
       "      <td>R</td>\n",
       "    </tr>\n",
       "    <tr>\n",
       "      <th>681</th>\n",
       "      <td>Hazel Posey</td>\n",
       "      <td>R</td>\n",
       "    </tr>\n",
       "    <tr>\n",
       "      <th>753</th>\n",
       "      <td>Lorena Reed</td>\n",
       "      <td>R</td>\n",
       "    </tr>\n",
       "  </tbody>\n",
       "</table>\n",
       "</div>"
      ],
      "text/plain": [
       "                 names   GPA\n",
       "198  Lucille Stanphill  5.94\n",
       "372   Marcus Mcfarland  4.86\n",
       "418    Matthew Freeman     R\n",
       "421        Dana Mojica     R\n",
       "675      Robert Strain   4.4\n",
       "679        Ronald Jett     R\n",
       "681        Hazel Posey     R\n",
       "753        Lorena Reed     R"
      ]
     },
     "execution_count": 17,
     "metadata": {},
     "output_type": "execute_result"
    }
   ],
   "source": [
    "def consulta_gpa(dataframe_in, lista_alumnos):\n",
    "    pass\n",
    "\n",
    "\n",
    "lista_alumnos = [\n",
    "    \"Lucille Stanphill\",\n",
    "    \"Marcus Mcfarland\",\n",
    "    \"Matthew Freeman\",\n",
    "    \"Dana Mojica\",\n",
    "    \"Paul Hyder\",\n",
    "    \"Jeffrey Korn\",\n",
    "    \"Robert Strain\",\n",
    "    \"Ronald Jett\",\n",
    "    \"Lorena Reed\",\n",
    "    \"Hazel Posey\",\n",
    "]\n",
    "consulta_gpa(dataframe2, lista_alumnos)"
   ]
  },
  {
   "cell_type": "markdown",
   "metadata": {
    "cell_id": "00057-ce0783ee-ebbf-47e2-a857-88811fd99f73",
    "deepnote_cell_type": "markdown",
    "tags": []
   },
   "source": [
    "### 1.3.5 Quintiles de Rendimiento [0.5 Puntos]"
   ]
  },
  {
   "cell_type": "markdown",
   "metadata": {
    "cell_id": "00058-f22b06aa-362f-481f-a003-b9e5796120b0",
    "deepnote_cell_type": "markdown",
    "tags": []
   },
   "source": [
    "El rector, intrigado por saber si existe una relación entre el nivel educacional de los padres y las notas de sus hijos les plantea estudiar dicha relación. Para esto, les solicita que desde el `DataFrame` que posee a todos los alumnos (`DataFrame` obtenido tras la limpieza), generen una nueva columna que clasifique en quintiles de rendimiento para sus alumnos: `['Bajísimo', 'Bajo', 'Medio', 'Alto', 'Muy alto']`. (investigar `qcut()`)\n",
    "\n",
    "Hecho esto, grafique a través de un scatter plot el nivel educacional de los padres v/s el promedio de los alumnos, utilice los cuantiles generados anteriormente para mostrar en que cuantil se encuentra cada uno de los datos.\n",
    "\n",
    "Realizado el grafico, responda la siguiente pregunta: **¿Es posible visualizar alguna tendencia en el gráfico?.**\n",
    "\n"
   ]
  },
  {
   "cell_type": "markdown",
   "metadata": {
    "cell_id": "00059-9f08f4c4-c59b-443a-83c3-677c0e9be877",
    "deepnote_cell_type": "markdown",
    "tags": []
   },
   "source": [
    "**Respuesta:**"
   ]
  },
  {
   "cell_type": "code",
   "execution_count": null,
   "metadata": {
    "cell_id": "00061-795d8f8c-5718-4f38-adc1-4a1733bd3ccb",
    "deepnote_cell_type": "code",
    "deepnote_to_be_reexecuted": false,
    "execution_millis": 134,
    "execution_start": 1632493424819,
    "source_hash": "8fe13806",
    "tags": []
   },
   "outputs": [
    {
     "data": {
      "text/html": [
       "<html>\n",
       "<head><meta charset=\"utf-8\" /></head>\n",
       "<body>\n",
       "    <div>            <script src=\"https://cdnjs.cloudflare.com/ajax/libs/mathjax/2.7.5/MathJax.js?config=TeX-AMS-MML_SVG\"></script><script type=\"text/javascript\">if (window.MathJax) {MathJax.Hub.Config({SVG: {font: \"STIX-Web\"}});}</script>                <script type=\"text/javascript\">window.PlotlyConfig = {MathJaxConfig: 'local'};</script>\n",
       "        <script src=\"https://cdn.plot.ly/plotly-2.4.2.min.js\"></script>                <div id=\"655c06fd-d332-4421-85c2-ee514c6fa49f\" class=\"plotly-graph-div\" style=\"height:525px; width:100%;\"></div>            <script type=\"text/javascript\">                                    window.PLOTLYENV=window.PLOTLYENV || {};                                    if (document.getElementById(\"655c06fd-d332-4421-85c2-ee514c6fa49f\")) {                    Plotly.newPlot(                        \"655c06fd-d332-4421-85c2-ee514c6fa49f\",                        [{\"customdata\":[[\"female\"],[\"female\"],[\"male\"],[\"male\"],[\"female\"],[\"male\"],[\"female\"],[\"female\"],[\"female\"],[\"male\"],[\"male\"],[\"female\"],[\"female\"],[\"female\"],[\"male\"],[\"female\"],[\"female\"],[\"male\"],[\"female\"],[\"male\"],[\"male\"],[\"male\"],[\"female\"],[\"male\"],[\"male\"],[\"male\"],[\"male\"],[\"male\"],[\"female\"],[\"female\"],[\"male\"],[\"female\"],[\"female\"],[\"female\"],[\"male\"],[\"male\"],[\"male\"],[\"female\"],[\"female\"],[\"female\"],[\"male\"],[\"male\"],[\"female\"],[\"male\"],[\"female\"],[\"male\"],[\"male\"],[\"male\"],[\"female\"],[\"male\"],[\"female\"],[\"male\"],[\"male\"],[\"male\"],[\"male\"],[\"male\"],[\"male\"],[\"male\"],[\"female\"],[\"male\"],[\"male\"],[\"male\"],[\"male\"],[\"male\"],[\"male\"],[\"male\"],[\"male\"],[\"male\"],[\"male\"],[\"male\"],[\"female\"],[\"female\"],[\"male\"],[\"male\"],[\"male\"],[\"male\"],[\"female\"],[\"male\"],[\"female\"],[\"male\"],[\"male\"],[\"male\"],[\"male\"],[\"female\"],[\"male\"],[\"male\"],[\"female\"],[\"male\"],[\"female\"],[\"female\"],[\"male\"],[\"female\"],[\"male\"],[\"male\"],[\"male\"],[\"male\"],[\"female\"],[\"male\"],[\"male\"],[\"female\"],[\"female\"],[\"male\"],[\"male\"],[\"male\"],[\"female\"],[\"male\"],[\"male\"],[\"male\"],[\"female\"],[\"female\"],[\"male\"],[\"male\"],[\"female\"],[\"female\"],[\"male\"],[\"male\"],[\"male\"],[\"female\"],[\"female\"],[\"male\"],[\"male\"],[\"female\"],[\"male\"],[\"female\"],[\"male\"],[\"female\"],[\"male\"],[\"male\"],[\"male\"],[\"female\"],[\"male\"],[\"female\"],[\"female\"],[\"female\"],[\"female\"],[\"female\"],[\"male\"],[\"male\"],[\"female\"],[\"female\"],[\"female\"],[\"female\"],[\"male\"],[\"male\"],[\"female\"],[\"male\"],[\"male\"],[\"female\"],[\"male\"],[\"female\"],[\"female\"],[\"male\"],[\"male\"],[\"female\"],[\"female\"],[\"male\"],[\"male\"],[\"female\"],[\"male\"],[\"male\"],[\"male\"],[\"female\"],[\"male\"],[\"female\"],[\"male\"],[\"male\"],[\"female\"],[\"female\"],[\"male\"],[\"male\"],[\"male\"],[\"male\"],[\"male\"],[\"female\"],[\"male\"],[\"female\"]],\"hovertemplate\":\"GPA cuantiles=Baj\\u00edsimo<br>GPA=%{x}<br>parental level of education=%{y}<br>gender=%{customdata[0]}<extra></extra>\",\"legendgroup\":\"Baj\\u00edsimo\",\"marker\":{\"color\":\"tomato\",\"symbol\":\"circle\"},\"mode\":\"markers\",\"name\":\"Baj\\u00edsimo\",\"orientation\":\"h\",\"showlegend\":true,\"type\":\"scatter\",\"x\":[1.54,2.1,2.38,2.4,2.56,2.56,2.76,2.78,2.78,2.8,2.84,2.86,2.88,2.9,2.94,3.06,3.08,3.24,3.26,3.28,3.3,3.32,3.34,3.36,3.38,3.38,3.4,3.44,3.44,3.46,3.46,3.48,3.54,3.58,3.6,3.6,3.6,3.6,3.64,3.64,3.66,3.68,3.68,3.68,3.68,3.7,3.72,3.72,3.74,3.76,3.76,3.76,3.78,3.78,3.78,3.78,3.78,3.8,3.8,3.8,3.8,3.82,3.84,3.84,3.86,3.86,3.88,3.88,3.88,3.88,3.9,3.9,3.9,3.9,3.92,3.92,3.92,3.92,3.94,3.94,3.94,3.94,3.96,3.96,3.96,3.98,4.0,4.0,4.0,4.0,4.02,4.02,4.02,4.02,4.02,4.02,4.02,4.04,4.04,4.04,4.06,4.06,4.06,4.06,4.06,4.08,4.08,4.08,4.08,4.08,4.08,4.1,4.1,4.1,4.1,4.1,4.1,4.1,4.1,4.1,4.12,4.12,4.12,4.12,4.14,4.14,4.14,4.14,4.16,4.16,4.16,4.16,4.16,4.16,4.16,4.18,4.18,4.2,4.2,4.2,4.2,4.22,4.22,4.22,4.22,4.22,4.24,4.24,4.24,4.24,4.24,4.26,4.26,4.26,4.26,4.28,4.28,4.28,4.28,4.28,4.28,4.28,4.28,4.3,4.3,4.32,4.32,4.32,4.32,4.32,4.34,4.34,4.34,4.34,4.34,4.34],\"xaxis\":\"x\",\"y\":[\"some high school\",\"high school\",\"high school\",\"some college\",\"some high school\",\"some high school\",\"high school\",\"some high school\",\"some college\",\"some college\",\"high school\",\"some high school\",\"some college\",\"associate's degree\",\"high school\",\"high school\",\"some high school\",\"some high school\",\"some high school\",\"some college\",\"high school\",\"high school\",\"bachelor's degree\",\"some high school\",\"some high school\",\"associate's degree\",\"some college\",\"some college\",\"some college\",\"high school\",\"associate's degree\",\"some high school\",\"some high school\",\"some high school\",\"some high school\",\"associate's degree\",\"some high school\",\"high school\",\"high school\",\"some high school\",\"associate's degree\",\"master's degree\",\"high school\",\"high school\",\"some high school\",\"associate's degree\",\"high school\",\"associate's degree\",\"high school\",\"associate's degree\",\"associate's degree\",\"associate's degree\",\"some college\",\"high school\",\"some high school\",\"high school\",\"some college\",\"bachelor's degree\",\"associate's degree\",\"high school\",\"bachelor's degree\",\"high school\",\"some college\",\"some high school\",\"high school\",\"associate's degree\",\"high school\",\"high school\",\"associate's degree\",\"some high school\",\"some high school\",\"high school\",\"some high school\",\"bachelor's degree\",\"some high school\",\"some high school\",\"associate's degree\",\"some high school\",\"some high school\",\"high school\",\"high school\",\"high school\",\"associate's degree\",\"bachelor's degree\",\"associate's degree\",\"high school\",\"associate's degree\",\"bachelor's degree\",\"some high school\",\"high school\",\"some college\",\"bachelor's degree\",\"some college\",\"associate's degree\",\"some college\",\"high school\",\"some college\",\"some college\",\"some college\",\"master's degree\",\"master's degree\",\"some college\",\"some college\",\"some college\",\"some college\",\"master's degree\",\"high school\",\"associate's degree\",\"some high school\",\"some college\",\"high school\",\"high school\",\"master's degree\",\"some high school\",\"associate's degree\",\"high school\",\"associate's degree\",\"associate's degree\",\"associate's degree\",\"some high school\",\"high school\",\"some high school\",\"associate's degree\",\"associate's degree\",\"some high school\",\"high school\",\"some college\",\"some college\",\"high school\",\"some high school\",\"high school\",\"associate's degree\",\"high school\",\"high school\",\"high school\",\"associate's degree\",\"associate's degree\",\"some high school\",\"associate's degree\",\"some high school\",\"associate's degree\",\"associate's degree\",\"high school\",\"high school\",\"associate's degree\",\"bachelor's degree\",\"some high school\",\"some high school\",\"high school\",\"some college\",\"associate's degree\",\"some high school\",\"master's degree\",\"high school\",\"high school\",\"high school\",\"some college\",\"high school\",\"associate's degree\",\"some college\",\"high school\",\"associate's degree\",\"bachelor's degree\",\"high school\",\"some college\",\"associate's degree\",\"some high school\",\"bachelor's degree\",\"bachelor's degree\",\"high school\",\"high school\",\"bachelor's degree\",\"associate's degree\",\"associate's degree\",\"associate's degree\",\"high school\"],\"yaxis\":\"y\"},{\"customdata\":[[\"male\"],[\"male\"],[\"female\"],[\"female\"],[\"female\"],[\"male\"],[\"female\"],[\"male\"],[\"male\"],[\"female\"],[\"male\"],[\"female\"],[\"female\"],[\"female\"],[\"female\"],[\"female\"],[\"male\"],[\"male\"],[\"male\"],[\"female\"],[\"male\"],[\"male\"],[\"male\"],[\"male\"],[\"female\"],[\"male\"],[\"male\"],[\"male\"],[\"female\"],[\"female\"],[\"female\"],[\"male\"],[\"male\"],[\"female\"],[\"male\"],[\"male\"],[\"male\"],[\"male\"],[\"female\"],[\"male\"],[\"female\"],[\"male\"],[\"male\"],[\"male\"],[\"female\"],[\"male\"],[\"female\"],[\"female\"],[\"female\"],[\"male\"],[\"male\"],[\"female\"],[\"male\"],[\"male\"],[\"male\"],[\"female\"],[\"female\"],[\"male\"],[\"male\"],[\"male\"],[\"female\"],[\"female\"],[\"female\"],[\"male\"],[\"male\"],[\"female\"],[\"female\"],[\"female\"],[\"female\"],[\"male\"],[\"male\"],[\"male\"],[\"female\"],[\"female\"],[\"female\"],[\"male\"],[\"male\"],[\"female\"],[\"male\"],[\"male\"],[\"male\"],[\"female\"],[\"female\"],[\"male\"],[\"male\"],[\"female\"],[\"male\"],[\"male\"],[\"male\"],[\"male\"],[\"male\"],[\"male\"],[\"female\"],[\"male\"],[\"male\"],[\"female\"],[\"male\"],[\"male\"],[\"male\"],[\"female\"],[\"male\"],[\"male\"],[\"male\"],[\"female\"],[\"female\"],[\"female\"],[\"male\"],[\"male\"],[\"female\"],[\"female\"],[\"female\"],[\"male\"],[\"female\"],[\"female\"],[\"male\"],[\"female\"],[\"male\"],[\"male\"],[\"female\"],[\"female\"],[\"male\"],[\"male\"],[\"male\"],[\"female\"],[\"male\"],[\"male\"],[\"male\"],[\"female\"],[\"female\"],[\"male\"],[\"female\"],[\"female\"],[\"female\"],[\"male\"],[\"male\"],[\"male\"],[\"female\"],[\"female\"],[\"male\"],[\"male\"],[\"male\"],[\"female\"],[\"female\"],[\"female\"],[\"male\"],[\"male\"],[\"female\"],[\"male\"],[\"female\"],[\"male\"],[\"male\"],[\"female\"],[\"male\"],[\"male\"],[\"female\"],[\"female\"],[\"male\"],[\"male\"],[\"female\"],[\"female\"],[\"female\"],[\"male\"],[\"female\"],[\"female\"],[\"male\"],[\"female\"],[\"male\"],[\"male\"],[\"female\"],[\"male\"],[\"female\"],[\"male\"],[\"female\"],[\"male\"],[\"female\"],[\"female\"],[\"female\"]],\"hovertemplate\":\"GPA cuantiles=Bajo<br>GPA=%{x}<br>parental level of education=%{y}<br>gender=%{customdata[0]}<extra></extra>\",\"legendgroup\":\"Bajo\",\"marker\":{\"color\":\"orange\",\"symbol\":\"circle\"},\"mode\":\"markers\",\"name\":\"Bajo\",\"orientation\":\"h\",\"showlegend\":true,\"type\":\"scatter\",\"x\":[4.36,4.36,4.36,4.36,4.36,4.36,4.36,4.36,4.36,4.38,4.38,4.38,4.38,4.38,4.4,4.4,4.4,4.42,4.42,4.42,4.42,4.44,4.44,4.44,4.44,4.44,4.44,4.44,4.44,4.46,4.46,4.46,4.46,4.46,4.46,4.48,4.48,4.5,4.5,4.5,4.5,4.5,4.5,4.5,4.52,4.52,4.52,4.52,4.52,4.52,4.52,4.52,4.52,4.54,4.54,4.54,4.54,4.54,4.54,4.54,4.54,4.56,4.56,4.56,4.56,4.58,4.58,4.58,4.58,4.6,4.6,4.6,4.6,4.6,4.6,4.6,4.62,4.62,4.62,4.62,4.62,4.64,4.64,4.64,4.64,4.64,4.64,4.64,4.66,4.66,4.66,4.66,4.66,4.68,4.68,4.68,4.68,4.68,4.68,4.68,4.7,4.7,4.7,4.7,4.7,4.7,4.7,4.72,4.72,4.72,4.72,4.72,4.72,4.74,4.74,4.74,4.74,4.74,4.74,4.74,4.76,4.76,4.76,4.78,4.78,4.78,4.78,4.78,4.78,4.8,4.8,4.8,4.8,4.82,4.82,4.82,4.82,4.82,4.82,4.84,4.84,4.84,4.84,4.84,4.84,4.84,4.84,4.84,4.86,4.86,4.86,4.86,4.86,4.86,4.86,4.86,4.86,4.86,4.88,4.88,4.88,4.88,4.88,4.88,4.88,4.88,4.88,4.88,4.88,4.9,4.9,4.9,4.9,4.9,4.9,4.9,4.9],\"xaxis\":\"x\",\"y\":[\"high school\",\"associate's degree\",\"some college\",\"associate's degree\",\"some college\",\"high school\",\"bachelor's degree\",\"associate's degree\",\"bachelor's degree\",\"bachelor's degree\",\"some college\",\"some college\",\"some high school\",\"bachelor's degree\",\"some high school\",\"high school\",\"associate's degree\",\"high school\",\"associate's degree\",\"some college\",\"high school\",\"high school\",\"associate's degree\",\"some high school\",\"high school\",\"some college\",\"some college\",\"high school\",\"master's degree\",\"associate's degree\",\"associate's degree\",\"some high school\",\"some high school\",\"some high school\",\"some high school\",\"some high school\",\"some high school\",\"some high school\",\"bachelor's degree\",\"some college\",\"some college\",\"some college\",\"associate's degree\",\"some college\",\"associate's degree\",\"associate's degree\",\"associate's degree\",\"some college\",\"some high school\",\"some high school\",\"high school\",\"some college\",\"high school\",\"some college\",\"some high school\",\"master's degree\",\"some high school\",\"some college\",\"some high school\",\"associate's degree\",\"some college\",\"some college\",\"master's degree\",\"associate's degree\",\"some college\",\"some high school\",\"high school\",\"high school\",\"bachelor's degree\",\"some college\",\"some high school\",\"high school\",\"high school\",\"some high school\",\"high school\",\"some college\",\"bachelor's degree\",\"bachelor's degree\",\"high school\",\"some college\",\"some college\",\"master's degree\",\"associate's degree\",\"some college\",\"some college\",\"some high school\",\"bachelor's degree\",\"some college\",\"some high school\",\"some college\",\"bachelor's degree\",\"master's degree\",\"some college\",\"associate's degree\",\"some college\",\"some college\",\"some college\",\"some high school\",\"bachelor's degree\",\"master's degree\",\"associate's degree\",\"some high school\",\"associate's degree\",\"master's degree\",\"some college\",\"some college\",\"high school\",\"some college\",\"some high school\",\"high school\",\"associate's degree\",\"bachelor's degree\",\"bachelor's degree\",\"some high school\",\"some college\",\"high school\",\"some college\",\"high school\",\"some college\",\"high school\",\"bachelor's degree\",\"high school\",\"high school\",\"some college\",\"associate's degree\",\"some college\",\"associate's degree\",\"master's degree\",\"high school\",\"some high school\",\"high school\",\"associate's degree\",\"master's degree\",\"some college\",\"high school\",\"some college\",\"some college\",\"high school\",\"associate's degree\",\"some high school\",\"associate's degree\",\"some high school\",\"associate's degree\",\"high school\",\"some college\",\"high school\",\"some college\",\"bachelor's degree\",\"associate's degree\",\"bachelor's degree\",\"associate's degree\",\"master's degree\",\"bachelor's degree\",\"associate's degree\",\"master's degree\",\"high school\",\"some high school\",\"some high school\",\"some college\",\"associate's degree\",\"associate's degree\",\"master's degree\",\"high school\",\"bachelor's degree\",\"associate's degree\",\"some college\",\"some high school\",\"high school\",\"associate's degree\",\"high school\",\"some college\",\"some college\",\"some college\",\"high school\",\"some college\",\"associate's degree\",\"high school\"],\"yaxis\":\"y\"},{\"customdata\":[[\"female\"],[\"female\"],[\"male\"],[\"female\"],[\"male\"],[\"male\"],[\"male\"],[\"male\"],[\"female\"],[\"male\"],[\"female\"],[\"male\"],[\"male\"],[\"female\"],[\"female\"],[\"female\"],[\"female\"],[\"male\"],[\"female\"],[\"female\"],[\"female\"],[\"male\"],[\"male\"],[\"female\"],[\"female\"],[\"female\"],[\"female\"],[\"male\"],[\"male\"],[\"male\"],[\"female\"],[\"male\"],[\"female\"],[\"female\"],[\"female\"],[\"female\"],[\"female\"],[\"female\"],[\"female\"],[\"male\"],[\"male\"],[\"female\"],[\"male\"],[\"female\"],[\"male\"],[\"male\"],[\"male\"],[\"male\"],[\"female\"],[\"female\"],[\"male\"],[\"male\"],[\"male\"],[\"female\"],[\"female\"],[\"male\"],[\"male\"],[\"male\"],[\"female\"],[\"male\"],[\"female\"],[\"male\"],[\"female\"],[\"male\"],[\"female\"],[\"male\"],[\"male\"],[\"female\"],[\"male\"],[\"female\"],[\"female\"],[\"male\"],[\"male\"],[\"female\"],[\"male\"],[\"male\"],[\"male\"],[\"male\"],[\"male\"],[\"male\"],[\"male\"],[\"female\"],[\"female\"],[\"male\"],[\"female\"],[\"female\"],[\"male\"],[\"female\"],[\"female\"],[\"male\"],[\"female\"],[\"female\"],[\"male\"],[\"male\"],[\"female\"],[\"female\"],[\"male\"],[\"female\"],[\"female\"],[\"female\"],[\"male\"],[\"male\"],[\"male\"],[\"male\"],[\"female\"],[\"female\"],[\"female\"],[\"male\"],[\"female\"],[\"male\"],[\"female\"],[\"male\"],[\"male\"],[\"male\"],[\"female\"],[\"female\"],[\"male\"],[\"male\"],[\"male\"],[\"male\"],[\"female\"],[\"male\"],[\"female\"],[\"female\"],[\"male\"],[\"male\"],[\"female\"],[\"female\"],[\"female\"],[\"female\"],[\"female\"],[\"female\"],[\"male\"],[\"female\"],[\"male\"],[\"female\"],[\"female\"],[\"male\"],[\"male\"],[\"female\"],[\"male\"],[\"female\"],[\"female\"],[\"male\"],[\"female\"],[\"female\"],[\"male\"],[\"male\"],[\"female\"],[\"female\"],[\"male\"],[\"female\"],[\"female\"],[\"female\"],[\"male\"],[\"male\"],[\"male\"],[\"female\"],[\"female\"],[\"female\"],[\"male\"],[\"male\"],[\"male\"],[\"male\"],[\"female\"],[\"male\"],[\"female\"],[\"female\"],[\"male\"],[\"female\"],[\"female\"],[\"female\"],[\"male\"],[\"male\"],[\"female\"],[\"female\"],[\"female\"],[\"male\"]],\"hovertemplate\":\"GPA cuantiles=Medio<br>GPA=%{x}<br>parental level of education=%{y}<br>gender=%{customdata[0]}<extra></extra>\",\"legendgroup\":\"Medio\",\"marker\":{\"color\":\"yellow\",\"symbol\":\"circle\"},\"mode\":\"markers\",\"name\":\"Medio\",\"orientation\":\"h\",\"showlegend\":true,\"type\":\"scatter\",\"x\":[4.92,4.92,4.92,4.92,4.92,4.92,4.92,4.92,4.92,4.94,4.94,4.94,4.94,4.94,4.94,4.94,4.96,4.96,4.96,4.96,4.96,4.96,4.96,4.96,4.96,4.98,4.98,4.98,4.98,4.98,5.0,5.0,5.0,5.0,5.0,5.0,5.0,5.02,5.02,5.02,5.02,5.02,5.02,5.02,5.02,5.04,5.04,5.04,5.04,5.06,5.06,5.06,5.06,5.06,5.06,5.06,5.08,5.08,5.08,5.08,5.08,5.08,5.08,5.08,5.08,5.08,5.08,5.08,5.1,5.1,5.1,5.1,5.1,5.1,5.1,5.1,5.1,5.1,5.12,5.12,5.12,5.12,5.12,5.12,5.12,5.12,5.12,5.12,5.12,5.12,5.14,5.14,5.14,5.14,5.14,5.14,5.14,5.14,5.14,5.14,5.14,5.16,5.16,5.16,5.16,5.16,5.16,5.16,5.16,5.16,5.16,5.18,5.18,5.18,5.18,5.18,5.2,5.2,5.2,5.2,5.2,5.2,5.2,5.2,5.2,5.2,5.2,5.2,5.22,5.22,5.22,5.22,5.22,5.22,5.22,5.22,5.24,5.24,5.24,5.24,5.26,5.26,5.26,5.26,5.26,5.26,5.26,5.26,5.26,5.26,5.26,5.28,5.28,5.28,5.28,5.28,5.28,5.28,5.28,5.28,5.28,5.3,5.3,5.3,5.3,5.3,5.3,5.3,5.3,5.32,5.32,5.32,5.32,5.32,5.32,5.32,5.32,5.32],\"xaxis\":\"x\",\"y\":[\"some college\",\"some high school\",\"some high school\",\"some college\",\"some high school\",\"bachelor's degree\",\"some college\",\"bachelor's degree\",\"high school\",\"some college\",\"high school\",\"associate's degree\",\"some high school\",\"high school\",\"some college\",\"high school\",\"some high school\",\"high school\",\"associate's degree\",\"bachelor's degree\",\"high school\",\"high school\",\"some high school\",\"associate's degree\",\"high school\",\"high school\",\"associate's degree\",\"associate's degree\",\"some high school\",\"bachelor's degree\",\"some high school\",\"bachelor's degree\",\"associate's degree\",\"high school\",\"associate's degree\",\"some college\",\"some college\",\"some high school\",\"high school\",\"some college\",\"some high school\",\"high school\",\"some college\",\"bachelor's degree\",\"some college\",\"high school\",\"associate's degree\",\"some high school\",\"bachelor's degree\",\"bachelor's degree\",\"bachelor's degree\",\"some college\",\"bachelor's degree\",\"high school\",\"some high school\",\"high school\",\"bachelor's degree\",\"high school\",\"associate's degree\",\"high school\",\"associate's degree\",\"bachelor's degree\",\"some high school\",\"some high school\",\"some college\",\"high school\",\"high school\",\"some college\",\"master's degree\",\"high school\",\"some college\",\"high school\",\"high school\",\"associate's degree\",\"some college\",\"some high school\",\"associate's degree\",\"some high school\",\"associate's degree\",\"bachelor's degree\",\"associate's degree\",\"some high school\",\"associate's degree\",\"high school\",\"high school\",\"associate's degree\",\"associate's degree\",\"some college\",\"some college\",\"some college\",\"some high school\",\"some college\",\"associate's degree\",\"high school\",\"associate's degree\",\"bachelor's degree\",\"associate's degree\",\"master's degree\",\"associate's degree\",\"bachelor's degree\",\"some high school\",\"associate's degree\",\"some high school\",\"some high school\",\"high school\",\"bachelor's degree\",\"associate's degree\",\"some college\",\"high school\",\"some college\",\"some college\",\"high school\",\"high school\",\"some high school\",\"associate's degree\",\"associate's degree\",\"some college\",\"some college\",\"high school\",\"high school\",\"master's degree\",\"bachelor's degree\",\"high school\",\"some college\",\"some high school\",\"master's degree\",\"high school\",\"some high school\",\"some college\",\"bachelor's degree\",\"bachelor's degree\",\"associate's degree\",\"some college\",\"bachelor's degree\",\"high school\",\"some high school\",\"some college\",\"bachelor's degree\",\"high school\",\"master's degree\",\"high school\",\"some college\",\"some college\",\"high school\",\"bachelor's degree\",\"high school\",\"bachelor's degree\",\"some college\",\"high school\",\"some college\",\"associate's degree\",\"associate's degree\",\"associate's degree\",\"associate's degree\",\"associate's degree\",\"associate's degree\",\"some high school\",\"some high school\",\"bachelor's degree\",\"bachelor's degree\",\"associate's degree\",\"high school\",\"high school\",\"high school\",\"master's degree\",\"associate's degree\",\"some college\",\"some high school\",\"some high school\",\"some high school\",\"associate's degree\",\"associate's degree\",\"bachelor's degree\",\"some college\",\"associate's degree\",\"some high school\",\"associate's degree\",\"some college\"],\"yaxis\":\"y\"},{\"customdata\":[[\"female\"],[\"female\"],[\"female\"],[\"female\"],[\"male\"],[\"female\"],[\"female\"],[\"female\"],[\"female\"],[\"male\"],[\"male\"],[\"female\"],[\"female\"],[\"female\"],[\"female\"],[\"male\"],[\"male\"],[\"female\"],[\"female\"],[\"female\"],[\"female\"],[\"female\"],[\"male\"],[\"male\"],[\"male\"],[\"female\"],[\"male\"],[\"male\"],[\"female\"],[\"male\"],[\"male\"],[\"female\"],[\"male\"],[\"male\"],[\"male\"],[\"male\"],[\"male\"],[\"female\"],[\"female\"],[\"male\"],[\"female\"],[\"male\"],[\"male\"],[\"female\"],[\"female\"],[\"female\"],[\"female\"],[\"male\"],[\"female\"],[\"female\"],[\"female\"],[\"female\"],[\"female\"],[\"female\"],[\"female\"],[\"female\"],[\"female\"],[\"female\"],[\"female\"],[\"male\"],[\"female\"],[\"male\"],[\"female\"],[\"male\"],[\"male\"],[\"female\"],[\"female\"],[\"male\"],[\"female\"],[\"female\"],[\"female\"],[\"male\"],[\"male\"],[\"male\"],[\"female\"],[\"male\"],[\"female\"],[\"female\"],[\"male\"],[\"female\"],[\"female\"],[\"female\"],[\"female\"],[\"female\"],[\"female\"],[\"male\"],[\"male\"],[\"female\"],[\"male\"],[\"female\"],[\"female\"],[\"male\"],[\"female\"],[\"female\"],[\"female\"],[\"female\"],[\"male\"],[\"female\"],[\"male\"],[\"female\"],[\"male\"],[\"male\"],[\"female\"],[\"female\"],[\"female\"],[\"male\"],[\"male\"],[\"female\"],[\"female\"],[\"female\"],[\"female\"],[\"female\"],[\"male\"],[\"female\"],[\"female\"],[\"female\"],[\"female\"],[\"female\"],[\"male\"],[\"female\"],[\"male\"],[\"male\"],[\"male\"],[\"female\"],[\"female\"],[\"male\"],[\"female\"],[\"female\"],[\"female\"],[\"male\"],[\"male\"],[\"male\"],[\"male\"],[\"male\"],[\"female\"],[\"male\"],[\"male\"],[\"male\"],[\"female\"],[\"female\"],[\"female\"],[\"female\"],[\"female\"],[\"female\"],[\"male\"],[\"female\"],[\"female\"],[\"female\"],[\"female\"],[\"female\"],[\"female\"],[\"male\"],[\"female\"],[\"male\"],[\"female\"],[\"female\"],[\"male\"],[\"male\"],[\"male\"],[\"male\"],[\"male\"],[\"female\"],[\"female\"],[\"female\"],[\"female\"],[\"male\"],[\"male\"],[\"male\"],[\"female\"],[\"male\"],[\"male\"],[\"female\"]],\"hovertemplate\":\"GPA cuantiles=Alto<br>GPA=%{x}<br>parental level of education=%{y}<br>gender=%{customdata[0]}<extra></extra>\",\"legendgroup\":\"Alto\",\"marker\":{\"color\":\"greenyellow\",\"symbol\":\"circle\"},\"mode\":\"markers\",\"name\":\"Alto\",\"orientation\":\"h\",\"showlegend\":true,\"type\":\"scatter\",\"x\":[5.34,5.34,5.34,5.34,5.34,5.34,5.36,5.36,5.36,5.36,5.36,5.36,5.36,5.36,5.36,5.38,5.38,5.38,5.38,5.38,5.38,5.38,5.38,5.38,5.38,5.38,5.38,5.4,5.4,5.4,5.4,5.4,5.4,5.4,5.4,5.4,5.42,5.42,5.42,5.42,5.42,5.44,5.44,5.44,5.44,5.44,5.44,5.46,5.46,5.46,5.46,5.46,5.46,5.46,5.46,5.46,5.46,5.48,5.48,5.48,5.48,5.48,5.48,5.48,5.5,5.5,5.5,5.5,5.5,5.5,5.5,5.5,5.5,5.52,5.52,5.52,5.52,5.52,5.52,5.54,5.54,5.54,5.54,5.54,5.54,5.54,5.54,5.54,5.56,5.56,5.56,5.56,5.56,5.56,5.56,5.56,5.56,5.58,5.58,5.58,5.58,5.58,5.58,5.6,5.6,5.6,5.6,5.62,5.62,5.62,5.62,5.62,5.62,5.64,5.64,5.64,5.64,5.64,5.64,5.64,5.64,5.64,5.64,5.64,5.66,5.66,5.66,5.66,5.68,5.68,5.68,5.68,5.68,5.68,5.68,5.68,5.7,5.7,5.7,5.7,5.7,5.7,5.7,5.7,5.72,5.72,5.72,5.72,5.72,5.72,5.72,5.74,5.74,5.74,5.74,5.74,5.74,5.74,5.76,5.76,5.76,5.76,5.76,5.76,5.76,5.76,5.78,5.78,5.78,5.78,5.78,5.78],\"xaxis\":\"x\",\"y\":[\"associate's degree\",\"some college\",\"associate's degree\",\"some college\",\"high school\",\"some college\",\"some college\",\"high school\",\"some high school\",\"some high school\",\"master's degree\",\"high school\",\"bachelor's degree\",\"associate's degree\",\"some college\",\"some college\",\"some high school\",\"high school\",\"high school\",\"bachelor's degree\",\"high school\",\"some high school\",\"bachelor's degree\",\"master's degree\",\"high school\",\"bachelor's degree\",\"some college\",\"some high school\",\"some high school\",\"associate's degree\",\"some high school\",\"some high school\",\"master's degree\",\"associate's degree\",\"some college\",\"some college\",\"high school\",\"bachelor's degree\",\"bachelor's degree\",\"high school\",\"some college\",\"bachelor's degree\",\"bachelor's degree\",\"some college\",\"some high school\",\"some high school\",\"some college\",\"associate's degree\",\"some college\",\"some college\",\"some college\",\"some college\",\"associate's degree\",\"high school\",\"some college\",\"some college\",\"some college\",\"some high school\",\"high school\",\"associate's degree\",\"high school\",\"some college\",\"high school\",\"associate's degree\",\"bachelor's degree\",\"bachelor's degree\",\"some high school\",\"associate's degree\",\"some high school\",\"associate's degree\",\"associate's degree\",\"bachelor's degree\",\"associate's degree\",\"associate's degree\",\"some college\",\"some college\",\"high school\",\"associate's degree\",\"high school\",\"some college\",\"associate's degree\",\"some college\",\"associate's degree\",\"master's degree\",\"high school\",\"some college\",\"high school\",\"bachelor's degree\",\"bachelor's degree\",\"some high school\",\"high school\",\"some college\",\"some high school\",\"some high school\",\"some college\",\"associate's degree\",\"associate's degree\",\"high school\",\"some high school\",\"some college\",\"some high school\",\"some college\",\"associate's degree\",\"bachelor's degree\",\"high school\",\"associate's degree\",\"some high school\",\"some high school\",\"some college\",\"some high school\",\"some high school\",\"some high school\",\"some college\",\"some high school\",\"associate's degree\",\"bachelor's degree\",\"associate's degree\",\"some college\",\"associate's degree\",\"associate's degree\",\"some high school\",\"associate's degree\",\"associate's degree\",\"associate's degree\",\"bachelor's degree\",\"associate's degree\",\"associate's degree\",\"some college\",\"associate's degree\",\"bachelor's degree\",\"master's degree\",\"high school\",\"associate's degree\",\"associate's degree\",\"some college\",\"some high school\",\"high school\",\"high school\",\"associate's degree\",\"master's degree\",\"high school\",\"some college\",\"some college\",\"some college\",\"some college\",\"bachelor's degree\",\"some high school\",\"some high school\",\"high school\",\"bachelor's degree\",\"some college\",\"high school\",\"some college\",\"associate's degree\",\"associate's degree\",\"associate's degree\",\"some high school\",\"some high school\",\"master's degree\",\"some high school\",\"some college\",\"some high school\",\"master's degree\",\"associate's degree\",\"associate's degree\",\"high school\",\"some college\",\"bachelor's degree\",\"bachelor's degree\",\"associate's degree\",\"bachelor's degree\",\"bachelor's degree\"],\"yaxis\":\"y\"},{\"customdata\":[[\"female\"],[\"female\"],[\"female\"],[\"male\"],[\"female\"],[\"male\"],[\"male\"],[\"male\"],[\"male\"],[\"male\"],[\"male\"],[\"male\"],[\"female\"],[\"female\"],[\"female\"],[\"male\"],[\"female\"],[\"male\"],[\"female\"],[\"male\"],[\"male\"],[\"male\"],[\"male\"],[\"male\"],[\"male\"],[\"female\"],[\"male\"],[\"male\"],[\"female\"],[\"female\"],[\"male\"],[\"male\"],[\"female\"],[\"female\"],[\"female\"],[\"male\"],[\"female\"],[\"male\"],[\"female\"],[\"male\"],[\"female\"],[\"male\"],[\"female\"],[\"male\"],[\"female\"],[\"female\"],[\"female\"],[\"male\"],[\"male\"],[\"male\"],[\"female\"],[\"female\"],[\"male\"],[\"female\"],[\"female\"],[\"male\"],[\"female\"],[\"male\"],[\"male\"],[\"female\"],[\"female\"],[\"male\"],[\"female\"],[\"female\"],[\"male\"],[\"female\"],[\"male\"],[\"female\"],[\"female\"],[\"female\"],[\"female\"],[\"male\"],[\"male\"],[\"male\"],[\"male\"],[\"male\"],[\"female\"],[\"female\"],[\"male\"],[\"female\"],[\"female\"],[\"female\"],[\"male\"],[\"female\"],[\"male\"],[\"female\"],[\"female\"],[\"male\"],[\"male\"],[\"female\"],[\"male\"],[\"male\"],[\"female\"],[\"male\"],[\"female\"],[\"female\"],[\"female\"],[\"male\"],[\"male\"],[\"female\"],[\"male\"],[\"female\"],[\"female\"],[\"male\"],[\"male\"],[\"male\"],[\"female\"],[\"female\"],[\"female\"],[\"female\"],[\"female\"],[\"female\"],[\"male\"],[\"female\"],[\"female\"],[\"male\"],[\"male\"],[\"female\"],[\"female\"],[\"male\"],[\"male\"],[\"male\"],[\"female\"],[\"female\"],[\"female\"],[\"female\"],[\"female\"],[\"female\"],[\"female\"],[\"female\"],[\"female\"],[\"female\"],[\"male\"],[\"female\"],[\"female\"],[\"male\"],[\"female\"],[\"female\"],[\"male\"],[\"female\"],[\"male\"],[\"female\"],[\"female\"],[\"female\"],[\"male\"],[\"male\"],[\"female\"],[\"female\"],[\"male\"],[\"male\"],[\"female\"],[\"female\"],[\"male\"],[\"female\"],[\"female\"],[\"female\"],[\"female\"],[\"female\"],[\"female\"],[\"female\"],[\"female\"],[\"female\"],[\"male\"],[\"female\"],[\"male\"],[\"female\"],[\"female\"],[\"female\"],[\"female\"],[\"female\"],[\"male\"],[\"female\"]],\"hovertemplate\":\"GPA cuantiles=Muy alto<br>GPA=%{x}<br>parental level of education=%{y}<br>gender=%{customdata[0]}<extra></extra>\",\"legendgroup\":\"Muy alto\",\"marker\":{\"color\":\"green\",\"symbol\":\"circle\"},\"mode\":\"markers\",\"name\":\"Muy alto\",\"orientation\":\"h\",\"showlegend\":true,\"type\":\"scatter\",\"x\":[5.8,5.8,5.8,5.82,5.82,5.82,5.82,5.82,5.82,5.82,5.84,5.84,5.84,5.84,5.84,5.84,5.84,5.86,5.88,5.88,5.88,5.88,5.9,5.9,5.9,5.92,5.92,5.94,5.94,5.94,5.94,5.94,5.94,5.94,5.94,5.94,5.94,5.94,5.96,5.96,5.96,5.96,5.96,5.98,5.98,5.98,5.98,5.98,5.98,5.98,5.98,5.98,6.0,6.0,6.0,6.0,6.0,6.02,6.02,6.04,6.04,6.04,6.04,6.04,6.04,6.04,6.04,6.06,6.06,6.08,6.08,6.1,6.1,6.1,6.1,6.12,6.12,6.12,6.14,6.14,6.14,6.14,6.14,6.14,6.16,6.16,6.16,6.16,6.18,6.18,6.18,6.18,6.2,6.2,6.2,6.22,6.22,6.22,6.22,6.22,6.24,6.24,6.24,6.24,6.26,6.26,6.28,6.28,6.3,6.3,6.3,6.3,6.3,6.32,6.32,6.32,6.32,6.32,6.34,6.34,6.34,6.34,6.36,6.36,6.36,6.36,6.38,6.38,6.4,6.42,6.42,6.42,6.44,6.46,6.48,6.48,6.5,6.5,6.5,6.5,6.5,6.52,6.54,6.56,6.56,6.56,6.6,6.6,6.62,6.64,6.64,6.64,6.64,6.74,6.76,6.78,6.78,6.8,6.82,6.82,6.84,6.86,6.86,6.86,6.92,6.92,6.94,6.94,6.98,7.0,7.0,7.0],\"xaxis\":\"x\",\"y\":[\"some college\",\"high school\",\"high school\",\"some college\",\"some high school\",\"some high school\",\"high school\",\"some high school\",\"associate's degree\",\"associate's degree\",\"some high school\",\"high school\",\"bachelor's degree\",\"bachelor's degree\",\"some high school\",\"some college\",\"some high school\",\"associate's degree\",\"some high school\",\"high school\",\"associate's degree\",\"associate's degree\",\"some college\",\"some high school\",\"associate's degree\",\"bachelor's degree\",\"master's degree\",\"high school\",\"high school\",\"some college\",\"some college\",\"some high school\",\"some college\",\"associate's degree\",\"some college\",\"some high school\",\"some college\",\"some high school\",\"some college\",\"high school\",\"high school\",\"some high school\",\"high school\",\"bachelor's degree\",\"high school\",\"bachelor's degree\",\"bachelor's degree\",\"bachelor's degree\",\"some college\",\"associate's degree\",\"associate's degree\",\"some college\",\"some high school\",\"high school\",\"some high school\",\"some high school\",\"master's degree\",\"some college\",\"bachelor's degree\",\"some high school\",\"some high school\",\"some college\",\"associate's degree\",\"bachelor's degree\",\"some college\",\"some high school\",\"associate's degree\",\"associate's degree\",\"associate's degree\",\"some college\",\"some college\",\"master's degree\",\"bachelor's degree\",\"associate's degree\",\"high school\",\"associate's degree\",\"some college\",\"some high school\",\"some high school\",\"associate's degree\",\"bachelor's degree\",\"some college\",\"some college\",\"associate's degree\",\"master's degree\",\"associate's degree\",\"some college\",\"bachelor's degree\",\"master's degree\",\"master's degree\",\"some high school\",\"high school\",\"some high school\",\"some high school\",\"bachelor's degree\",\"associate's degree\",\"associate's degree\",\"associate's degree\",\"master's degree\",\"bachelor's degree\",\"associate's degree\",\"associate's degree\",\"some college\",\"associate's degree\",\"high school\",\"master's degree\",\"master's degree\",\"associate's degree\",\"some college\",\"bachelor's degree\",\"associate's degree\",\"master's degree\",\"bachelor's degree\",\"associate's degree\",\"some college\",\"some college\",\"some college\",\"bachelor's degree\",\"some high school\",\"associate's degree\",\"some college\",\"some high school\",\"associate's degree\",\"high school\",\"master's degree\",\"associate's degree\",\"associate's degree\",\"some college\",\"some high school\",\"associate's degree\",\"associate's degree\",\"bachelor's degree\",\"associate's degree\",\"associate's degree\",\"some high school\",\"some college\",\"some college\",\"associate's degree\",\"associate's degree\",\"some college\",\"associate's degree\",\"associate's degree\",\"some college\",\"master's degree\",\"bachelor's degree\",\"some college\",\"associate's degree\",\"master's degree\",\"associate's degree\",\"associate's degree\",\"high school\",\"master's degree\",\"some college\",\"high school\",\"associate's degree\",\"bachelor's degree\",\"some college\",\"bachelor's degree\",\"bachelor's degree\",\"associate's degree\",\"master's degree\",\"bachelor's degree\",\"associate's degree\",\"master's degree\",\"some college\",\"bachelor's degree\",\"some college\",\"some high school\",\"bachelor's degree\",\"bachelor's degree\",\"bachelor's degree\",\"associate's degree\"],\"yaxis\":\"y\"}],                        {\"legend\":{\"title\":{\"text\":\"GPA cuantiles\"},\"tracegroupgap\":0},\"template\":{\"data\":{\"bar\":[{\"error_x\":{\"color\":\"#2a3f5f\"},\"error_y\":{\"color\":\"#2a3f5f\"},\"marker\":{\"line\":{\"color\":\"#E5ECF6\",\"width\":0.5},\"pattern\":{\"fillmode\":\"overlay\",\"size\":10,\"solidity\":0.2}},\"type\":\"bar\"}],\"barpolar\":[{\"marker\":{\"line\":{\"color\":\"#E5ECF6\",\"width\":0.5},\"pattern\":{\"fillmode\":\"overlay\",\"size\":10,\"solidity\":0.2}},\"type\":\"barpolar\"}],\"carpet\":[{\"aaxis\":{\"endlinecolor\":\"#2a3f5f\",\"gridcolor\":\"white\",\"linecolor\":\"white\",\"minorgridcolor\":\"white\",\"startlinecolor\":\"#2a3f5f\"},\"baxis\":{\"endlinecolor\":\"#2a3f5f\",\"gridcolor\":\"white\",\"linecolor\":\"white\",\"minorgridcolor\":\"white\",\"startlinecolor\":\"#2a3f5f\"},\"type\":\"carpet\"}],\"choropleth\":[{\"colorbar\":{\"outlinewidth\":0,\"ticks\":\"\"},\"type\":\"choropleth\"}],\"contour\":[{\"colorbar\":{\"outlinewidth\":0,\"ticks\":\"\"},\"colorscale\":[[0.0,\"#0d0887\"],[0.1111111111111111,\"#46039f\"],[0.2222222222222222,\"#7201a8\"],[0.3333333333333333,\"#9c179e\"],[0.4444444444444444,\"#bd3786\"],[0.5555555555555556,\"#d8576b\"],[0.6666666666666666,\"#ed7953\"],[0.7777777777777778,\"#fb9f3a\"],[0.8888888888888888,\"#fdca26\"],[1.0,\"#f0f921\"]],\"type\":\"contour\"}],\"contourcarpet\":[{\"colorbar\":{\"outlinewidth\":0,\"ticks\":\"\"},\"type\":\"contourcarpet\"}],\"heatmap\":[{\"colorbar\":{\"outlinewidth\":0,\"ticks\":\"\"},\"colorscale\":[[0.0,\"#0d0887\"],[0.1111111111111111,\"#46039f\"],[0.2222222222222222,\"#7201a8\"],[0.3333333333333333,\"#9c179e\"],[0.4444444444444444,\"#bd3786\"],[0.5555555555555556,\"#d8576b\"],[0.6666666666666666,\"#ed7953\"],[0.7777777777777778,\"#fb9f3a\"],[0.8888888888888888,\"#fdca26\"],[1.0,\"#f0f921\"]],\"type\":\"heatmap\"}],\"heatmapgl\":[{\"colorbar\":{\"outlinewidth\":0,\"ticks\":\"\"},\"colorscale\":[[0.0,\"#0d0887\"],[0.1111111111111111,\"#46039f\"],[0.2222222222222222,\"#7201a8\"],[0.3333333333333333,\"#9c179e\"],[0.4444444444444444,\"#bd3786\"],[0.5555555555555556,\"#d8576b\"],[0.6666666666666666,\"#ed7953\"],[0.7777777777777778,\"#fb9f3a\"],[0.8888888888888888,\"#fdca26\"],[1.0,\"#f0f921\"]],\"type\":\"heatmapgl\"}],\"histogram\":[{\"marker\":{\"pattern\":{\"fillmode\":\"overlay\",\"size\":10,\"solidity\":0.2}},\"type\":\"histogram\"}],\"histogram2d\":[{\"colorbar\":{\"outlinewidth\":0,\"ticks\":\"\"},\"colorscale\":[[0.0,\"#0d0887\"],[0.1111111111111111,\"#46039f\"],[0.2222222222222222,\"#7201a8\"],[0.3333333333333333,\"#9c179e\"],[0.4444444444444444,\"#bd3786\"],[0.5555555555555556,\"#d8576b\"],[0.6666666666666666,\"#ed7953\"],[0.7777777777777778,\"#fb9f3a\"],[0.8888888888888888,\"#fdca26\"],[1.0,\"#f0f921\"]],\"type\":\"histogram2d\"}],\"histogram2dcontour\":[{\"colorbar\":{\"outlinewidth\":0,\"ticks\":\"\"},\"colorscale\":[[0.0,\"#0d0887\"],[0.1111111111111111,\"#46039f\"],[0.2222222222222222,\"#7201a8\"],[0.3333333333333333,\"#9c179e\"],[0.4444444444444444,\"#bd3786\"],[0.5555555555555556,\"#d8576b\"],[0.6666666666666666,\"#ed7953\"],[0.7777777777777778,\"#fb9f3a\"],[0.8888888888888888,\"#fdca26\"],[1.0,\"#f0f921\"]],\"type\":\"histogram2dcontour\"}],\"mesh3d\":[{\"colorbar\":{\"outlinewidth\":0,\"ticks\":\"\"},\"type\":\"mesh3d\"}],\"parcoords\":[{\"line\":{\"colorbar\":{\"outlinewidth\":0,\"ticks\":\"\"}},\"type\":\"parcoords\"}],\"pie\":[{\"automargin\":true,\"type\":\"pie\"}],\"scatter\":[{\"marker\":{\"colorbar\":{\"outlinewidth\":0,\"ticks\":\"\"}},\"type\":\"scatter\"}],\"scatter3d\":[{\"line\":{\"colorbar\":{\"outlinewidth\":0,\"ticks\":\"\"}},\"marker\":{\"colorbar\":{\"outlinewidth\":0,\"ticks\":\"\"}},\"type\":\"scatter3d\"}],\"scattercarpet\":[{\"marker\":{\"colorbar\":{\"outlinewidth\":0,\"ticks\":\"\"}},\"type\":\"scattercarpet\"}],\"scattergeo\":[{\"marker\":{\"colorbar\":{\"outlinewidth\":0,\"ticks\":\"\"}},\"type\":\"scattergeo\"}],\"scattergl\":[{\"marker\":{\"colorbar\":{\"outlinewidth\":0,\"ticks\":\"\"}},\"type\":\"scattergl\"}],\"scattermapbox\":[{\"marker\":{\"colorbar\":{\"outlinewidth\":0,\"ticks\":\"\"}},\"type\":\"scattermapbox\"}],\"scatterpolar\":[{\"marker\":{\"colorbar\":{\"outlinewidth\":0,\"ticks\":\"\"}},\"type\":\"scatterpolar\"}],\"scatterpolargl\":[{\"marker\":{\"colorbar\":{\"outlinewidth\":0,\"ticks\":\"\"}},\"type\":\"scatterpolargl\"}],\"scatterternary\":[{\"marker\":{\"colorbar\":{\"outlinewidth\":0,\"ticks\":\"\"}},\"type\":\"scatterternary\"}],\"surface\":[{\"colorbar\":{\"outlinewidth\":0,\"ticks\":\"\"},\"colorscale\":[[0.0,\"#0d0887\"],[0.1111111111111111,\"#46039f\"],[0.2222222222222222,\"#7201a8\"],[0.3333333333333333,\"#9c179e\"],[0.4444444444444444,\"#bd3786\"],[0.5555555555555556,\"#d8576b\"],[0.6666666666666666,\"#ed7953\"],[0.7777777777777778,\"#fb9f3a\"],[0.8888888888888888,\"#fdca26\"],[1.0,\"#f0f921\"]],\"type\":\"surface\"}],\"table\":[{\"cells\":{\"fill\":{\"color\":\"#EBF0F8\"},\"line\":{\"color\":\"white\"}},\"header\":{\"fill\":{\"color\":\"#C8D4E3\"},\"line\":{\"color\":\"white\"}},\"type\":\"table\"}]},\"layout\":{\"annotationdefaults\":{\"arrowcolor\":\"#2a3f5f\",\"arrowhead\":0,\"arrowwidth\":1},\"autotypenumbers\":\"strict\",\"coloraxis\":{\"colorbar\":{\"outlinewidth\":0,\"ticks\":\"\"}},\"colorscale\":{\"diverging\":[[0,\"#8e0152\"],[0.1,\"#c51b7d\"],[0.2,\"#de77ae\"],[0.3,\"#f1b6da\"],[0.4,\"#fde0ef\"],[0.5,\"#f7f7f7\"],[0.6,\"#e6f5d0\"],[0.7,\"#b8e186\"],[0.8,\"#7fbc41\"],[0.9,\"#4d9221\"],[1,\"#276419\"]],\"sequential\":[[0.0,\"#0d0887\"],[0.1111111111111111,\"#46039f\"],[0.2222222222222222,\"#7201a8\"],[0.3333333333333333,\"#9c179e\"],[0.4444444444444444,\"#bd3786\"],[0.5555555555555556,\"#d8576b\"],[0.6666666666666666,\"#ed7953\"],[0.7777777777777778,\"#fb9f3a\"],[0.8888888888888888,\"#fdca26\"],[1.0,\"#f0f921\"]],\"sequentialminus\":[[0.0,\"#0d0887\"],[0.1111111111111111,\"#46039f\"],[0.2222222222222222,\"#7201a8\"],[0.3333333333333333,\"#9c179e\"],[0.4444444444444444,\"#bd3786\"],[0.5555555555555556,\"#d8576b\"],[0.6666666666666666,\"#ed7953\"],[0.7777777777777778,\"#fb9f3a\"],[0.8888888888888888,\"#fdca26\"],[1.0,\"#f0f921\"]]},\"colorway\":[\"#636efa\",\"#EF553B\",\"#00cc96\",\"#ab63fa\",\"#FFA15A\",\"#19d3f3\",\"#FF6692\",\"#B6E880\",\"#FF97FF\",\"#FECB52\"],\"font\":{\"color\":\"#2a3f5f\"},\"geo\":{\"bgcolor\":\"white\",\"lakecolor\":\"white\",\"landcolor\":\"#E5ECF6\",\"showlakes\":true,\"showland\":true,\"subunitcolor\":\"white\"},\"hoverlabel\":{\"align\":\"left\"},\"hovermode\":\"closest\",\"mapbox\":{\"style\":\"light\"},\"paper_bgcolor\":\"white\",\"plot_bgcolor\":\"#E5ECF6\",\"polar\":{\"angularaxis\":{\"gridcolor\":\"white\",\"linecolor\":\"white\",\"ticks\":\"\"},\"bgcolor\":\"#E5ECF6\",\"radialaxis\":{\"gridcolor\":\"white\",\"linecolor\":\"white\",\"ticks\":\"\"}},\"scene\":{\"xaxis\":{\"backgroundcolor\":\"#E5ECF6\",\"gridcolor\":\"white\",\"gridwidth\":2,\"linecolor\":\"white\",\"showbackground\":true,\"ticks\":\"\",\"zerolinecolor\":\"white\"},\"yaxis\":{\"backgroundcolor\":\"#E5ECF6\",\"gridcolor\":\"white\",\"gridwidth\":2,\"linecolor\":\"white\",\"showbackground\":true,\"ticks\":\"\",\"zerolinecolor\":\"white\"},\"zaxis\":{\"backgroundcolor\":\"#E5ECF6\",\"gridcolor\":\"white\",\"gridwidth\":2,\"linecolor\":\"white\",\"showbackground\":true,\"ticks\":\"\",\"zerolinecolor\":\"white\"}},\"shapedefaults\":{\"line\":{\"color\":\"#2a3f5f\"}},\"ternary\":{\"aaxis\":{\"gridcolor\":\"white\",\"linecolor\":\"white\",\"ticks\":\"\"},\"baxis\":{\"gridcolor\":\"white\",\"linecolor\":\"white\",\"ticks\":\"\"},\"bgcolor\":\"#E5ECF6\",\"caxis\":{\"gridcolor\":\"white\",\"linecolor\":\"white\",\"ticks\":\"\"}},\"title\":{\"x\":0.05},\"xaxis\":{\"automargin\":true,\"gridcolor\":\"white\",\"linecolor\":\"white\",\"ticks\":\"\",\"title\":{\"standoff\":15},\"zerolinecolor\":\"white\",\"zerolinewidth\":2},\"yaxis\":{\"automargin\":true,\"gridcolor\":\"white\",\"linecolor\":\"white\",\"ticks\":\"\",\"title\":{\"standoff\":15},\"zerolinecolor\":\"white\",\"zerolinewidth\":2}}},\"title\":{\"text\":\"GPA por Nivel de educaci\\u00f3n de los padres\"},\"xaxis\":{\"anchor\":\"y\",\"domain\":[0.0,1.0],\"title\":{\"text\":\"GPA\"}},\"yaxis\":{\"anchor\":\"x\",\"domain\":[0.0,1.0],\"title\":{\"text\":\"parental level of education\"}}},                        {\"responsive\": true}                    ).then(function(){\n",
       "                            \n",
       "var gd = document.getElementById('655c06fd-d332-4421-85c2-ee514c6fa49f');\n",
       "var x = new MutationObserver(function (mutations, observer) {{\n",
       "        var display = window.getComputedStyle(gd).display;\n",
       "        if (!display || display === 'none') {{\n",
       "            console.log([gd, 'removed!']);\n",
       "            Plotly.purge(gd);\n",
       "            observer.disconnect();\n",
       "        }}\n",
       "}});\n",
       "\n",
       "// Listen for the removal of the full notebook cells\n",
       "var notebookContainer = gd.closest('#notebook-container');\n",
       "if (notebookContainer) {{\n",
       "    x.observe(notebookContainer, {childList: true});\n",
       "}}\n",
       "\n",
       "// Listen for the clearing of the current output cell\n",
       "var outputEl = gd.closest('.output');\n",
       "if (outputEl) {{\n",
       "    x.observe(outputEl, {childList: true});\n",
       "}}\n",
       "\n",
       "                        })                };                            </script>        </div>\n",
       "</body>\n",
       "</html>"
      ]
     },
     "metadata": {},
     "output_type": "display_data"
    }
   ],
   "source": [
    "# Código para quintiles \n",
    "# La variable que contenga los quintiles debe llamarse GPA cuantiles para que el gráfico funcione.\n",
    "\n",
    "# Código de gráfico \n",
    "fig = px.scatter(\n",
    "    df_grades.sort_values(by=\"GPA\"),\n",
    "    x=\"GPA\",\n",
    "    y=\"parental level of education\",\n",
    "    hover_data=[\"gender\"],\n",
    "    color=\"GPA cuantiles\",\n",
    "    title=\"GPA por Nivel de educación de los padres\",\n",
    "    color_discrete_sequence=[\"tomato\", \"orange\", \"yellow\", \"greenyellow\", \"green\"]\n",
    ")\n",
    "\n",
    "fig\n"
   ]
  },
  {
   "cell_type": "markdown",
   "metadata": {
    "cell_id": "00062-ad093927-5bf2-4f2f-bc1d-55aee96cf311",
    "deepnote_cell_type": "markdown",
    "tags": []
   },
   "source": [
    "```\n",
    "Escriba aqui su respuesta\n",
    "```"
   ]
  },
  {
   "cell_type": "markdown",
   "metadata": {
    "cell_id": "00063-0d54c0f4-3d67-4c1d-92c0-dcc7882faae0",
    "deepnote_cell_type": "markdown",
    "id": "Rg4ZMq8ezAH6",
    "owner_user_id": "badcc427-fd3d-4615-9296-faa43ec69cfb"
   },
   "source": [
    "# Conclusión\n",
    "Eso ha sido todo para el lab de hoy, recuerden que el laboratorio tiene un plazo de entrega de una semana. Cualquier duda del laboratorio, no duden en contactarnos por mail o U-cursos.\n",
    "\n",
    "<p align=\"center\">\n",
    "  <img src=\"https://media1.tenor.com/images/2f7df460196625edc45b8380d158e5ee/tenor.gif?itemid=16669403\">\n",
    "</p>"
   ]
  },
  {
   "cell_type": "markdown",
   "metadata": {
    "cell_id": "00064-230f1ae7-660b-4bae-822a-fee59dada1d1",
    "deepnote_cell_type": "markdown",
    "id": "wCL1lACBzAH7"
   },
   "source": [
    "<br>\n",
    "<center>\n",
    "<img src=\"https://i.kym-cdn.com/photos/images/original/001/194/195/b18.png\" width=100 height=50 />\n",
    "</center>\n",
    "<br>"
   ]
  },
  {
   "cell_type": "markdown",
   "metadata": {
    "created_in_deepnote_cell": true,
    "deepnote_cell_type": "markdown",
    "tags": []
   },
   "source": [
    "<a style='text-decoration:none;line-height:16px;display:flex;color:#5B5B62;padding:10px;justify-content:end;' href='https://deepnote.com?utm_source=created-in-deepnote-cell&projectId=87110296-876e-426f-b91d-aaf681223468' target=\"_blank\">\n",
    "<img alt='Created in deepnote.com' style='display:inline;max-height:16px;margin:0px;margin-right:7.5px;' src='data:image/svg+xml;base64,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' > </img>\n",
    "Created in <span style='font-weight:600;margin-left:4px;'>Deepnote</span></a>"
   ]
  }
 ],
 "metadata": {
  "colab": {
   "collapsed_sections": [],
   "name": "Laboratorio2.ipynb",
   "provenance": [],
   "toc_visible": true
  },
  "deepnote": {},
  "deepnote_execution_queue": [],
  "deepnote_notebook_id": "7ce98c1f-486d-455c-8cea-d01f96f5dab9",
  "kernelspec": {
   "display_name": "mds7202",
   "language": "python",
   "name": "mds7202"
  },
  "language_info": {
   "codemirror_mode": {
    "name": "ipython",
    "version": 3
   },
   "file_extension": ".py",
   "mimetype": "text/x-python",
   "name": "python",
   "nbconvert_exporter": "python",
   "pygments_lexer": "ipython3",
   "version": "3.10.5"
  },
  "toc": {
   "base_numbering": 1,
   "nav_menu": {},
   "number_sections": true,
   "sideBar": true,
   "skip_h1_title": true,
   "title_cell": "Tabla de Contenidos",
   "title_sidebar": "Contenidos",
   "toc_cell": false,
   "toc_position": {
    "height": "calc(100% - 180px)",
    "left": "10px",
    "top": "150px",
    "width": "241.867px"
   },
   "toc_section_display": true,
   "toc_window_display": true
  },
  "varInspector": {
   "cols": {
    "lenName": 16,
    "lenType": 16,
    "lenVar": 40
   },
   "kernels_config": {
    "python": {
     "delete_cmd_postfix": "",
     "delete_cmd_prefix": "del ",
     "library": "var_list.py",
     "varRefreshCmd": "print(var_dic_list())"
    },
    "r": {
     "delete_cmd_postfix": ") ",
     "delete_cmd_prefix": "rm(",
     "library": "var_list.r",
     "varRefreshCmd": "cat(var_dic_list()) "
    }
   },
   "types_to_exclude": [
    "module",
    "function",
    "builtin_function_or_method",
    "instance",
    "_Feature"
   ],
   "window_display": false
  },
  "vscode": {
   "interpreter": {
    "hash": "5f12cc99d524414e3daaca7ff7e8e0997cdecd19277513297c62237218c0d43b"
   }
  }
 },
 "nbformat": 4,
 "nbformat_minor": 0
}
